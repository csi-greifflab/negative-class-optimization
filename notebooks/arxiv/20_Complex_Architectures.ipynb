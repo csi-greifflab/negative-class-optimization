{
 "cells": [
  {
   "attachments": {},
   "cell_type": "markdown",
   "metadata": {},
   "source": [
    "# Complex Architectures\n",
    "\n",
    "Here we develop implementations of transformers for CDR3 sequences.\n",
    "\n",
    "Resources:\n",
    "- https://pytorch.org/docs/stable/generated/torch.nn.Transformer.html"
   ]
  },
  {
   "cell_type": "code",
   "execution_count": 1,
   "metadata": {},
   "outputs": [
    {
     "name": "stderr",
     "output_type": "stream",
     "text": [
      "/home/eugen/miniconda3/envs/nco/lib/python3.8/site-packages/tqdm/auto.py:22: TqdmWarning: IProgress not found. Please update jupyter and ipywidgets. See https://ipywidgets.readthedocs.io/en/stable/user_install.html\n",
      "  from .autonotebook import tqdm as notebook_tqdm\n",
      "/home/eugen/miniconda3/envs/nco/lib/python3.8/site-packages/torchvision/io/image.py:11: UserWarning: Failed to load image Python extension: /home/eugen/miniconda3/envs/nco/lib/python3.8/site-packages/torchvision/image.so: undefined symbol: _ZN5torch3jit17parseSchemaOrNameERKNSt7__cxx1112basic_stringIcSt11char_traitsIcESaIcEEE\n",
      "  warn(f\"Failed to load image Python extension: {e}\")\n"
     ]
    }
   ],
   "source": [
    "from pathlib import Path\n",
    "import numpy as np\n",
    "import pandas as pd\n",
    "import matplotlib.pyplot as plt\n",
    "import seaborn as sns\n",
    "import math\n",
    "\n",
    "import torch\n",
    "import torch.nn as nn\n",
    "import torch.nn.functional as F\n",
    "import torchvision\n",
    "import torchvision.transforms as transforms\n",
    "\n",
    "from NegativeClassOptimization import ml\n",
    "from NegativeClassOptimization import utils\n",
    "import NegativeClassOptimization.preprocessing as preprocessing"
   ]
  },
  {
   "cell_type": "code",
   "execution_count": 2,
   "metadata": {},
   "outputs": [
    {
     "name": "stdout",
     "output_type": "stream",
     "text": [
      "Number of trainable parameters in SN10: 2221\n"
     ]
    }
   ],
   "source": [
    "sn10 = ml.SN10()\n",
    "print(f\"Number of trainable parameters in SN10: {utils.num_trainable_params(sn10)}\")"
   ]
  },
  {
   "cell_type": "code",
   "execution_count": 3,
   "metadata": {},
   "outputs": [
    {
     "data": {
      "text/plain": [
       "2121"
      ]
     },
     "execution_count": 3,
     "metadata": {},
     "output_type": "execute_result"
    }
   ],
   "source": [
    "transformer = ml.Transformer(\n",
    "    vocab_size=20, \n",
    "    d_model=12,  # 20?\n",
    "    nhead=2,\n",
    "    dim_feedforward=10,\n",
    "    num_layers=2,\n",
    "    dropout=0.1,\n",
    "    activation=\"relu\",\n",
    "    classifier_dropout=0.1,\n",
    "    )\n",
    "\n",
    "utils.num_trainable_params(transformer)\n",
    "\n",
    "# transformer = torch.nn.Transformer(\n",
    "#     d_model=20,\n",
    "#     nhead=2,\n",
    "#     num_encoder_layers=2,\n",
    "#     num_decoder_layers=2,\n",
    "#     dim_feedforward=16,\n",
    "#     dropout=0.1,\n",
    "#     activation=\"relu\",\n",
    "# )\n",
    "\n",
    "# src = torch.rand(32, 1, 20)  # S, N, E\n",
    "# tgt = torch.rand(17, 1, 20)  # T, N, E\n",
    "# transformer(src, tgt).shape\n",
    "\n",
    "# utils.num_trainable_params(transformer)"
   ]
  },
  {
   "cell_type": "code",
   "execution_count": 4,
   "metadata": {},
   "outputs": [
    {
     "data": {
      "text/plain": [
       "tensor([[0.4269]], grad_fn=<SigmoidBackward0>)"
      ]
     },
     "execution_count": 4,
     "metadata": {},
     "output_type": "execute_result"
    }
   ],
   "source": [
    "# Does not support batched input\n",
    "# N_seqs, N_chars\n",
    "\n",
    "# 1 sequence\n",
    "transformer(torch.rand(1, 13).round().type(torch.long))\n",
    "\n",
    "# 2 sequences\n",
    "# transformer(torch.rand(2, 13).round().type(torch.long))\n",
    "\n",
    "# Testing indexes of vocabulary\n",
    "# transformer(torch.tensor(np.array([0])))\n",
    "# transformer(torch.tensor(np.array([19])))\n",
    "# transformer(torch.tensor(np.array([20])))  # error expected, out of vocabulary index range"
   ]
  },
  {
   "cell_type": "code",
   "execution_count": 5,
   "metadata": {},
   "outputs": [
    {
     "data": {
      "text/plain": [
       "(299, tensor([[0.4508]], grad_fn=<SigmoidBackward0>))"
      ]
     },
     "execution_count": 5,
     "metadata": {},
     "output_type": "execute_result"
    }
   ],
   "source": [
    "cnn = ml.CNN()\n",
    "utils.num_trainable_params(cnn), cnn.forward(torch.rand(1, 1, 11, 20))"
   ]
  },
  {
   "attachments": {},
   "cell_type": "markdown",
   "metadata": {},
   "source": [
    "## Predict from one CDR3 / CDR3 batch for each model"
   ]
  },
  {
   "cell_type": "code",
   "execution_count": 6,
   "metadata": {},
   "outputs": [
    {
     "data": {
      "text/html": [
       "<div>\n",
       "<style scoped>\n",
       "    .dataframe tbody tr th:only-of-type {\n",
       "        vertical-align: middle;\n",
       "    }\n",
       "\n",
       "    .dataframe tbody tr th {\n",
       "        vertical-align: top;\n",
       "    }\n",
       "\n",
       "    .dataframe thead th {\n",
       "        text-align: right;\n",
       "    }\n",
       "</style>\n",
       "<table border=\"1\" class=\"dataframe\">\n",
       "  <thead>\n",
       "    <tr style=\"text-align: right;\">\n",
       "      <th></th>\n",
       "      <th>ID_slide_Variant</th>\n",
       "      <th>CDR3</th>\n",
       "      <th>Best</th>\n",
       "      <th>Slide</th>\n",
       "      <th>Energy</th>\n",
       "      <th>Structure</th>\n",
       "      <th>UID</th>\n",
       "      <th>Antigen</th>\n",
       "    </tr>\n",
       "  </thead>\n",
       "  <tbody>\n",
       "    <tr>\n",
       "      <th>35067</th>\n",
       "      <td>1123588_03a</td>\n",
       "      <td>CAKTLFYDGYYRYFDVW</td>\n",
       "      <td>True</td>\n",
       "      <td>TLFYDGYYRYF</td>\n",
       "      <td>-96.00</td>\n",
       "      <td>128933-BRRSLUDUUS</td>\n",
       "      <td>1ADQ_1123588_03a</td>\n",
       "      <td>1ADQ</td>\n",
       "    </tr>\n",
       "    <tr>\n",
       "      <th>32364</th>\n",
       "      <td>4368719_02a</td>\n",
       "      <td>CARWDYGSLLFAYW</td>\n",
       "      <td>True</td>\n",
       "      <td>RWDYGSLLFAY</td>\n",
       "      <td>-96.54</td>\n",
       "      <td>137191-BRDSDLSRRU</td>\n",
       "      <td>1ADQ_4368719_02a</td>\n",
       "      <td>1ADQ</td>\n",
       "    </tr>\n",
       "  </tbody>\n",
       "</table>\n",
       "</div>"
      ],
      "text/plain": [
       "      ID_slide_Variant               CDR3  Best        Slide  Energy  \\\n",
       "35067      1123588_03a  CAKTLFYDGYYRYFDVW  True  TLFYDGYYRYF  -96.00   \n",
       "32364      4368719_02a     CARWDYGSLLFAYW  True  RWDYGSLLFAY  -96.54   \n",
       "\n",
       "               Structure               UID Antigen  \n",
       "35067  128933-BRRSLUDUUS  1ADQ_1123588_03a    1ADQ  \n",
       "32364  137191-BRDSDLSRRU  1ADQ_4368719_02a    1ADQ  "
      ]
     },
     "execution_count": 6,
     "metadata": {},
     "output_type": "execute_result"
    }
   ],
   "source": [
    "df = utils.load_global_dataframe()\n",
    "\n",
    "ag_pos = \"3VRL\"\n",
    "ag_neg = \"1ADQ\"\n",
    "df = df.loc[df[\"Antigen\"].isin([ag_pos, ag_neg])].copy()\n",
    "df = df.drop_duplicates([\"Slide\"])\n",
    "\n",
    "N = 1000\n",
    "df = df.sample(n=N, random_state=42)\n",
    "df = df.sample(frac=1, random_state=42)\n",
    "\n",
    "df.head(2)"
   ]
  },
  {
   "cell_type": "code",
   "execution_count": 8,
   "metadata": {},
   "outputs": [
    {
     "name": "stderr",
     "output_type": "stream",
     "text": [
      "/data/sources/eugen/negative-class-optimization/src/NegativeClassOptimization/NegativeClassOptimization/preprocessing.py:154: UserWarning: Not scaling onehot.\n",
      "  warnings.warn(\"Not scaling onehot.\")\n"
     ]
    }
   ],
   "source": [
    "train_data, test_data, train_loader, test_loader = preprocessing.preprocess_data_for_pytorch_binary(\n",
    "    df_train_val=df.iloc[:int(N*0.8)],\n",
    "    df_test_closed=df.iloc[int(N*0.8):],\n",
    "    ag_pos=[ag_pos],\n",
    "    batch_size=32,\n",
    "    scale_onehot=False,\n",
    ")"
   ]
  },
  {
   "cell_type": "code",
   "execution_count": 9,
   "metadata": {},
   "outputs": [],
   "source": [
    "X = train_data[0][0]"
   ]
  },
  {
   "attachments": {},
   "cell_type": "markdown",
   "metadata": {},
   "source": [
    "Forward loop for 1 sequence for each model."
   ]
  },
  {
   "cell_type": "code",
   "execution_count": 10,
   "metadata": {},
   "outputs": [
    {
     "data": {
      "text/plain": [
       "tensor([[0.4496]], grad_fn=<SigmoidBackward0>)"
      ]
     },
     "execution_count": 10,
     "metadata": {},
     "output_type": "execute_result"
    }
   ],
   "source": [
    "sn10.forward(X)\n",
    "\n",
    "# We reshape to matrix (11 x 20) then convert to indexes (11,) and then reshape to (1 x 11)\n",
    "X_tr = X.reshape(11, 20).argmax(axis=1).reshape(1, 11)\n",
    "transformer.forward(X_tr)\n",
    "\n",
    "X_cnn = X.reshape(1, 1, 11, 20)\n",
    "cnn.forward(X_cnn)"
   ]
  },
  {
   "attachments": {},
   "cell_type": "markdown",
   "metadata": {},
   "source": [
    "Forward loop for batch of sequences for each model."
   ]
  },
  {
   "cell_type": "code",
   "execution_count": 11,
   "metadata": {},
   "outputs": [],
   "source": [
    "X_batch = ml.Xy_from_loader(train_loader)[0]\n",
    "\n",
    "sn10.forward(X_batch)\n",
    "\n",
    "X_tr = X_batch.reshape(-1, 11, 20).argmax(axis=2).reshape(-1, 11)\n",
    "transformer.forward(X_tr)\n",
    "\n",
    "X_cnn = X_batch.reshape(-1, 1, 11, 20)\n",
    "cnn.forward(X_cnn);"
   ]
  },
  {
   "attachments": {},
   "cell_type": "markdown",
   "metadata": {},
   "source": [
    "## Train each model"
   ]
  },
  {
   "attachments": {},
   "cell_type": "markdown",
   "metadata": {},
   "source": [
    "SN10"
   ]
  },
  {
   "cell_type": "code",
   "execution_count": 12,
   "metadata": {},
   "outputs": [
    {
     "name": "stdout",
     "output_type": "stream",
     "text": [
      "Epoch 1\n",
      "-------------------------------\n",
      "loss: 0.670021  [    0/  800]\n",
      "Test Error: \n",
      " Acc: 54.0 Avg loss: 0.681943 \n",
      "\n",
      "Epoch 2\n",
      "-------------------------------\n",
      "loss: 0.670141  [    0/  800]\n"
     ]
    },
    {
     "name": "stderr",
     "output_type": "stream",
     "text": [
      "/home/eugen/miniconda3/envs/nco/lib/python3.8/site-packages/sklearn/metrics/_classification.py:1327: UndefinedMetricWarning: Precision is ill-defined and being set to 0.0 due to no predicted samples. Use `zero_division` parameter to control this behavior.\n",
      "  _warn_prf(average, modifier, msg_start, len(result))\n",
      "/home/eugen/miniconda3/envs/nco/lib/python3.8/site-packages/sklearn/metrics/_classification.py:1327: UndefinedMetricWarning: Precision is ill-defined and being set to 0.0 due to no predicted samples. Use `zero_division` parameter to control this behavior.\n",
      "  _warn_prf(average, modifier, msg_start, len(result))\n"
     ]
    },
    {
     "name": "stdout",
     "output_type": "stream",
     "text": [
      "Test Error: \n",
      " Acc: 54.0 Avg loss: 0.675175 \n",
      "\n",
      "Epoch 3\n",
      "-------------------------------\n",
      "loss: 0.687221  [    0/  800]\n",
      "Test Error: \n",
      " Acc: 54.5 Avg loss: 0.672593 \n",
      "\n",
      "Epoch 4\n",
      "-------------------------------\n",
      "loss: 0.676898  [    0/  800]\n",
      "Test Error: \n",
      " Acc: 57.5 Avg loss: 0.672621 \n",
      "\n",
      "Epoch 5\n",
      "-------------------------------\n",
      "loss: 0.677199  [    0/  800]\n",
      "Test Error: \n",
      " Acc: 63.5 Avg loss: 0.672479 \n",
      "\n"
     ]
    }
   ],
   "source": [
    "model = sn10.to(\"cpu\")\n",
    "\n",
    "learning_rate = 0.01\n",
    "epochs = 5\n",
    "loss_fn = nn.BCELoss()\n",
    "optimizer = torch.optim.SGD(model.parameters(), lr=learning_rate)\n",
    "\n",
    "for t in range(epochs):\n",
    "    print(f\"Epoch {t+1}\\n-------------------------------\")\n",
    "    ml.train_loop(train_loader, model, loss_fn, optimizer)\n",
    "    ml.test_loop(test_loader, model, loss_fn)"
   ]
  },
  {
   "attachments": {},
   "cell_type": "markdown",
   "metadata": {},
   "source": [
    "Transformer"
   ]
  },
  {
   "cell_type": "code",
   "execution_count": 13,
   "metadata": {},
   "outputs": [
    {
     "name": "stdout",
     "output_type": "stream",
     "text": [
      "Epoch 1\n",
      "-------------------------------\n",
      "loss: 0.650435  [    0/  800]\n",
      "Test Error: \n",
      " Acc: 58.0 Avg loss: 0.681308 \n",
      "\n",
      "Epoch 2\n",
      "-------------------------------\n",
      "loss: 0.741488  [    0/  800]\n",
      "Test Error: \n",
      " Acc: 53.0 Avg loss: 0.690868 \n",
      "\n",
      "Epoch 3\n",
      "-------------------------------\n",
      "loss: 0.726630  [    0/  800]\n",
      "Test Error: \n",
      " Acc: 49.5 Avg loss: 0.691561 \n",
      "\n",
      "Epoch 4\n",
      "-------------------------------\n",
      "loss: 0.675795  [    0/  800]\n",
      "Test Error: \n",
      " Acc: 51.5 Avg loss: 0.688478 \n",
      "\n",
      "Epoch 5\n",
      "-------------------------------\n",
      "loss: 0.699254  [    0/  800]\n",
      "Test Error: \n",
      " Acc: 50.5 Avg loss: 0.698952 \n",
      "\n"
     ]
    }
   ],
   "source": [
    "model = transformer.to(\"cpu\")\n",
    "\n",
    "learning_rate = 0.01\n",
    "epochs = 5\n",
    "loss_fn = nn.BCELoss()\n",
    "optimizer = torch.optim.SGD(model.parameters(), lr=learning_rate)\n",
    "\n",
    "for t in range(epochs):\n",
    "    print(f\"Epoch {t+1}\\n-------------------------------\")\n",
    "    ml.train_loop(train_loader, model, loss_fn, optimizer)\n",
    "    ml.test_loop(test_loader, model, loss_fn)"
   ]
  },
  {
   "attachments": {},
   "cell_type": "markdown",
   "metadata": {},
   "source": [
    "CNN"
   ]
  },
  {
   "cell_type": "code",
   "execution_count": 14,
   "metadata": {},
   "outputs": [
    {
     "name": "stdout",
     "output_type": "stream",
     "text": [
      "Epoch 1\n",
      "-------------------------------\n",
      "loss: 0.673136  [    0/  800]\n",
      "Test Error: \n",
      " Acc: 54.0 Avg loss: 0.690879 \n",
      "\n",
      "Epoch 2\n",
      "-------------------------------\n",
      "loss: 0.702368  [    0/  800]\n"
     ]
    },
    {
     "name": "stderr",
     "output_type": "stream",
     "text": [
      "/home/eugen/miniconda3/envs/nco/lib/python3.8/site-packages/sklearn/metrics/_classification.py:1327: UndefinedMetricWarning: Precision is ill-defined and being set to 0.0 due to no predicted samples. Use `zero_division` parameter to control this behavior.\n",
      "  _warn_prf(average, modifier, msg_start, len(result))\n",
      "/home/eugen/miniconda3/envs/nco/lib/python3.8/site-packages/sklearn/metrics/_classification.py:1327: UndefinedMetricWarning: Precision is ill-defined and being set to 0.0 due to no predicted samples. Use `zero_division` parameter to control this behavior.\n",
      "  _warn_prf(average, modifier, msg_start, len(result))\n"
     ]
    },
    {
     "name": "stdout",
     "output_type": "stream",
     "text": [
      "Test Error: \n",
      " Acc: 54.0 Avg loss: 0.688523 \n",
      "\n",
      "Epoch 3\n",
      "-------------------------------\n",
      "loss: 0.701189  [    0/  800]\n",
      "Test Error: \n",
      " Acc: 54.0 Avg loss: 0.688876 \n",
      "\n",
      "Epoch 4\n",
      "-------------------------------\n",
      "loss: 0.717253  [    0/  800]\n"
     ]
    },
    {
     "name": "stderr",
     "output_type": "stream",
     "text": [
      "/home/eugen/miniconda3/envs/nco/lib/python3.8/site-packages/sklearn/metrics/_classification.py:1327: UndefinedMetricWarning: Precision is ill-defined and being set to 0.0 due to no predicted samples. Use `zero_division` parameter to control this behavior.\n",
      "  _warn_prf(average, modifier, msg_start, len(result))\n",
      "/home/eugen/miniconda3/envs/nco/lib/python3.8/site-packages/sklearn/metrics/_classification.py:1327: UndefinedMetricWarning: Precision is ill-defined and being set to 0.0 due to no predicted samples. Use `zero_division` parameter to control this behavior.\n",
      "  _warn_prf(average, modifier, msg_start, len(result))\n"
     ]
    },
    {
     "name": "stdout",
     "output_type": "stream",
     "text": [
      "Test Error: \n",
      " Acc: 54.0 Avg loss: 0.687481 \n",
      "\n",
      "Epoch 5\n",
      "-------------------------------\n",
      "loss: 0.717430  [    0/  800]\n",
      "Test Error: \n",
      " Acc: 54.0 Avg loss: 0.687981 \n",
      "\n"
     ]
    },
    {
     "name": "stderr",
     "output_type": "stream",
     "text": [
      "/home/eugen/miniconda3/envs/nco/lib/python3.8/site-packages/sklearn/metrics/_classification.py:1327: UndefinedMetricWarning: Precision is ill-defined and being set to 0.0 due to no predicted samples. Use `zero_division` parameter to control this behavior.\n",
      "  _warn_prf(average, modifier, msg_start, len(result))\n"
     ]
    }
   ],
   "source": [
    "model = cnn.to(\"cpu\")\n",
    "\n",
    "learning_rate = 0.01\n",
    "epochs = 5\n",
    "loss_fn = nn.BCELoss()\n",
    "optimizer = torch.optim.SGD(model.parameters(), lr=learning_rate)\n",
    "\n",
    "for t in range(epochs):\n",
    "    print(f\"Epoch {t+1}\\n-------------------------------\")\n",
    "    ml.train_loop(train_loader, model, loss_fn, optimizer)\n",
    "    ml.test_loop(test_loader, model, loss_fn)"
   ]
  },
  {
   "attachments": {},
   "cell_type": "markdown",
   "metadata": {},
   "source": [
    "## Evaluate comparatively performance in a binary case\n",
    "\n",
    "In the previous section we've seen how to train each model type. Here we will code an evaluation of how they perform on a full dataset. If deemed to computationally demanding, this section will be scripted separately (and referenced here).\n",
    "\n",
    "Models:\n",
    "- SN10 (2.2k params)\n",
    "- CNN (2.2k params)\n",
    "- Transformer (2.2k params)\n",
    "- SN10_enh (10k params)\n",
    "- CNN_enh (10k params)\n",
    "- Transformer_enh (10k params)"
   ]
  },
  {
   "cell_type": "code",
   "execution_count": 32,
   "metadata": {},
   "outputs": [
    {
     "data": {
      "text/plain": [
       "[2221, 2121, 2253]"
      ]
     },
     "execution_count": 32,
     "metadata": {},
     "output_type": "execute_result"
    }
   ],
   "source": [
    "sn10 = ml.SN10()\n",
    "cnn = ml.CNN(\n",
    "    conv1_num_filters=16,\n",
    "    conv1_filter_size=3,\n",
    "    conv2_num_filters=12,\n",
    "    conv2_filter_size=3,\n",
    "    )\n",
    "transformer = ml.Transformer(\n",
    "    vocab_size=20, \n",
    "    d_model=12,\n",
    "    nhead=2,\n",
    "    dim_feedforward=10,\n",
    "    num_layers=2,\n",
    "    dropout=0.1,\n",
    "    activation=\"relu\",\n",
    "    classifier_dropout=0.1,\n",
    "    )\n",
    "\n",
    "transformer_alt = ml.Transformer(\n",
    "    vocab_size=20, \n",
    "    d_model=8,\n",
    "    nhead=2,\n",
    "    dim_feedforward=42,\n",
    "    num_layers=2,\n",
    "    dropout=0.1,\n",
    "    activation=\"relu\",\n",
    "    classifier_dropout=0.1,\n",
    "    )\n",
    "\n",
    "\n",
    "sn10_enh = ml.SNN(num_hidden_units=48)\n",
    "cnn_enh = ml.CNN(\n",
    "    conv1_num_filters=32,\n",
    "    conv1_filter_size=3,\n",
    "    conv2_num_filters=32,\n",
    "    conv2_filter_size=3,\n",
    "    )\n",
    "transformer_enh = ml.Transformer(\n",
    "    vocab_size=20, \n",
    "    d_model=18,\n",
    "    nhead=3,\n",
    "    dim_feedforward=30,\n",
    "    num_layers=4,\n",
    "    dropout=0.1,\n",
    "    activation=\"relu\",\n",
    "    classifier_dropout=0.1,\n",
    "    )\n",
    "\n",
    "model_names = [\n",
    "    \"sn10\", \n",
    "    # \"cnn\", \n",
    "    \"transformer\", \n",
    "    \"transformer_alt\",\n",
    "    # \"sn10_enh\", \n",
    "    # \"cnn_enh\", \n",
    "    # \"transformer_enh\"\n",
    "    ]\n",
    "models = [\n",
    "    sn10, \n",
    "    # cnn, \n",
    "    transformer, \n",
    "    transformer_alt,\n",
    "    # sn10_enh,\n",
    "    # cnn_enh, \n",
    "    # transformer_enh\n",
    "    ]\n",
    "list(map(utils.num_trainable_params, models))"
   ]
  },
  {
   "cell_type": "code",
   "execution_count": 33,
   "metadata": {},
   "outputs": [
    {
     "name": "stderr",
     "output_type": "stream",
     "text": [
      "/data/sources/eugen/negative-class-optimization/src/NegativeClassOptimization/NegativeClassOptimization/preprocessing.py:154: UserWarning: Not scaling onehot.\n",
      "  warnings.warn(\"Not scaling onehot.\")\n"
     ]
    }
   ],
   "source": [
    "df = utils.load_global_dataframe()\n",
    "\n",
    "ag_pos = \"3VRL\"\n",
    "ag_neg = \"1ADQ\"\n",
    "df = df.loc[df[\"Antigen\"].isin([ag_pos, ag_neg])].copy()\n",
    "df = df.drop_duplicates([\"Slide\"])\n",
    "\n",
    "N = 20000\n",
    "df = df.sample(n=N, random_state=42)\n",
    "df = df.sample(frac=1, random_state=42)\n",
    "\n",
    "df.reset_index(drop=True, inplace=True)\n",
    "\n",
    "train_data, test_data, train_loader, test_loader = preprocessing.preprocess_data_for_pytorch_binary(\n",
    "    df_train_val=df.iloc[:int(N*0.9)],\n",
    "    df_test_closed=df.iloc[int(N*0.9):],\n",
    "    ag_pos=[ag_pos],\n",
    "    batch_size=64,\n",
    "    scale_onehot=False,\n",
    ")"
   ]
  },
  {
   "cell_type": "code",
   "execution_count": 44,
   "metadata": {},
   "outputs": [
    {
     "name": "stderr",
     "output_type": "stream",
     "text": [
      "/data/sources/eugen/negative-class-optimization/src/NegativeClassOptimization/NegativeClassOptimization/preprocessing.py:154: UserWarning: Not scaling onehot.\n",
      "  warnings.warn(\"Not scaling onehot.\")\n"
     ]
    },
    {
     "name": "stdout",
     "output_type": "stream",
     "text": [
      "sn10\n",
      "Epoch 1\n",
      "-------------------------------\n",
      "loss: 0.281162  [    0/18000]\n",
      "loss: 0.329307  [ 6400/18000]\n",
      "loss: 0.304028  [12800/18000]\n",
      "Test Error: \n",
      " Acc: 87.2 Avg loss: 0.296627 \n",
      "\n",
      "Epoch 2\n",
      "-------------------------------\n",
      "loss: 0.190751  [    0/18000]\n",
      "loss: 0.193595  [ 6400/18000]\n",
      "loss: 0.218160  [12800/18000]\n",
      "Test Error: \n",
      " Acc: 87.6 Avg loss: 0.291918 \n",
      "\n",
      "Epoch 3\n",
      "-------------------------------\n",
      "loss: 0.291096  [    0/18000]\n",
      "loss: 0.317031  [ 6400/18000]\n",
      "loss: 0.174014  [12800/18000]\n",
      "Test Error: \n",
      " Acc: 87.8 Avg loss: 0.279537 \n",
      "\n",
      "Epoch 4\n",
      "-------------------------------\n",
      "loss: 0.327152  [    0/18000]\n",
      "loss: 0.185884  [ 6400/18000]\n",
      "loss: 0.189753  [12800/18000]\n",
      "Test Error: \n",
      " Acc: 87.9 Avg loss: 0.273702 \n",
      "\n",
      "Epoch 5\n",
      "-------------------------------\n",
      "loss: 0.348162  [    0/18000]\n",
      "loss: 0.195117  [ 6400/18000]\n",
      "loss: 0.281429  [12800/18000]\n",
      "Test Error: \n",
      " Acc: 88.8 Avg loss: 0.264543 \n",
      "\n",
      "Epoch 6\n",
      "-------------------------------\n",
      "loss: 0.286747  [    0/18000]\n",
      "loss: 0.199847  [ 6400/18000]\n",
      "loss: 0.252641  [12800/18000]\n",
      "Test Error: \n",
      " Acc: 88.5 Avg loss: 0.258443 \n",
      "\n",
      "Epoch 7\n",
      "-------------------------------\n",
      "loss: 0.282222  [    0/18000]\n",
      "loss: 0.237807  [ 6400/18000]\n",
      "loss: 0.151969  [12800/18000]\n",
      "Test Error: \n",
      " Acc: 89.5 Avg loss: 0.253102 \n",
      "\n",
      "Epoch 8\n",
      "-------------------------------\n",
      "loss: 0.239655  [    0/18000]\n",
      "loss: 0.404216  [ 6400/18000]\n",
      "loss: 0.269036  [12800/18000]\n",
      "Test Error: \n",
      " Acc: 89.6 Avg loss: 0.247099 \n",
      "\n",
      "Epoch 9\n",
      "-------------------------------\n",
      "loss: 0.268876  [    0/18000]\n",
      "loss: 0.170562  [ 6400/18000]\n",
      "loss: 0.145464  [12800/18000]\n",
      "Test Error: \n",
      " Acc: 89.5 Avg loss: 0.245853 \n",
      "\n",
      "Epoch 10\n",
      "-------------------------------\n",
      "loss: 0.278137  [    0/18000]\n",
      "loss: 0.261722  [ 6400/18000]\n",
      "loss: 0.226137  [12800/18000]\n",
      "Test Error: \n",
      " Acc: 90.0 Avg loss: 0.239398 \n",
      "\n"
     ]
    },
    {
     "name": "stderr",
     "output_type": "stream",
     "text": [
      "/data/sources/eugen/negative-class-optimization/src/NegativeClassOptimization/NegativeClassOptimization/preprocessing.py:154: UserWarning: Not scaling onehot.\n",
      "  warnings.warn(\"Not scaling onehot.\")\n"
     ]
    },
    {
     "name": "stdout",
     "output_type": "stream",
     "text": [
      "transformer\n",
      "Epoch 1\n",
      "-------------------------------\n",
      "loss: 0.452781  [    0/18000]\n",
      "loss: 0.387230  [ 6400/18000]\n",
      "loss: 0.385404  [12800/18000]\n",
      "Test Error: \n",
      " Acc: 83.9 Avg loss: 0.407588 \n",
      "\n",
      "Epoch 2\n",
      "-------------------------------\n",
      "loss: 0.348635  [    0/18000]\n",
      "loss: 0.391124  [ 6400/18000]\n",
      "loss: 0.448654  [12800/18000]\n",
      "Test Error: \n",
      " Acc: 85.0 Avg loss: 0.396735 \n",
      "\n",
      "Epoch 3\n",
      "-------------------------------\n",
      "loss: 0.411099  [    0/18000]\n",
      "loss: 0.399635  [ 6400/18000]\n",
      "loss: 0.333367  [12800/18000]\n",
      "Test Error: \n",
      " Acc: 85.1 Avg loss: 0.392410 \n",
      "\n",
      "Epoch 4\n",
      "-------------------------------\n",
      "loss: 0.430958  [    0/18000]\n",
      "loss: 0.322184  [ 6400/18000]\n",
      "loss: 0.438142  [12800/18000]\n",
      "Test Error: \n",
      " Acc: 85.0 Avg loss: 0.385457 \n",
      "\n",
      "Epoch 5\n",
      "-------------------------------\n",
      "loss: 0.365175  [    0/18000]\n",
      "loss: 0.493310  [ 6400/18000]\n",
      "loss: 0.392753  [12800/18000]\n",
      "Test Error: \n",
      " Acc: 85.5 Avg loss: 0.381352 \n",
      "\n",
      "Epoch 6\n",
      "-------------------------------\n",
      "loss: 0.332826  [    0/18000]\n",
      "loss: 0.426258  [ 6400/18000]\n",
      "loss: 0.408985  [12800/18000]\n",
      "Test Error: \n",
      " Acc: 85.0 Avg loss: 0.385263 \n",
      "\n",
      "Epoch 7\n",
      "-------------------------------\n",
      "loss: 0.295434  [    0/18000]\n",
      "loss: 0.330473  [ 6400/18000]\n",
      "loss: 0.311548  [12800/18000]\n",
      "Test Error: \n",
      " Acc: 85.1 Avg loss: 0.395701 \n",
      "\n",
      "Epoch 8\n",
      "-------------------------------\n",
      "loss: 0.327201  [    0/18000]\n",
      "loss: 0.270373  [ 6400/18000]\n",
      "loss: 0.297234  [12800/18000]\n",
      "Test Error: \n",
      " Acc: 85.0 Avg loss: 0.396676 \n",
      "\n",
      "Epoch 9\n",
      "-------------------------------\n",
      "loss: 0.407285  [    0/18000]\n",
      "loss: 0.391276  [ 6400/18000]\n",
      "loss: 0.259334  [12800/18000]\n",
      "Test Error: \n",
      " Acc: 85.2 Avg loss: 0.390613 \n",
      "\n",
      "Epoch 10\n",
      "-------------------------------\n",
      "loss: 0.289021  [    0/18000]\n",
      "loss: 0.340494  [ 6400/18000]\n",
      "loss: 0.388773  [12800/18000]\n",
      "Test Error: \n",
      " Acc: 85.4 Avg loss: 0.385923 \n",
      "\n"
     ]
    },
    {
     "name": "stderr",
     "output_type": "stream",
     "text": [
      "/data/sources/eugen/negative-class-optimization/src/NegativeClassOptimization/NegativeClassOptimization/preprocessing.py:154: UserWarning: Not scaling onehot.\n",
      "  warnings.warn(\"Not scaling onehot.\")\n"
     ]
    },
    {
     "name": "stdout",
     "output_type": "stream",
     "text": [
      "transformer_alt\n",
      "Epoch 1\n",
      "-------------------------------\n",
      "loss: 0.522180  [    0/18000]\n",
      "loss: 0.369627  [ 6400/18000]\n",
      "loss: 0.386545  [12800/18000]\n",
      "Test Error: \n",
      " Acc: 84.9 Avg loss: 0.397490 \n",
      "\n",
      "Epoch 2\n",
      "-------------------------------\n",
      "loss: 0.441418  [    0/18000]\n",
      "loss: 0.424726  [ 6400/18000]\n",
      "loss: 0.290314  [12800/18000]\n",
      "Test Error: \n",
      " Acc: 84.0 Avg loss: 0.416946 \n",
      "\n",
      "Epoch 3\n",
      "-------------------------------\n",
      "loss: 0.464719  [    0/18000]\n",
      "loss: 0.323511  [ 6400/18000]\n",
      "loss: 0.383191  [12800/18000]\n",
      "Test Error: \n",
      " Acc: 84.5 Avg loss: 0.400435 \n",
      "\n",
      "Epoch 4\n",
      "-------------------------------\n",
      "loss: 0.466893  [    0/18000]\n",
      "loss: 0.449623  [ 6400/18000]\n",
      "loss: 0.318608  [12800/18000]\n",
      "Test Error: \n",
      " Acc: 85.2 Avg loss: 0.402857 \n",
      "\n",
      "Epoch 5\n",
      "-------------------------------\n",
      "loss: 0.543623  [    0/18000]\n",
      "loss: 0.230820  [ 6400/18000]\n",
      "loss: 0.391180  [12800/18000]\n",
      "Test Error: \n",
      " Acc: 85.0 Avg loss: 0.401747 \n",
      "\n",
      "Epoch 6\n",
      "-------------------------------\n",
      "loss: 0.398672  [    0/18000]\n",
      "loss: 0.313355  [ 6400/18000]\n",
      "loss: 0.395847  [12800/18000]\n",
      "Test Error: \n",
      " Acc: 84.4 Avg loss: 0.390340 \n",
      "\n",
      "Epoch 7\n",
      "-------------------------------\n",
      "loss: 0.458897  [    0/18000]\n",
      "loss: 0.543940  [ 6400/18000]\n",
      "loss: 0.349314  [12800/18000]\n",
      "Test Error: \n",
      " Acc: 84.6 Avg loss: 0.416733 \n",
      "\n",
      "Epoch 8\n",
      "-------------------------------\n",
      "loss: 0.397831  [    0/18000]\n",
      "loss: 0.392299  [ 6400/18000]\n",
      "loss: 0.286035  [12800/18000]\n",
      "Test Error: \n",
      " Acc: 85.5 Avg loss: 0.384387 \n",
      "\n",
      "Epoch 9\n",
      "-------------------------------\n",
      "loss: 0.509524  [    0/18000]\n",
      "loss: 0.382136  [ 6400/18000]\n",
      "loss: 0.352139  [12800/18000]\n",
      "Test Error: \n",
      " Acc: 85.0 Avg loss: 0.388126 \n",
      "\n",
      "Epoch 10\n",
      "-------------------------------\n",
      "loss: 0.439833  [    0/18000]\n",
      "loss: 0.274675  [ 6400/18000]\n",
      "loss: 0.428113  [12800/18000]\n",
      "Test Error: \n",
      " Acc: 86.1 Avg loss: 0.388084 \n",
      "\n"
     ]
    }
   ],
   "source": [
    "learning_rate = 0.001\n",
    "epochs = 10\n",
    "loss_fn = nn.BCELoss()\n",
    "\n",
    "records = []\n",
    "for i, model in enumerate(models):\n",
    "\n",
    "    train_data, test_data, train_loader, test_loader = preprocessing.preprocess_data_for_pytorch_binary(\n",
    "        df_train_val=df.iloc[:int(N*0.9)],\n",
    "        df_test_closed=df.iloc[int(N*0.9):],\n",
    "        ag_pos=[ag_pos],\n",
    "        batch_size=64,\n",
    "        scale_onehot=False,\n",
    "    )\n",
    "\n",
    "    model_name = model_names[i]\n",
    "    print(model_name)\n",
    "\n",
    "    model_i = model.to(\"cpu\")\n",
    "\n",
    "    # Build an optimizer separately for each model\n",
    "    optimizer = torch.optim.Adam(\n",
    "        model_i.parameters(), \n",
    "        lr=learning_rate,\n",
    "        betas=(0.9, 0.999),  # beta1 ~ momentum\n",
    "        weight_decay=0,\n",
    "        )\n",
    "    for t in range(epochs):\n",
    "        print(f\"Epoch {t+1}\\n-------------------------------\")\n",
    "\n",
    "        loss = ml.train_loop(train_loader, model_i, loss_fn, optimizer)\n",
    "        test_metrics = ml.test_loop(test_loader, model_i, loss_fn)\n",
    "        \n",
    "        records.append({\"model_name\": model_name, \"epoch\": t, \"loss\": loss, **test_metrics})"
   ]
  },
  {
   "cell_type": "code",
   "execution_count": 45,
   "metadata": {},
   "outputs": [
    {
     "data": {
      "text/html": [
       "<div>\n",
       "<style scoped>\n",
       "    .dataframe tbody tr th:only-of-type {\n",
       "        vertical-align: middle;\n",
       "    }\n",
       "\n",
       "    .dataframe tbody tr th {\n",
       "        vertical-align: top;\n",
       "    }\n",
       "\n",
       "    .dataframe thead th {\n",
       "        text-align: right;\n",
       "    }\n",
       "</style>\n",
       "<table border=\"1\" class=\"dataframe\">\n",
       "  <thead>\n",
       "    <tr style=\"text-align: right;\">\n",
       "      <th></th>\n",
       "      <th>model_name</th>\n",
       "      <th>epoch</th>\n",
       "      <th>loss</th>\n",
       "      <th>test_loss</th>\n",
       "      <th>y_test_logits</th>\n",
       "      <th>y_test_pred</th>\n",
       "      <th>y_test_true</th>\n",
       "      <th>roc_auc_closed</th>\n",
       "      <th>avg_precision_closed</th>\n",
       "      <th>acc_closed</th>\n",
       "      <th>recall_closed</th>\n",
       "      <th>precision_closed</th>\n",
       "      <th>f1_closed</th>\n",
       "      <th>losses</th>\n",
       "    </tr>\n",
       "  </thead>\n",
       "  <tbody>\n",
       "    <tr>\n",
       "      <th>0</th>\n",
       "      <td>sn10</td>\n",
       "      <td>0</td>\n",
       "      <td>0.304028</td>\n",
       "      <td>0.296627</td>\n",
       "      <td>[-4.419931, -4.428491, -2.593865, -2.1688452, ...</td>\n",
       "      <td>[0.0, 0.0, 0.0, 0.0, 0.0, 1.0, 1.0, 1.0, 1.0, ...</td>\n",
       "      <td>[0.0, 0.0, 0.0, 0.0, 0.0, 1.0, 1.0, 0.0, 0.0, ...</td>\n",
       "      <td>0.943118</td>\n",
       "      <td>0.926502</td>\n",
       "      <td>0.8715</td>\n",
       "      <td>0.901247</td>\n",
       "      <td>0.842566</td>\n",
       "      <td>0.870919</td>\n",
       "      <td>[0.28116244077682495, 0.32930734753608704, 0.3...</td>\n",
       "    </tr>\n",
       "    <tr>\n",
       "      <th>1</th>\n",
       "      <td>sn10</td>\n",
       "      <td>1</td>\n",
       "      <td>0.218160</td>\n",
       "      <td>0.291918</td>\n",
       "      <td>[-4.5942965, -4.4926467, -2.685222, -2.2530255...</td>\n",
       "      <td>[0.0, 0.0, 0.0, 0.0, 0.0, 1.0, 1.0, 1.0, 1.0, ...</td>\n",
       "      <td>[0.0, 0.0, 0.0, 0.0, 0.0, 1.0, 1.0, 0.0, 0.0, ...</td>\n",
       "      <td>0.946730</td>\n",
       "      <td>0.932322</td>\n",
       "      <td>0.8760</td>\n",
       "      <td>0.915800</td>\n",
       "      <td>0.840649</td>\n",
       "      <td>0.876617</td>\n",
       "      <td>[0.19075079262256622, 0.19359464943408966, 0.2...</td>\n",
       "    </tr>\n",
       "  </tbody>\n",
       "</table>\n",
       "</div>"
      ],
      "text/plain": [
       "  model_name  epoch      loss  test_loss  \\\n",
       "0       sn10      0  0.304028   0.296627   \n",
       "1       sn10      1  0.218160   0.291918   \n",
       "\n",
       "                                       y_test_logits  \\\n",
       "0  [-4.419931, -4.428491, -2.593865, -2.1688452, ...   \n",
       "1  [-4.5942965, -4.4926467, -2.685222, -2.2530255...   \n",
       "\n",
       "                                         y_test_pred  \\\n",
       "0  [0.0, 0.0, 0.0, 0.0, 0.0, 1.0, 1.0, 1.0, 1.0, ...   \n",
       "1  [0.0, 0.0, 0.0, 0.0, 0.0, 1.0, 1.0, 1.0, 1.0, ...   \n",
       "\n",
       "                                         y_test_true  roc_auc_closed  \\\n",
       "0  [0.0, 0.0, 0.0, 0.0, 0.0, 1.0, 1.0, 0.0, 0.0, ...        0.943118   \n",
       "1  [0.0, 0.0, 0.0, 0.0, 0.0, 1.0, 1.0, 0.0, 0.0, ...        0.946730   \n",
       "\n",
       "   avg_precision_closed  acc_closed  recall_closed  precision_closed  \\\n",
       "0              0.926502      0.8715       0.901247          0.842566   \n",
       "1              0.932322      0.8760       0.915800          0.840649   \n",
       "\n",
       "   f1_closed                                             losses  \n",
       "0   0.870919  [0.28116244077682495, 0.32930734753608704, 0.3...  \n",
       "1   0.876617  [0.19075079262256622, 0.19359464943408966, 0.2...  "
      ]
     },
     "execution_count": 45,
     "metadata": {},
     "output_type": "execute_result"
    }
   ],
   "source": [
    "df_res = pd.DataFrame.from_records(records)\n",
    "df_res[\"losses\"] = df_res[\"loss\"]\n",
    "df_res[\"loss\"] = list(map(lambda l: l[-1], df_res[\"losses\"]))\n",
    "df_res.head(2)"
   ]
  },
  {
   "cell_type": "code",
   "execution_count": 51,
   "metadata": {},
   "outputs": [
    {
     "data": {
      "text/plain": [
       "<AxesSubplot:xlabel='epoch', ylabel='loss'>"
      ]
     },
     "execution_count": 51,
     "metadata": {},
     "output_type": "execute_result"
    },
    {
     "data": {
      "image/png": "[encoded data removed]",
      "text/plain": [
       "<Figure size 640x480 with 1 Axes>"
      ]
     },
     "metadata": {},
     "output_type": "display_data"
    }
   ],
   "source": [
    "sns.lineplot(data=df_res, x=\"epoch\", y=\"loss\", hue=\"model_name\")\n",
    "# sns.lineplot(data=df_res, x=\"epoch\", y=\"test_loss\", hue=\"model_name\")\n",
    "# sns.lineplot(data=df_res, x=\"epoch\", y=\"acc_closed\", hue=\"model_name\")"
   ]
  },
  {
   "cell_type": "code",
   "execution_count": 47,
   "metadata": {},
   "outputs": [
    {
     "data": {
      "text/html": [
       "<div>\n",
       "<style scoped>\n",
       "    .dataframe tbody tr th:only-of-type {\n",
       "        vertical-align: middle;\n",
       "    }\n",
       "\n",
       "    .dataframe tbody tr th {\n",
       "        vertical-align: top;\n",
       "    }\n",
       "\n",
       "    .dataframe thead th {\n",
       "        text-align: right;\n",
       "    }\n",
       "</style>\n",
       "<table border=\"1\" class=\"dataframe\">\n",
       "  <thead>\n",
       "    <tr style=\"text-align: right;\">\n",
       "      <th></th>\n",
       "      <th>acc_closed</th>\n",
       "    </tr>\n",
       "    <tr>\n",
       "      <th>model_name</th>\n",
       "      <th></th>\n",
       "    </tr>\n",
       "  </thead>\n",
       "  <tbody>\n",
       "    <tr>\n",
       "      <th>sn10</th>\n",
       "      <td>0.8715</td>\n",
       "    </tr>\n",
       "    <tr>\n",
       "      <th>transformer</th>\n",
       "      <td>0.8385</td>\n",
       "    </tr>\n",
       "    <tr>\n",
       "      <th>transformer_alt</th>\n",
       "      <td>0.8395</td>\n",
       "    </tr>\n",
       "  </tbody>\n",
       "</table>\n",
       "</div>"
      ],
      "text/plain": [
       "                 acc_closed\n",
       "model_name                 \n",
       "sn10                 0.8715\n",
       "transformer          0.8385\n",
       "transformer_alt      0.8395"
      ]
     },
     "execution_count": 47,
     "metadata": {},
     "output_type": "execute_result"
    }
   ],
   "source": [
    "# df_res.groupby(\"model_name\").agg({\"loss\": \"min\"})\n",
    "df_res.groupby(\"model_name\").agg({\"acc_closed\": \"min\"})"
   ]
  },
  {
   "attachments": {},
   "cell_type": "markdown",
   "metadata": {},
   "source": [
    "## Evaluate in complex multiclass setup"
   ]
  },
  {
   "cell_type": "code",
   "execution_count": 48,
   "metadata": {},
   "outputs": [],
   "source": [
    "# TODO"
   ]
  },
  {
   "cell_type": "code",
   "execution_count": null,
   "metadata": {},
   "outputs": [],
   "source": []
  }
 ],
 "metadata": {
  "kernelspec": {
   "display_name": "nco",
   "language": "python",
   "name": "python3"
  },
  "language_info": {
   "codemirror_mode": {
    "name": "ipython",
    "version": 3
   },
   "file_extension": ".py",
   "mimetype": "text/x-python",
   "name": "python",
   "nbconvert_exporter": "python",
   "pygments_lexer": "ipython3",
   "version": "3.8.16"
  },
  "orig_nbformat": 4,
  "vscode": {
   "interpreter": {
    "hash": "3ec5334dbdc4a6f7f47854c251e8d2556e95e85daa09db51a6f2bda295b96836"
   }
  }
 },
 "nbformat": 4,
 "nbformat_minor": 2
}
