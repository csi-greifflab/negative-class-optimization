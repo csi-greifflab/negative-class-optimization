{
 "cells": [
  {
   "cell_type": "markdown",
   "metadata": {},
   "source": [
    "# Explore Absolut Data\n",
    "\n",
    "We obtain the complete Absolut data. In this notebook, we explore it.\n",
    "\n",
    "Of interest, based on the Readme:\n",
    "- `RawBindingsMurine/`: the main database\n",
    "    - `UniqueCDR3s.txt`: murine CDRH3 sequences that have been used (reference to paper), **not found**.\n",
    "    - `XXXX_X.zip`: optimal binding of each 11-mer from each CDRH3 to this antigen\n",
    "- `RawBindingsPerClassMurine/`: filtered w/ affinity\n",
    "    - `XXXX_XAnalyses/`: filtered sequences to antigen XXXX_X\n",
    "        - CDRH3-based top sequences\n",
    "        - **11-mer based top sequences**: th defined using CDRH3, but contains multiple 11-mers from the same CDRH3 if they satisfy the threshold\n",
    "\n",
    "Then there are processed datasets (had been used in Robert 2021 biorxiv):\n",
    "- `Datasets1/`: binary classification per antigen\n",
    "- `Datasets2/`: as above, but harder.\n",
    "- `Datasets3/`: multi-class classification for subsets of N antigens\n",
    "    - `nonRedundant_11mer-based/`: 142 non-redundant antigens. Includes:\n",
    "        - binding profile: each bottom 1% CDRH3 to each antigen\n",
    "- `Datasets4_Paratope_Epitope/`: includes encodings, such as degree-explicit/free, motiv, aggregate, chemical,\n",
    "- `DatasetsAdditional/`: includes variations of others.\n",
    "\n",
    "Q&A:\n",
    "1. Why 11-mer?\n",
    "2. What are the source unique CDR3s?\n",
    "    - CDRH3 sequences of murine naive B cells.\n",
    "3. What have been we using until now in terms of data?\n",
    "    - top **70k best binders** for 10 different antigens.\n",
    "        - best binders is probably meant by energy\n",
    "        - not clear how much this covers in terms of %, since the distribution might be different across antigens.\n",
    "    - the associated FeaturesFile includes paratope/epitope info.\n",
    "    - Mat also send the 7M dataset, that included many more Slides, and `Best` col indicates which Slide yielded best binding from all Slides from a CDRH3 source.\n",
    "4. What has been done on sequence encoding: degree-explicit/free; motif/aggregate/chemical encodings; gapped-motifs encodings;"
   ]
  },
  {
   "cell_type": "code",
   "execution_count": 1,
   "metadata": {},
   "outputs": [
    {
     "name": "stderr",
     "output_type": "stream",
     "text": [
      "/home/eugen/miniconda3/envs/nco/lib/python3.8/site-packages/tqdm/auto.py:22: TqdmWarning: IProgress not found. Please update jupyter and ipywidgets. See https://ipywidgets.readthedocs.io/en/stable/user_install.html\n",
      "  from .autonotebook import tqdm as notebook_tqdm\n",
      "/home/eugen/miniconda3/envs/nco/lib/python3.8/site-packages/sklearn/preprocessing/_encoders.py:808: FutureWarning: `sparse` was renamed to `sparse_output` in version 1.2 and will be removed in 1.4. `sparse_output` is ignored unless you leave `sparse` to its default value.\n",
      "  warnings.warn(\n",
      "/home/eugen/miniconda3/envs/nco/lib/python3.8/site-packages/sklearn/preprocessing/_encoders.py:808: FutureWarning: `sparse` was renamed to `sparse_output` in version 1.2 and will be removed in 1.4. `sparse_output` is ignored unless you leave `sparse` to its default value.\n",
      "  warnings.warn(\n"
     ]
    }
   ],
   "source": [
    "from pathlib import Path\n",
    "from itertools import combinations\n",
    "import json\n",
    "import numpy as np\n",
    "import pandas as pd\n",
    "import matplotlib.pyplot as plt\n",
    "import seaborn as sns\n",
    "\n",
    "from typing import List\n",
    "\n",
    "from NegativeClassOptimization import config\n",
    "from NegativeClassOptimization import utils\n",
    "from NegativeClassOptimization import preprocessing\n",
    "from NegativeClassOptimization import datasets"
   ]
  },
  {
   "cell_type": "markdown",
   "metadata": {},
   "source": [
    "## Building multiclass datasets for many antigens\n",
    "\n",
    "We leverage `Datasets3/` for building multiclass datasets. From Readme:\n",
    "- `Treated142.txt` => Binding profile of each bottom 1% CDRH3 to each antigen (column) => 142 columns\n",
    "- `ListAntigens142.txt` => name/meaning of columns of Treated142.txt in this order\n",
    "- Task2Annotated_142_nonredundant.zip => annotation of each sequence with the status \"non-binder (top 99%)\" or which antigens it bind if binder (bottom 1%). This was used to generate Treated142.txt, provided for information."
   ]
  },
  {
   "cell_type": "code",
   "execution_count": 2,
   "metadata": {},
   "outputs": [
    {
     "name": "stdout",
     "output_type": "stream",
     "text": [
      "antigens[:5]=['1ADQ_A', '1FBI_X', '1FNS_A', '1FSK_A', '1H0D_C']\n"
     ]
    },
    {
     "data": {
      "text/html": [
       "<div>\n",
       "<style scoped>\n",
       "    .dataframe tbody tr th:only-of-type {\n",
       "        vertical-align: middle;\n",
       "    }\n",
       "\n",
       "    .dataframe tbody tr th {\n",
       "        vertical-align: top;\n",
       "    }\n",
       "\n",
       "    .dataframe thead th {\n",
       "        text-align: right;\n",
       "    }\n",
       "</style>\n",
       "<table border=\"1\" class=\"dataframe\">\n",
       "  <thead>\n",
       "    <tr style=\"text-align: right;\">\n",
       "      <th></th>\n",
       "      <th>Slide</th>\n",
       "      <th>num_binding_ags</th>\n",
       "      <th>binding_profile</th>\n",
       "    </tr>\n",
       "  </thead>\n",
       "  <tbody>\n",
       "    <tr>\n",
       "      <th>0</th>\n",
       "      <td>AAAFITTVVPF</td>\n",
       "      <td>1</td>\n",
       "      <td>0000000000000000000000000000000000000010000000...</td>\n",
       "    </tr>\n",
       "    <tr>\n",
       "      <th>1</th>\n",
       "      <td>AAAGWLLLFDY</td>\n",
       "      <td>2</td>\n",
       "      <td>0000000000000100000000000000000000000000000000...</td>\n",
       "    </tr>\n",
       "    <tr>\n",
       "      <th>2</th>\n",
       "      <td>AAAIYWYFDVW</td>\n",
       "      <td>3</td>\n",
       "      <td>0000000000000010000010000000000000000010000000...</td>\n",
       "    </tr>\n",
       "    <tr>\n",
       "      <th>3</th>\n",
       "      <td>AAALLRSWFAY</td>\n",
       "      <td>1</td>\n",
       "      <td>0000000000000000000000000000000000000010000000...</td>\n",
       "    </tr>\n",
       "    <tr>\n",
       "      <th>4</th>\n",
       "      <td>AAALLRYPFAY</td>\n",
       "      <td>3</td>\n",
       "      <td>0001000000000000000000000000000000000010000000...</td>\n",
       "    </tr>\n",
       "  </tbody>\n",
       "</table>\n",
       "</div>"
      ],
      "text/plain": [
       "         Slide  num_binding_ags  \\\n",
       "0  AAAFITTVVPF                1   \n",
       "1  AAAGWLLLFDY                2   \n",
       "2  AAAIYWYFDVW                3   \n",
       "3  AAALLRSWFAY                1   \n",
       "4  AAALLRYPFAY                3   \n",
       "\n",
       "                                     binding_profile  \n",
       "0  0000000000000000000000000000000000000010000000...  \n",
       "1  0000000000000100000000000000000000000000000000...  \n",
       "2  0000000000000010000010000000000000000010000000...  \n",
       "3  0000000000000000000000000000000000000010000000...  \n",
       "4  0001000000000000000000000000000000000010000000...  "
      ]
     },
     "execution_count": 2,
     "metadata": {},
     "output_type": "execute_result"
    }
   ],
   "source": [
    "antigens = datasets.AbsolutDataset3.get_antigens()\n",
    "print(f\"{antigens[:5]=}\")\n",
    "\n",
    "df = datasets.AbsolutDataset3.get_binding_matrix()\n",
    "df.head()"
   ]
  },
  {
   "cell_type": "markdown",
   "metadata": {},
   "source": [
    "How many antigens binds a Slide on average?"
   ]
  },
  {
   "cell_type": "code",
   "execution_count": 3,
   "metadata": {},
   "outputs": [
    {
     "name": "stdout",
     "output_type": "stream",
     "text": [
      "df[\"num_binding_ags\"].describe()=count    1.286631e+06\n",
      "mean     5.902470e+00\n",
      "std      9.812375e+00\n",
      "min      1.000000e+00\n",
      "25%      1.000000e+00\n",
      "50%      2.000000e+00\n",
      "75%      6.000000e+00\n",
      "max      1.110000e+02\n",
      "Name: num_binding_ags, dtype: float64\n",
      "df[\"num_binding_ags\"].value_counts(normalize=True).head(10)=1     0.432816\n",
      "2     0.142812\n",
      "3     0.077307\n",
      "4     0.051771\n",
      "5     0.037965\n",
      "6     0.029740\n",
      "7     0.023767\n",
      "8     0.019575\n",
      "9     0.016290\n",
      "10    0.014086\n",
      "Name: num_binding_ags, dtype: float64\n"
     ]
    },
    {
     "data": {
      "text/plain": [
       "<AxesSubplot: >"
      ]
     },
     "execution_count": 3,
     "metadata": {},
     "output_type": "execute_result"
    },
    {
     "data": {
      "image/png": "[encoded data removed]",
      "text/plain": [
       "<Figure size 640x480 with 1 Axes>"
      ]
     },
     "metadata": {},
     "output_type": "display_data"
    }
   ],
   "source": [
    "print(f'{df[\"num_binding_ags\"].describe()=}')\n",
    "print(f'{df[\"num_binding_ags\"].value_counts(normalize=True).head(10)=}')\n",
    "df[\"num_binding_ags\"].hist(bins=40)"
   ]
  },
  {
   "cell_type": "markdown",
   "metadata": {},
   "source": [
    "### Process"
   ]
  },
  {
   "cell_type": "code",
   "execution_count": 5,
   "metadata": {},
   "outputs": [],
   "source": [
    "# df_wide = datasets.AbsolutDataset3.convert_to_wide_format(df, antigens)\n",
    "# df_wide.head()"
   ]
  },
  {
   "cell_type": "code",
   "execution_count": null,
   "metadata": {},
   "outputs": [],
   "source": [
    "ag_c, ag_o = antigens[:80], antigens[80:]"
   ]
  },
  {
   "cell_type": "code",
   "execution_count": null,
   "metadata": {},
   "outputs": [
    {
     "name": "stdout",
     "output_type": "stream",
     "text": [
      "mask_c.sum()=446791 | mask_o.sum()=245900\n"
     ]
    }
   ],
   "source": [
    "mask_c = (df_wide[ag_c].sum(axis=1) >= 1) & (df_wide[ag_o].sum(axis=1) == 0)\n",
    "mask_o = (df_wide[ag_c].sum(axis=1) == 0) & (df_wide[ag_o].sum(axis=1) >= 1)\n",
    "\n",
    "print(f'{mask_c.sum()=} | {mask_o.sum()=}')"
   ]
  },
  {
   "cell_type": "code",
   "execution_count": null,
   "metadata": {},
   "outputs": [
    {
     "name": "stdout",
     "output_type": "stream",
     "text": [
      "mask_unimodal.sum()=556875\n",
      "(mask_unimodal & mask_c).sum()=347644 | (mask_unimodal & mask_o).sum()=209231\n"
     ]
    }
   ],
   "source": [
    "mask_unimodal = df_wide.sum(axis=1) == 1\n",
    "print(f'{mask_unimodal.sum()=}')\n",
    "print(f'{(mask_unimodal & mask_c).sum()=} | {(mask_unimodal & mask_o).sum()=}')"
   ]
  },
  {
   "cell_type": "markdown",
   "metadata": {},
   "source": [
    "### Adaptor to internal multiclass classification\n",
    "\n",
    "We need to adapt the new data to the format currently used for multiclass classification (`script/script_08*.py`). For that, we need to generate a `dfs` dictionary.\n",
    "\n",
    "We generate these and save under `Absolut/processed/multiclass`."
   ]
  },
  {
   "cell_type": "code",
   "execution_count": null,
   "metadata": {},
   "outputs": [
    {
     "name": "stdout",
     "output_type": "stream",
     "text": [
      "(7594301, 3)\n"
     ]
    },
    {
     "data": {
      "text/html": [
       "<div>\n",
       "<style scoped>\n",
       "    .dataframe tbody tr th:only-of-type {\n",
       "        vertical-align: middle;\n",
       "    }\n",
       "\n",
       "    .dataframe tbody tr th {\n",
       "        vertical-align: top;\n",
       "    }\n",
       "\n",
       "    .dataframe thead th {\n",
       "        text-align: right;\n",
       "    }\n",
       "</style>\n",
       "<table border=\"1\" class=\"dataframe\">\n",
       "  <thead>\n",
       "    <tr style=\"text-align: right;\">\n",
       "      <th></th>\n",
       "      <th>Slide</th>\n",
       "      <th>Antigen</th>\n",
       "      <th>Slide_farmhash_mod_10</th>\n",
       "    </tr>\n",
       "  </thead>\n",
       "  <tbody>\n",
       "    <tr>\n",
       "      <th>66</th>\n",
       "      <td>AAFITTVGWYF</td>\n",
       "      <td>1ADQ_A</td>\n",
       "      <td>5</td>\n",
       "    </tr>\n",
       "    <tr>\n",
       "      <th>116</th>\n",
       "      <td>AAFYGRWYFDV</td>\n",
       "      <td>1ADQ_A</td>\n",
       "      <td>9</td>\n",
       "    </tr>\n",
       "    <tr>\n",
       "      <th>124</th>\n",
       "      <td>AAFYYGNLAWF</td>\n",
       "      <td>1ADQ_A</td>\n",
       "      <td>2</td>\n",
       "    </tr>\n",
       "    <tr>\n",
       "      <th>204</th>\n",
       "      <td>AAGWLLLFAYW</td>\n",
       "      <td>1ADQ_A</td>\n",
       "      <td>3</td>\n",
       "    </tr>\n",
       "    <tr>\n",
       "      <th>205</th>\n",
       "      <td>AAGWLLLFDYW</td>\n",
       "      <td>1ADQ_A</td>\n",
       "      <td>9</td>\n",
       "    </tr>\n",
       "  </tbody>\n",
       "</table>\n",
       "</div>"
      ],
      "text/plain": [
       "           Slide Antigen  Slide_farmhash_mod_10\n",
       "66   AAFITTVGWYF  1ADQ_A                      5\n",
       "116  AAFYGRWYFDV  1ADQ_A                      9\n",
       "124  AAFYYGNLAWF  1ADQ_A                      2\n",
       "204  AAGWLLLFAYW  1ADQ_A                      3\n",
       "205  AAGWLLLFDYW  1ADQ_A                      9"
      ]
     },
     "execution_count": 8,
     "metadata": {},
     "output_type": "execute_result"
    }
   ],
   "source": [
    "df_global = preprocessing.convert_wide_to_global(df_wide)\n",
    "print(df_global.shape)\n",
    "df_global.head()"
   ]
  },
  {
   "cell_type": "code",
   "execution_count": null,
   "metadata": {},
   "outputs": [],
   "source": [
    "num_closed_ags = config.NUM_CLOSED_ANTIGENS_ABSOLUT_DATASET3\n",
    "ags_shuffled = utils.shuffle_antigens(antigens)\n",
    "ags_closed = ags_shuffled[:num_closed_ags]\n",
    "ags_open = ags_shuffled[num_closed_ags:]\n",
    "\n",
    "dfs_tuple = preprocessing.openset_datasplit_from_global_stable(\n",
    "    df_global=df_global,\n",
    "    openset_antigens=ags_open,\n",
    ")\n",
    "\n",
    "dfs = {\n",
    "    \"df_train_val\": dfs_tuple[0],\n",
    "    \"df_test_closed_exclusive\": dfs_tuple[1],\n",
    "    \"df_test_open_exclusive\": dfs_tuple[2],\n",
    "}\n",
    "\n",
    "metadata = {\n",
    "    \"df_train_val__shape\": dfs_tuple[0].shape,\n",
    "    \"df_test_closed_exclusive__shape\": dfs_tuple[1].shape,\n",
    "    \"df_test_open_exclusive__shape\": dfs_tuple[2].shape,\n",
    "}"
   ]
  },
  {
   "cell_type": "markdown",
   "metadata": {},
   "source": [
    "### Adaptor to internal multilabel classification\n",
    "\n",
    "We generate processed dataset from Absolut for multilabel problems.\n",
    "\n",
    "We basically need to generate dataframes for train, test, open, with some requirements:\n",
    "- No `Slide` in open should be in closed (train / test)\n",
    "- No `Slide` in test should be in training\n",
    "- `Slide` should be one-hot encoded and farmhash % 10 column added\n",
    "\n",
    "Developed further in notebook 17."
   ]
  },
  {
   "cell_type": "markdown",
   "metadata": {},
   "source": [
    "## Build ag sets\n",
    "\n",
    "For evaluating open set performance for multiclass classifiers, we construct sets of antigens in a systematic way."
   ]
  },
  {
   "cell_type": "code",
   "execution_count": null,
   "metadata": {},
   "outputs": [],
   "source": [
    "ds3 = datasets.AbsolutDataset3()\n",
    "antigens = ds3.antigens[:]"
   ]
  },
  {
   "cell_type": "code",
   "execution_count": null,
   "metadata": {},
   "outputs": [],
   "source": [
    "ag_set_sizes = [5, 10, 20, 40, 80, 100]\n",
    "ban_list = []\n",
    "ag_sets_chain_1 = utils.generate_ag_set_chain(antigens, ag_set_sizes)\n",
    "ban_list.append(ag_sets_chain_1[0])\n",
    "ag_sets_chain_2 = utils.generate_ag_set_chain(antigens, ag_set_sizes, seed_ban_list=ban_list)\n",
    "ban_list.append(ag_sets_chain_2[0])\n",
    "# ag_sets_chain_1, ag_sets_chain_2"
   ]
  },
  {
   "cell_type": "code",
   "execution_count": null,
   "metadata": {},
   "outputs": [
    {
     "name": "stdout",
     "output_type": "stream",
     "text": [
      "df_train.shape=(351035, 4) | df_test.shape=(39016, 4)\n"
     ]
    }
   ],
   "source": [
    "from NegativeClassOptimization import pipelines\n",
    "\n",
    "\n",
    "dfs = pipelines.MulticlassPipeline.load_processed_dataframes(\n",
    "    dir_path = config.DATA_ABSOLUT_PROCESSED_MULTICLASS_DIR,\n",
    ")\n",
    "\n",
    "df_train = dfs[\"train_val\"]\n",
    "df_test = dfs[\"test_closed_exclusive\"]\n",
    "print(f\"{df_train.shape=} | {df_test.shape=}\")"
   ]
  },
  {
   "cell_type": "code",
   "execution_count": null,
   "metadata": {},
   "outputs": [
    {
     "name": "stdout",
     "output_type": "stream",
     "text": [
      "(df_train[\"Antigen\"].value_counts() > 1000).sum()=57\n"
     ]
    },
    {
     "data": {
      "text/plain": [
       "count       57.000000\n",
       "mean      6158.508772\n",
       "std       5679.702476\n",
       "min       1013.000000\n",
       "25%       2217.000000\n",
       "50%       4223.000000\n",
       "75%       7436.000000\n",
       "max      24145.000000\n",
       "Name: Antigen, dtype: float64"
      ]
     },
     "execution_count": 14,
     "metadata": {},
     "output_type": "execute_result"
    },
    {
     "data": {
      "image/png": "[encoded data removed]",
      "text/plain": [
       "<Figure size 640x480 with 1 Axes>"
      ]
     },
     "metadata": {},
     "output_type": "display_data"
    }
   ],
   "source": [
    "df_train[\"Antigen\"].value_counts().reset_index().plot(ylim=(0, 5000))\n",
    "print(f'{(df_train[\"Antigen\"].value_counts() > 1000).sum()=}')\n",
    "df_train[\"Antigen\"].value_counts().describe()"
   ]
  },
  {
   "cell_type": "code",
   "execution_count": null,
   "metadata": {},
   "outputs": [
    {
     "name": "stdout",
     "output_type": "stream",
     "text": [
      "(df_test[\"Antigen\"].value_counts() > 100).sum()=57\n"
     ]
    },
    {
     "data": {
      "text/plain": [
       "count      57.000000\n",
       "mean      684.491228\n",
       "std       635.793265\n",
       "min       107.000000\n",
       "25%       239.000000\n",
       "50%       487.000000\n",
       "75%       818.000000\n",
       "max      2647.000000\n",
       "Name: Antigen, dtype: float64"
      ]
     },
     "execution_count": 15,
     "metadata": {},
     "output_type": "execute_result"
    },
    {
     "data": {
      "image/png": "[encoded data removed]",
      "text/plain": [
       "<Figure size 640x480 with 1 Axes>"
      ]
     },
     "metadata": {},
     "output_type": "display_data"
    }
   ],
   "source": [
    "df_test[\"Antigen\"].value_counts().reset_index().plot(ylim=(0, 500))\n",
    "print(f'{(df_test[\"Antigen\"].value_counts() > 100).sum()=}')\n",
    "df_test[\"Antigen\"].value_counts().describe()"
   ]
  },
  {
   "cell_type": "markdown",
   "metadata": {},
   "source": [
    "## Binding matrix structure\n",
    "\n",
    "We need to understand the structure of the binding matrix for evaluating impact on the open set setting."
   ]
  },
  {
   "cell_type": "code",
   "execution_count": null,
   "metadata": {},
   "outputs": [
    {
     "data": {
      "text/html": [
       "<div>\n",
       "<style scoped>\n",
       "    .dataframe tbody tr th:only-of-type {\n",
       "        vertical-align: middle;\n",
       "    }\n",
       "\n",
       "    .dataframe tbody tr th {\n",
       "        vertical-align: top;\n",
       "    }\n",
       "\n",
       "    .dataframe thead th {\n",
       "        text-align: right;\n",
       "    }\n",
       "</style>\n",
       "<table border=\"1\" class=\"dataframe\">\n",
       "  <thead>\n",
       "    <tr style=\"text-align: right;\">\n",
       "      <th></th>\n",
       "      <th>1QFW_AB</th>\n",
       "      <th>5HI4_B</th>\n",
       "      <th>2WUC_I</th>\n",
       "      <th>5J13_A</th>\n",
       "      <th>2FD6_AU</th>\n",
       "      <th>3GI9_C</th>\n",
       "      <th>4OKV_E</th>\n",
       "      <th>4U6V_A</th>\n",
       "      <th>4DKE_A</th>\n",
       "      <th>1JPS_T</th>\n",
       "      <th>...</th>\n",
       "      <th>3SQO_A</th>\n",
       "      <th>5JZ7_A</th>\n",
       "      <th>2R56_A</th>\n",
       "      <th>4CAD_C</th>\n",
       "      <th>2UZI_R</th>\n",
       "      <th>5HDQ_A</th>\n",
       "      <th>2VXT_I</th>\n",
       "      <th>3JBQ_B</th>\n",
       "      <th>1NCB_N</th>\n",
       "      <th>1RJL_C</th>\n",
       "    </tr>\n",
       "    <tr>\n",
       "      <th>Slide</th>\n",
       "      <th></th>\n",
       "      <th></th>\n",
       "      <th></th>\n",
       "      <th></th>\n",
       "      <th></th>\n",
       "      <th></th>\n",
       "      <th></th>\n",
       "      <th></th>\n",
       "      <th></th>\n",
       "      <th></th>\n",
       "      <th></th>\n",
       "      <th></th>\n",
       "      <th></th>\n",
       "      <th></th>\n",
       "      <th></th>\n",
       "      <th></th>\n",
       "      <th></th>\n",
       "      <th></th>\n",
       "      <th></th>\n",
       "      <th></th>\n",
       "      <th></th>\n",
       "    </tr>\n",
       "  </thead>\n",
       "  <tbody>\n",
       "    <tr>\n",
       "      <th>LLVLLLLRWVF</th>\n",
       "      <td>1</td>\n",
       "      <td>1</td>\n",
       "      <td>0</td>\n",
       "      <td>0</td>\n",
       "      <td>1</td>\n",
       "      <td>1</td>\n",
       "      <td>1</td>\n",
       "      <td>1</td>\n",
       "      <td>0</td>\n",
       "      <td>1</td>\n",
       "      <td>...</td>\n",
       "      <td>1</td>\n",
       "      <td>0</td>\n",
       "      <td>1</td>\n",
       "      <td>1</td>\n",
       "      <td>0</td>\n",
       "      <td>1</td>\n",
       "      <td>1</td>\n",
       "      <td>1</td>\n",
       "      <td>1</td>\n",
       "      <td>1</td>\n",
       "    </tr>\n",
       "    <tr>\n",
       "      <th>PLLLLLLYWYF</th>\n",
       "      <td>1</td>\n",
       "      <td>1</td>\n",
       "      <td>1</td>\n",
       "      <td>1</td>\n",
       "      <td>1</td>\n",
       "      <td>1</td>\n",
       "      <td>1</td>\n",
       "      <td>1</td>\n",
       "      <td>1</td>\n",
       "      <td>1</td>\n",
       "      <td>...</td>\n",
       "      <td>1</td>\n",
       "      <td>0</td>\n",
       "      <td>1</td>\n",
       "      <td>1</td>\n",
       "      <td>0</td>\n",
       "      <td>1</td>\n",
       "      <td>0</td>\n",
       "      <td>1</td>\n",
       "      <td>1</td>\n",
       "      <td>1</td>\n",
       "    </tr>\n",
       "  </tbody>\n",
       "</table>\n",
       "<p>2 rows × 142 columns</p>\n",
       "</div>"
      ],
      "text/plain": [
       "             1QFW_AB  5HI4_B  2WUC_I  5J13_A  2FD6_AU  3GI9_C  4OKV_E  4U6V_A  \\\n",
       "Slide                                                                           \n",
       "LLVLLLLRWVF        1       1       0       0        1       1       1       1   \n",
       "PLLLLLLYWYF        1       1       1       1        1       1       1       1   \n",
       "\n",
       "             4DKE_A  1JPS_T  ...  3SQO_A  5JZ7_A  2R56_A  4CAD_C  2UZI_R  \\\n",
       "Slide                        ...                                           \n",
       "LLVLLLLRWVF       0       1  ...       1       0       1       1       0   \n",
       "PLLLLLLYWYF       1       1  ...       1       0       1       1       0   \n",
       "\n",
       "             5HDQ_A  2VXT_I  3JBQ_B  1NCB_N  1RJL_C  \n",
       "Slide                                                \n",
       "LLVLLLLRWVF       1       1       1       1       1  \n",
       "PLLLLLLYWYF       1       0       1       1       1  \n",
       "\n",
       "[2 rows x 142 columns]"
      ]
     },
     "execution_count": 16,
     "metadata": {},
     "output_type": "execute_result"
    }
   ],
   "source": [
    "df = ds3.df_wide\n",
    "\n",
    "slide_order = ds3.df.sort_values(by=\"binding_profile\", key=lambda x: x.str.count(\"1\"), ascending=False)[\"Slide\"]\n",
    "df = df.loc[slide_order]\n",
    "df = df.reindex(sorted(df.columns, key=lambda col: -df[col].sum()), axis=1)\n",
    "\n",
    "df.head(2)"
   ]
  },
  {
   "cell_type": "code",
   "execution_count": null,
   "metadata": {},
   "outputs": [],
   "source": [
    "# sns.heatmap(df, cmap=\"Greys\", cbar=False)"
   ]
  },
  {
   "cell_type": "markdown",
   "metadata": {},
   "source": [
    "## NDB1 Asymmetry from Absolut\n",
    "\n",
    "We generate datasets for binary classification for evaluating the impact of switching + and - Ag on closed/open set performance.\n",
    "\n",
    "Setup: 10k vs 10k → evaluate closed and open set performance\n",
    "- 10 random pairs\n",
    "- 5 train/test splits\n",
    "- 5 replicates per split\n",
    "- 2 runs (switch Ag+ with Ag-)\n",
    "- => 500 runs\n",
    "\n",
    "We save the farmhash split such that we can later use it to deterministically split."
   ]
  },
  {
   "cell_type": "code",
   "execution_count": null,
   "metadata": {},
   "outputs": [],
   "source": [
    "ags_closed = ds3.df_wide.columns.to_list()\n",
    "builder = pipelines.NDB1_Assymetry_from_Absolut_Builder(ags_closed, ds3)\n",
    "builder.step_01_select_random_pairs()\n",
    "builder.step_02_convert_to_global_format()"
   ]
  },
  {
   "attachments": {},
   "cell_type": "markdown",
   "metadata": {},
   "source": [
    "## Getting binding profiles\n",
    "\n",
    "I first checked `RawBindingsMurine`, but it yielded strange results.\n",
    "\n",
    "Internally, we define:\n",
    "- high_95low: non-binder CDR3s of the same antigen \n",
    "    - 0-1% vs 5%-100%\n",
    "- high_looser: low affinity CDR3s of the same antigen \n",
    "    - 0-1% vs 1-5%\n",
    "\n",
    "**NOTE:** Now we have functions to compute this. Check BinaryclassBindersPipeline."
   ]
  },
  {
   "cell_type": "code",
   "execution_count": 2,
   "metadata": {},
   "outputs": [
    {
     "name": "stdout",
     "output_type": "stream",
     "text": [
      "(980062, 6)\n"
     ]
    },
    {
     "data": {
      "text/html": [
       "<div>\n",
       "<style scoped>\n",
       "    .dataframe tbody tr th:only-of-type {\n",
       "        vertical-align: middle;\n",
       "    }\n",
       "\n",
       "    .dataframe tbody tr th {\n",
       "        vertical-align: top;\n",
       "    }\n",
       "\n",
       "    .dataframe thead th {\n",
       "        text-align: right;\n",
       "    }\n",
       "</style>\n",
       "<table border=\"1\" class=\"dataframe\">\n",
       "  <thead>\n",
       "    <tr style=\"text-align: right;\">\n",
       "      <th></th>\n",
       "      <th>ID_slide_Variant</th>\n",
       "      <th>CDR3</th>\n",
       "      <th>Best?</th>\n",
       "      <th>Slide</th>\n",
       "      <th>Energy</th>\n",
       "      <th>Structure</th>\n",
       "    </tr>\n",
       "  </thead>\n",
       "  <tbody>\n",
       "    <tr>\n",
       "      <th>0</th>\n",
       "      <td>1_00a</td>\n",
       "      <td>CAGPSTTVPYYFDYW</td>\n",
       "      <td>False</td>\n",
       "      <td>CAGPSTTVPYY</td>\n",
       "      <td>-70.09</td>\n",
       "      <td>132966-BDUDDRDURR</td>\n",
       "    </tr>\n",
       "    <tr>\n",
       "      <th>1</th>\n",
       "      <td>1_01a</td>\n",
       "      <td>CAGPSTTVPYYFDYW</td>\n",
       "      <td>False</td>\n",
       "      <td>AGPSTTVPYYF</td>\n",
       "      <td>-77.71</td>\n",
       "      <td>132966-BDUDDRDURR</td>\n",
       "    </tr>\n",
       "    <tr>\n",
       "      <th>2</th>\n",
       "      <td>1_02a</td>\n",
       "      <td>CAGPSTTVPYYFDYW</td>\n",
       "      <td>False</td>\n",
       "      <td>GPSTTVPYYFD</td>\n",
       "      <td>-74.03</td>\n",
       "      <td>132965-DDUULULDDS</td>\n",
       "    </tr>\n",
       "    <tr>\n",
       "      <th>3</th>\n",
       "      <td>1_03a</td>\n",
       "      <td>CAGPSTTVPYYFDYW</td>\n",
       "      <td>True</td>\n",
       "      <td>PSTTVPYYFDY</td>\n",
       "      <td>-78.32</td>\n",
       "      <td>132966-BDSRRLUUSL</td>\n",
       "    </tr>\n",
       "    <tr>\n",
       "      <th>4</th>\n",
       "      <td>1_04a</td>\n",
       "      <td>CAGPSTTVPYYFDYW</td>\n",
       "      <td>False</td>\n",
       "      <td>STTVPYYFDYW</td>\n",
       "      <td>-73.95</td>\n",
       "      <td>132966-BDUDDRDURR</td>\n",
       "    </tr>\n",
       "  </tbody>\n",
       "</table>\n",
       "</div>"
      ],
      "text/plain": [
       "  ID_slide_Variant             CDR3  Best?        Slide  Energy  \\\n",
       "0            1_00a  CAGPSTTVPYYFDYW  False  CAGPSTTVPYY  -70.09   \n",
       "1            1_01a  CAGPSTTVPYYFDYW  False  AGPSTTVPYYF  -77.71   \n",
       "2            1_02a  CAGPSTTVPYYFDYW  False  GPSTTVPYYFD  -74.03   \n",
       "3            1_03a  CAGPSTTVPYYFDYW   True  PSTTVPYYFDY  -78.32   \n",
       "4            1_04a  CAGPSTTVPYYFDYW  False  STTVPYYFDYW  -73.95   \n",
       "\n",
       "           Structure  \n",
       "0  132966-BDUDDRDURR  \n",
       "1  132966-BDUDDRDURR  \n",
       "2  132965-DDUULULDDS  \n",
       "3  132966-BDSRRLUUSL  \n",
       "4  132966-BDUDDRDURR  "
      ]
     },
     "execution_count": 2,
     "metadata": {},
     "output_type": "execute_result"
    }
   ],
   "source": [
    "# ag_path = Path(\"../data/Absolut/data/RawBindingsMurine/unzipped/1ADQ_A/1ADQ_A\")\n",
    "\n",
    "df = pd.read_csv(\n",
    "    Path(\"../data/Absolut/data/RawBindingsMurine/unzipped/1ADQ_A/1ADQ_A/1ADQ_AFinalBindings_Process_1_Of_32.txt\"),\n",
    "    header=1,\n",
    "    sep=\"\\t\",\n",
    ")\n",
    "print(df.shape)\n",
    "df.head()"
   ]
  },
  {
   "cell_type": "code",
   "execution_count": 3,
   "metadata": {},
   "outputs": [
    {
     "data": {
      "text/plain": [
       "<AxesSubplot: xlabel='Energy', ylabel='Count'>"
      ]
     },
     "execution_count": 3,
     "metadata": {},
     "output_type": "execute_result"
    },
    {
     "data": {
      "image/png": "[encoded data removed]",
      "text/plain": [
       "<Figure size 640x480 with 1 Axes>"
      ]
     },
     "metadata": {},
     "output_type": "display_data"
    }
   ],
   "source": [
    "sns.histplot(\n",
    "    df.groupby([\"Slide\"])[\"Energy\"].agg(\"min\")\n",
    ")"
   ]
  },
  {
   "cell_type": "code",
   "execution_count": 7,
   "metadata": {},
   "outputs": [],
   "source": [
    "ag = \"1ADQ\"\n",
    "df = utils.load_raw_bindings_murine(ag)\n",
    "df.shape"
   ]
  },
  {
   "cell_type": "code",
   "execution_count": 29,
   "metadata": {},
   "outputs": [
    {
     "data": {
      "text/plain": [
       "<AxesSubplot: xlabel='Energy', ylabel='Count'>"
      ]
     },
     "execution_count": 29,
     "metadata": {},
     "output_type": "execute_result"
    },
    {
     "data": {
      "image/png": "[encoded data removed]",
      "text/plain": [
       "<Figure size 640x480 with 1 Axes>"
      ]
     },
     "metadata": {},
     "output_type": "display_data"
    }
   ],
   "source": [
    "sns.histplot(\n",
    "    df[\"Energy\"]\n",
    ")"
   ]
  },
  {
   "attachments": {},
   "cell_type": "markdown",
   "metadata": {},
   "source": [
    "Check `RawBindingsPerClassMurine/`: filtered w/ affinity\n",
    "- `XXXX_XAnalyses/`: filtered sequences to antigen XXXX_X\n",
    "    - CDRH3-based top sequences\n",
    "    - **11-mer based top sequences**: th defined using CDRH3, but contains multiple 11-mers from the same CDRH3 if they satisfy the threshold\n",
    "\n",
    "    *** CDRH3 and 11-mer(slice) -based ***\n",
    "    \n",
    "    1ADQ_A_500kNonMascotte.txt\t=> 500k sequences randomly sampled from non-binders (top 99% energies)\n",
    "\n",
    "    *** CDRH3-based top sequences (only keeps the best 11-mer from each CDRH3 to describe its binding) ***\n",
    "    \n",
    "    1ADQ_A_superHeroes,txt\t\t=> bottom 0.01% energies\n",
    "    \n",
    "    1ADQ_A_Heroes.txt\t\t\t=> bottom 0.1% energies\n",
    "    \n",
    "    1ADQ_A_Mascotte.txt\t\t\t=> bottom 1% energies (= top 1% high affinity)\n",
    "    \n",
    "    1ADQ_A_Looser.txt\t\t\t=> bottom 5% energies\n",
    "    \n",
    "    The files with \"Exclusive\" mean excluding the higher affinity class\n",
    "    example: 1ADQ_A_MascotteExclusive.txt = bottom 0.1% to 1% (excludes heroes and super heroes)\n",
    "\n",
    "    *** 11-mer based top sequences (threshold defined from the bottom CDRH3 sequences, but keep multiple \n",
    "    low energies 11-mers from the same CDRH3 if they satisfy the threshold (not only the best per CDRH3) - \n",
    "    see biorxiv paper above *** \n",
    "    \n",
    "    Files havs identical names but including \"Slices\", example:\n",
    "    1ADQ_A_MascotteSlices,txt\n",
    "\n",
    "Important for us:\n",
    "1. 0 - 1%: 1ADQ_A_MascotteSlices.text.zip\n",
    "2. 1 - 5%: 1ADQ_A_LooserExclusiveSlices.txt.zip\n",
    "3. 1 - 100%: 1ADQ_A_500kNonMascotteSlices.txt.zip\n",
    "4. 5 - 100%: Set_3 \\ Set_2\n",
    "\n",
    "- Prefer slides for which we have paratopes."
   ]
  },
  {
   "cell_type": "code",
   "execution_count": 2,
   "metadata": {},
   "outputs": [
    {
     "name": "stdout",
     "output_type": "stream",
     "text": [
      "Mascotte\n",
      "(79605, 6)\n",
      "LooserX\n",
      "(350113, 6)\n",
      "NonMascotte\n",
      "(500000, 6)\n"
     ]
    },
    {
     "data": {
      "text/plain": [
       "<matplotlib.legend.Legend at 0x7f804f59ec10>"
      ]
     },
     "execution_count": 2,
     "metadata": {},
     "output_type": "execute_result"
    },
    {
     "data": {
      "image/png": "[encoded data removed]",
      "text/plain": [
       "<Figure size 640x480 with 1 Axes>"
      ]
     },
     "metadata": {},
     "output_type": "display_data"
    }
   ],
   "source": [
    "ag = \"1ADQ_A\"\n",
    "base = Path(f\"../data/Absolut/data/RawBindingsPerClassMurine/{ag}Analyses\")\n",
    "\n",
    "\n",
    "df_mascotte = pd.read_csv(\n",
    "    base / f\"{ag}_MascotteSlices.txt.zip\",\n",
    "    compression=\"zip\",\n",
    "    sep=\"\\t\",\n",
    "    header=1,\n",
    ")\n",
    "print(\"Mascotte\")\n",
    "print(df_mascotte.shape)\n",
    "df_mascotte.head()\n",
    "sns.histplot(df_mascotte[\"Energy\"], label=\"Mascotte\")\n",
    "\n",
    "df_looserx = pd.read_csv(\n",
    "    base / f\"{ag}_LooserExclusiveSlices.txt.zip\",\n",
    "    compression=\"zip\",\n",
    "    sep=\"\\t\",\n",
    "    header=1,\n",
    ")\n",
    "print(\"LooserX\")\n",
    "print(df_looserx.shape)\n",
    "df_looserx.head()\n",
    "sns.histplot(df_looserx[\"Energy\"], label=\"LooserX\")\n",
    "\n",
    "df_nonmascotte = pd.read_csv(\n",
    "    base / f\"{ag}_500kNonMascotte.txt.zip\",\n",
    "    compression=\"zip\",\n",
    "    sep=\"\\t\",\n",
    "    header=1,\n",
    ")\n",
    "print(\"NonMascotte\")\n",
    "print(df_nonmascotte.shape)\n",
    "df_nonmascotte.head()\n",
    "sns.histplot(df_nonmascotte[\"Energy\"], label=\"NonMascotte\")\n",
    "plt.legend()"
   ]
  },
  {
   "cell_type": "code",
   "execution_count": 3,
   "metadata": {},
   "outputs": [
    {
     "data": {
      "text/html": [
       "<div>\n",
       "<style scoped>\n",
       "    .dataframe tbody tr th:only-of-type {\n",
       "        vertical-align: middle;\n",
       "    }\n",
       "\n",
       "    .dataframe tbody tr th {\n",
       "        vertical-align: top;\n",
       "    }\n",
       "\n",
       "    .dataframe thead th {\n",
       "        text-align: right;\n",
       "    }\n",
       "</style>\n",
       "<table border=\"1\" class=\"dataframe\">\n",
       "  <thead>\n",
       "    <tr style=\"text-align: right;\">\n",
       "      <th></th>\n",
       "      <th>ID_slide_Variant</th>\n",
       "      <th>CDR3</th>\n",
       "      <th>Best</th>\n",
       "      <th>Slide</th>\n",
       "      <th>Energy</th>\n",
       "      <th>Structure</th>\n",
       "    </tr>\n",
       "  </thead>\n",
       "  <tbody>\n",
       "    <tr>\n",
       "      <th>0</th>\n",
       "      <td>2904877_04a</td>\n",
       "      <td>CARSEYSNDYAMDYW</td>\n",
       "      <td>True</td>\n",
       "      <td>EYSNDYAMDYW</td>\n",
       "      <td>-81.06</td>\n",
       "      <td>137248-RRDLDUDRDR</td>\n",
       "    </tr>\n",
       "    <tr>\n",
       "      <th>1</th>\n",
       "      <td>4035311_05a</td>\n",
       "      <td>CARGGAAQALYYFDYW</td>\n",
       "      <td>True</td>\n",
       "      <td>AAQALYYFDYW</td>\n",
       "      <td>-83.72</td>\n",
       "      <td>124837-RRURSUUSLD</td>\n",
       "    </tr>\n",
       "    <tr>\n",
       "      <th>2</th>\n",
       "      <td>6950651_06a</td>\n",
       "      <td>CARDKAYYSNPNYYAMDYW</td>\n",
       "      <td>True</td>\n",
       "      <td>YYSNPNYYAMD</td>\n",
       "      <td>-76.17</td>\n",
       "      <td>137190-LDSDSLLRRS</td>\n",
       "    </tr>\n",
       "    <tr>\n",
       "      <th>3</th>\n",
       "      <td>7022391_07a</td>\n",
       "      <td>CTRWSITTVVEDWYFDVW</td>\n",
       "      <td>True</td>\n",
       "      <td>TVVEDWYFDVW</td>\n",
       "      <td>-81.78</td>\n",
       "      <td>132966-BDSUURSUUR</td>\n",
       "    </tr>\n",
       "    <tr>\n",
       "      <th>4</th>\n",
       "      <td>5985042_05a</td>\n",
       "      <td>CARWGYEGGSGAMDYW</td>\n",
       "      <td>True</td>\n",
       "      <td>YEGGSGAMDYW</td>\n",
       "      <td>-74.76</td>\n",
       "      <td>141157-BDDUSURRLL</td>\n",
       "    </tr>\n",
       "  </tbody>\n",
       "</table>\n",
       "</div>"
      ],
      "text/plain": [
       "  ID_slide_Variant                 CDR3  Best        Slide  Energy  \\\n",
       "0      2904877_04a      CARSEYSNDYAMDYW  True  EYSNDYAMDYW  -81.06   \n",
       "1      4035311_05a     CARGGAAQALYYFDYW  True  AAQALYYFDYW  -83.72   \n",
       "2      6950651_06a  CARDKAYYSNPNYYAMDYW  True  YYSNPNYYAMD  -76.17   \n",
       "3      7022391_07a   CTRWSITTVVEDWYFDVW  True  TVVEDWYFDVW  -81.78   \n",
       "4      5985042_05a     CARWGYEGGSGAMDYW  True  YEGGSGAMDYW  -74.76   \n",
       "\n",
       "           Structure  \n",
       "0  137248-RRDLDUDRDR  \n",
       "1  124837-RRURSUUSLD  \n",
       "2  137190-LDSDSLLRRS  \n",
       "3  132966-BDSUURSUUR  \n",
       "4  141157-BDDUSURRLL  "
      ]
     },
     "execution_count": 3,
     "metadata": {},
     "output_type": "execute_result"
    }
   ],
   "source": [
    "df_nonmascotte.head()"
   ]
  },
  {
   "attachments": {},
   "cell_type": "markdown",
   "metadata": {},
   "source": [
    "### Availability of paratopes for binders\n",
    "\n",
    "For 1ADQ, we can't get 50k mascotte binders. Will check below the available number of slides per binding type per antigen, in order to adjust later dataset sizes."
   ]
  },
  {
   "cell_type": "code",
   "execution_count": 3,
   "metadata": {},
   "outputs": [
    {
     "name": "stdout",
     "output_type": "stream",
     "text": [
      "(95000, 8)\n"
     ]
    },
    {
     "data": {
      "text/html": [
       "<div>\n",
       "<style scoped>\n",
       "    .dataframe tbody tr th:only-of-type {\n",
       "        vertical-align: middle;\n",
       "    }\n",
       "\n",
       "    .dataframe tbody tr th {\n",
       "        vertical-align: top;\n",
       "    }\n",
       "\n",
       "    .dataframe thead th {\n",
       "        text-align: right;\n",
       "    }\n",
       "</style>\n",
       "<table border=\"1\" class=\"dataframe\">\n",
       "  <thead>\n",
       "    <tr style=\"text-align: right;\">\n",
       "      <th></th>\n",
       "      <th>ID_slide_Variant</th>\n",
       "      <th>CDR3</th>\n",
       "      <th>Best</th>\n",
       "      <th>Slide</th>\n",
       "      <th>Energy</th>\n",
       "      <th>Structure</th>\n",
       "      <th>Source</th>\n",
       "      <th>Antigen</th>\n",
       "    </tr>\n",
       "  </thead>\n",
       "  <tbody>\n",
       "    <tr>\n",
       "      <th>0</th>\n",
       "      <td>2132253_00a</td>\n",
       "      <td>CAYLLWYFDVW</td>\n",
       "      <td>True</td>\n",
       "      <td>CAYLLWYFDVW</td>\n",
       "      <td>-95.22</td>\n",
       "      <td>124837-RRURSUUSLD</td>\n",
       "      <td>mascotte</td>\n",
       "      <td>1ADQ_high</td>\n",
       "    </tr>\n",
       "    <tr>\n",
       "      <th>1</th>\n",
       "      <td>5783308_03a</td>\n",
       "      <td>CARSLDPALYFDVW</td>\n",
       "      <td>True</td>\n",
       "      <td>SLDPALYFDVW</td>\n",
       "      <td>-95.69</td>\n",
       "      <td>137248-RRDLDUDRDR</td>\n",
       "      <td>mascotte</td>\n",
       "      <td>1ADQ_high</td>\n",
       "    </tr>\n",
       "    <tr>\n",
       "      <th>2</th>\n",
       "      <td>2926451_02a</td>\n",
       "      <td>CTRWEIWLRRSYWYFDVW</td>\n",
       "      <td>True</td>\n",
       "      <td>RWEIWLRRSYW</td>\n",
       "      <td>-95.73</td>\n",
       "      <td>132960-SDLDLRULUR</td>\n",
       "      <td>mascotte</td>\n",
       "      <td>1ADQ_high</td>\n",
       "    </tr>\n",
       "    <tr>\n",
       "      <th>3</th>\n",
       "      <td>4639466_02a</td>\n",
       "      <td>CAKLTTRRGLYAMDYW</td>\n",
       "      <td>True</td>\n",
       "      <td>KLTTRRGLYAM</td>\n",
       "      <td>-89.62</td>\n",
       "      <td>137191-BRDSDLSRRU</td>\n",
       "      <td>nonmascotte</td>\n",
       "      <td>1ADQ_95low</td>\n",
       "    </tr>\n",
       "    <tr>\n",
       "      <th>4</th>\n",
       "      <td>2028423_02a</td>\n",
       "      <td>CARWVPFITTVVAGRYFDYW</td>\n",
       "      <td>True</td>\n",
       "      <td>RWVPFITTVVA</td>\n",
       "      <td>-87.59</td>\n",
       "      <td>124773-LUDLLSLUSU</td>\n",
       "      <td>nonmascotte</td>\n",
       "      <td>1ADQ_95low</td>\n",
       "    </tr>\n",
       "  </tbody>\n",
       "</table>\n",
       "</div>"
      ],
      "text/plain": [
       "  ID_slide_Variant                  CDR3  Best        Slide  Energy  \\\n",
       "0      2132253_00a           CAYLLWYFDVW  True  CAYLLWYFDVW  -95.22   \n",
       "1      5783308_03a        CARSLDPALYFDVW  True  SLDPALYFDVW  -95.69   \n",
       "2      2926451_02a    CTRWEIWLRRSYWYFDVW  True  RWEIWLRRSYW  -95.73   \n",
       "3      4639466_02a      CAKLTTRRGLYAMDYW  True  KLTTRRGLYAM  -89.62   \n",
       "4      2028423_02a  CARWVPFITTVVAGRYFDYW  True  RWVPFITTVVA  -87.59   \n",
       "\n",
       "           Structure       Source     Antigen  \n",
       "0  124837-RRURSUUSLD     mascotte   1ADQ_high  \n",
       "1  137248-RRDLDUDRDR     mascotte   1ADQ_high  \n",
       "2  132960-SDLDLRULUR     mascotte   1ADQ_high  \n",
       "3  137191-BRDSDLSRRU  nonmascotte  1ADQ_95low  \n",
       "4  124773-LUDLLSLUSU  nonmascotte  1ADQ_95low  "
      ]
     },
     "execution_count": 3,
     "metadata": {},
     "output_type": "execute_result"
    }
   ],
   "source": [
    "df = utils.build_binding_dataset_per_ag(\"1ADQ\", \"high_95low\", num_slides=90000)\n",
    "print(df.shape)\n",
    "df.head()"
   ]
  },
  {
   "attachments": {},
   "cell_type": "markdown",
   "metadata": {},
   "source": [
    "Quality control of binding energies."
   ]
  },
  {
   "cell_type": "code",
   "execution_count": 4,
   "metadata": {},
   "outputs": [
    {
     "data": {
      "text/plain": [
       "<AxesSubplot: xlabel='Energy', ylabel='Count'>"
      ]
     },
     "execution_count": 4,
     "metadata": {},
     "output_type": "execute_result"
    },
    {
     "data": {
      "image/png": "[encoded data removed]",
      "text/plain": [
       "<Figure size 640x480 with 1 Axes>"
      ]
     },
     "metadata": {},
     "output_type": "display_data"
    }
   ],
   "source": [
    "sns.histplot(\n",
    "    data=df,\n",
    "    x=\"Energy\",\n",
    "    hue=\"Antigen\",\n",
    ")"
   ]
  },
  {
   "attachments": {},
   "cell_type": "markdown",
   "metadata": {},
   "source": [
    "For 95low slides, we don't have the paratopes in the dataset. Probably for loosers too."
   ]
  },
  {
   "cell_type": "code",
   "execution_count": 8,
   "metadata": {},
   "outputs": [
    {
     "name": "stdout",
     "output_type": "stream",
     "text": [
      "(48807, 6)\n",
      "45000\n"
     ]
    }
   ],
   "source": [
    "df_paratope = utils.load_paratopes()\n",
    "df_para_1adq = df_paratope.loc[df_paratope[\"Antigen\"] == \"1ADQ\"].copy()\n",
    "print(df_para_1adq.shape)\n",
    "print(df_para_1adq[\"Slide\"].isin(df[\"Slide\"]).sum())"
   ]
  },
  {
   "cell_type": "code",
   "execution_count": 9,
   "metadata": {},
   "outputs": [
    {
     "name": "stdout",
     "output_type": "stream",
     "text": [
      "45000\n",
      "0\n"
     ]
    }
   ],
   "source": [
    "print(df.loc[df[\"Antigen\"] == \"1ADQ_high\"][\"Slide\"].isin(df_para_1adq[\"Slide\"]).sum())\n",
    "print(df.loc[df[\"Antigen\"] == \"1ADQ_95low\"][\"Slide\"].isin(df_para_1adq[\"Slide\"]).sum())"
   ]
  },
  {
   "attachments": {},
   "cell_type": "markdown",
   "metadata": {},
   "source": [
    "We can get 80k slides for all antigens in mini absolut."
   ]
  },
  {
   "cell_type": "code",
   "execution_count": 13,
   "metadata": {},
   "outputs": [
    {
     "name": "stdout",
     "output_type": "stream",
     "text": [
      "3VRL\n",
      "(80000, 8)\n",
      "1NSN\n",
      "(80000, 8)\n",
      "3RAJ\n",
      "(80000, 8)\n",
      "5E94\n",
      "(80000, 8)\n",
      "1H0D\n",
      "(80000, 8)\n",
      "1WEJ\n",
      "(80000, 8)\n",
      "1ADQ\n",
      "(80000, 8)\n",
      "1FBI\n",
      "(80000, 8)\n",
      "2YPV\n",
      "(80000, 8)\n",
      "1OB1\n",
      "(80000, 8)\n"
     ]
    }
   ],
   "source": [
    "for ag in config.ANTIGENS:\n",
    "    print(ag)\n",
    "    df = utils.build_binding_dataset_per_ag(ag, \"high_looser\", num_slides=80000)\n",
    "    print(df.shape)"
   ]
  },
  {
   "attachments": {},
   "cell_type": "markdown",
   "metadata": {},
   "source": [
    "## Absolut data without duplicated slides across antigens"
   ]
  },
  {
   "cell_type": "code",
   "execution_count": 6,
   "metadata": {},
   "outputs": [
    {
     "name": "stdout",
     "output_type": "stream",
     "text": [
      "3VRL\n",
      "Size in MB: 55.80\n",
      "1NSN\n",
      "Size in MB: 57.29\n",
      "3RAJ\n",
      "Size in MB: 59.73\n",
      "5E94\n",
      "Size in MB: 61.04\n",
      "1H0D\n",
      "Size in MB: 54.92\n",
      "1WEJ\n",
      "Size in MB: 57.28\n",
      "1ADQ\n",
      "Size in MB: 57.63\n",
      "1FBI\n",
      "Size in MB: 54.55\n",
      "2YPV\n",
      "Size in MB: 54.88\n",
      "1OB1\n",
      "Size in MB: 57.58\n"
     ]
    }
   ],
   "source": [
    "ags = config.ANTIGENS\n",
    "\n",
    "dfs = []\n",
    "for ag in ags:\n",
    "    print(ag)\n",
    "    df = utils.load_binding_per_ag(ag)\n",
    "    df[\"Antigen\"] = ag\n",
    "    print (f\"Size in MB: {df.memory_usage().sum() / 1024 / 1024:.2f}\")\n",
    "    dfs.append(df)"
   ]
  },
  {
   "cell_type": "code",
   "execution_count": 19,
   "metadata": {},
   "outputs": [
    {
     "name": "stdout",
     "output_type": "stream",
     "text": [
      "Size in MB: 570.71\n",
      "(779363, 8)\n",
      "(268741, 8)\n"
     ]
    },
    {
     "data": {
      "text/plain": [
       "Antigen\n",
       "1FBI    20392\n",
       "5E94    22018\n",
       "3RAJ    22199\n",
       "1ADQ    23628\n",
       "1WEJ    23697\n",
       "3VRL    29458\n",
       "1NSN    30519\n",
       "2YPV    31308\n",
       "1OB1    31468\n",
       "1H0D    34054\n",
       "dtype: int64"
      ]
     },
     "execution_count": 19,
     "metadata": {},
     "output_type": "execute_result"
    }
   ],
   "source": [
    "df = pd.concat(dfs)\n",
    "print(f\"Size in MB: {df.memory_usage().sum() / 1024 / 1024:.2f}\")\n",
    "\n",
    "# Get mascotte\n",
    "df_m = df.loc[df[\"Source\"] == \"mascotte\"].copy()\n",
    "print(df_m.shape)\n",
    "\n",
    "# Get mascotte no duplicates\n",
    "df_m_nodup = df_m.loc[~df_m[\"Slide\"].duplicated(keep=False)].copy()\n",
    "print(df_m_nodup.shape)\n",
    "\n",
    "df_m_nodup.groupby(\"Antigen\").size().sort_values()"
   ]
  },
  {
   "cell_type": "code",
   "execution_count": 26,
   "metadata": {},
   "outputs": [
    {
     "name": "stdout",
     "output_type": "stream",
     "text": [
      "(15000, 8)\n",
      "(5000, 8)\n",
      "(3628, 8)\n"
     ]
    }
   ],
   "source": [
    "df_ = df_m_nodup.loc[df_m_nodup[\"Antigen\"] == \"1ADQ\"].copy()\n",
    "df_ = df_.loc[df_[\"Source\"] == \"mascotte\"].copy()\n",
    "df_ = df_.sort_values(\"Slide\").reset_index(drop=True)\n",
    "\n",
    "df_train = df_.sample(n=15_000, random_state=config.SEED)\n",
    "df_test = df_.loc[~df_.index.isin(df_train.index)].sample(n=5000, random_state=config.SEED)\n",
    "df_rest = df_.loc[~df_.index.isin(df_train.index) & ~df_.index.isin(df_test.index)].copy()\n",
    "\n",
    "print(df_train.shape)\n",
    "print(df_test.shape)\n",
    "print(df_rest.shape)"
   ]
  },
  {
   "attachments": {},
   "cell_type": "markdown",
   "metadata": {},
   "source": [
    "## Distributions of binding energies per antigen"
   ]
  },
  {
   "cell_type": "code",
   "execution_count": 28,
   "metadata": {},
   "outputs": [
    {
     "data": {
      "text/plain": [
       "<AxesSubplot: xlabel='Energy', ylabel='Count'>"
      ]
     },
     "execution_count": 28,
     "metadata": {},
     "output_type": "execute_result"
    },
    {
     "data": {
      "image/png": "[encoded data removed]",
      "text/plain": [
       "<Figure size 640x480 with 1 Axes>"
      ]
     },
     "metadata": {},
     "output_type": "display_data"
    }
   ],
   "source": [
    "sns.histplot(data=df_m_nodup, x=\"Energy\", hue=\"Antigen\")"
   ]
  },
  {
   "cell_type": "code",
   "execution_count": 29,
   "metadata": {},
   "outputs": [
    {
     "data": {
      "text/plain": [
       "Antigen\n",
       "3RAJ   -100.30\n",
       "3VRL    -96.46\n",
       "5E94    -96.31\n",
       "2YPV    -95.18\n",
       "1ADQ    -94.19\n",
       "1OB1    -92.52\n",
       "1FBI    -89.99\n",
       "1NSN    -89.99\n",
       "1H0D    -82.04\n",
       "1WEJ    -73.24\n",
       "Name: Energy, dtype: float64"
      ]
     },
     "execution_count": 29,
     "metadata": {},
     "output_type": "execute_result"
    }
   ],
   "source": [
    "df_m_nodup.groupby(\"Antigen\")[\"Energy\"].max().sort_values()"
   ]
  },
  {
   "cell_type": "code",
   "execution_count": null,
   "metadata": {},
   "outputs": [],
   "source": []
  }
 ],
 "metadata": {
  "kernelspec": {
   "display_name": "Python 3.8.13 ('nco')",
   "language": "python",
   "name": "python3"
  },
  "language_info": {
   "codemirror_mode": {
    "name": "ipython",
    "version": 3
   },
   "file_extension": ".py",
   "mimetype": "text/x-python",
   "name": "python",
   "nbconvert_exporter": "python",
   "pygments_lexer": "ipython3",
   "version": "3.8.16"
  },
  "orig_nbformat": 4,
  "vscode": {
   "interpreter": {
    "hash": "3ec5334dbdc4a6f7f47854c251e8d2556e95e85daa09db51a6f2bda295b96836"
   }
  }
 },
 "nbformat": 4,
 "nbformat_minor": 2
}
