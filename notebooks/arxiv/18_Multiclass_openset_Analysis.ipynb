{
 "cells": [
  {
   "cell_type": "markdown",
   "metadata": {},
   "source": [
    "# Openset analysis with baseline in multiclass setting"
   ]
  },
  {
   "cell_type": "code",
   "execution_count": 37,
   "metadata": {},
   "outputs": [],
   "source": [
    "from pathlib import Path\n",
    "import numpy as np\n",
    "import pandas as pd\n",
    "import matplotlib\n",
    "import matplotlib.pyplot as plt\n",
    "import seaborn as sns\n",
    "\n",
    "from NegativeClassOptimization import config, datasets, ml, pipelines, preprocessing, utils, visualisations"
   ]
  },
  {
   "cell_type": "code",
   "execution_count": 31,
   "metadata": {},
   "outputs": [],
   "source": [
    "api = utils.MlflowAPI()\n",
    "\n",
    "api.mlflow_request(\"7\", \"dev-0.1.2-2\")\n",
    "df_mc = api.build_mlflow_results_df()\n",
    "\n",
    "api.mlflow_request(\"9\", \"dev-0.1.2-1\")\n",
    "df_ml = api.build_mlflow_results_df()"
   ]
  },
  {
   "cell_type": "code",
   "execution_count": 32,
   "metadata": {},
   "outputs": [
    {
     "name": "stdout",
     "output_type": "stream",
     "text": [
      "(435, 53)\n"
     ]
    },
    {
     "data": {
      "text/html": [
       "<div>\n",
       "<style scoped>\n",
       "    .dataframe tbody tr th:only-of-type {\n",
       "        vertical-align: middle;\n",
       "    }\n",
       "\n",
       "    .dataframe tbody tr th {\n",
       "        vertical-align: top;\n",
       "    }\n",
       "\n",
       "    .dataframe thead th {\n",
       "        text-align: right;\n",
       "    }\n",
       "</style>\n",
       "<table border=\"1\" class=\"dataframe\">\n",
       "  <thead>\n",
       "    <tr style=\"text-align: right;\">\n",
       "      <th></th>\n",
       "      <th>model</th>\n",
       "      <th>test</th>\n",
       "      <th>optimizer_type</th>\n",
       "      <th>sample_per_ag_train</th>\n",
       "      <th>sample_data_source</th>\n",
       "      <th>batch_size</th>\n",
       "      <th>epochs</th>\n",
       "      <th>N_open</th>\n",
       "      <th>N_closed</th>\n",
       "      <th>k</th>\n",
       "      <th>...</th>\n",
       "      <th>test_loss</th>\n",
       "      <th>precision_weighted_closed</th>\n",
       "      <th>precision_macro_closed</th>\n",
       "      <th>mlflow.source.git.commit</th>\n",
       "      <th>mlflow.note.content</th>\n",
       "      <th>mlflow.source.type</th>\n",
       "      <th>mlflow.runName</th>\n",
       "      <th>mlflow.source.name</th>\n",
       "      <th>mlflow.log-model.history</th>\n",
       "      <th>mlflow.user</th>\n",
       "    </tr>\n",
       "  </thead>\n",
       "  <tbody>\n",
       "    <tr>\n",
       "      <th>0</th>\n",
       "      <td>SN10_MULTICLASS</td>\n",
       "      <td>False</td>\n",
       "      <td>Adam</td>\n",
       "      <td>1000</td>\n",
       "      <td>None</td>\n",
       "      <td>64</td>\n",
       "      <td>50</td>\n",
       "      <td>152408</td>\n",
       "      <td>7933</td>\n",
       "      <td>12</td>\n",
       "      <td>...</td>\n",
       "      <td>0.702957</td>\n",
       "      <td>0.822879</td>\n",
       "      <td>0.705299</td>\n",
       "      <td>425609bac5dac551019f486c385ccf00f759937d</td>\n",
       "      <td>1QFW_AB__2R56_A__2YPV_A__3HI6_A__3Q3G_E__4AEI_...</td>\n",
       "      <td>LOCAL</td>\n",
       "      <td>dev-0.1.2-2</td>\n",
       "      <td>scripts/script_08b_Multiclass_Absolut.py</td>\n",
       "      <td>[{\"run_id\": \"c280f43ba6ab42c7acb9698e48a85fd0\"...</td>\n",
       "      <td>eugen</td>\n",
       "    </tr>\n",
       "    <tr>\n",
       "      <th>1</th>\n",
       "      <td>SN10_MULTICLASS</td>\n",
       "      <td>False</td>\n",
       "      <td>Adam</td>\n",
       "      <td>1000</td>\n",
       "      <td>None</td>\n",
       "      <td>64</td>\n",
       "      <td>50</td>\n",
       "      <td>152408</td>\n",
       "      <td>7883</td>\n",
       "      <td>12</td>\n",
       "      <td>...</td>\n",
       "      <td>0.635804</td>\n",
       "      <td>0.834425</td>\n",
       "      <td>0.707799</td>\n",
       "      <td>425609bac5dac551019f486c385ccf00f759937d</td>\n",
       "      <td>1NSN_S__1QFW_AB__2R29_A__2YPV_A__3CVH_ABC__3HI...</td>\n",
       "      <td>LOCAL</td>\n",
       "      <td>dev-0.1.2-2</td>\n",
       "      <td>scripts/script_08b_Multiclass_Absolut.py</td>\n",
       "      <td>[{\"run_id\": \"c559896718c54965b8d36f131619e512\"...</td>\n",
       "      <td>eugen</td>\n",
       "    </tr>\n",
       "  </tbody>\n",
       "</table>\n",
       "<p>2 rows × 53 columns</p>\n",
       "</div>"
      ],
      "text/plain": [
       "             model   test optimizer_type sample_per_ag_train  \\\n",
       "0  SN10_MULTICLASS  False           Adam                1000   \n",
       "1  SN10_MULTICLASS  False           Adam                1000   \n",
       "\n",
       "  sample_data_source batch_size epochs  N_open N_closed   k  ... test_loss  \\\n",
       "0               None         64     50  152408     7933  12  ...  0.702957   \n",
       "1               None         64     50  152408     7883  12  ...  0.635804   \n",
       "\n",
       "  precision_weighted_closed precision_macro_closed  \\\n",
       "0                  0.822879               0.705299   \n",
       "1                  0.834425               0.707799   \n",
       "\n",
       "                   mlflow.source.git.commit  \\\n",
       "0  425609bac5dac551019f486c385ccf00f759937d   \n",
       "1  425609bac5dac551019f486c385ccf00f759937d   \n",
       "\n",
       "                                 mlflow.note.content mlflow.source.type  \\\n",
       "0  1QFW_AB__2R56_A__2YPV_A__3HI6_A__3Q3G_E__4AEI_...              LOCAL   \n",
       "1  1NSN_S__1QFW_AB__2R29_A__2YPV_A__3CVH_ABC__3HI...              LOCAL   \n",
       "\n",
       "  mlflow.runName                        mlflow.source.name  \\\n",
       "0    dev-0.1.2-2  scripts/script_08b_Multiclass_Absolut.py   \n",
       "1    dev-0.1.2-2  scripts/script_08b_Multiclass_Absolut.py   \n",
       "\n",
       "                            mlflow.log-model.history  mlflow.user  \n",
       "0  [{\"run_id\": \"c280f43ba6ab42c7acb9698e48a85fd0\"...        eugen  \n",
       "1  [{\"run_id\": \"c559896718c54965b8d36f131619e512\"...        eugen  \n",
       "\n",
       "[2 rows x 53 columns]"
      ]
     },
     "execution_count": 32,
     "metadata": {},
     "output_type": "execute_result"
    }
   ],
   "source": [
    "print(df_mc.shape)\n",
    "df_mc.head(2)"
   ]
  },
  {
   "cell_type": "code",
   "execution_count": 33,
   "metadata": {},
   "outputs": [
    {
     "name": "stdout",
     "output_type": "stream",
     "text": [
      "(366, 49)\n"
     ]
    },
    {
     "data": {
      "text/html": [
       "<div>\n",
       "<style scoped>\n",
       "    .dataframe tbody tr th:only-of-type {\n",
       "        vertical-align: middle;\n",
       "    }\n",
       "\n",
       "    .dataframe tbody tr th {\n",
       "        vertical-align: top;\n",
       "    }\n",
       "\n",
       "    .dataframe thead th {\n",
       "        text-align: right;\n",
       "    }\n",
       "</style>\n",
       "<table border=\"1\" class=\"dataframe\">\n",
       "  <thead>\n",
       "    <tr style=\"text-align: right;\">\n",
       "      <th></th>\n",
       "      <th>model</th>\n",
       "      <th>test</th>\n",
       "      <th>optimizer_type</th>\n",
       "      <th>sample_per_ag_train</th>\n",
       "      <th>sample_data_source</th>\n",
       "      <th>batch_size</th>\n",
       "      <th>epochs</th>\n",
       "      <th>N_open</th>\n",
       "      <th>N_closed</th>\n",
       "      <th>k</th>\n",
       "      <th>...</th>\n",
       "      <th>test_loss</th>\n",
       "      <th>precision_weighted_closed</th>\n",
       "      <th>precision_macro_closed</th>\n",
       "      <th>mlflow.source.git.commit</th>\n",
       "      <th>mlflow.note.content</th>\n",
       "      <th>mlflow.source.type</th>\n",
       "      <th>mlflow.runName</th>\n",
       "      <th>mlflow.source.name</th>\n",
       "      <th>mlflow.log-model.history</th>\n",
       "      <th>mlflow.user</th>\n",
       "    </tr>\n",
       "  </thead>\n",
       "  <tbody>\n",
       "    <tr>\n",
       "      <th>0</th>\n",
       "      <td>SNN_MULTILABEL</td>\n",
       "      <td>False</td>\n",
       "      <td>Adam</td>\n",
       "      <td>1000</td>\n",
       "      <td>None</td>\n",
       "      <td>64</td>\n",
       "      <td>30</td>\n",
       "      <td>177407</td>\n",
       "      <td>11569</td>\n",
       "      <td>6</td>\n",
       "      <td>...</td>\n",
       "      <td>0.173522</td>\n",
       "      <td>0.887344</td>\n",
       "      <td>0.811413</td>\n",
       "      <td>47ce67212de2c1cdb8d45a3e643e114f8686c929</td>\n",
       "      <td>1H0D_C__2W9E_A__2YPV_A__3BGF_S__3L5X_A__3SKJ_E</td>\n",
       "      <td>LOCAL</td>\n",
       "      <td>dev-0.1.2-1</td>\n",
       "      <td>scripts/script_08b_Multiclass_Absolut.py</td>\n",
       "      <td>[{\"run_id\": \"3eed6b1e4afc4222934961e495d607fd\"...</td>\n",
       "      <td>eugen</td>\n",
       "    </tr>\n",
       "    <tr>\n",
       "      <th>1</th>\n",
       "      <td>SNN_MULTILABEL</td>\n",
       "      <td>False</td>\n",
       "      <td>Adam</td>\n",
       "      <td>1000</td>\n",
       "      <td>None</td>\n",
       "      <td>64</td>\n",
       "      <td>30</td>\n",
       "      <td>177407</td>\n",
       "      <td>6093</td>\n",
       "      <td>3</td>\n",
       "      <td>...</td>\n",
       "      <td>0.199429</td>\n",
       "      <td>0.926582</td>\n",
       "      <td>0.916015</td>\n",
       "      <td>47ce67212de2c1cdb8d45a3e643e114f8686c929</td>\n",
       "      <td>1FSK_A__5CZV_A__5H35_C</td>\n",
       "      <td>LOCAL</td>\n",
       "      <td>dev-0.1.2-1</td>\n",
       "      <td>scripts/script_08b_Multiclass_Absolut.py</td>\n",
       "      <td>[{\"run_id\": \"3b56769e8ae84533bc34271f05120755\"...</td>\n",
       "      <td>eugen</td>\n",
       "    </tr>\n",
       "  </tbody>\n",
       "</table>\n",
       "<p>2 rows × 49 columns</p>\n",
       "</div>"
      ],
      "text/plain": [
       "            model   test optimizer_type sample_per_ag_train  \\\n",
       "0  SNN_MULTILABEL  False           Adam                1000   \n",
       "1  SNN_MULTILABEL  False           Adam                1000   \n",
       "\n",
       "  sample_data_source batch_size epochs  N_open N_closed  k  ... test_loss  \\\n",
       "0               None         64     30  177407    11569  6  ...  0.173522   \n",
       "1               None         64     30  177407     6093  3  ...  0.199429   \n",
       "\n",
       "  precision_weighted_closed precision_macro_closed  \\\n",
       "0                  0.887344               0.811413   \n",
       "1                  0.926582               0.916015   \n",
       "\n",
       "                   mlflow.source.git.commit  \\\n",
       "0  47ce67212de2c1cdb8d45a3e643e114f8686c929   \n",
       "1  47ce67212de2c1cdb8d45a3e643e114f8686c929   \n",
       "\n",
       "                              mlflow.note.content mlflow.source.type  \\\n",
       "0  1H0D_C__2W9E_A__2YPV_A__3BGF_S__3L5X_A__3SKJ_E              LOCAL   \n",
       "1                          1FSK_A__5CZV_A__5H35_C              LOCAL   \n",
       "\n",
       "  mlflow.runName                        mlflow.source.name  \\\n",
       "0    dev-0.1.2-1  scripts/script_08b_Multiclass_Absolut.py   \n",
       "1    dev-0.1.2-1  scripts/script_08b_Multiclass_Absolut.py   \n",
       "\n",
       "                            mlflow.log-model.history  mlflow.user  \n",
       "0  [{\"run_id\": \"3eed6b1e4afc4222934961e495d607fd\"...        eugen  \n",
       "1  [{\"run_id\": \"3b56769e8ae84533bc34271f05120755\"...        eugen  \n",
       "\n",
       "[2 rows x 49 columns]"
      ]
     },
     "execution_count": 33,
     "metadata": {},
     "output_type": "execute_result"
    }
   ],
   "source": [
    "print(df_ml.shape)\n",
    "df_ml.head(2)"
   ]
  },
  {
   "cell_type": "code",
   "execution_count": 34,
   "metadata": {},
   "outputs": [],
   "source": [
    "df = pd.concat([df_mc, df_ml], axis=0)"
   ]
  },
  {
   "cell_type": "markdown",
   "metadata": {},
   "source": [
    "## Closed and open set performance with # classes"
   ]
  },
  {
   "cell_type": "code",
   "execution_count": 45,
   "metadata": {},
   "outputs": [
    {
     "data": {
      "image/png": "[encoded data removed]",
      "text/plain": [
       "<Figure size 1000x600 with 1 Axes>"
      ]
     },
     "metadata": {},
     "output_type": "display_data"
    }
   ],
   "source": [
    "def plot_vs_k(df, y = \"open_f1\", x = \"k\"):\n",
    "    df[\"k\"] = df[\"k\"].astype(int)\n",
    "    \n",
    "    fig, ax = plt.subplots(figsize=(10, 6))\n",
    "    sns.scatterplot(data=df, x=x, y=y, hue=\"model\", ax=ax)\n",
    "    ax.set_title(f\"{y} vs {x}\")\n",
    "    ax.set_xscale(matplotlib.scale.LogScale(ax, base=2))\n",
    "\n",
    "# plot_vs_k(df, y=\"open_avg_precision\")\n",
    "# plot_vs_k(df, \"open_precision\")\n",
    "# plot_vs_k(df, \"open_recall\")\n",
    "plot_vs_k(df, \"roc_auc_open\")\n",
    "# plot_vs_k(df, y=\"f1_macro_closed\")\n",
    "# plot_vs_k(df, y=\"f1_micro_closed\")"
   ]
  },
  {
   "cell_type": "code",
   "execution_count": null,
   "metadata": {},
   "outputs": [],
   "source": []
  }
 ],
 "metadata": {
  "kernelspec": {
   "display_name": "Python 3.8.13 ('nco')",
   "language": "python",
   "name": "python3"
  },
  "language_info": {
   "codemirror_mode": {
    "name": "ipython",
    "version": 3
   },
   "file_extension": ".py",
   "mimetype": "text/x-python",
   "name": "python",
   "nbconvert_exporter": "python",
   "pygments_lexer": "ipython3",
   "version": "3.8.13"
  },
  "orig_nbformat": 4,
  "vscode": {
   "interpreter": {
    "hash": "3ec5334dbdc4a6f7f47854c251e8d2556e95e85daa09db51a6f2bda295b96836"
   }
  }
 },
 "nbformat": 4,
 "nbformat_minor": 2
}
