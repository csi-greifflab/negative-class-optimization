{
 "cells": [
  {
   "cell_type": "code",
   "execution_count": 2,
   "id": "67a4d6fe-1fd5-41a3-9a12-af8f33030a20",
   "metadata": {},
   "outputs": [],
   "source": [
    "from pathlib import Path\n",
    "#from itertools import combinations\n",
    "import re\n",
    "import numpy as np\n",
    "import pandas as pd\n",
    "#from scipy import stats\n",
    "import matplotlib.pyplot as plt\n",
    "import seaborn as sns\n",
    "import NegativeClassOptimization.config as config\n",
    "import yaml\n",
    "import os\n",
    "import glob"
   ]
  },
  {
   "cell_type": "markdown",
   "id": "68ee371e-a47f-4ec4-9b77-5e017301ac96",
   "metadata": {},
   "source": [
    "### Saving test datasets with true and shuffeled labels\n",
    "Bellow I retrive test datasets chosen by immuneML, they are different for each pair even though one antigen matches"
   ]
  },
  {
   "cell_type": "code",
   "execution_count": 182,
   "id": "b146f3b5-d2ad-401b-baac-06fbe9686bbe",
   "metadata": {},
   "outputs": [
    {
     "name": "stdout",
     "output_type": "stream",
     "text": [
      "Saved test dataset for 2YPV 3VRL\n",
      "Saved test dataset for 1H0D 3VRL\n",
      "Saved test dataset for 1ADQ 2YPV\n",
      "Saved test dataset for 3RAJ 5E94\n",
      "Saved test dataset for 1FBI 1H0D\n",
      "Saved test dataset for 1H0D 1OB1\n",
      "Saved test dataset for 1ADQ 1NSN\n",
      "Saved test dataset for 3VRL 5E94\n",
      "Saved test dataset for 1OB1 5E94\n",
      "Saved test dataset for 1H0D 1WEJ\n",
      "Saved test dataset for 1WEJ 5E94\n",
      "Saved test dataset for 1NSN 3RAJ\n",
      "Saved test dataset for 1ADQ 1FBI\n",
      "Saved test dataset for 1FBI 5E94\n",
      "Saved test dataset for 1NSN 1WEJ\n",
      "Saved test dataset for 1ADQ 5E94\n",
      "Saved test dataset for 1H0D 3RAJ\n",
      "Saved test dataset for 2YPV 3RAJ\n",
      "Saved test dataset for 1FBI 2YPV\n",
      "Saved test dataset for 1NSN 3VRL\n",
      "Saved test dataset for 1FBI 1NSN\n",
      "Saved test dataset for 1WEJ 2YPV\n",
      "Saved test dataset for 1ADQ 1H0D\n",
      "Saved test dataset for 1NSN 1OB1\n",
      "Saved test dataset for 1OB1 2YPV\n",
      "Saved test dataset for 1ADQ 3VRL\n",
      "Saved test dataset for 1ADQ 1OB1\n",
      "Saved test dataset for 1H0D 1NSN\n",
      "Saved test dataset for 1H0D 2YPV\n",
      "Saved test dataset for 1FBI 3RAJ\n",
      "Saved test dataset for 1ADQ 1WEJ\n",
      "Saved test dataset for 1NSN 5E94\n",
      "Saved test dataset for 1WEJ 3RAJ\n",
      "Saved test dataset for 1OB1 3RAJ\n",
      "Saved test dataset for 2YPV 5E94\n",
      "Saved test dataset for 1H0D 5E94\n",
      "Saved test dataset for 1OB1 1WEJ\n",
      "Saved test dataset for 1FBI 1WEJ\n",
      "Saved test dataset for 3RAJ 3VRL\n",
      "Saved test dataset for 1ADQ 3RAJ\n",
      "Saved test dataset for 1FBI 1OB1\n",
      "Saved test dataset for 1OB1 3VRL\n",
      "Saved test dataset for 1NSN 2YPV\n",
      "Saved test dataset for 1FBI 3VRL\n",
      "Saved test dataset for 1WEJ 3VRL\n"
     ]
    }
   ],
   "source": [
    "create_suffled = False\n",
    "if create_suffled:\n",
    "    path_suffix = \"pairwise_wo_dupl_rf_out\"\n",
    "    regex_file_name = \"fit_pairwise_dataset_*_instruction\"\n",
    "    BASE_PATH = config.IMMUNE_ML_BASE_PATH/ f\"{path_suffix}\"\n",
    "    paths = list(Path(BASE_PATH).glob(regex_file_name))\n",
    "    for path in paths:\n",
    "        ag1, ag2 = antigens_from_dir_name(str(path))\n",
    "        test_path = list((path / 'split_1/datasets').glob('*_test_*.npy'))[0]\n",
    "        df_test= pd.DataFrame(np.load(test_path))\n",
    "        train_test_path = config.DATA_BASE_PATH/ f'pairwise_wo_dupl/pairwise_dataset_{ag1}_{ag2}.tsv'\n",
    "        df_train_test = pd.read_csv(train_test_path, sep='\\t')\n",
    "        df_test = pd.merge(df_train_test, df_test, left_on='Slide', right_on = 'amino_acid_sequence')[['UID', 'Slide', 'Antigen','binder']]\n",
    "        df_test.to_csv(config.DATA_BASE_PATH / f'test_datasets/original/test_dataset_{ag1}_{ag2}.tsv', sep='\\t')\n",
    "        random_len = df_test.shape[0]\n",
    "        random_labels = np.random.randint(2,size=random_len)\n",
    "        df_test['binder'] = (random_labels==1)\n",
    "        df_test.to_csv(config.DATA_BASE_PATH / f'test_datasets/shuffled/test_dataset_{ag1}_{ag2}.tsv', sep='\\t')\n",
    "        print(f'Saved test dataset for {ag1} {ag2}')"
   ]
  },
  {
   "cell_type": "code",
   "execution_count": 117,
   "id": "69ad5e2a-5a25-4c9c-b665-cc344e2f681d",
   "metadata": {},
   "outputs": [],
   "source": [
    "def pairwise_test_yaml(datasets_path, regex_datasets_name, models_root, spec_name):\n",
    "    datasets = dict()\n",
    "    instructions = dict()\n",
    "    paths = list(Path(datasets_path).glob(regex_datasets_name)) #config.DATA_BASE_PATH / 'test_datasets'\n",
    "    for path in paths:\n",
    "        path = str(path)\n",
    "        ag1, ag2 = re.search('test_dataset_(.*)_(.*).tsv', path).groups()\n",
    "        config_path = config.IMMUNE_ML_BASE_PATH / f'{models_root}/fit_pairwise_dataset_{ag1}_{ag2}_instruction/optimal_binder/zip/ml_settings_binder.zip'\n",
    "        config_path = str(config_path)\n",
    "        datasets[f'{spec_name}_{ag1}_{ag2}'] = {\n",
    "                \"format\": \"Generic\",\n",
    "                \"params\": {\n",
    "                    \"path\": path,\n",
    "                    \"is_repertoire\": False,\n",
    "                    \"region_type\": \"FULL_SEQUENCE\",\n",
    "                     \"column_mapping\": {\n",
    "                            \"Slide\": \"sequence_aas\",\n",
    "                             \"UID\": \"sequence_identifiers\"\n",
    "\n",
    "                        },\n",
    "                        \"metadata_column_mapping\": {\n",
    "                            \"Antigen\": \"Antigen\",\n",
    "                            \"binder\": \"binder\",\n",
    "                        }}\n",
    "        }\n",
    "        instructions[f'{spec_name}_{ag1}_{ag2}_instruction'] = {\n",
    "                    \"type\": \"MLApplication\",\n",
    "                    \"dataset\": f'{spec_name}_{ag1}_{ag2}',\n",
    "                    \"config_path\": config_path,\n",
    "                    \"number_of_processes\": 4\n",
    "        }\n",
    "    return datasets, instructions"
   ]
  },
  {
   "cell_type": "code",
   "execution_count": 118,
   "id": "48be43de-7149-458f-a8e5-58798ffb1574",
   "metadata": {},
   "outputs": [],
   "source": [
    "#BASE_PATH = config.IMMUNE_ML_BASE_PATH/ 'pairwise_wo_dupl_rf_out'\n",
    "#paths = list(Path(BASE_PATH).glob(\"fit_pairwise_dataset_*_instruction\"))"
   ]
  },
  {
   "cell_type": "code",
   "execution_count": 125,
   "id": "04544657-6f8b-40ce-9adb-3e70e8874b3a",
   "metadata": {},
   "outputs": [],
   "source": [
    "class NoAliasDumper(yaml.SafeDumper):\n",
    "    \"\"\"\n",
    "    Yaml dumper without yaml references.\n",
    "    \"\"\"\n",
    "    def ignore_aliases(self, data):\n",
    "        return True"
   ]
  },
  {
   "cell_type": "markdown",
   "id": "ee59ade9-16e0-4280-b72d-946c00274bcc",
   "metadata": {},
   "source": [
    "RF test specification"
   ]
  },
  {
   "cell_type": "code",
   "execution_count": 120,
   "id": "1d1cb1a2-7531-450b-9c21-7826fba40f42",
   "metadata": {},
   "outputs": [],
   "source": [
    "datasets_path = config.DATA_BASE_PATH / 'test_datasets'\n",
    "regex_datasets_name = 'test_dataset_*.tsv'\n",
    "models_root = 'pairwise_wo_dupl_rf_out'\n",
    "spec_name = 'rf_shuffled'"
   ]
  },
  {
   "cell_type": "code",
   "execution_count": 121,
   "id": "806a25a4-d056-405c-af5a-b503cc6ae233",
   "metadata": {},
   "outputs": [],
   "source": [
    "datasets_rf, instructions_rf = pairwise_test_yaml(datasets_path, regex_datasets_name, models_root, spec_name)"
   ]
  },
  {
   "cell_type": "code",
   "execution_count": 122,
   "id": "5556f3aa-1ac3-4042-b618-f134468350a9",
   "metadata": {},
   "outputs": [],
   "source": [
    "with open('shuffled_rf_test.yaml', 'w') as f:\n",
    "        yaml.dump(\n",
    "            {'definitions': {'datasets': datasets_rf},\n",
    "            'instructions': instructions_rf},\n",
    "            f,\n",
    "            default_flow_style=False,\n",
    "            sort_keys=False,\n",
    "            Dumper=NoAliasDumper\n",
    "        )"
   ]
  },
  {
   "cell_type": "markdown",
   "id": "d269db43-071f-419c-b7fe-609bfab535be",
   "metadata": {},
   "source": [
    "SVM test specification"
   ]
  },
  {
   "cell_type": "code",
   "execution_count": 93,
   "id": "0f73e72f-7b3b-4bc3-94fb-3500ae7ebe0f",
   "metadata": {},
   "outputs": [],
   "source": [
    "models_root = 'pairwise_wo_dupl_svm_default_out'\n",
    "spec_name = 'svm_shuffled'"
   ]
  },
  {
   "cell_type": "code",
   "execution_count": 94,
   "id": "e194cbdf-b07e-4343-b216-a68aa1e98591",
   "metadata": {},
   "outputs": [],
   "source": [
    "datasets_svm, instructions_svm = pairwise_test_yaml(datasets_path, regex_datasets_name, models_root, spec_name)"
   ]
  },
  {
   "cell_type": "code",
   "execution_count": 96,
   "id": "84c49a7b-9020-4ab5-85b2-6b5879b7d684",
   "metadata": {},
   "outputs": [],
   "source": [
    "with open('shuffled_svm_test_def.yaml', 'w') as f:\n",
    "        yaml.dump(\n",
    "            {'definitions': {'datasets': datasets_svm},\n",
    "            'instructions': instructions_svm},\n",
    "            f,\n",
    "            default_flow_style=False,\n",
    "            sort_keys=False,\n",
    "            Dumper=NoAliasDumper\n",
    "        )"
   ]
  },
  {
   "cell_type": "markdown",
   "id": "58ddf923-a9a2-4439-a524-e1e648b7dfcc",
   "metadata": {},
   "source": [
    "KNN test specification"
   ]
  },
  {
   "cell_type": "code",
   "execution_count": 87,
   "id": "2548d2e8-00f5-444b-83ea-20a7da5ddbfc",
   "metadata": {},
   "outputs": [],
   "source": [
    "models_root = 'pairwise_wo_dupl_knn_default_out'\n",
    "spec_name = 'knn_shuffled'"
   ]
  },
  {
   "cell_type": "code",
   "execution_count": 88,
   "id": "b14e4a56-5bf0-468c-af9a-2f54713f1ec4",
   "metadata": {},
   "outputs": [],
   "source": [
    "datasets_knn, instructions_knn = pairwise_test_yaml(datasets_path, regex_datasets_name, models_root, spec_name)"
   ]
  },
  {
   "cell_type": "code",
   "execution_count": 89,
   "id": "60e0921b-763b-47bc-a0a6-e6ff08e3a995",
   "metadata": {},
   "outputs": [],
   "source": [
    "with open('shuffled_knn_test_def.yaml', 'w') as f:\n",
    "        yaml.dump(\n",
    "            {'definitions': {'datasets': datasets_knn},\n",
    "            'instructions': instructions_knn},\n",
    "            f,\n",
    "            default_flow_style=False,\n",
    "            sort_keys=False,\n",
    "            Dumper=NoAliasDumper\n",
    "        )"
   ]
  },
  {
   "cell_type": "markdown",
   "id": "a86d75ec-8972-4abb-b2a8-2f3ca07a6570",
   "metadata": {},
   "source": [
    "### Creating pairwise test datasets so that positive and negative datsets come from diffrent models."
   ]
  },
  {
   "cell_type": "code",
   "execution_count": 127,
   "id": "2c8f76ca-5943-4b0e-a007-e5c131780940",
   "metadata": {},
   "outputs": [],
   "source": [
    "antigens = ['3VRL', '1NSN', '3RAJ', '5E94', '1H0D', '1WEJ', '1ADQ', '1FBI','2YPV', '1OB1']"
   ]
  },
  {
   "cell_type": "code",
   "execution_count": 211,
   "id": "f8b4ebee-cd32-4c16-a255-1dd254bb6bd6",
   "metadata": {},
   "outputs": [],
   "source": [
    "for i in antigens:\n",
    "    !mkdir ../data/test_datasets/{i}"
   ]
  },
  {
   "cell_type": "code",
   "execution_count": 198,
   "id": "bd9aeebb-8a89-4db2-b806-c7a23ae2332f",
   "metadata": {},
   "outputs": [],
   "source": [
    "pos_neg_paits = dict()\n",
    "dfs = []\n",
    "for ag1 in antigens:\n",
    "    paths = list(Path(datasets_path).glob(f'test_dataset_{ag1}_*.tsv'))\n",
    "    pos_neg_paits[ag1] = []\n",
    "    if len(paths):\n",
    "        for path in paths:\n",
    "            df_i = pd.read_csv(path, sep='\\t', index_col=False)\n",
    "            ag2 = re.search('test_dataset_.*_(.*).tsv', str(path)).group(1)\n",
    "            pos_neg_paits[ag1].append(ag2)\n",
    "            n = df_i.shape[0]\n",
    "            df_i['positive_ag'] = [ag1]*n\n",
    "            df_i['negative_ag'] = [ag2]*n\n",
    "            dfs.append(df_i)\n",
    "df_merged = pd.concat(dfs, axis=0)\n",
    "        #df_merged.to_csv(f'../data/test_datasets/negatives/{ag1}_negatives.tsv', sep='\\t')"
   ]
  },
  {
   "cell_type": "code",
   "execution_count": 212,
   "id": "69a05c2a-cbec-48e4-98ee-4dbb5601efca",
   "metadata": {},
   "outputs": [
    {
     "name": "stdout",
     "output_type": "stream",
     "text": [
      "3VRL 5E94\n",
      "1NSN 1WEJ\n",
      "1NSN 1OB1\n",
      "1NSN 3RAJ\n",
      "1NSN 2YPV\n",
      "1NSN 3VRL\n",
      "1NSN 5E94\n",
      "3RAJ 3VRL\n",
      "3RAJ 5E94\n",
      "1H0D 1WEJ\n",
      "1H0D 1OB1\n",
      "1H0D 1NSN\n",
      "1H0D 3VRL\n",
      "1H0D 2YPV\n",
      "1H0D 3RAJ\n",
      "1H0D 5E94\n",
      "1WEJ 5E94\n",
      "1WEJ 3RAJ\n",
      "1WEJ 2YPV\n",
      "1WEJ 3VRL\n",
      "1ADQ 1OB1\n",
      "1ADQ 1NSN\n",
      "1ADQ 1WEJ\n",
      "1ADQ 1FBI\n",
      "1ADQ 5E94\n",
      "1ADQ 1H0D\n",
      "1ADQ 3VRL\n",
      "1ADQ 2YPV\n",
      "1ADQ 3RAJ\n",
      "1FBI 1WEJ\n",
      "1FBI 1NSN\n",
      "1FBI 1OB1\n",
      "1FBI 3RAJ\n",
      "1FBI 2YPV\n",
      "1FBI 3VRL\n",
      "1FBI 1H0D\n",
      "1FBI 5E94\n",
      "2YPV 5E94\n",
      "2YPV 3RAJ\n",
      "2YPV 3VRL\n",
      "1OB1 1WEJ\n",
      "1OB1 5E94\n",
      "1OB1 2YPV\n",
      "1OB1 3RAJ\n",
      "1OB1 3VRL\n"
     ]
    }
   ],
   "source": [
    "for ag1, ag2s in pos_neg_paits.items():\n",
    "    for ag2_excl in ag2s:\n",
    "        print(ag1, ag2_excl)\n",
    "        os.mkdir(f'../data/test_datasets/{ag1}/{ag1}_excl_{ag2_excl}')\n",
    "        df_ag1 = df_merged[(df_merged['positive_ag'] == ag1) & (df_merged['negative_ag'] == ag2_excl)].copy(deep=True)\n",
    "        df_ag1.drop(['Unnamed: 0', 'positive_ag', 'negative_ag'], axis=1, inplace=True)\n",
    "        ag2s_copy =  set(ag2s)\n",
    "        ag2_excl_set = ag2s_copy- set(ag2_excl)\n",
    "        for ag2 in ag2_excl_set:\n",
    "            df_ag2_excl = df_merged[(df_merged['positive_ag'] == ag1) & (df_merged['negative_ag'] == ag2)].copy(deep=True)\n",
    "            df_ag2_excl.drop(['Unnamed: 0', 'positive_ag', 'negative_ag'], axis=1, inplace=True)\n",
    "            df_ag1_ag2 = pd.concat([df_ag1, df_ag2_excl],axis=0)\n",
    "            df_ag1_ag2.to_csv(f'../data/test_datasets/{ag1}/{ag1}_excl_{ag2_excl}/{ag1}_{ag2}.tsv',sep='\\t');"
   ]
  },
  {
   "cell_type": "code",
   "execution_count": 157,
   "id": "c143ceb3-3221-4296-9256-30c6852e3c43",
   "metadata": {},
   "outputs": [
    {
     "data": {
      "text/html": [
       "<div>\n",
       "<style scoped>\n",
       "    .dataframe tbody tr th:only-of-type {\n",
       "        vertical-align: middle;\n",
       "    }\n",
       "\n",
       "    .dataframe tbody tr th {\n",
       "        vertical-align: top;\n",
       "    }\n",
       "\n",
       "    .dataframe thead th {\n",
       "        text-align: right;\n",
       "    }\n",
       "</style>\n",
       "<table border=\"1\" class=\"dataframe\">\n",
       "  <thead>\n",
       "    <tr style=\"text-align: right;\">\n",
       "      <th></th>\n",
       "      <th>Unnamed: 0</th>\n",
       "      <th>UID</th>\n",
       "      <th>Slide</th>\n",
       "      <th>Antigen</th>\n",
       "      <th>binder</th>\n",
       "      <th>shuffled_label</th>\n",
       "      <th>positive_ag</th>\n",
       "      <th>negative_ag</th>\n",
       "    </tr>\n",
       "  </thead>\n",
       "  <tbody>\n",
       "    <tr>\n",
       "      <th>0</th>\n",
       "      <td>0</td>\n",
       "      <td>5E94_5315811_03a</td>\n",
       "      <td>LGLLGWYFDVW</td>\n",
       "      <td>5E94</td>\n",
       "      <td>False</td>\n",
       "      <td>False</td>\n",
       "      <td>3VRL</td>\n",
       "      <td>5E94</td>\n",
       "    </tr>\n",
       "    <tr>\n",
       "      <th>1</th>\n",
       "      <td>1</td>\n",
       "      <td>3VRL_2739360_00a</td>\n",
       "      <td>CTKALLLHWYF</td>\n",
       "      <td>3VRL</td>\n",
       "      <td>True</td>\n",
       "      <td>False</td>\n",
       "      <td>3VRL</td>\n",
       "      <td>5E94</td>\n",
       "    </tr>\n",
       "    <tr>\n",
       "      <th>2</th>\n",
       "      <td>2</td>\n",
       "      <td>5E94_4355632_03a</td>\n",
       "      <td>HFMGYDVLWYF</td>\n",
       "      <td>5E94</td>\n",
       "      <td>False</td>\n",
       "      <td>False</td>\n",
       "      <td>3VRL</td>\n",
       "      <td>5E94</td>\n",
       "    </tr>\n",
       "    <tr>\n",
       "      <th>3</th>\n",
       "      <td>3</td>\n",
       "      <td>3VRL_267399_00a</td>\n",
       "      <td>CARTSFLLLPF</td>\n",
       "      <td>3VRL</td>\n",
       "      <td>True</td>\n",
       "      <td>True</td>\n",
       "      <td>3VRL</td>\n",
       "      <td>5E94</td>\n",
       "    </tr>\n",
       "    <tr>\n",
       "      <th>4</th>\n",
       "      <td>4</td>\n",
       "      <td>3VRL_31961_00a</td>\n",
       "      <td>CARLGLLWVHY</td>\n",
       "      <td>3VRL</td>\n",
       "      <td>True</td>\n",
       "      <td>True</td>\n",
       "      <td>3VRL</td>\n",
       "      <td>5E94</td>\n",
       "    </tr>\n",
       "  </tbody>\n",
       "</table>\n",
       "</div>"
      ],
      "text/plain": [
       "   Unnamed: 0               UID        Slide Antigen  binder  shuffled_label  \\\n",
       "0           0  5E94_5315811_03a  LGLLGWYFDVW    5E94   False           False   \n",
       "1           1  3VRL_2739360_00a  CTKALLLHWYF    3VRL    True           False   \n",
       "2           2  5E94_4355632_03a  HFMGYDVLWYF    5E94   False           False   \n",
       "3           3   3VRL_267399_00a  CARTSFLLLPF    3VRL    True            True   \n",
       "4           4    3VRL_31961_00a  CARLGLLWVHY    3VRL    True            True   \n",
       "\n",
       "  positive_ag negative_ag  \n",
       "0        3VRL        5E94  \n",
       "1        3VRL        5E94  \n",
       "2        3VRL        5E94  \n",
       "3        3VRL        5E94  \n",
       "4        3VRL        5E94  "
      ]
     },
     "execution_count": 157,
     "metadata": {},
     "output_type": "execute_result"
    }
   ],
   "source": [
    "df_merged.head()"
   ]
  },
  {
   "cell_type": "code",
   "execution_count": 114,
   "id": "1d610182-4078-4a80-814a-c29f61761a7e",
   "metadata": {},
   "outputs": [
    {
     "name": "stdout",
     "output_type": "stream",
     "text": [
      "3VRL\n",
      "1NSN\n",
      "3RAJ\n",
      "5E94\n",
      "1H0D\n",
      "1WEJ\n",
      "1ADQ\n",
      "1FBI\n",
      "2YPV\n",
      "1OB1\n"
     ]
    }
   ],
   "source": [
    "for ag1 in antigens:\n",
    "    print(ag1)\n",
    "    paths = list(Path(datasets_path).glob(f'test_dataset_{ag1}_*.tsv'))\n",
    "    dfs = []\n",
    "    if len(paths):\n",
    "        for path in paths:\n",
    "            df_i = pd.read_csv(path, sep='\\t')\n",
    "            df_i = df_i[df_i['Antigen']!=ag1]\n",
    "            dfs.append(df_i)\n",
    "        df_merged = pd.concat(dfs, axis=0)\n",
    "        df_merged.to_csv(f'../data/test_datasets/negatives/{ag1}_negatives.tsv', sep='\\t')"
   ]
  },
  {
   "cell_type": "markdown",
   "id": "fe8fc08f-a0aa-4581-8887-43057c7abdc6",
   "metadata": {},
   "source": [
    "### Testing models on negative data they haven't seen. Creating yaml file for immuneML"
   ]
  },
  {
   "cell_type": "code",
   "execution_count": 122,
   "id": "ac51dd57-6db0-42ea-9755-12aa40c72a44",
   "metadata": {},
   "outputs": [],
   "source": [
    "def cross_test_yaml(models_path):\n",
    "    datasets = dict()\n",
    "    instructions = dict()\n",
    "    config_paths = glob.glob(str(Path(config.IMMUNE_ML_BASE_PATH / models_path)) +'/fit_*') #config.IMMUNE_ML_BASE_PATH / 'pairwise_wo_dupl_rf_out'   fit_pairwise_dataset_ag1_ag2_instruction\n",
    "    for config_path in config_paths:\n",
    "        ag1, ag2_excl = re.search('fit_pairwise_dataset_(.*)_(.*)_instruction', config_path).groups()\n",
    "        config_path = Path(config_path) / 'optimal_binder/zip/ml_settings_binder.zip'\n",
    "        config_path = str(config_path)\n",
    "        paths = glob.glob(str(Path(config.DATA_BASE_PATH / f'test_datasets/{ag1}/{ag1}_excl_{ag2_excl}')) + '/*.tsv')\n",
    "        #config.DATA_BASE_PATH / 'test_datasets'\n",
    "        for path in paths:\n",
    "            ag2 = re.search(f\"{ag1}_excl_{ag2_excl}/{ag1}_(.*).tsv\", path).group(1)\n",
    "            datasets[f'{ag1}_excl{ag2_excl}_negds_{ag2}'] = {\n",
    "                    \"format\": \"Generic\",\n",
    "                    \"params\": {\n",
    "                        \"path\": path,\n",
    "                        \"is_repertoire\": False,\n",
    "                        \"region_type\": \"FULL_SEQUENCE\",\n",
    "                         \"column_mapping\": {\n",
    "                                \"Slide\": \"sequence_aas\",\n",
    "                                 \"UID\": \"sequence_identifiers\"\n",
    "\n",
    "                            },\n",
    "                            \"metadata_column_mapping\": {\n",
    "                                \"Antigen\": \"Antigen\",\n",
    "                                \"binder\": \"binder\",\n",
    "                            }}\n",
    "            }\n",
    "            instructions[f'{ag1}_excl{ag2_excl}_negds_{ag2}_instruction'] = {\n",
    "                        \"type\": \"MLApplication\",\n",
    "                        \"dataset\": f'{ag1}_excl{ag2_excl}_negds_{ag2}',\n",
    "                        \"config_path\": config_path,\n",
    "                        \"number_of_processes\": 4\n",
    "            }\n",
    "    return datasets, instructions"
   ]
  },
  {
   "cell_type": "code",
   "execution_count": 123,
   "id": "2cdfd0a8-899a-4abf-afa9-4e41c3587ae7",
   "metadata": {},
   "outputs": [],
   "source": [
    "rf_cross_datasets, rf_cross_instructions = cross_test_yaml('pairwise_wo_dupl_rf_out')"
   ]
  },
  {
   "cell_type": "code",
   "execution_count": 127,
   "id": "8cee908c-61af-46aa-b6c9-4382057c0210",
   "metadata": {},
   "outputs": [],
   "source": [
    "svm_cross_datasets, svm_cross_instructions = cross_test_yaml('pairwise_wo_dupl_svm_default_out')"
   ]
  },
  {
   "cell_type": "code",
   "execution_count": 128,
   "id": "e05646a5-4c74-47b0-b69b-7b343fbbc02b",
   "metadata": {},
   "outputs": [],
   "source": [
    "with open(Path(config.IMMUNE_ML_BASE_PATH / 'yaml_specifications/cross_test_svm.yaml'), 'w') as f:\n",
    "        yaml.dump(\n",
    "            {'definitions': {'datasets': svm_cross_datasets},\n",
    "            'instructions': svm_cross_instructions},\n",
    "            f,\n",
    "            default_flow_style=False,\n",
    "            sort_keys=False,\n",
    "            Dumper=NoAliasDumper\n",
    "        )"
   ]
  },
  {
   "cell_type": "code",
   "execution_count": null,
   "id": "9e16d3a8-5ffc-4e10-9b2d-ba992e408588",
   "metadata": {},
   "outputs": [],
   "source": [
    "## results of immuneMl in immuneML folder: shuffled_... , cross_..."
   ]
  }
 ],
 "metadata": {
  "kernelspec": {
   "display_name": "Python 3 (ipykernel)",
   "language": "python",
   "name": "python3"
  },
  "language_info": {
   "codemirror_mode": {
    "name": "ipython",
    "version": 3
   },
   "file_extension": ".py",
   "mimetype": "text/x-python",
   "name": "python",
   "nbconvert_exporter": "python",
   "pygments_lexer": "ipython3",
   "version": "3.8.13"
  }
 },
 "nbformat": 4,
 "nbformat_minor": 5
}
