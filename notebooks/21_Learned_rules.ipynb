{
 "cells": [
  {
   "attachments": {},
   "cell_type": "markdown",
   "metadata": {},
   "source": [
    "# Learned rules\n",
    "\n",
    "In this notebook, we will evaluate what simple rules a model has learned."
   ]
  },
  {
   "cell_type": "code",
   "execution_count": 1,
   "metadata": {},
   "outputs": [
    {
     "name": "stderr",
     "output_type": "stream",
     "text": [
      "/home/eugen/miniconda3/envs/nco/lib/python3.8/site-packages/tqdm/auto.py:22: TqdmWarning: IProgress not found. Please update jupyter and ipywidgets. See https://ipywidgets.readthedocs.io/en/stable/user_install.html\n",
      "  from .autonotebook import tqdm as notebook_tqdm\n",
      "/home/eugen/miniconda3/envs/nco/lib/python3.8/site-packages/torchvision/io/image.py:11: UserWarning: Failed to load image Python extension: /home/eugen/miniconda3/envs/nco/lib/python3.8/site-packages/torchvision/image.so: undefined symbol: _ZN5torch3jit17parseSchemaOrNameERKNSt7__cxx1112basic_stringIcSt11char_traitsIcESaIcEEE\n",
      "  warn(f\"Failed to load image Python extension: {e}\")\n"
     ]
    }
   ],
   "source": [
    "from pathlib import Path\n",
    "import numpy as np\n",
    "import pandas as pd\n",
    "import matplotlib.pyplot as plt\n",
    "import seaborn as sns\n",
    "import math\n",
    "\n",
    "import torch\n",
    "import torch.nn as nn\n",
    "import torch.nn.functional as F\n",
    "import torchvision\n",
    "import torchvision.transforms as transforms\n",
    "\n",
    "from NegativeClassOptimization import ml\n",
    "from NegativeClassOptimization import utils\n",
    "from NegativeClassOptimization import preprocessing"
   ]
  },
  {
   "cell_type": "code",
   "execution_count": 5,
   "metadata": {},
   "outputs": [],
   "source": [
    "df = utils.load_global_dataframe()\n",
    "\n",
    "ag_pos = \"3VRL\"\n",
    "ag_neg = \"1ADQ\"\n",
    "df = df.loc[df[\"Antigen\"].isin([ag_pos, ag_neg])].copy()\n",
    "df = df.drop_duplicates([\"Slide\"])\n",
    "\n",
    "N = 20000\n",
    "df = df.sample(n=N, random_state=42)\n",
    "df = df.sample(frac=1, random_state=42)\n",
    "\n",
    "df_train = df.iloc[:int(N*0.8)]\n",
    "df_test = df.iloc[int(N*0.8):]"
   ]
  },
  {
   "cell_type": "code",
   "execution_count": 6,
   "metadata": {},
   "outputs": [
    {
     "name": "stderr",
     "output_type": "stream",
     "text": [
      "/data/sources/eugen/negative-class-optimization/src/NegativeClassOptimization/NegativeClassOptimization/preprocessing.py:154: UserWarning: Not scaling onehot.\n",
      "  warnings.warn(\"Not scaling onehot.\")\n"
     ]
    }
   ],
   "source": [
    "train_data, test_data, train_loader, test_loader = preprocessing.preprocess_data_for_pytorch_binary(\n",
    "    df_train_val=df_train,\n",
    "    df_test_closed=df_test,\n",
    "    ag_pos=[ag_pos],\n",
    "    batch_size=32,\n",
    "    scale_onehot=False,\n",
    ")"
   ]
  },
  {
   "cell_type": "code",
   "execution_count": 7,
   "metadata": {},
   "outputs": [
    {
     "name": "stdout",
     "output_type": "stream",
     "text": [
      "Epoch 1\n",
      "-------------------------------\n",
      "loss: 0.687983  [    0/16000]\n",
      "loss: 0.687667  [ 3200/16000]\n",
      "loss: 0.686262  [ 6400/16000]\n",
      "loss: 0.664169  [ 9600/16000]\n",
      "loss: 0.650876  [12800/16000]\n",
      "Test Error: \n",
      " Acc: 75.5 Avg loss: 0.640426 \n",
      "\n",
      "Epoch 2\n",
      "-------------------------------\n",
      "loss: 0.641077  [    0/16000]\n",
      "loss: 0.638007  [ 3200/16000]\n",
      "loss: 0.556639  [ 6400/16000]\n",
      "loss: 0.563854  [ 9600/16000]\n",
      "loss: 0.585692  [12800/16000]\n",
      "Test Error: \n",
      " Acc: 79.2 Avg loss: 0.527314 \n",
      "\n",
      "Epoch 3\n",
      "-------------------------------\n",
      "loss: 0.526680  [    0/16000]\n",
      "loss: 0.503732  [ 3200/16000]\n",
      "loss: 0.548404  [ 6400/16000]\n",
      "loss: 0.387873  [ 9600/16000]\n",
      "loss: 0.505673  [12800/16000]\n",
      "Test Error: \n",
      " Acc: 81.5 Avg loss: 0.449485 \n",
      "\n",
      "Epoch 4\n",
      "-------------------------------\n",
      "loss: 0.537685  [    0/16000]\n",
      "loss: 0.425131  [ 3200/16000]\n",
      "loss: 0.486994  [ 6400/16000]\n",
      "loss: 0.366617  [ 9600/16000]\n",
      "loss: 0.541093  [12800/16000]\n",
      "Test Error: \n",
      " Acc: 82.5 Avg loss: 0.412517 \n",
      "\n",
      "Epoch 5\n",
      "-------------------------------\n",
      "loss: 0.418812  [    0/16000]\n",
      "loss: 0.361643  [ 3200/16000]\n",
      "loss: 0.505982  [ 6400/16000]\n",
      "loss: 0.355143  [ 9600/16000]\n",
      "loss: 0.329780  [12800/16000]\n",
      "Test Error: \n",
      " Acc: 83.4 Avg loss: 0.390759 \n",
      "\n",
      "Epoch 6\n",
      "-------------------------------\n",
      "loss: 0.480654  [    0/16000]\n",
      "loss: 0.447091  [ 3200/16000]\n",
      "loss: 0.406562  [ 6400/16000]\n",
      "loss: 0.384972  [ 9600/16000]\n",
      "loss: 0.399759  [12800/16000]\n",
      "Test Error: \n",
      " Acc: 84.0 Avg loss: 0.376915 \n",
      "\n",
      "Epoch 7\n",
      "-------------------------------\n",
      "loss: 0.298741  [    0/16000]\n",
      "loss: 0.256733  [ 3200/16000]\n",
      "loss: 0.394218  [ 6400/16000]\n",
      "loss: 0.404048  [ 9600/16000]\n",
      "loss: 0.291222  [12800/16000]\n",
      "Test Error: \n",
      " Acc: 84.6 Avg loss: 0.367085 \n",
      "\n",
      "Epoch 8\n",
      "-------------------------------\n",
      "loss: 0.254728  [    0/16000]\n",
      "loss: 0.317334  [ 3200/16000]\n",
      "loss: 0.489913  [ 6400/16000]\n",
      "loss: 0.497961  [ 9600/16000]\n",
      "loss: 0.529565  [12800/16000]\n",
      "Test Error: \n",
      " Acc: 85.2 Avg loss: 0.359882 \n",
      "\n",
      "Epoch 9\n",
      "-------------------------------\n",
      "loss: 0.310271  [    0/16000]\n",
      "loss: 0.380133  [ 3200/16000]\n",
      "loss: 0.386609  [ 6400/16000]\n",
      "loss: 0.290312  [ 9600/16000]\n",
      "loss: 0.308734  [12800/16000]\n",
      "Test Error: \n",
      " Acc: 85.0 Avg loss: 0.355754 \n",
      "\n",
      "Epoch 10\n",
      "-------------------------------\n",
      "loss: 0.364636  [    0/16000]\n",
      "loss: 0.128706  [ 3200/16000]\n",
      "loss: 0.511109  [ 6400/16000]\n",
      "loss: 0.268106  [ 9600/16000]\n",
      "loss: 0.474319  [12800/16000]\n",
      "Test Error: \n",
      " Acc: 85.5 Avg loss: 0.350500 \n",
      "\n",
      "Epoch 11\n",
      "-------------------------------\n",
      "loss: 0.416946  [    0/16000]\n",
      "loss: 0.337247  [ 3200/16000]\n",
      "loss: 0.368432  [ 6400/16000]\n",
      "loss: 0.433241  [ 9600/16000]\n",
      "loss: 0.377073  [12800/16000]\n",
      "Test Error: \n",
      " Acc: 85.8 Avg loss: 0.346703 \n",
      "\n",
      "Epoch 12\n",
      "-------------------------------\n",
      "loss: 0.326130  [    0/16000]\n",
      "loss: 0.249134  [ 3200/16000]\n",
      "loss: 0.418346  [ 6400/16000]\n",
      "loss: 0.319477  [ 9600/16000]\n",
      "loss: 0.307208  [12800/16000]\n",
      "Test Error: \n",
      " Acc: 86.2 Avg loss: 0.344259 \n",
      "\n",
      "Epoch 13\n",
      "-------------------------------\n",
      "loss: 0.331235  [    0/16000]\n",
      "loss: 0.459024  [ 3200/16000]\n",
      "loss: 0.310304  [ 6400/16000]\n",
      "loss: 0.488600  [ 9600/16000]\n",
      "loss: 0.351110  [12800/16000]\n",
      "Test Error: \n",
      " Acc: 86.0 Avg loss: 0.342132 \n",
      "\n",
      "Epoch 14\n",
      "-------------------------------\n",
      "loss: 0.254173  [    0/16000]\n",
      "loss: 0.552673  [ 3200/16000]\n",
      "loss: 0.365939  [ 6400/16000]\n",
      "loss: 0.303758  [ 9600/16000]\n",
      "loss: 0.269197  [12800/16000]\n",
      "Test Error: \n",
      " Acc: 86.2 Avg loss: 0.338872 \n",
      "\n",
      "Epoch 15\n",
      "-------------------------------\n",
      "loss: 0.328600  [    0/16000]\n",
      "loss: 0.427556  [ 3200/16000]\n",
      "loss: 0.491995  [ 6400/16000]\n",
      "loss: 0.254744  [ 9600/16000]\n",
      "loss: 0.459591  [12800/16000]\n",
      "Test Error: \n",
      " Acc: 86.3 Avg loss: 0.337009 \n",
      "\n"
     ]
    }
   ],
   "source": [
    "model = ml.SN10()\n",
    "model = model.to(\"cpu\")\n",
    "\n",
    "learning_rate = 0.01\n",
    "epochs = 15\n",
    "loss_fn = nn.BCELoss()\n",
    "optimizer = torch.optim.SGD(model.parameters(), lr=learning_rate)\n",
    "\n",
    "for t in range(epochs):\n",
    "    print(f\"Epoch {t+1}\\n-------------------------------\")\n",
    "    ml.train_loop(train_loader, model, loss_fn, optimizer)\n",
    "    ml.test_loop(test_loader, model, loss_fn)"
   ]
  },
  {
   "attachments": {},
   "cell_type": "markdown",
   "metadata": {},
   "source": [
    "## Mine simple rules"
   ]
  },
  {
   "cell_type": "code",
   "execution_count": 33,
   "metadata": {},
   "outputs": [
    {
     "name": "stdout",
     "output_type": "stream",
     "text": [
      "# 1-motifs: 219\n",
      "# 2-motifs: 17256 | max = 18000\n"
     ]
    }
   ],
   "source": [
    "slides = df[\"Slide\"].unique().tolist()\n",
    "\n",
    "# 1 amino acid\n",
    "motifs_1 = set([])\n",
    "for slide in slides:\n",
    "    for i, aa in enumerate(slide):\n",
    "        motif = \".\"*i + aa + \".\"*(11-i-1)\n",
    "        motifs_1.add(motif)\n",
    "print(f\"# 1-motifs: {len(motifs_1)}\")\n",
    "\n",
    "# 2 amino acids\n",
    "motifs_2 = set([])\n",
    "for slide in slides:\n",
    "    for i, aa_i in enumerate(slide):\n",
    "        for x, aa_j in enumerate(slide[i+1:]):\n",
    "            j = x+i+1\n",
    "            motif = \".\"*(i) + aa_i + \".\"*x + aa_j + \".\"*(11-j-1)\n",
    "            motifs_2.add(motif)\n",
    "print(f\"# 2-motifs: {len(motifs_2)} | max = {45*20*20}\")\n",
    "\n",
    "# 3 amino acids\n",
    "# TODO"
   ]
  },
  {
   "cell_type": "code",
   "execution_count": 30,
   "metadata": {},
   "outputs": [],
   "source": [
    "# list(filter(lambda x: x[0] != \".\", motifs_1))\n",
    "# list(filter(lambda x: x[-1] != \".\", motifs_1))\n",
    "# list(filter(lambda x: x[0] != \".\", motifs_2))\n",
    "# list(filter(lambda x: x[-1] != \".\", motifs_2))"
   ]
  },
  {
   "cell_type": "code",
   "execution_count": 52,
   "metadata": {},
   "outputs": [
    {
     "data": {
      "text/html": [
       "<div>\n",
       "<style scoped>\n",
       "    .dataframe tbody tr th:only-of-type {\n",
       "        vertical-align: middle;\n",
       "    }\n",
       "\n",
       "    .dataframe tbody tr th {\n",
       "        vertical-align: top;\n",
       "    }\n",
       "\n",
       "    .dataframe thead th {\n",
       "        text-align: right;\n",
       "    }\n",
       "</style>\n",
       "<table border=\"1\" class=\"dataframe\">\n",
       "  <thead>\n",
       "    <tr style=\"text-align: right;\">\n",
       "      <th></th>\n",
       "      <th>motif</th>\n",
       "      <th>M</th>\n",
       "      <th>M_ag_p</th>\n",
       "      <th>M_ag_n</th>\n",
       "    </tr>\n",
       "  </thead>\n",
       "  <tbody>\n",
       "    <tr>\n",
       "      <th>55</th>\n",
       "      <td>.........Y.</td>\n",
       "      <td>7213</td>\n",
       "      <td>4634</td>\n",
       "      <td>2579</td>\n",
       "    </tr>\n",
       "    <tr>\n",
       "      <th>147</th>\n",
       "      <td>..........W</td>\n",
       "      <td>7128</td>\n",
       "      <td>4126</td>\n",
       "      <td>3002</td>\n",
       "    </tr>\n",
       "    <tr>\n",
       "      <th>40</th>\n",
       "      <td>.......F...</td>\n",
       "      <td>5916</td>\n",
       "      <td>3453</td>\n",
       "      <td>2463</td>\n",
       "    </tr>\n",
       "    <tr>\n",
       "      <th>163</th>\n",
       "      <td>C..........</td>\n",
       "      <td>5855</td>\n",
       "      <td>4505</td>\n",
       "      <td>1350</td>\n",
       "    </tr>\n",
       "    <tr>\n",
       "      <th>174</th>\n",
       "      <td>........D..</td>\n",
       "      <td>5490</td>\n",
       "      <td>2962</td>\n",
       "      <td>2528</td>\n",
       "    </tr>\n",
       "  </tbody>\n",
       "</table>\n",
       "</div>"
      ],
      "text/plain": [
       "           motif     M  M_ag_p  M_ag_n\n",
       "55   .........Y.  7213    4634    2579\n",
       "147  ..........W  7128    4126    3002\n",
       "40   .......F...  5916    3453    2463\n",
       "163  C..........  5855    4505    1350\n",
       "174  ........D..  5490    2962    2528"
      ]
     },
     "execution_count": 52,
     "metadata": {},
     "output_type": "execute_result"
    }
   ],
   "source": [
    "df_train_ag_p = df_train.loc[df_train[\"Antigen\"] == ag_pos]\n",
    "df_train_ag_n = df_train.ldef count_motifs(motifs, df_train_ag_p, df_train_ag_n):\n",
    "oc[df_train[\"Antigen\"] == ag_neg]\n",
    "\n",
    "N = df_train.shape[0]\n",
    "N_ag_p = df_train_ag_p.shape[0]\n",
    "N_ag_n = df_train_ag_n.shape[0]\n",
    "\n",
    "def count_motifs(motifs, df_train_ag_p, df_train_ag_n):\n",
    "    records = []\n",
    "    for motif in motifs:\n",
    "        M = df_train[\"Slide\"].str.contains(pat=motif).sum()\n",
    "        M_ag_p = df_train_ag_p[\"Slide\"].str.contains(pat=motif).sum()\n",
    "        M_ag_n = df_train_ag_n[\"Slide\"].str.contains(pat=motif).sum()\n",
    "        records.append({\n",
    "        \"motif\": motif,\n",
    "        \"M\": M,\n",
    "        \"M_ag_p\": M_ag_p,\n",
    "        \"M_ag_n\": M_ag_n,\n",
    "    })        \n",
    "    return pd.DataFrame.from_records(records)\n",
    "\n",
    "df_1 = count_motifs(motifs_1, df_train_ag_p, df_train_ag_n)\n",
    "df_1 = df_1.sort_values(by=\"M\", ascending=False)\n",
    "df_1.head()"
   ]
  },
  {
   "cell_type": "code",
   "execution_count": 50,
   "metadata": {},
   "outputs": [
    {
     "data": {
      "text/html": [
       "<div>\n",
       "<style scoped>\n",
       "    .dataframe tbody tr th:only-of-type {\n",
       "        vertical-align: middle;\n",
       "    }\n",
       "\n",
       "    .dataframe tbody tr th {\n",
       "        vertical-align: top;\n",
       "    }\n",
       "\n",
       "    .dataframe thead th {\n",
       "        text-align: right;\n",
       "    }\n",
       "</style>\n",
       "<table border=\"1\" class=\"dataframe\">\n",
       "  <thead>\n",
       "    <tr style=\"text-align: right;\">\n",
       "      <th></th>\n",
       "      <th>motif</th>\n",
       "      <th>M</th>\n",
       "      <th>M_ag_p</th>\n",
       "      <th>M_ag_n</th>\n",
       "      <th>acc</th>\n",
       "      <th>diff</th>\n",
       "      <th>acc_int</th>\n",
       "    </tr>\n",
       "  </thead>\n",
       "  <tbody>\n",
       "    <tr>\n",
       "      <th>163</th>\n",
       "      <td>C..........</td>\n",
       "      <td>5855</td>\n",
       "      <td>4505</td>\n",
       "      <td>1350</td>\n",
       "      <td>0.769428</td>\n",
       "      <td>3155</td>\n",
       "      <td>0.769428</td>\n",
       "    </tr>\n",
       "    <tr>\n",
       "      <th>79</th>\n",
       "      <td>.A.........</td>\n",
       "      <td>4767</td>\n",
       "      <td>3821</td>\n",
       "      <td>946</td>\n",
       "      <td>0.801552</td>\n",
       "      <td>2875</td>\n",
       "      <td>0.801552</td>\n",
       "    </tr>\n",
       "    <tr>\n",
       "      <th>96</th>\n",
       "      <td>..R........</td>\n",
       "      <td>4515</td>\n",
       "      <td>3454</td>\n",
       "      <td>1061</td>\n",
       "      <td>0.765006</td>\n",
       "      <td>2393</td>\n",
       "      <td>0.765006</td>\n",
       "    </tr>\n",
       "    <tr>\n",
       "      <th>209</th>\n",
       "      <td>.L.........</td>\n",
       "      <td>3356</td>\n",
       "      <td>540</td>\n",
       "      <td>2816</td>\n",
       "      <td>0.839094</td>\n",
       "      <td>2276</td>\n",
       "      <td>0.839094</td>\n",
       "    </tr>\n",
       "    <tr>\n",
       "      <th>216</th>\n",
       "      <td>......L....</td>\n",
       "      <td>4261</td>\n",
       "      <td>3216</td>\n",
       "      <td>1045</td>\n",
       "      <td>0.754752</td>\n",
       "      <td>2171</td>\n",
       "      <td>0.754752</td>\n",
       "    </tr>\n",
       "    <tr>\n",
       "      <th>55</th>\n",
       "      <td>.........Y.</td>\n",
       "      <td>7213</td>\n",
       "      <td>4634</td>\n",
       "      <td>2579</td>\n",
       "      <td>0.642451</td>\n",
       "      <td>2055</td>\n",
       "      <td>0.642451</td>\n",
       "    </tr>\n",
       "    <tr>\n",
       "      <th>67</th>\n",
       "      <td>.......L...</td>\n",
       "      <td>3778</td>\n",
       "      <td>2758</td>\n",
       "      <td>1020</td>\n",
       "      <td>0.730016</td>\n",
       "      <td>1738</td>\n",
       "      <td>0.730016</td>\n",
       "    </tr>\n",
       "    <tr>\n",
       "      <th>18</th>\n",
       "      <td>..L........</td>\n",
       "      <td>2400</td>\n",
       "      <td>354</td>\n",
       "      <td>2046</td>\n",
       "      <td>0.852500</td>\n",
       "      <td>1692</td>\n",
       "      <td>0.852500</td>\n",
       "    </tr>\n",
       "    <tr>\n",
       "      <th>200</th>\n",
       "      <td>.....L.....</td>\n",
       "      <td>5432</td>\n",
       "      <td>3356</td>\n",
       "      <td>2076</td>\n",
       "      <td>0.617820</td>\n",
       "      <td>1280</td>\n",
       "      <td>0.617820</td>\n",
       "    </tr>\n",
       "    <tr>\n",
       "      <th>199</th>\n",
       "      <td>.........D.</td>\n",
       "      <td>1283</td>\n",
       "      <td>76</td>\n",
       "      <td>1207</td>\n",
       "      <td>0.940764</td>\n",
       "      <td>1131</td>\n",
       "      <td>0.940764</td>\n",
       "    </tr>\n",
       "    <tr>\n",
       "      <th>147</th>\n",
       "      <td>..........W</td>\n",
       "      <td>7128</td>\n",
       "      <td>4126</td>\n",
       "      <td>3002</td>\n",
       "      <td>0.578844</td>\n",
       "      <td>1124</td>\n",
       "      <td>0.578844</td>\n",
       "    </tr>\n",
       "    <tr>\n",
       "      <th>91</th>\n",
       "      <td>........F..</td>\n",
       "      <td>1419</td>\n",
       "      <td>151</td>\n",
       "      <td>1268</td>\n",
       "      <td>0.893587</td>\n",
       "      <td>1117</td>\n",
       "      <td>0.893587</td>\n",
       "    </tr>\n",
       "    <tr>\n",
       "      <th>61</th>\n",
       "      <td>..........F</td>\n",
       "      <td>4141</td>\n",
       "      <td>2596</td>\n",
       "      <td>1545</td>\n",
       "      <td>0.626902</td>\n",
       "      <td>1051</td>\n",
       "      <td>0.626902</td>\n",
       "    </tr>\n",
       "    <tr>\n",
       "      <th>40</th>\n",
       "      <td>.......F...</td>\n",
       "      <td>5916</td>\n",
       "      <td>3453</td>\n",
       "      <td>2463</td>\n",
       "      <td>0.583671</td>\n",
       "      <td>990</td>\n",
       "      <td>0.583671</td>\n",
       "    </tr>\n",
       "    <tr>\n",
       "      <th>14</th>\n",
       "      <td>.......Y...</td>\n",
       "      <td>2011</td>\n",
       "      <td>567</td>\n",
       "      <td>1444</td>\n",
       "      <td>0.718051</td>\n",
       "      <td>877</td>\n",
       "      <td>0.718051</td>\n",
       "    </tr>\n",
       "    <tr>\n",
       "      <th>135</th>\n",
       "      <td>....G......</td>\n",
       "      <td>1917</td>\n",
       "      <td>1377</td>\n",
       "      <td>540</td>\n",
       "      <td>0.718310</td>\n",
       "      <td>837</td>\n",
       "      <td>0.718310</td>\n",
       "    </tr>\n",
       "    <tr>\n",
       "      <th>197</th>\n",
       "      <td>..........Y</td>\n",
       "      <td>1785</td>\n",
       "      <td>497</td>\n",
       "      <td>1288</td>\n",
       "      <td>0.721569</td>\n",
       "      <td>791</td>\n",
       "      <td>0.721569</td>\n",
       "    </tr>\n",
       "    <tr>\n",
       "      <th>129</th>\n",
       "      <td>.....W.....</td>\n",
       "      <td>2894</td>\n",
       "      <td>1841</td>\n",
       "      <td>1053</td>\n",
       "      <td>0.636144</td>\n",
       "      <td>788</td>\n",
       "      <td>0.636144</td>\n",
       "    </tr>\n",
       "    <tr>\n",
       "      <th>143</th>\n",
       "      <td>R..........</td>\n",
       "      <td>1039</td>\n",
       "      <td>158</td>\n",
       "      <td>881</td>\n",
       "      <td>0.847931</td>\n",
       "      <td>723</td>\n",
       "      <td>0.847931</td>\n",
       "    </tr>\n",
       "    <tr>\n",
       "      <th>7</th>\n",
       "      <td>A..........</td>\n",
       "      <td>1819</td>\n",
       "      <td>625</td>\n",
       "      <td>1194</td>\n",
       "      <td>0.656405</td>\n",
       "      <td>569</td>\n",
       "      <td>0.656405</td>\n",
       "    </tr>\n",
       "  </tbody>\n",
       "</table>\n",
       "</div>"
      ],
      "text/plain": [
       "           motif     M  M_ag_p  M_ag_n       acc  diff   acc_int\n",
       "163  C..........  5855    4505    1350  0.769428  3155  0.769428\n",
       "79   .A.........  4767    3821     946  0.801552  2875  0.801552\n",
       "96   ..R........  4515    3454    1061  0.765006  2393  0.765006\n",
       "209  .L.........  3356     540    2816  0.839094  2276  0.839094\n",
       "216  ......L....  4261    3216    1045  0.754752  2171  0.754752\n",
       "55   .........Y.  7213    4634    2579  0.642451  2055  0.642451\n",
       "67   .......L...  3778    2758    1020  0.730016  1738  0.730016\n",
       "18   ..L........  2400     354    2046  0.852500  1692  0.852500\n",
       "200  .....L.....  5432    3356    2076  0.617820  1280  0.617820\n",
       "199  .........D.  1283      76    1207  0.940764  1131  0.940764\n",
       "147  ..........W  7128    4126    3002  0.578844  1124  0.578844\n",
       "91   ........F..  1419     151    1268  0.893587  1117  0.893587\n",
       "61   ..........F  4141    2596    1545  0.626902  1051  0.626902\n",
       "40   .......F...  5916    3453    2463  0.583671   990  0.583671\n",
       "14   .......Y...  2011     567    1444  0.718051   877  0.718051\n",
       "135  ....G......  1917    1377     540  0.718310   837  0.718310\n",
       "197  ..........Y  1785     497    1288  0.721569   791  0.721569\n",
       "129  .....W.....  2894    1841    1053  0.636144   788  0.636144\n",
       "143  R..........  1039     158     881  0.847931   723  0.847931\n",
       "7    A..........  1819     625    1194  0.656405   569  0.656405"
      ]
     },
     "execution_count": 50,
     "metadata": {},
     "output_type": "execute_result"
    }
   ],
   "source": [
    "df_1[\"acc_int\"] = df_1[[\"M_ag_p\", \"M_ag_n\"]].apply(max, axis=1) / df_1[\"M\"]\n",
    "df_1[\"diff\"] = abs(df_1[\"M_ag_p\"] - df_1[\"M_ag_n\"])\n",
    "\n",
    "# df_1.sort_values([\"acc_int\", \"M\"], ascending=[False, False]).head(20)\n",
    "df_1 = df_1.sort_values(by=\"diff\", ascending=False)\n",
    "df_1.head(20)"
   ]
  },
  {
   "cell_type": "code",
   "execution_count": 51,
   "metadata": {},
   "outputs": [
    {
     "data": {
      "text/plain": [
       "<AxesSubplot:>"
      ]
     },
     "execution_count": 51,
     "metadata": {},
     "output_type": "execute_result"
    },
    {
     "data": {
      "image/png": "[encoded data removed]",
      "text/plain": [
       "<Figure size 640x480 with 1 Axes>"
      ]
     },
     "metadata": {},
     "output_type": "display_data"
    }
   ],
   "source": [
    "df_1[\"acc_int\"].hist(bins=20)"
   ]
  },
  {
   "attachments": {},
   "cell_type": "markdown",
   "metadata": {},
   "source": [
    "Faster version"
   ]
  },
  {
   "cell_type": "code",
   "execution_count": 53,
   "metadata": {},
   "outputs": [],
   "source": [
    "def record_motif(motifs, ag, motif):\n",
    "    if motif not in motifs:\n",
    "        motifs[motif] = {\"M\": 0, \"M_p\": 0, \"M_n\": 0}\n",
    "    motifs[motif][\"M\"] += 1\n",
    "    if ag == ag_pos:\n",
    "        motifs[motif][\"M_p\"] += 1\n",
    "    else:\n",
    "        motifs[motif][\"M_n\"] += 1\n",
    "    return motifs\n",
    "\n",
    "\n",
    "motifs = {}\n",
    "for i, row in df_train.iterrows():\n",
    "    ag = row[\"Antigen\"]\n",
    "    slide = row[\"Slide\"]\n",
    "    \n",
    "    # 1-motifs\n",
    "    for i, aa in enumerate(slide):\n",
    "        motif = \".\"*i + aa + \".\"*(11-i-1)    \n",
    "        motifs = record_motif(motifs, ag, motif)\n",
    "    \n",
    "    # 2-motifs\n",
    "    for i, aa_i in enumerate(slide):\n",
    "        for x, aa_j in enumerate(slide[i+1:]):\n",
    "            j = x+i+1\n",
    "            motif = \".\"*(i) + aa_i + \".\"*x + aa_j + \".\"*(11-j-1)\n",
    "            motifs = record_motif(motifs, ag, motif)\n",
    "\n",
    "    # 3 amino acids\n",
    "    # TODO"
   ]
  },
  {
   "cell_type": "code",
   "execution_count": 78,
   "metadata": {},
   "outputs": [
    {
     "data": {
      "text/html": [
       "<div>\n",
       "<style scoped>\n",
       "    .dataframe tbody tr th:only-of-type {\n",
       "        vertical-align: middle;\n",
       "    }\n",
       "\n",
       "    .dataframe tbody tr th {\n",
       "        vertical-align: top;\n",
       "    }\n",
       "\n",
       "    .dataframe thead th {\n",
       "        text-align: right;\n",
       "    }\n",
       "</style>\n",
       "<table border=\"1\" class=\"dataframe\">\n",
       "  <thead>\n",
       "    <tr style=\"text-align: right;\">\n",
       "      <th></th>\n",
       "      <th>motif</th>\n",
       "      <th>M</th>\n",
       "      <th>M_p</th>\n",
       "      <th>M_n</th>\n",
       "      <th>is_motif_1</th>\n",
       "      <th>is_motif_2</th>\n",
       "      <th>acc_int</th>\n",
       "      <th>acc</th>\n",
       "      <th>diff</th>\n",
       "    </tr>\n",
       "  </thead>\n",
       "  <tbody>\n",
       "    <tr>\n",
       "      <th>188</th>\n",
       "      <td>C..........</td>\n",
       "      <td>5855</td>\n",
       "      <td>4505</td>\n",
       "      <td>1350</td>\n",
       "      <td>True</td>\n",
       "      <td>False</td>\n",
       "      <td>0.769428</td>\n",
       "      <td>0.598594</td>\n",
       "      <td>3155</td>\n",
       "    </tr>\n",
       "    <tr>\n",
       "      <th>189</th>\n",
       "      <td>.A.........</td>\n",
       "      <td>4767</td>\n",
       "      <td>3821</td>\n",
       "      <td>946</td>\n",
       "      <td>True</td>\n",
       "      <td>False</td>\n",
       "      <td>0.801552</td>\n",
       "      <td>0.589844</td>\n",
       "      <td>2875</td>\n",
       "    </tr>\n",
       "    <tr>\n",
       "      <th>196</th>\n",
       "      <td>CA.........</td>\n",
       "      <td>4519</td>\n",
       "      <td>3642</td>\n",
       "      <td>877</td>\n",
       "      <td>False</td>\n",
       "      <td>True</td>\n",
       "      <td>0.805931</td>\n",
       "      <td>0.586406</td>\n",
       "      <td>2765</td>\n",
       "    </tr>\n",
       "    <tr>\n",
       "      <th>197</th>\n",
       "      <td>C.R........</td>\n",
       "      <td>3807</td>\n",
       "      <td>3141</td>\n",
       "      <td>666</td>\n",
       "      <td>False</td>\n",
       "      <td>True</td>\n",
       "      <td>0.825059</td>\n",
       "      <td>0.577344</td>\n",
       "      <td>2475</td>\n",
       "    </tr>\n",
       "    <tr>\n",
       "      <th>190</th>\n",
       "      <td>..R........</td>\n",
       "      <td>4515</td>\n",
       "      <td>3454</td>\n",
       "      <td>1061</td>\n",
       "      <td>True</td>\n",
       "      <td>False</td>\n",
       "      <td>0.765006</td>\n",
       "      <td>0.574781</td>\n",
       "      <td>2393</td>\n",
       "    </tr>\n",
       "    <tr>\n",
       "      <th>1</th>\n",
       "      <td>.L.........</td>\n",
       "      <td>3356</td>\n",
       "      <td>540</td>\n",
       "      <td>2816</td>\n",
       "      <td>True</td>\n",
       "      <td>False</td>\n",
       "      <td>0.839094</td>\n",
       "      <td>0.571125</td>\n",
       "      <td>2276</td>\n",
       "    </tr>\n",
       "    <tr>\n",
       "      <th>206</th>\n",
       "      <td>.AR........</td>\n",
       "      <td>3362</td>\n",
       "      <td>2812</td>\n",
       "      <td>550</td>\n",
       "      <td>False</td>\n",
       "      <td>True</td>\n",
       "      <td>0.836407</td>\n",
       "      <td>0.570688</td>\n",
       "      <td>2262</td>\n",
       "    </tr>\n",
       "    <tr>\n",
       "      <th>811</th>\n",
       "      <td>......L....</td>\n",
       "      <td>4261</td>\n",
       "      <td>3216</td>\n",
       "      <td>1045</td>\n",
       "      <td>True</td>\n",
       "      <td>False</td>\n",
       "      <td>0.754752</td>\n",
       "      <td>0.567844</td>\n",
       "      <td>2171</td>\n",
       "    </tr>\n",
       "    <tr>\n",
       "      <th>366</th>\n",
       "      <td>C........Y.</td>\n",
       "      <td>2797</td>\n",
       "      <td>2452</td>\n",
       "      <td>345</td>\n",
       "      <td>False</td>\n",
       "      <td>True</td>\n",
       "      <td>0.876654</td>\n",
       "      <td>0.565844</td>\n",
       "      <td>2107</td>\n",
       "    </tr>\n",
       "    <tr>\n",
       "      <th>257</th>\n",
       "      <td>.........Y.</td>\n",
       "      <td>7213</td>\n",
       "      <td>4634</td>\n",
       "      <td>2579</td>\n",
       "      <td>True</td>\n",
       "      <td>False</td>\n",
       "      <td>0.642451</td>\n",
       "      <td>0.564219</td>\n",
       "      <td>2055</td>\n",
       "    </tr>\n",
       "    <tr>\n",
       "      <th>817</th>\n",
       "      <td>C.....L....</td>\n",
       "      <td>2743</td>\n",
       "      <td>2316</td>\n",
       "      <td>427</td>\n",
       "      <td>False</td>\n",
       "      <td>True</td>\n",
       "      <td>0.844331</td>\n",
       "      <td>0.559031</td>\n",
       "      <td>1889</td>\n",
       "    </tr>\n",
       "    <tr>\n",
       "      <th>375</th>\n",
       "      <td>.A.......Y.</td>\n",
       "      <td>2231</td>\n",
       "      <td>2029</td>\n",
       "      <td>202</td>\n",
       "      <td>False</td>\n",
       "      <td>True</td>\n",
       "      <td>0.909458</td>\n",
       "      <td>0.557094</td>\n",
       "      <td>1827</td>\n",
       "    </tr>\n",
       "    <tr>\n",
       "      <th>194</th>\n",
       "      <td>.......L...</td>\n",
       "      <td>3778</td>\n",
       "      <td>2758</td>\n",
       "      <td>1020</td>\n",
       "      <td>True</td>\n",
       "      <td>False</td>\n",
       "      <td>0.730016</td>\n",
       "      <td>0.554312</td>\n",
       "      <td>1738</td>\n",
       "    </tr>\n",
       "    <tr>\n",
       "      <th>202</th>\n",
       "      <td>C......L...</td>\n",
       "      <td>2643</td>\n",
       "      <td>2188</td>\n",
       "      <td>455</td>\n",
       "      <td>False</td>\n",
       "      <td>True</td>\n",
       "      <td>0.827847</td>\n",
       "      <td>0.554156</td>\n",
       "      <td>1733</td>\n",
       "    </tr>\n",
       "    <tr>\n",
       "      <th>2</th>\n",
       "      <td>..L........</td>\n",
       "      <td>2400</td>\n",
       "      <td>354</td>\n",
       "      <td>2046</td>\n",
       "      <td>True</td>\n",
       "      <td>False</td>\n",
       "      <td>0.852500</td>\n",
       "      <td>0.552875</td>\n",
       "      <td>1692</td>\n",
       "    </tr>\n",
       "    <tr>\n",
       "      <th>823</th>\n",
       "      <td>.A....L....</td>\n",
       "      <td>2313</td>\n",
       "      <td>1979</td>\n",
       "      <td>334</td>\n",
       "      <td>False</td>\n",
       "      <td>True</td>\n",
       "      <td>0.855599</td>\n",
       "      <td>0.551406</td>\n",
       "      <td>1645</td>\n",
       "    </tr>\n",
       "    <tr>\n",
       "      <th>829</th>\n",
       "      <td>..R...L....</td>\n",
       "      <td>2283</td>\n",
       "      <td>1957</td>\n",
       "      <td>326</td>\n",
       "      <td>False</td>\n",
       "      <td>True</td>\n",
       "      <td>0.857205</td>\n",
       "      <td>0.550969</td>\n",
       "      <td>1631</td>\n",
       "    </tr>\n",
       "    <tr>\n",
       "      <th>850</th>\n",
       "      <td>......LL...</td>\n",
       "      <td>2278</td>\n",
       "      <td>1954</td>\n",
       "      <td>324</td>\n",
       "      <td>False</td>\n",
       "      <td>True</td>\n",
       "      <td>0.857770</td>\n",
       "      <td>0.550937</td>\n",
       "      <td>1630</td>\n",
       "    </tr>\n",
       "    <tr>\n",
       "      <th>447</th>\n",
       "      <td>C.........F</td>\n",
       "      <td>2350</td>\n",
       "      <td>1967</td>\n",
       "      <td>383</td>\n",
       "      <td>False</td>\n",
       "      <td>True</td>\n",
       "      <td>0.837021</td>\n",
       "      <td>0.549500</td>\n",
       "      <td>1584</td>\n",
       "    </tr>\n",
       "    <tr>\n",
       "      <th>458</th>\n",
       "      <td>..R......Y.</td>\n",
       "      <td>2106</td>\n",
       "      <td>1824</td>\n",
       "      <td>282</td>\n",
       "      <td>False</td>\n",
       "      <td>True</td>\n",
       "      <td>0.866097</td>\n",
       "      <td>0.548188</td>\n",
       "      <td>1542</td>\n",
       "    </tr>\n",
       "    <tr>\n",
       "      <th>211</th>\n",
       "      <td>.A.....L...</td>\n",
       "      <td>2281</td>\n",
       "      <td>1904</td>\n",
       "      <td>377</td>\n",
       "      <td>False</td>\n",
       "      <td>True</td>\n",
       "      <td>0.834722</td>\n",
       "      <td>0.547719</td>\n",
       "      <td>1527</td>\n",
       "    </tr>\n",
       "    <tr>\n",
       "      <th>200</th>\n",
       "      <td>C....L.....</td>\n",
       "      <td>2897</td>\n",
       "      <td>2193</td>\n",
       "      <td>704</td>\n",
       "      <td>False</td>\n",
       "      <td>True</td>\n",
       "      <td>0.756990</td>\n",
       "      <td>0.546531</td>\n",
       "      <td>1489</td>\n",
       "    </tr>\n",
       "    <tr>\n",
       "      <th>219</th>\n",
       "      <td>..R....L...</td>\n",
       "      <td>2236</td>\n",
       "      <td>1857</td>\n",
       "      <td>379</td>\n",
       "      <td>False</td>\n",
       "      <td>True</td>\n",
       "      <td>0.830501</td>\n",
       "      <td>0.546188</td>\n",
       "      <td>1478</td>\n",
       "    </tr>\n",
       "    <tr>\n",
       "      <th>452</th>\n",
       "      <td>.A........F</td>\n",
       "      <td>1966</td>\n",
       "      <td>1689</td>\n",
       "      <td>277</td>\n",
       "      <td>False</td>\n",
       "      <td>True</td>\n",
       "      <td>0.859105</td>\n",
       "      <td>0.544125</td>\n",
       "      <td>1412</td>\n",
       "    </tr>\n",
       "    <tr>\n",
       "      <th>459</th>\n",
       "      <td>..R.......F</td>\n",
       "      <td>1931</td>\n",
       "      <td>1653</td>\n",
       "      <td>278</td>\n",
       "      <td>False</td>\n",
       "      <td>True</td>\n",
       "      <td>0.856033</td>\n",
       "      <td>0.542969</td>\n",
       "      <td>1375</td>\n",
       "    </tr>\n",
       "    <tr>\n",
       "      <th>935</th>\n",
       "      <td>......L..Y.</td>\n",
       "      <td>2208</td>\n",
       "      <td>1787</td>\n",
       "      <td>421</td>\n",
       "      <td>False</td>\n",
       "      <td>True</td>\n",
       "      <td>0.809330</td>\n",
       "      <td>0.542687</td>\n",
       "      <td>1366</td>\n",
       "    </tr>\n",
       "    <tr>\n",
       "      <th>209</th>\n",
       "      <td>.A...L.....</td>\n",
       "      <td>2354</td>\n",
       "      <td>1829</td>\n",
       "      <td>525</td>\n",
       "      <td>False</td>\n",
       "      <td>True</td>\n",
       "      <td>0.776975</td>\n",
       "      <td>0.540750</td>\n",
       "      <td>1304</td>\n",
       "    </tr>\n",
       "    <tr>\n",
       "      <th>409</th>\n",
       "      <td>.........YW</td>\n",
       "      <td>4363</td>\n",
       "      <td>2827</td>\n",
       "      <td>1536</td>\n",
       "      <td>False</td>\n",
       "      <td>True</td>\n",
       "      <td>0.647949</td>\n",
       "      <td>0.540344</td>\n",
       "      <td>1291</td>\n",
       "    </tr>\n",
       "    <tr>\n",
       "      <th>192</th>\n",
       "      <td>.....L.....</td>\n",
       "      <td>5432</td>\n",
       "      <td>3356</td>\n",
       "      <td>2076</td>\n",
       "      <td>True</td>\n",
       "      <td>False</td>\n",
       "      <td>0.617820</td>\n",
       "      <td>0.540000</td>\n",
       "      <td>1280</td>\n",
       "    </tr>\n",
       "    <tr>\n",
       "      <th>476</th>\n",
       "      <td>.....L...Y.</td>\n",
       "      <td>2768</td>\n",
       "      <td>2020</td>\n",
       "      <td>748</td>\n",
       "      <td>False</td>\n",
       "      <td>True</td>\n",
       "      <td>0.729769</td>\n",
       "      <td>0.539750</td>\n",
       "      <td>1272</td>\n",
       "    </tr>\n",
       "  </tbody>\n",
       "</table>\n",
       "</div>"
      ],
      "text/plain": [
       "           motif     M   M_p   M_n  is_motif_1  is_motif_2   acc_int  \\\n",
       "188  C..........  5855  4505  1350        True       False  0.769428   \n",
       "189  .A.........  4767  3821   946        True       False  0.801552   \n",
       "196  CA.........  4519  3642   877       False        True  0.805931   \n",
       "197  C.R........  3807  3141   666       False        True  0.825059   \n",
       "190  ..R........  4515  3454  1061        True       False  0.765006   \n",
       "1    .L.........  3356   540  2816        True       False  0.839094   \n",
       "206  .AR........  3362  2812   550       False        True  0.836407   \n",
       "811  ......L....  4261  3216  1045        True       False  0.754752   \n",
       "366  C........Y.  2797  2452   345       False        True  0.876654   \n",
       "257  .........Y.  7213  4634  2579        True       False  0.642451   \n",
       "817  C.....L....  2743  2316   427       False        True  0.844331   \n",
       "375  .A.......Y.  2231  2029   202       False        True  0.909458   \n",
       "194  .......L...  3778  2758  1020        True       False  0.730016   \n",
       "202  C......L...  2643  2188   455       False        True  0.827847   \n",
       "2    ..L........  2400   354  2046        True       False  0.852500   \n",
       "823  .A....L....  2313  1979   334       False        True  0.855599   \n",
       "829  ..R...L....  2283  1957   326       False        True  0.857205   \n",
       "850  ......LL...  2278  1954   324       False        True  0.857770   \n",
       "447  C.........F  2350  1967   383       False        True  0.837021   \n",
       "458  ..R......Y.  2106  1824   282       False        True  0.866097   \n",
       "211  .A.....L...  2281  1904   377       False        True  0.834722   \n",
       "200  C....L.....  2897  2193   704       False        True  0.756990   \n",
       "219  ..R....L...  2236  1857   379       False        True  0.830501   \n",
       "452  .A........F  1966  1689   277       False        True  0.859105   \n",
       "459  ..R.......F  1931  1653   278       False        True  0.856033   \n",
       "935  ......L..Y.  2208  1787   421       False        True  0.809330   \n",
       "209  .A...L.....  2354  1829   525       False        True  0.776975   \n",
       "409  .........YW  4363  2827  1536       False        True  0.647949   \n",
       "192  .....L.....  5432  3356  2076        True       False  0.617820   \n",
       "476  .....L...Y.  2768  2020   748       False        True  0.729769   \n",
       "\n",
       "          acc  diff  \n",
       "188  0.598594  3155  \n",
       "189  0.589844  2875  \n",
       "196  0.586406  2765  \n",
       "197  0.577344  2475  \n",
       "190  0.574781  2393  \n",
       "1    0.571125  2276  \n",
       "206  0.570688  2262  \n",
       "811  0.567844  2171  \n",
       "366  0.565844  2107  \n",
       "257  0.564219  2055  \n",
       "817  0.559031  1889  \n",
       "375  0.557094  1827  \n",
       "194  0.554312  1738  \n",
       "202  0.554156  1733  \n",
       "2    0.552875  1692  \n",
       "823  0.551406  1645  \n",
       "829  0.550969  1631  \n",
       "850  0.550937  1630  \n",
       "447  0.549500  1584  \n",
       "458  0.548188  1542  \n",
       "211  0.547719  1527  \n",
       "200  0.546531  1489  \n",
       "219  0.546188  1478  \n",
       "452  0.544125  1412  \n",
       "459  0.542969  1375  \n",
       "935  0.542687  1366  \n",
       "209  0.540750  1304  \n",
       "409  0.540344  1291  \n",
       "192  0.540000  1280  \n",
       "476  0.539750  1272  "
      ]
     },
     "execution_count": 78,
     "metadata": {},
     "output_type": "execute_result"
    }
   ],
   "source": [
    "df_motifs = pd.DataFrame.from_dict(motifs, orient='index')\n",
    "df_motifs = df_motifs.reset_index().rename(columns={\"index\": \"motif\"})\n",
    "df_motifs[\"is_motif_1\"] = df_motifs[\"motif\"].str.count(\"\\.\") == 10\n",
    "df_motifs[\"is_motif_2\"] = df_motifs[\"motif\"].str.count(\"\\.\") == 9\n",
    "\n",
    "df_motifs[\"acc_int\"] = df_motifs[[\"M_p\", \"M_n\"]].apply(max, axis=1) / df_motifs[\"M\"]\n",
    "df_motifs[\"acc\"] = ( df_motifs[\"acc_int\"] * df_motifs[\"M\"] + 0.5 * (N - df_motifs[\"M\"]) ) / N\n",
    "\n",
    "df_motifs[\"diff\"] = abs(df_motifs[\"M_p\"] - df_motifs[\"M_n\"])\n",
    "\n",
    "df_motifs = df_motifs.sort_values(by=\"acc\", ascending=False)\n",
    "\n",
    "df_motifs.head(30)"
   ]
  },
  {
   "cell_type": "code",
   "execution_count": 79,
   "metadata": {},
   "outputs": [
    {
     "data": {
      "text/plain": [
       "<AxesSubplot:xlabel='M', ylabel='acc_int'>"
      ]
     },
     "execution_count": 79,
     "metadata": {},
     "output_type": "execute_result"
    },
    {
     "data": {
      "image/png": "[encoded data removed]",
      "text/plain": [
       "<Figure size 640x480 with 1 Axes>"
      ]
     },
     "metadata": {},
     "output_type": "display_data"
    }
   ],
   "source": [
    "sns.scatterplot(data=df_motifs, x=\"M\", y=\"acc_int\", hue=\"is_motif_1\")"
   ]
  },
  {
   "attachments": {},
   "cell_type": "markdown",
   "metadata": {},
   "source": [
    "Evaluate model on rule set"
   ]
  },
  {
   "cell_type": "code",
   "execution_count": 92,
   "metadata": {},
   "outputs": [
    {
     "name": "stdout",
     "output_type": "stream",
     "text": [
      "(51, 9)\n"
     ]
    },
    {
     "data": {
      "text/html": [
       "<div>\n",
       "<style scoped>\n",
       "    .dataframe tbody tr th:only-of-type {\n",
       "        vertical-align: middle;\n",
       "    }\n",
       "\n",
       "    .dataframe tbody tr th {\n",
       "        vertical-align: top;\n",
       "    }\n",
       "\n",
       "    .dataframe thead th {\n",
       "        text-align: right;\n",
       "    }\n",
       "</style>\n",
       "<table border=\"1\" class=\"dataframe\">\n",
       "  <thead>\n",
       "    <tr style=\"text-align: right;\">\n",
       "      <th></th>\n",
       "      <th>motif</th>\n",
       "      <th>M</th>\n",
       "      <th>M_p</th>\n",
       "      <th>M_n</th>\n",
       "      <th>is_motif_1</th>\n",
       "      <th>is_motif_2</th>\n",
       "      <th>acc_int</th>\n",
       "      <th>acc</th>\n",
       "      <th>diff</th>\n",
       "    </tr>\n",
       "  </thead>\n",
       "  <tbody>\n",
       "    <tr>\n",
       "      <th>366</th>\n",
       "      <td>C........Y.</td>\n",
       "      <td>2797</td>\n",
       "      <td>2452</td>\n",
       "      <td>345</td>\n",
       "      <td>False</td>\n",
       "      <td>True</td>\n",
       "      <td>0.876654</td>\n",
       "      <td>0.565844</td>\n",
       "      <td>2107</td>\n",
       "    </tr>\n",
       "    <tr>\n",
       "      <th>375</th>\n",
       "      <td>.A.......Y.</td>\n",
       "      <td>2231</td>\n",
       "      <td>2029</td>\n",
       "      <td>202</td>\n",
       "      <td>False</td>\n",
       "      <td>True</td>\n",
       "      <td>0.909458</td>\n",
       "      <td>0.557094</td>\n",
       "      <td>1827</td>\n",
       "    </tr>\n",
       "    <tr>\n",
       "      <th>2</th>\n",
       "      <td>..L........</td>\n",
       "      <td>2400</td>\n",
       "      <td>354</td>\n",
       "      <td>2046</td>\n",
       "      <td>True</td>\n",
       "      <td>False</td>\n",
       "      <td>0.852500</td>\n",
       "      <td>0.552875</td>\n",
       "      <td>1692</td>\n",
       "    </tr>\n",
       "    <tr>\n",
       "      <th>823</th>\n",
       "      <td>.A....L....</td>\n",
       "      <td>2313</td>\n",
       "      <td>1979</td>\n",
       "      <td>334</td>\n",
       "      <td>False</td>\n",
       "      <td>True</td>\n",
       "      <td>0.855599</td>\n",
       "      <td>0.551406</td>\n",
       "      <td>1645</td>\n",
       "    </tr>\n",
       "    <tr>\n",
       "      <th>829</th>\n",
       "      <td>..R...L....</td>\n",
       "      <td>2283</td>\n",
       "      <td>1957</td>\n",
       "      <td>326</td>\n",
       "      <td>False</td>\n",
       "      <td>True</td>\n",
       "      <td>0.857205</td>\n",
       "      <td>0.550969</td>\n",
       "      <td>1631</td>\n",
       "    </tr>\n",
       "    <tr>\n",
       "      <th>850</th>\n",
       "      <td>......LL...</td>\n",
       "      <td>2278</td>\n",
       "      <td>1954</td>\n",
       "      <td>324</td>\n",
       "      <td>False</td>\n",
       "      <td>True</td>\n",
       "      <td>0.857770</td>\n",
       "      <td>0.550937</td>\n",
       "      <td>1630</td>\n",
       "    </tr>\n",
       "    <tr>\n",
       "      <th>458</th>\n",
       "      <td>..R......Y.</td>\n",
       "      <td>2106</td>\n",
       "      <td>1824</td>\n",
       "      <td>282</td>\n",
       "      <td>False</td>\n",
       "      <td>True</td>\n",
       "      <td>0.866097</td>\n",
       "      <td>0.548188</td>\n",
       "      <td>1542</td>\n",
       "    </tr>\n",
       "    <tr>\n",
       "      <th>452</th>\n",
       "      <td>.A........F</td>\n",
       "      <td>1966</td>\n",
       "      <td>1689</td>\n",
       "      <td>277</td>\n",
       "      <td>False</td>\n",
       "      <td>True</td>\n",
       "      <td>0.859105</td>\n",
       "      <td>0.544125</td>\n",
       "      <td>1412</td>\n",
       "    </tr>\n",
       "    <tr>\n",
       "      <th>459</th>\n",
       "      <td>..R.......F</td>\n",
       "      <td>1931</td>\n",
       "      <td>1653</td>\n",
       "      <td>278</td>\n",
       "      <td>False</td>\n",
       "      <td>True</td>\n",
       "      <td>0.856033</td>\n",
       "      <td>0.542969</td>\n",
       "      <td>1375</td>\n",
       "    </tr>\n",
       "    <tr>\n",
       "      <th>367</th>\n",
       "      <td>C.........W</td>\n",
       "      <td>1693</td>\n",
       "      <td>1460</td>\n",
       "      <td>233</td>\n",
       "      <td>False</td>\n",
       "      <td>True</td>\n",
       "      <td>0.862374</td>\n",
       "      <td>0.538344</td>\n",
       "      <td>1227</td>\n",
       "    </tr>\n",
       "    <tr>\n",
       "      <th>853</th>\n",
       "      <td>......L...F</td>\n",
       "      <td>1653</td>\n",
       "      <td>1422</td>\n",
       "      <td>231</td>\n",
       "      <td>False</td>\n",
       "      <td>True</td>\n",
       "      <td>0.860254</td>\n",
       "      <td>0.537219</td>\n",
       "      <td>1191</td>\n",
       "    </tr>\n",
       "    <tr>\n",
       "      <th>9</th>\n",
       "      <td>.........D.</td>\n",
       "      <td>1283</td>\n",
       "      <td>76</td>\n",
       "      <td>1207</td>\n",
       "      <td>True</td>\n",
       "      <td>False</td>\n",
       "      <td>0.940764</td>\n",
       "      <td>0.535344</td>\n",
       "      <td>1131</td>\n",
       "    </tr>\n",
       "    <tr>\n",
       "      <th>8</th>\n",
       "      <td>........F..</td>\n",
       "      <td>1419</td>\n",
       "      <td>151</td>\n",
       "      <td>1268</td>\n",
       "      <td>True</td>\n",
       "      <td>False</td>\n",
       "      <td>0.893587</td>\n",
       "      <td>0.534906</td>\n",
       "      <td>1117</td>\n",
       "    </tr>\n",
       "    <tr>\n",
       "      <th>376</th>\n",
       "      <td>.A........W</td>\n",
       "      <td>1309</td>\n",
       "      <td>1196</td>\n",
       "      <td>113</td>\n",
       "      <td>False</td>\n",
       "      <td>True</td>\n",
       "      <td>0.913675</td>\n",
       "      <td>0.533844</td>\n",
       "      <td>1083</td>\n",
       "    </tr>\n",
       "    <tr>\n",
       "      <th>21</th>\n",
       "      <td>.LL........</td>\n",
       "      <td>1184</td>\n",
       "      <td>80</td>\n",
       "      <td>1104</td>\n",
       "      <td>False</td>\n",
       "      <td>True</td>\n",
       "      <td>0.932432</td>\n",
       "      <td>0.532000</td>\n",
       "      <td>1024</td>\n",
       "    </tr>\n",
       "    <tr>\n",
       "      <th>444</th>\n",
       "      <td>C...G......</td>\n",
       "      <td>1157</td>\n",
       "      <td>1027</td>\n",
       "      <td>130</td>\n",
       "      <td>False</td>\n",
       "      <td>True</td>\n",
       "      <td>0.887640</td>\n",
       "      <td>0.528031</td>\n",
       "      <td>897</td>\n",
       "    </tr>\n",
       "    <tr>\n",
       "      <th>373</th>\n",
       "      <td>.A.....F...</td>\n",
       "      <td>1151</td>\n",
       "      <td>1005</td>\n",
       "      <td>146</td>\n",
       "      <td>False</td>\n",
       "      <td>True</td>\n",
       "      <td>0.873154</td>\n",
       "      <td>0.526844</td>\n",
       "      <td>859</td>\n",
       "    </tr>\n",
       "    <tr>\n",
       "      <th>63</th>\n",
       "      <td>........FD.</td>\n",
       "      <td>907</td>\n",
       "      <td>27</td>\n",
       "      <td>880</td>\n",
       "      <td>False</td>\n",
       "      <td>True</td>\n",
       "      <td>0.970232</td>\n",
       "      <td>0.526656</td>\n",
       "      <td>853</td>\n",
       "    </tr>\n",
       "    <tr>\n",
       "      <th>2022</th>\n",
       "      <td>....G.L....</td>\n",
       "      <td>933</td>\n",
       "      <td>855</td>\n",
       "      <td>78</td>\n",
       "      <td>False</td>\n",
       "      <td>True</td>\n",
       "      <td>0.916399</td>\n",
       "      <td>0.524281</td>\n",
       "      <td>777</td>\n",
       "    </tr>\n",
       "    <tr>\n",
       "      <th>449</th>\n",
       "      <td>.A..G......</td>\n",
       "      <td>968</td>\n",
       "      <td>872</td>\n",
       "      <td>96</td>\n",
       "      <td>False</td>\n",
       "      <td>True</td>\n",
       "      <td>0.900826</td>\n",
       "      <td>0.524250</td>\n",
       "      <td>776</td>\n",
       "    </tr>\n",
       "  </tbody>\n",
       "</table>\n",
       "</div>"
      ],
      "text/plain": [
       "            motif     M   M_p   M_n  is_motif_1  is_motif_2   acc_int  \\\n",
       "366   C........Y.  2797  2452   345       False        True  0.876654   \n",
       "375   .A.......Y.  2231  2029   202       False        True  0.909458   \n",
       "2     ..L........  2400   354  2046        True       False  0.852500   \n",
       "823   .A....L....  2313  1979   334       False        True  0.855599   \n",
       "829   ..R...L....  2283  1957   326       False        True  0.857205   \n",
       "850   ......LL...  2278  1954   324       False        True  0.857770   \n",
       "458   ..R......Y.  2106  1824   282       False        True  0.866097   \n",
       "452   .A........F  1966  1689   277       False        True  0.859105   \n",
       "459   ..R.......F  1931  1653   278       False        True  0.856033   \n",
       "367   C.........W  1693  1460   233       False        True  0.862374   \n",
       "853   ......L...F  1653  1422   231       False        True  0.860254   \n",
       "9     .........D.  1283    76  1207        True       False  0.940764   \n",
       "8     ........F..  1419   151  1268        True       False  0.893587   \n",
       "376   .A........W  1309  1196   113       False        True  0.913675   \n",
       "21    .LL........  1184    80  1104       False        True  0.932432   \n",
       "444   C...G......  1157  1027   130       False        True  0.887640   \n",
       "373   .A.....F...  1151  1005   146       False        True  0.873154   \n",
       "63    ........FD.   907    27   880       False        True  0.970232   \n",
       "2022  ....G.L....   933   855    78       False        True  0.916399   \n",
       "449   .A..G......   968   872    96       False        True  0.900826   \n",
       "\n",
       "           acc  diff  \n",
       "366   0.565844  2107  \n",
       "375   0.557094  1827  \n",
       "2     0.552875  1692  \n",
       "823   0.551406  1645  \n",
       "829   0.550969  1631  \n",
       "850   0.550937  1630  \n",
       "458   0.548188  1542  \n",
       "452   0.544125  1412  \n",
       "459   0.542969  1375  \n",
       "367   0.538344  1227  \n",
       "853   0.537219  1191  \n",
       "9     0.535344  1131  \n",
       "8     0.534906  1117  \n",
       "376   0.533844  1083  \n",
       "21    0.532000  1024  \n",
       "444   0.528031   897  \n",
       "373   0.526844   859  \n",
       "63    0.526656   853  \n",
       "2022  0.524281   777  \n",
       "449   0.524250   776  "
      ]
     },
     "execution_count": 92,
     "metadata": {},
     "output_type": "execute_result"
    }
   ],
   "source": [
    "df_motifs_sel = df_motifs.loc[(df_motifs[\"M\"] >= 500) & (df_motifs[\"acc_int\"] >= 0.85)].copy()\n",
    "print(df_motifs_sel.shape)\n",
    "df_motifs_sel.head(20)"
   ]
  },
  {
   "cell_type": "code",
   "execution_count": 95,
   "metadata": {},
   "outputs": [
    {
     "name": "stderr",
     "output_type": "stream",
     "text": [
      "/data/sources/eugen/negative-class-optimization/src/NegativeClassOptimization/NegativeClassOptimization/preprocessing.py:154: UserWarning: Not scaling onehot.\n",
      "  warnings.warn(\"Not scaling onehot.\")\n"
     ]
    },
    {
     "name": "stdout",
     "output_type": "stream",
     "text": [
      "Test Error: \n",
      " Acc: 89.0 Avg loss: 0.320359 \n",
      "\n"
     ]
    },
    {
     "name": "stderr",
     "output_type": "stream",
     "text": [
      "/data/sources/eugen/negative-class-optimization/src/NegativeClassOptimization/NegativeClassOptimization/preprocessing.py:154: UserWarning: Not scaling onehot.\n",
      "  warnings.warn(\"Not scaling onehot.\")\n"
     ]
    },
    {
     "name": "stdout",
     "output_type": "stream",
     "text": [
      "Test Error: \n",
      " Acc: 90.9 Avg loss: 0.285213 \n",
      "\n"
     ]
    },
    {
     "name": "stderr",
     "output_type": "stream",
     "text": [
      "/data/sources/eugen/negative-class-optimization/src/NegativeClassOptimization/NegativeClassOptimization/preprocessing.py:154: UserWarning: Not scaling onehot.\n",
      "  warnings.warn(\"Not scaling onehot.\")\n"
     ]
    },
    {
     "name": "stdout",
     "output_type": "stream",
     "text": [
      "Test Error: \n",
      " Acc: 89.8 Avg loss: 0.268021 \n",
      "\n"
     ]
    },
    {
     "name": "stderr",
     "output_type": "stream",
     "text": [
      "/data/sources/eugen/negative-class-optimization/src/NegativeClassOptimization/NegativeClassOptimization/preprocessing.py:154: UserWarning: Not scaling onehot.\n",
      "  warnings.warn(\"Not scaling onehot.\")\n"
     ]
    },
    {
     "name": "stdout",
     "output_type": "stream",
     "text": [
      "Test Error: \n",
      " Acc: 90.1 Avg loss: 0.294763 \n",
      "\n"
     ]
    },
    {
     "name": "stderr",
     "output_type": "stream",
     "text": [
      "/data/sources/eugen/negative-class-optimization/src/NegativeClassOptimization/NegativeClassOptimization/preprocessing.py:154: UserWarning: Not scaling onehot.\n",
      "  warnings.warn(\"Not scaling onehot.\")\n"
     ]
    },
    {
     "name": "stdout",
     "output_type": "stream",
     "text": [
      "Test Error: \n",
      " Acc: 89.4 Avg loss: 0.307611 \n",
      "\n"
     ]
    },
    {
     "name": "stderr",
     "output_type": "stream",
     "text": [
      "/data/sources/eugen/negative-class-optimization/src/NegativeClassOptimization/NegativeClassOptimization/preprocessing.py:154: UserWarning: Not scaling onehot.\n",
      "  warnings.warn(\"Not scaling onehot.\")\n"
     ]
    },
    {
     "name": "stdout",
     "output_type": "stream",
     "text": [
      "Test Error: \n",
      " Acc: 88.5 Avg loss: 0.323505 \n",
      "\n"
     ]
    },
    {
     "name": "stderr",
     "output_type": "stream",
     "text": [
      "/data/sources/eugen/negative-class-optimization/src/NegativeClassOptimization/NegativeClassOptimization/preprocessing.py:154: UserWarning: Not scaling onehot.\n",
      "  warnings.warn(\"Not scaling onehot.\")\n"
     ]
    },
    {
     "name": "stdout",
     "output_type": "stream",
     "text": [
      "Test Error: \n",
      " Acc: 89.5 Avg loss: 0.316351 \n",
      "\n"
     ]
    },
    {
     "name": "stderr",
     "output_type": "stream",
     "text": [
      "/data/sources/eugen/negative-class-optimization/src/NegativeClassOptimization/NegativeClassOptimization/preprocessing.py:154: UserWarning: Not scaling onehot.\n",
      "  warnings.warn(\"Not scaling onehot.\")\n"
     ]
    },
    {
     "name": "stdout",
     "output_type": "stream",
     "text": [
      "Test Error: \n",
      " Acc: 86.9 Avg loss: 0.329657 \n",
      "\n"
     ]
    },
    {
     "name": "stderr",
     "output_type": "stream",
     "text": [
      "/data/sources/eugen/negative-class-optimization/src/NegativeClassOptimization/NegativeClassOptimization/preprocessing.py:154: UserWarning: Not scaling onehot.\n",
      "  warnings.warn(\"Not scaling onehot.\")\n"
     ]
    },
    {
     "name": "stdout",
     "output_type": "stream",
     "text": [
      "Test Error: \n",
      " Acc: 86.6 Avg loss: 0.341286 \n",
      "\n"
     ]
    },
    {
     "name": "stderr",
     "output_type": "stream",
     "text": [
      "/data/sources/eugen/negative-class-optimization/src/NegativeClassOptimization/NegativeClassOptimization/preprocessing.py:154: UserWarning: Not scaling onehot.\n",
      "  warnings.warn(\"Not scaling onehot.\")\n"
     ]
    },
    {
     "name": "stdout",
     "output_type": "stream",
     "text": [
      "Test Error: \n",
      " Acc: 88.1 Avg loss: 0.328589 \n",
      "\n"
     ]
    },
    {
     "name": "stderr",
     "output_type": "stream",
     "text": [
      "/data/sources/eugen/negative-class-optimization/src/NegativeClassOptimization/NegativeClassOptimization/preprocessing.py:154: UserWarning: Not scaling onehot.\n",
      "  warnings.warn(\"Not scaling onehot.\")\n"
     ]
    },
    {
     "name": "stdout",
     "output_type": "stream",
     "text": [
      "Test Error: \n",
      " Acc: 86.8 Avg loss: 0.357535 \n",
      "\n"
     ]
    },
    {
     "name": "stderr",
     "output_type": "stream",
     "text": [
      "/data/sources/eugen/negative-class-optimization/src/NegativeClassOptimization/NegativeClassOptimization/preprocessing.py:154: UserWarning: Not scaling onehot.\n",
      "  warnings.warn(\"Not scaling onehot.\")\n"
     ]
    },
    {
     "name": "stdout",
     "output_type": "stream",
     "text": [
      "Test Error: \n",
      " Acc: 96.6 Avg loss: 0.111147 \n",
      "\n"
     ]
    },
    {
     "name": "stderr",
     "output_type": "stream",
     "text": [
      "/data/sources/eugen/negative-class-optimization/src/NegativeClassOptimization/NegativeClassOptimization/preprocessing.py:154: UserWarning: Not scaling onehot.\n",
      "  warnings.warn(\"Not scaling onehot.\")\n"
     ]
    },
    {
     "name": "stdout",
     "output_type": "stream",
     "text": [
      "Test Error: \n",
      " Acc: 95.0 Avg loss: 0.142106 \n",
      "\n"
     ]
    },
    {
     "name": "stderr",
     "output_type": "stream",
     "text": [
      "/data/sources/eugen/negative-class-optimization/src/NegativeClassOptimization/NegativeClassOptimization/preprocessing.py:154: UserWarning: Not scaling onehot.\n",
      "  warnings.warn(\"Not scaling onehot.\")\n"
     ]
    },
    {
     "name": "stdout",
     "output_type": "stream",
     "text": [
      "Test Error: \n",
      " Acc: 90.8 Avg loss: 0.278594 \n",
      "\n"
     ]
    },
    {
     "name": "stderr",
     "output_type": "stream",
     "text": [
      "/data/sources/eugen/negative-class-optimization/src/NegativeClassOptimization/NegativeClassOptimization/preprocessing.py:154: UserWarning: Not scaling onehot.\n",
      "  warnings.warn(\"Not scaling onehot.\")\n"
     ]
    },
    {
     "name": "stdout",
     "output_type": "stream",
     "text": [
      "Test Error: \n",
      " Acc: 92.9 Avg loss: 0.210817 \n",
      "\n"
     ]
    },
    {
     "name": "stderr",
     "output_type": "stream",
     "text": [
      "/data/sources/eugen/negative-class-optimization/src/NegativeClassOptimization/NegativeClassOptimization/preprocessing.py:154: UserWarning: Not scaling onehot.\n",
      "  warnings.warn(\"Not scaling onehot.\")\n"
     ]
    },
    {
     "name": "stdout",
     "output_type": "stream",
     "text": [
      "Test Error: \n",
      " Acc: 91.2 Avg loss: 0.247962 \n",
      "\n"
     ]
    },
    {
     "name": "stderr",
     "output_type": "stream",
     "text": [
      "/data/sources/eugen/negative-class-optimization/src/NegativeClassOptimization/NegativeClassOptimization/preprocessing.py:154: UserWarning: Not scaling onehot.\n",
      "  warnings.warn(\"Not scaling onehot.\")\n"
     ]
    },
    {
     "name": "stdout",
     "output_type": "stream",
     "text": [
      "Test Error: \n",
      " Acc: 88.4 Avg loss: 0.326745 \n",
      "\n"
     ]
    },
    {
     "name": "stderr",
     "output_type": "stream",
     "text": [
      "/data/sources/eugen/negative-class-optimization/src/NegativeClassOptimization/NegativeClassOptimization/preprocessing.py:154: UserWarning: Not scaling onehot.\n",
      "  warnings.warn(\"Not scaling onehot.\")\n"
     ]
    },
    {
     "name": "stdout",
     "output_type": "stream",
     "text": [
      "Test Error: \n",
      " Acc: 97.7 Avg loss: 0.083657 \n",
      "\n"
     ]
    },
    {
     "name": "stderr",
     "output_type": "stream",
     "text": [
      "/data/sources/eugen/negative-class-optimization/src/NegativeClassOptimization/NegativeClassOptimization/preprocessing.py:154: UserWarning: Not scaling onehot.\n",
      "  warnings.warn(\"Not scaling onehot.\")\n"
     ]
    },
    {
     "name": "stdout",
     "output_type": "stream",
     "text": [
      "Test Error: \n",
      " Acc: 92.9 Avg loss: 0.225222 \n",
      "\n"
     ]
    },
    {
     "name": "stderr",
     "output_type": "stream",
     "text": [
      "/data/sources/eugen/negative-class-optimization/src/NegativeClassOptimization/NegativeClassOptimization/preprocessing.py:154: UserWarning: Not scaling onehot.\n",
      "  warnings.warn(\"Not scaling onehot.\")\n"
     ]
    },
    {
     "name": "stdout",
     "output_type": "stream",
     "text": [
      "Test Error: \n",
      " Acc: 91.7 Avg loss: 0.239431 \n",
      "\n"
     ]
    },
    {
     "name": "stderr",
     "output_type": "stream",
     "text": [
      "/data/sources/eugen/negative-class-optimization/src/NegativeClassOptimization/NegativeClassOptimization/preprocessing.py:154: UserWarning: Not scaling onehot.\n",
      "  warnings.warn(\"Not scaling onehot.\")\n"
     ]
    },
    {
     "name": "stdout",
     "output_type": "stream",
     "text": [
      "Test Error: \n",
      " Acc: 92.9 Avg loss: 0.195393 \n",
      "\n"
     ]
    },
    {
     "name": "stderr",
     "output_type": "stream",
     "text": [
      "/data/sources/eugen/negative-class-optimization/src/NegativeClassOptimization/NegativeClassOptimization/preprocessing.py:154: UserWarning: Not scaling onehot.\n",
      "  warnings.warn(\"Not scaling onehot.\")\n"
     ]
    },
    {
     "name": "stdout",
     "output_type": "stream",
     "text": [
      "Test Error: \n",
      " Acc: 98.9 Avg loss: 0.063686 \n",
      "\n"
     ]
    },
    {
     "name": "stderr",
     "output_type": "stream",
     "text": [
      "/data/sources/eugen/negative-class-optimization/src/NegativeClassOptimization/NegativeClassOptimization/preprocessing.py:154: UserWarning: Not scaling onehot.\n",
      "  warnings.warn(\"Not scaling onehot.\")\n"
     ]
    },
    {
     "name": "stdout",
     "output_type": "stream",
     "text": [
      "Test Error: \n",
      " Acc: 99.2 Avg loss: 0.056899 \n",
      "\n"
     ]
    },
    {
     "name": "stderr",
     "output_type": "stream",
     "text": [
      "/data/sources/eugen/negative-class-optimization/src/NegativeClassOptimization/NegativeClassOptimization/preprocessing.py:154: UserWarning: Not scaling onehot.\n",
      "  warnings.warn(\"Not scaling onehot.\")\n"
     ]
    },
    {
     "name": "stdout",
     "output_type": "stream",
     "text": [
      "Test Error: \n",
      " Acc: 90.9 Avg loss: 0.257822 \n",
      "\n"
     ]
    },
    {
     "name": "stderr",
     "output_type": "stream",
     "text": [
      "/data/sources/eugen/negative-class-optimization/src/NegativeClassOptimization/NegativeClassOptimization/preprocessing.py:154: UserWarning: Not scaling onehot.\n",
      "  warnings.warn(\"Not scaling onehot.\")\n"
     ]
    },
    {
     "name": "stdout",
     "output_type": "stream",
     "text": [
      "Test Error: \n",
      " Acc: 89.8 Avg loss: 0.294824 \n",
      "\n"
     ]
    },
    {
     "name": "stderr",
     "output_type": "stream",
     "text": [
      "/data/sources/eugen/negative-class-optimization/src/NegativeClassOptimization/NegativeClassOptimization/preprocessing.py:154: UserWarning: Not scaling onehot.\n",
      "  warnings.warn(\"Not scaling onehot.\")\n"
     ]
    },
    {
     "name": "stdout",
     "output_type": "stream",
     "text": [
      "Test Error: \n",
      " Acc: 95.7 Avg loss: 0.151694 \n",
      "\n"
     ]
    },
    {
     "name": "stderr",
     "output_type": "stream",
     "text": [
      "/data/sources/eugen/negative-class-optimization/src/NegativeClassOptimization/NegativeClassOptimization/preprocessing.py:154: UserWarning: Not scaling onehot.\n",
      "  warnings.warn(\"Not scaling onehot.\")\n"
     ]
    },
    {
     "name": "stdout",
     "output_type": "stream",
     "text": [
      "Test Error: \n",
      " Acc: 94.8 Avg loss: 0.171298 \n",
      "\n"
     ]
    },
    {
     "name": "stderr",
     "output_type": "stream",
     "text": [
      "/data/sources/eugen/negative-class-optimization/src/NegativeClassOptimization/NegativeClassOptimization/preprocessing.py:154: UserWarning: Not scaling onehot.\n",
      "  warnings.warn(\"Not scaling onehot.\")\n"
     ]
    },
    {
     "name": "stdout",
     "output_type": "stream",
     "text": [
      "Test Error: \n",
      " Acc: 96.4 Avg loss: 0.111524 \n",
      "\n"
     ]
    },
    {
     "name": "stderr",
     "output_type": "stream",
     "text": [
      "/data/sources/eugen/negative-class-optimization/src/NegativeClassOptimization/NegativeClassOptimization/preprocessing.py:154: UserWarning: Not scaling onehot.\n",
      "  warnings.warn(\"Not scaling onehot.\")\n"
     ]
    },
    {
     "name": "stdout",
     "output_type": "stream",
     "text": [
      "Test Error: \n",
      " Acc: 94.8 Avg loss: 0.165765 \n",
      "\n"
     ]
    },
    {
     "name": "stderr",
     "output_type": "stream",
     "text": [
      "/data/sources/eugen/negative-class-optimization/src/NegativeClassOptimization/NegativeClassOptimization/preprocessing.py:154: UserWarning: Not scaling onehot.\n",
      "  warnings.warn(\"Not scaling onehot.\")\n"
     ]
    },
    {
     "name": "stdout",
     "output_type": "stream",
     "text": [
      "Test Error: \n",
      " Acc: 87.9 Avg loss: 0.294119 \n",
      "\n"
     ]
    },
    {
     "name": "stderr",
     "output_type": "stream",
     "text": [
      "/data/sources/eugen/negative-class-optimization/src/NegativeClassOptimization/NegativeClassOptimization/preprocessing.py:154: UserWarning: Not scaling onehot.\n",
      "  warnings.warn(\"Not scaling onehot.\")\n"
     ]
    },
    {
     "name": "stdout",
     "output_type": "stream",
     "text": [
      "Test Error: \n",
      " Acc: 95.3 Avg loss: 0.136339 \n",
      "\n"
     ]
    },
    {
     "name": "stderr",
     "output_type": "stream",
     "text": [
      "/data/sources/eugen/negative-class-optimization/src/NegativeClassOptimization/NegativeClassOptimization/preprocessing.py:154: UserWarning: Not scaling onehot.\n",
      "  warnings.warn(\"Not scaling onehot.\")\n"
     ]
    },
    {
     "name": "stdout",
     "output_type": "stream",
     "text": [
      "Test Error: \n",
      " Acc: 93.0 Avg loss: 0.221352 \n",
      "\n"
     ]
    },
    {
     "name": "stderr",
     "output_type": "stream",
     "text": [
      "/data/sources/eugen/negative-class-optimization/src/NegativeClassOptimization/NegativeClassOptimization/preprocessing.py:154: UserWarning: Not scaling onehot.\n",
      "  warnings.warn(\"Not scaling onehot.\")\n"
     ]
    },
    {
     "name": "stdout",
     "output_type": "stream",
     "text": [
      "Test Error: \n",
      " Acc: 90.7 Avg loss: 0.250952 \n",
      "\n"
     ]
    },
    {
     "name": "stderr",
     "output_type": "stream",
     "text": [
      "/data/sources/eugen/negative-class-optimization/src/NegativeClassOptimization/NegativeClassOptimization/preprocessing.py:154: UserWarning: Not scaling onehot.\n",
      "  warnings.warn(\"Not scaling onehot.\")\n"
     ]
    },
    {
     "name": "stdout",
     "output_type": "stream",
     "text": [
      "Test Error: \n",
      " Acc: 96.2 Avg loss: 0.142328 \n",
      "\n"
     ]
    },
    {
     "name": "stderr",
     "output_type": "stream",
     "text": [
      "/data/sources/eugen/negative-class-optimization/src/NegativeClassOptimization/NegativeClassOptimization/preprocessing.py:154: UserWarning: Not scaling onehot.\n",
      "  warnings.warn(\"Not scaling onehot.\")\n"
     ]
    },
    {
     "name": "stdout",
     "output_type": "stream",
     "text": [
      "Test Error: \n",
      " Acc: 96.1 Avg loss: 0.132476 \n",
      "\n"
     ]
    },
    {
     "name": "stderr",
     "output_type": "stream",
     "text": [
      "/data/sources/eugen/negative-class-optimization/src/NegativeClassOptimization/NegativeClassOptimization/preprocessing.py:154: UserWarning: Not scaling onehot.\n",
      "  warnings.warn(\"Not scaling onehot.\")\n"
     ]
    },
    {
     "name": "stdout",
     "output_type": "stream",
     "text": [
      "Test Error: \n",
      " Acc: 92.9 Avg loss: 0.203343 \n",
      "\n"
     ]
    },
    {
     "name": "stderr",
     "output_type": "stream",
     "text": [
      "/data/sources/eugen/negative-class-optimization/src/NegativeClassOptimization/NegativeClassOptimization/preprocessing.py:154: UserWarning: Not scaling onehot.\n",
      "  warnings.warn(\"Not scaling onehot.\")\n"
     ]
    },
    {
     "name": "stdout",
     "output_type": "stream",
     "text": [
      "Test Error: \n",
      " Acc: 94.5 Avg loss: 0.171682 \n",
      "\n"
     ]
    },
    {
     "name": "stderr",
     "output_type": "stream",
     "text": [
      "/data/sources/eugen/negative-class-optimization/src/NegativeClassOptimization/NegativeClassOptimization/preprocessing.py:154: UserWarning: Not scaling onehot.\n",
      "  warnings.warn(\"Not scaling onehot.\")\n"
     ]
    },
    {
     "name": "stdout",
     "output_type": "stream",
     "text": [
      "Test Error: \n",
      " Acc: 98.6 Avg loss: 0.037818 \n",
      "\n"
     ]
    },
    {
     "name": "stderr",
     "output_type": "stream",
     "text": [
      "/data/sources/eugen/negative-class-optimization/src/NegativeClassOptimization/NegativeClassOptimization/preprocessing.py:154: UserWarning: Not scaling onehot.\n",
      "  warnings.warn(\"Not scaling onehot.\")\n"
     ]
    },
    {
     "name": "stdout",
     "output_type": "stream",
     "text": [
      "Test Error: \n",
      " Acc: 98.8 Avg loss: 0.074626 \n",
      "\n"
     ]
    },
    {
     "name": "stderr",
     "output_type": "stream",
     "text": [
      "/data/sources/eugen/negative-class-optimization/src/NegativeClassOptimization/NegativeClassOptimization/preprocessing.py:154: UserWarning: Not scaling onehot.\n",
      "  warnings.warn(\"Not scaling onehot.\")\n"
     ]
    },
    {
     "name": "stdout",
     "output_type": "stream",
     "text": [
      "Test Error: \n",
      " Acc: 98.4 Avg loss: 0.082253 \n",
      "\n"
     ]
    },
    {
     "name": "stderr",
     "output_type": "stream",
     "text": [
      "/data/sources/eugen/negative-class-optimization/src/NegativeClassOptimization/NegativeClassOptimization/preprocessing.py:154: UserWarning: Not scaling onehot.\n",
      "  warnings.warn(\"Not scaling onehot.\")\n"
     ]
    },
    {
     "name": "stdout",
     "output_type": "stream",
     "text": [
      "Test Error: \n",
      " Acc: 90.4 Avg loss: 0.252502 \n",
      "\n"
     ]
    },
    {
     "name": "stderr",
     "output_type": "stream",
     "text": [
      "/data/sources/eugen/negative-class-optimization/src/NegativeClassOptimization/NegativeClassOptimization/preprocessing.py:154: UserWarning: Not scaling onehot.\n",
      "  warnings.warn(\"Not scaling onehot.\")\n"
     ]
    },
    {
     "name": "stdout",
     "output_type": "stream",
     "text": [
      "Test Error: \n",
      " Acc: 92.4 Avg loss: 0.202761 \n",
      "\n"
     ]
    },
    {
     "name": "stderr",
     "output_type": "stream",
     "text": [
      "/data/sources/eugen/negative-class-optimization/src/NegativeClassOptimization/NegativeClassOptimization/preprocessing.py:154: UserWarning: Not scaling onehot.\n",
      "  warnings.warn(\"Not scaling onehot.\")\n"
     ]
    },
    {
     "name": "stdout",
     "output_type": "stream",
     "text": [
      "Test Error: \n",
      " Acc: 94.7 Avg loss: 0.137033 \n",
      "\n"
     ]
    },
    {
     "name": "stderr",
     "output_type": "stream",
     "text": [
      "/data/sources/eugen/negative-class-optimization/src/NegativeClassOptimization/NegativeClassOptimization/preprocessing.py:154: UserWarning: Not scaling onehot.\n",
      "  warnings.warn(\"Not scaling onehot.\")\n"
     ]
    },
    {
     "name": "stdout",
     "output_type": "stream",
     "text": [
      "Test Error: \n",
      " Acc: 98.6 Avg loss: 0.077431 \n",
      "\n"
     ]
    },
    {
     "name": "stderr",
     "output_type": "stream",
     "text": [
      "/data/sources/eugen/negative-class-optimization/src/NegativeClassOptimization/NegativeClassOptimization/preprocessing.py:154: UserWarning: Not scaling onehot.\n",
      "  warnings.warn(\"Not scaling onehot.\")\n"
     ]
    },
    {
     "name": "stdout",
     "output_type": "stream",
     "text": [
      "Test Error: \n",
      " Acc: 95.4 Avg loss: 0.157539 \n",
      "\n"
     ]
    },
    {
     "name": "stderr",
     "output_type": "stream",
     "text": [
      "/data/sources/eugen/negative-class-optimization/src/NegativeClassOptimization/NegativeClassOptimization/preprocessing.py:154: UserWarning: Not scaling onehot.\n",
      "  warnings.warn(\"Not scaling onehot.\")\n"
     ]
    },
    {
     "name": "stdout",
     "output_type": "stream",
     "text": [
      "Test Error: \n",
      " Acc: 86.7 Avg loss: 0.270187 \n",
      "\n"
     ]
    },
    {
     "name": "stderr",
     "output_type": "stream",
     "text": [
      "/data/sources/eugen/negative-class-optimization/src/NegativeClassOptimization/NegativeClassOptimization/preprocessing.py:154: UserWarning: Not scaling onehot.\n",
      "  warnings.warn(\"Not scaling onehot.\")\n"
     ]
    },
    {
     "name": "stdout",
     "output_type": "stream",
     "text": [
      "Test Error: \n",
      " Acc: 92.3 Avg loss: 0.175328 \n",
      "\n"
     ]
    },
    {
     "name": "stderr",
     "output_type": "stream",
     "text": [
      "/data/sources/eugen/negative-class-optimization/src/NegativeClassOptimization/NegativeClassOptimization/preprocessing.py:154: UserWarning: Not scaling onehot.\n",
      "  warnings.warn(\"Not scaling onehot.\")\n"
     ]
    },
    {
     "name": "stdout",
     "output_type": "stream",
     "text": [
      "Test Error: \n",
      " Acc: 91.2 Avg loss: 0.224130 \n",
      "\n"
     ]
    },
    {
     "name": "stderr",
     "output_type": "stream",
     "text": [
      "/data/sources/eugen/negative-class-optimization/src/NegativeClassOptimization/NegativeClassOptimization/preprocessing.py:154: UserWarning: Not scaling onehot.\n",
      "  warnings.warn(\"Not scaling onehot.\")\n"
     ]
    },
    {
     "name": "stdout",
     "output_type": "stream",
     "text": [
      "Test Error: \n",
      " Acc: 90.6 Avg loss: 0.241401 \n",
      "\n"
     ]
    },
    {
     "name": "stderr",
     "output_type": "stream",
     "text": [
      "/data/sources/eugen/negative-class-optimization/src/NegativeClassOptimization/NegativeClassOptimization/preprocessing.py:154: UserWarning: Not scaling onehot.\n",
      "  warnings.warn(\"Not scaling onehot.\")\n"
     ]
    },
    {
     "name": "stdout",
     "output_type": "stream",
     "text": [
      "Test Error: \n",
      " Acc: 94.4 Avg loss: 0.197825 \n",
      "\n"
     ]
    },
    {
     "name": "stderr",
     "output_type": "stream",
     "text": [
      "/data/sources/eugen/negative-class-optimization/src/NegativeClassOptimization/NegativeClassOptimization/preprocessing.py:154: UserWarning: Not scaling onehot.\n",
      "  warnings.warn(\"Not scaling onehot.\")\n"
     ]
    },
    {
     "name": "stdout",
     "output_type": "stream",
     "text": [
      "Test Error: \n",
      " Acc: 87.5 Avg loss: 0.339854 \n",
      "\n"
     ]
    }
   ],
   "source": [
    "metrics_on_motifs = {}\n",
    "\n",
    "for motif in df_motifs_sel[\"motif\"]:\n",
    "    df_train_m = df_train.loc[df_train[\"Slide\"].str.contains(pat=motif)].copy()\n",
    "    _, _, train_m_loader, _ = preprocessing.preprocess_data_for_pytorch_binary(\n",
    "        df_train_val=df_train_m,\n",
    "        df_test_closed=df_test,\n",
    "        ag_pos=[ag_pos],\n",
    "        batch_size=32,\n",
    "        scale_onehot=False,\n",
    "    )\n",
    "    metrics = ml.test_loop(train_m_loader, model, loss_fn)\n",
    "    metrics_on_motifs[motif] = metrics"
   ]
  },
  {
   "cell_type": "code",
   "execution_count": 120,
   "metadata": {},
   "outputs": [],
   "source": [
    "for motif in metrics_on_motifs.keys():\n",
    "    sn10_acc = metrics_on_motifs[motif][\"acc_closed\"]\n",
    "    df_motifs_sel.loc[df_motifs_sel[\"motif\"] == motif, \"sn10_acc\"] = sn10_acc"
   ]
  },
  {
   "cell_type": "code",
   "execution_count": 126,
   "metadata": {},
   "outputs": [
    {
     "data": {
      "text/html": [
       "<div>\n",
       "<style scoped>\n",
       "    .dataframe tbody tr th:only-of-type {\n",
       "        vertical-align: middle;\n",
       "    }\n",
       "\n",
       "    .dataframe tbody tr th {\n",
       "        vertical-align: top;\n",
       "    }\n",
       "\n",
       "    .dataframe thead th {\n",
       "        text-align: right;\n",
       "    }\n",
       "</style>\n",
       "<table border=\"1\" class=\"dataframe\">\n",
       "  <thead>\n",
       "    <tr style=\"text-align: right;\">\n",
       "      <th></th>\n",
       "      <th>motif</th>\n",
       "      <th>M</th>\n",
       "      <th>M_p</th>\n",
       "      <th>M_n</th>\n",
       "      <th>is_motif_1</th>\n",
       "      <th>is_motif_2</th>\n",
       "      <th>acc_int</th>\n",
       "      <th>acc</th>\n",
       "      <th>diff</th>\n",
       "      <th>sn10_acc</th>\n",
       "      <th>acc_diff</th>\n",
       "    </tr>\n",
       "  </thead>\n",
       "  <tbody>\n",
       "    <tr>\n",
       "      <th>488</th>\n",
       "      <td>..........D</td>\n",
       "      <td>696</td>\n",
       "      <td>66</td>\n",
       "      <td>630</td>\n",
       "      <td>True</td>\n",
       "      <td>False</td>\n",
       "      <td>0.905172</td>\n",
       "      <td>0.517625</td>\n",
       "      <td>564</td>\n",
       "      <td>0.879310</td>\n",
       "      <td>0.025862</td>\n",
       "    </tr>\n",
       "    <tr>\n",
       "      <th>376</th>\n",
       "      <td>.A........W</td>\n",
       "      <td>1309</td>\n",
       "      <td>1196</td>\n",
       "      <td>113</td>\n",
       "      <td>False</td>\n",
       "      <td>True</td>\n",
       "      <td>0.913675</td>\n",
       "      <td>0.533844</td>\n",
       "      <td>1083</td>\n",
       "      <td>0.908327</td>\n",
       "      <td>0.005348</td>\n",
       "    </tr>\n",
       "    <tr>\n",
       "      <th>106</th>\n",
       "      <td>....L....D.</td>\n",
       "      <td>572</td>\n",
       "      <td>19</td>\n",
       "      <td>553</td>\n",
       "      <td>False</td>\n",
       "      <td>True</td>\n",
       "      <td>0.966783</td>\n",
       "      <td>0.516687</td>\n",
       "      <td>534</td>\n",
       "      <td>0.961538</td>\n",
       "      <td>0.005245</td>\n",
       "    </tr>\n",
       "    <tr>\n",
       "      <th>1027</th>\n",
       "      <td>.A......D..</td>\n",
       "      <td>851</td>\n",
       "      <td>768</td>\n",
       "      <td>83</td>\n",
       "      <td>False</td>\n",
       "      <td>True</td>\n",
       "      <td>0.902468</td>\n",
       "      <td>0.521406</td>\n",
       "      <td>685</td>\n",
       "      <td>0.897767</td>\n",
       "      <td>0.004700</td>\n",
       "    </tr>\n",
       "    <tr>\n",
       "      <th>21</th>\n",
       "      <td>.LL........</td>\n",
       "      <td>1184</td>\n",
       "      <td>80</td>\n",
       "      <td>1104</td>\n",
       "      <td>False</td>\n",
       "      <td>True</td>\n",
       "      <td>0.932432</td>\n",
       "      <td>0.532000</td>\n",
       "      <td>1024</td>\n",
       "      <td>0.929054</td>\n",
       "      <td>0.003378</td>\n",
       "    </tr>\n",
       "    <tr>\n",
       "      <th>88</th>\n",
       "      <td>.L........Y</td>\n",
       "      <td>505</td>\n",
       "      <td>6</td>\n",
       "      <td>499</td>\n",
       "      <td>False</td>\n",
       "      <td>True</td>\n",
       "      <td>0.988119</td>\n",
       "      <td>0.515406</td>\n",
       "      <td>493</td>\n",
       "      <td>0.986139</td>\n",
       "      <td>0.001980</td>\n",
       "    </tr>\n",
       "    <tr>\n",
       "      <th>34</th>\n",
       "      <td>..L....Y...</td>\n",
       "      <td>531</td>\n",
       "      <td>27</td>\n",
       "      <td>504</td>\n",
       "      <td>False</td>\n",
       "      <td>True</td>\n",
       "      <td>0.949153</td>\n",
       "      <td>0.514906</td>\n",
       "      <td>477</td>\n",
       "      <td>0.947269</td>\n",
       "      <td>0.001883</td>\n",
       "    </tr>\n",
       "    <tr>\n",
       "      <th>61</th>\n",
       "      <td>.......Y.D.</td>\n",
       "      <td>734</td>\n",
       "      <td>6</td>\n",
       "      <td>728</td>\n",
       "      <td>False</td>\n",
       "      <td>True</td>\n",
       "      <td>0.991826</td>\n",
       "      <td>0.522563</td>\n",
       "      <td>722</td>\n",
       "      <td>0.991826</td>\n",
       "      <td>0.000000</td>\n",
       "    </tr>\n",
       "    <tr>\n",
       "      <th>375</th>\n",
       "      <td>.A.......Y.</td>\n",
       "      <td>2231</td>\n",
       "      <td>2029</td>\n",
       "      <td>202</td>\n",
       "      <td>False</td>\n",
       "      <td>True</td>\n",
       "      <td>0.909458</td>\n",
       "      <td>0.557094</td>\n",
       "      <td>1827</td>\n",
       "      <td>0.909458</td>\n",
       "      <td>0.000000</td>\n",
       "    </tr>\n",
       "    <tr>\n",
       "      <th>2012</th>\n",
       "      <td>.A...W.....</td>\n",
       "      <td>744</td>\n",
       "      <td>711</td>\n",
       "      <td>33</td>\n",
       "      <td>False</td>\n",
       "      <td>True</td>\n",
       "      <td>0.955645</td>\n",
       "      <td>0.521188</td>\n",
       "      <td>678</td>\n",
       "      <td>0.956989</td>\n",
       "      <td>-0.001344</td>\n",
       "    </tr>\n",
       "    <tr>\n",
       "      <th>65</th>\n",
       "      <td>.........DV</td>\n",
       "      <td>506</td>\n",
       "      <td>9</td>\n",
       "      <td>497</td>\n",
       "      <td>False</td>\n",
       "      <td>True</td>\n",
       "      <td>0.982213</td>\n",
       "      <td>0.515250</td>\n",
       "      <td>488</td>\n",
       "      <td>0.984190</td>\n",
       "      <td>-0.001976</td>\n",
       "    </tr>\n",
       "    <tr>\n",
       "      <th>64</th>\n",
       "      <td>........F.V</td>\n",
       "      <td>505</td>\n",
       "      <td>7</td>\n",
       "      <td>498</td>\n",
       "      <td>False</td>\n",
       "      <td>True</td>\n",
       "      <td>0.986139</td>\n",
       "      <td>0.515344</td>\n",
       "      <td>491</td>\n",
       "      <td>0.988119</td>\n",
       "      <td>-0.001980</td>\n",
       "    </tr>\n",
       "    <tr>\n",
       "      <th>60</th>\n",
       "      <td>.......YF..</td>\n",
       "      <td>742</td>\n",
       "      <td>10</td>\n",
       "      <td>732</td>\n",
       "      <td>False</td>\n",
       "      <td>True</td>\n",
       "      <td>0.986523</td>\n",
       "      <td>0.522563</td>\n",
       "      <td>722</td>\n",
       "      <td>0.989218</td>\n",
       "      <td>-0.002695</td>\n",
       "    </tr>\n",
       "    <tr>\n",
       "      <th>1462</th>\n",
       "      <td>....L...F..</td>\n",
       "      <td>567</td>\n",
       "      <td>33</td>\n",
       "      <td>534</td>\n",
       "      <td>False</td>\n",
       "      <td>True</td>\n",
       "      <td>0.941799</td>\n",
       "      <td>0.515656</td>\n",
       "      <td>501</td>\n",
       "      <td>0.945326</td>\n",
       "      <td>-0.003527</td>\n",
       "    </tr>\n",
       "    <tr>\n",
       "      <th>851</th>\n",
       "      <td>......L.R..</td>\n",
       "      <td>645</td>\n",
       "      <td>596</td>\n",
       "      <td>49</td>\n",
       "      <td>False</td>\n",
       "      <td>True</td>\n",
       "      <td>0.924031</td>\n",
       "      <td>0.517094</td>\n",
       "      <td>547</td>\n",
       "      <td>0.930233</td>\n",
       "      <td>-0.006202</td>\n",
       "    </tr>\n",
       "    <tr>\n",
       "      <th>63</th>\n",
       "      <td>........FD.</td>\n",
       "      <td>907</td>\n",
       "      <td>27</td>\n",
       "      <td>880</td>\n",
       "      <td>False</td>\n",
       "      <td>True</td>\n",
       "      <td>0.970232</td>\n",
       "      <td>0.526656</td>\n",
       "      <td>853</td>\n",
       "      <td>0.976847</td>\n",
       "      <td>-0.006615</td>\n",
       "    </tr>\n",
       "    <tr>\n",
       "      <th>853</th>\n",
       "      <td>......L...F</td>\n",
       "      <td>1653</td>\n",
       "      <td>1422</td>\n",
       "      <td>231</td>\n",
       "      <td>False</td>\n",
       "      <td>True</td>\n",
       "      <td>0.860254</td>\n",
       "      <td>0.537219</td>\n",
       "      <td>1191</td>\n",
       "      <td>0.867514</td>\n",
       "      <td>-0.007260</td>\n",
       "    </tr>\n",
       "    <tr>\n",
       "      <th>1176</th>\n",
       "      <td>.L........F</td>\n",
       "      <td>513</td>\n",
       "      <td>68</td>\n",
       "      <td>445</td>\n",
       "      <td>False</td>\n",
       "      <td>True</td>\n",
       "      <td>0.867446</td>\n",
       "      <td>0.511781</td>\n",
       "      <td>377</td>\n",
       "      <td>0.875244</td>\n",
       "      <td>-0.007797</td>\n",
       "    </tr>\n",
       "    <tr>\n",
       "      <th>2025</th>\n",
       "      <td>.....W.L...</td>\n",
       "      <td>731</td>\n",
       "      <td>687</td>\n",
       "      <td>44</td>\n",
       "      <td>False</td>\n",
       "      <td>True</td>\n",
       "      <td>0.939808</td>\n",
       "      <td>0.520094</td>\n",
       "      <td>643</td>\n",
       "      <td>0.948016</td>\n",
       "      <td>-0.008208</td>\n",
       "    </tr>\n",
       "    <tr>\n",
       "      <th>1920</th>\n",
       "      <td>.....WL....</td>\n",
       "      <td>694</td>\n",
       "      <td>652</td>\n",
       "      <td>42</td>\n",
       "      <td>False</td>\n",
       "      <td>True</td>\n",
       "      <td>0.939481</td>\n",
       "      <td>0.519062</td>\n",
       "      <td>610</td>\n",
       "      <td>0.948127</td>\n",
       "      <td>-0.008646</td>\n",
       "    </tr>\n",
       "  </tbody>\n",
       "</table>\n",
       "</div>"
      ],
      "text/plain": [
       "            motif     M   M_p   M_n  is_motif_1  is_motif_2   acc_int  \\\n",
       "488   ..........D   696    66   630        True       False  0.905172   \n",
       "376   .A........W  1309  1196   113       False        True  0.913675   \n",
       "106   ....L....D.   572    19   553       False        True  0.966783   \n",
       "1027  .A......D..   851   768    83       False        True  0.902468   \n",
       "21    .LL........  1184    80  1104       False        True  0.932432   \n",
       "88    .L........Y   505     6   499       False        True  0.988119   \n",
       "34    ..L....Y...   531    27   504       False        True  0.949153   \n",
       "61    .......Y.D.   734     6   728       False        True  0.991826   \n",
       "375   .A.......Y.  2231  2029   202       False        True  0.909458   \n",
       "2012  .A...W.....   744   711    33       False        True  0.955645   \n",
       "65    .........DV   506     9   497       False        True  0.982213   \n",
       "64    ........F.V   505     7   498       False        True  0.986139   \n",
       "60    .......YF..   742    10   732       False        True  0.986523   \n",
       "1462  ....L...F..   567    33   534       False        True  0.941799   \n",
       "851   ......L.R..   645   596    49       False        True  0.924031   \n",
       "63    ........FD.   907    27   880       False        True  0.970232   \n",
       "853   ......L...F  1653  1422   231       False        True  0.860254   \n",
       "1176  .L........F   513    68   445       False        True  0.867446   \n",
       "2025  .....W.L...   731   687    44       False        True  0.939808   \n",
       "1920  .....WL....   694   652    42       False        True  0.939481   \n",
       "\n",
       "           acc  diff  sn10_acc  acc_diff  \n",
       "488   0.517625   564  0.879310  0.025862  \n",
       "376   0.533844  1083  0.908327  0.005348  \n",
       "106   0.516687   534  0.961538  0.005245  \n",
       "1027  0.521406   685  0.897767  0.004700  \n",
       "21    0.532000  1024  0.929054  0.003378  \n",
       "88    0.515406   493  0.986139  0.001980  \n",
       "34    0.514906   477  0.947269  0.001883  \n",
       "61    0.522563   722  0.991826  0.000000  \n",
       "375   0.557094  1827  0.909458  0.000000  \n",
       "2012  0.521188   678  0.956989 -0.001344  \n",
       "65    0.515250   488  0.984190 -0.001976  \n",
       "64    0.515344   491  0.988119 -0.001980  \n",
       "60    0.522563   722  0.989218 -0.002695  \n",
       "1462  0.515656   501  0.945326 -0.003527  \n",
       "851   0.517094   547  0.930233 -0.006202  \n",
       "63    0.526656   853  0.976847 -0.006615  \n",
       "853   0.537219  1191  0.867514 -0.007260  \n",
       "1176  0.511781   377  0.875244 -0.007797  \n",
       "2025  0.520094   643  0.948016 -0.008208  \n",
       "1920  0.519062   610  0.948127 -0.008646  "
      ]
     },
     "execution_count": 126,
     "metadata": {},
     "output_type": "execute_result"
    }
   ],
   "source": [
    "df_motifs_sel[\"acc_diff\"] = df_motifs_sel[\"acc_int\"] - df_motifs_sel[\"sn10_acc\"]\n",
    "df_motifs_sel.sort_values(by=\"acc_diff\", ascending=False).head(20)"
   ]
  },
  {
   "cell_type": "code",
   "execution_count": 128,
   "metadata": {},
   "outputs": [
    {
     "data": {
      "text/plain": [
       "(0.85, 1.0)"
      ]
     },
     "execution_count": 128,
     "metadata": {},
     "output_type": "execute_result"
    },
    {
     "data": {
      "image/png": "[encoded data removed]",
      "text/plain": [
       "<Figure size 1000x1000 with 1 Axes>"
      ]
     },
     "metadata": {},
     "output_type": "display_data"
    }
   ],
   "source": [
    "fig, ax = plt.subplots(figsize=(10, 10))\n",
    "sns.scatterplot(data=df_motifs_sel, x=\"acc_int\", y=\"sn10_acc\")\n",
    "ax.plot([0, 1], [0, 1], transform=ax.transAxes)\n",
    "ax.set_xlim(0.85, 1)\n",
    "ax.set_ylim(0.85, 1)"
   ]
  },
  {
   "attachments": {},
   "cell_type": "markdown",
   "metadata": {},
   "source": [
    "## Mine complex rules"
   ]
  },
  {
   "cell_type": "code",
   "execution_count": null,
   "metadata": {},
   "outputs": [],
   "source": [
    "BEAM_B = 20\n",
    "BEAM_N = 2"
   ]
  },
  {
   "cell_type": "code",
   "execution_count": null,
   "metadata": {},
   "outputs": [],
   "source": [
    "df_train = df_train.reset_index(drop=True)\n",
    "\n",
    "for i, row in df_train.iterrows():\n",
    "    ag = row[\"Antigen\"]\n",
    "    slide = row[\"Slide\"]\n",
    "    pass"
   ]
  },
  {
   "cell_type": "code",
   "execution_count": null,
   "metadata": {},
   "outputs": [],
   "source": [
    "for i in range():\n",
    "    # new_motifs = get_new_motifs()\n",
    "    # beam_search_motifs += new_motifs\n",
    "\n",
    "    # if makes_sense:\n",
    "    #     evaluate new motifs\n",
    "    #     get top from generated new motifs"
   ]
  }
 ],
 "metadata": {
  "kernelspec": {
   "display_name": "nco",
   "language": "python",
   "name": "python3"
  },
  "language_info": {
   "codemirror_mode": {
    "name": "ipython",
    "version": 3
   },
   "file_extension": ".py",
   "mimetype": "text/x-python",
   "name": "python",
   "nbconvert_exporter": "python",
   "pygments_lexer": "ipython3",
   "version": "3.8.13"
  },
  "orig_nbformat": 4,
  "vscode": {
   "interpreter": {
    "hash": "3ec5334dbdc4a6f7f47854c251e8d2556e95e85daa09db51a6f2bda295b96836"
   }
  }
 },
 "nbformat": 4,
 "nbformat_minor": 2
}
