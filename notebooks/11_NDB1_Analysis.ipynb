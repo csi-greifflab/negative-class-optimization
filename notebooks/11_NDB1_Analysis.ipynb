{
 "cells": [
  {
   "cell_type": "markdown",
   "metadata": {},
   "source": [
    "# NDB1 Analysis\n",
    "\n",
    "In this notebook we analyse the results from NDB1 experiment (`script_06.py`).\n",
    "\n",
    "We leverage [set intersection metrics](https://effectivesoftwaredesign.com/2019/02/27/data-science-set-similarity-metrics/)."
   ]
  },
  {
   "cell_type": "code",
   "execution_count": 1,
   "metadata": {},
   "outputs": [],
   "source": [
    "from pathlib import Path\n",
    "import json\n",
    "import numpy as np\n",
    "import pandas as pd\n",
    "import matplotlib.pyplot as plt\n",
    "import seaborn as sns"
   ]
  },
  {
   "cell_type": "code",
   "execution_count": 2,
   "metadata": {},
   "outputs": [
    {
     "name": "stdout",
     "output_type": "stream",
     "text": [
      "(15, 23)\n",
      "Index(['Start Time', 'Duration', 'Run ID', 'Name', 'Source Type',\n",
      "       'Source Name', 'User', 'Status', 'N_closed', 'N_open', 'N_train',\n",
      "       'ag_neg', 'ag_pos', 'epochs', 'learning_rate', 'closed_f1',\n",
      "       'closed_precision', 'closed_recall', 'closed_roc_auc', 'open_roc_auc',\n",
      "       'test_acc', 'test_loss', 'train_loss'],\n",
      "      dtype='object')\n"
     ]
    },
    {
     "data": {
      "text/html": [
       "<div>\n",
       "<style scoped>\n",
       "    .dataframe tbody tr th:only-of-type {\n",
       "        vertical-align: middle;\n",
       "    }\n",
       "\n",
       "    .dataframe tbody tr th {\n",
       "        vertical-align: top;\n",
       "    }\n",
       "\n",
       "    .dataframe thead th {\n",
       "        text-align: right;\n",
       "    }\n",
       "</style>\n",
       "<table border=\"1\" class=\"dataframe\">\n",
       "  <thead>\n",
       "    <tr style=\"text-align: right;\">\n",
       "      <th></th>\n",
       "      <th>Start Time</th>\n",
       "      <th>Duration</th>\n",
       "      <th>Run ID</th>\n",
       "      <th>Name</th>\n",
       "      <th>Source Type</th>\n",
       "      <th>Source Name</th>\n",
       "      <th>User</th>\n",
       "      <th>Status</th>\n",
       "      <th>N_closed</th>\n",
       "      <th>N_open</th>\n",
       "      <th>...</th>\n",
       "      <th>epochs</th>\n",
       "      <th>learning_rate</th>\n",
       "      <th>closed_f1</th>\n",
       "      <th>closed_precision</th>\n",
       "      <th>closed_recall</th>\n",
       "      <th>closed_roc_auc</th>\n",
       "      <th>open_roc_auc</th>\n",
       "      <th>test_acc</th>\n",
       "      <th>test_loss</th>\n",
       "      <th>train_loss</th>\n",
       "    </tr>\n",
       "  </thead>\n",
       "  <tbody>\n",
       "    <tr>\n",
       "      <th>0</th>\n",
       "      <td>2022-09-04 11:21:38</td>\n",
       "      <td>1.1h</td>\n",
       "      <td>0bc15534f1504c9083bb891337a89973</td>\n",
       "      <td>run_1</td>\n",
       "      <td>LOCAL</td>\n",
       "      <td>scripts/script_06_SN10_openset_NDB1.py</td>\n",
       "      <td>eugen</td>\n",
       "      <td>FINISHED</td>\n",
       "      <td>9577.0</td>\n",
       "      <td>131283.0</td>\n",
       "      <td>...</td>\n",
       "      <td>50</td>\n",
       "      <td>0.01</td>\n",
       "      <td>0.978363</td>\n",
       "      <td>0.982192</td>\n",
       "      <td>0.974563</td>\n",
       "      <td>0.997441</td>\n",
       "      <td>0.813779</td>\n",
       "      <td>97.681946</td>\n",
       "      <td>0.062607</td>\n",
       "      <td>0.077148</td>\n",
       "    </tr>\n",
       "    <tr>\n",
       "      <th>1</th>\n",
       "      <td>2022-09-04 11:21:38</td>\n",
       "      <td>1.0h</td>\n",
       "      <td>619010b228e94338bb3f3c6449e6abc3</td>\n",
       "      <td>run_1</td>\n",
       "      <td>LOCAL</td>\n",
       "      <td>scripts/script_06_SN10_openset_NDB1.py</td>\n",
       "      <td>eugen</td>\n",
       "      <td>FINISHED</td>\n",
       "      <td>9064.0</td>\n",
       "      <td>131283.0</td>\n",
       "      <td>...</td>\n",
       "      <td>50</td>\n",
       "      <td>0.01</td>\n",
       "      <td>0.978897</td>\n",
       "      <td>0.980957</td>\n",
       "      <td>0.976847</td>\n",
       "      <td>0.997930</td>\n",
       "      <td>0.762268</td>\n",
       "      <td>97.892763</td>\n",
       "      <td>0.055780</td>\n",
       "      <td>0.140498</td>\n",
       "    </tr>\n",
       "  </tbody>\n",
       "</table>\n",
       "<p>2 rows × 23 columns</p>\n",
       "</div>"
      ],
      "text/plain": [
       "            Start Time Duration                            Run ID   Name  \\\n",
       "0  2022-09-04 11:21:38     1.1h  0bc15534f1504c9083bb891337a89973  run_1   \n",
       "1  2022-09-04 11:21:38     1.0h  619010b228e94338bb3f3c6449e6abc3  run_1   \n",
       "\n",
       "  Source Type                             Source Name   User    Status  \\\n",
       "0       LOCAL  scripts/script_06_SN10_openset_NDB1.py  eugen  FINISHED   \n",
       "1       LOCAL  scripts/script_06_SN10_openset_NDB1.py  eugen  FINISHED   \n",
       "\n",
       "   N_closed    N_open  ...  epochs learning_rate closed_f1  closed_precision  \\\n",
       "0    9577.0  131283.0  ...      50          0.01  0.978363          0.982192   \n",
       "1    9064.0  131283.0  ...      50          0.01  0.978897          0.980957   \n",
       "\n",
       "   closed_recall  closed_roc_auc  open_roc_auc   test_acc  test_loss  \\\n",
       "0       0.974563        0.997441      0.813779  97.681946   0.062607   \n",
       "1       0.976847        0.997930      0.762268  97.892763   0.055780   \n",
       "\n",
       "   train_loss  \n",
       "0    0.077148  \n",
       "1    0.140498  \n",
       "\n",
       "[2 rows x 23 columns]"
      ]
     },
     "execution_count": 2,
     "metadata": {},
     "output_type": "execute_result"
    }
   ],
   "source": [
    "df = pd.read_csv(\n",
    "    \"../data/mlflow_experiment2_runs.tsv\", \n",
    "    sep='\\t',\n",
    "    dtype={\"ag_pos\": str, \"ag_neg\": str}\n",
    "    )\n",
    "df[\"ag_pos\"] = df[\"ag_pos\"].replace(\"5E+094\", \"5E94\")\n",
    "df[\"ag_neg\"] = df[\"ag_neg\"].replace(\"5E+094\", \"5E94\")\n",
    "df = df.loc[df[\"Name\"] == \"run_1\"]\n",
    "print(df.shape)\n",
    "print(df.columns)\n",
    "df.head(2)"
   ]
  },
  {
   "cell_type": "code",
   "execution_count": 3,
   "metadata": {},
   "outputs": [
    {
     "data": {
      "text/html": [
       "<div>\n",
       "<style scoped>\n",
       "    .dataframe tbody tr th:only-of-type {\n",
       "        vertical-align: middle;\n",
       "    }\n",
       "\n",
       "    .dataframe tbody tr th {\n",
       "        vertical-align: top;\n",
       "    }\n",
       "\n",
       "    .dataframe thead th {\n",
       "        text-align: right;\n",
       "    }\n",
       "</style>\n",
       "<table border=\"1\" class=\"dataframe\">\n",
       "  <thead>\n",
       "    <tr style=\"text-align: right;\">\n",
       "      <th></th>\n",
       "      <th>1ADQ</th>\n",
       "      <th>1FBI</th>\n",
       "      <th>1H0D</th>\n",
       "      <th>1NSN</th>\n",
       "      <th>1OB1</th>\n",
       "      <th>1WEJ</th>\n",
       "      <th>2YPV</th>\n",
       "      <th>3RAJ</th>\n",
       "      <th>3VRL</th>\n",
       "      <th>5E94</th>\n",
       "      <th>OPENSET</th>\n",
       "    </tr>\n",
       "    <tr>\n",
       "      <th>#</th>\n",
       "      <th></th>\n",
       "      <th></th>\n",
       "      <th></th>\n",
       "      <th></th>\n",
       "      <th></th>\n",
       "      <th></th>\n",
       "      <th></th>\n",
       "      <th></th>\n",
       "      <th></th>\n",
       "      <th></th>\n",
       "      <th></th>\n",
       "    </tr>\n",
       "  </thead>\n",
       "  <tbody>\n",
       "    <tr>\n",
       "      <th>1ADQ</th>\n",
       "      <td>108197</td>\n",
       "      <td>2763</td>\n",
       "      <td>4036</td>\n",
       "      <td>2521</td>\n",
       "      <td>3100</td>\n",
       "      <td>3112</td>\n",
       "      <td>3872</td>\n",
       "      <td>7331</td>\n",
       "      <td>7957</td>\n",
       "      <td>4899</td>\n",
       "      <td>117186</td>\n",
       "    </tr>\n",
       "    <tr>\n",
       "      <th>1FBI</th>\n",
       "      <td>2763</td>\n",
       "      <td>135298</td>\n",
       "      <td>1631</td>\n",
       "      <td>3493</td>\n",
       "      <td>8600</td>\n",
       "      <td>13111</td>\n",
       "      <td>4282</td>\n",
       "      <td>3768</td>\n",
       "      <td>4304</td>\n",
       "      <td>11708</td>\n",
       "      <td>11386</td>\n",
       "    </tr>\n",
       "    <tr>\n",
       "      <th>1H0D</th>\n",
       "      <td>4036</td>\n",
       "      <td>1631</td>\n",
       "      <td>165873</td>\n",
       "      <td>3895</td>\n",
       "      <td>378</td>\n",
       "      <td>2512</td>\n",
       "      <td>30477</td>\n",
       "      <td>7965</td>\n",
       "      <td>5906</td>\n",
       "      <td>10339</td>\n",
       "      <td>180466</td>\n",
       "    </tr>\n",
       "    <tr>\n",
       "      <th>1NSN</th>\n",
       "      <td>2521</td>\n",
       "      <td>3493</td>\n",
       "      <td>3895</td>\n",
       "      <td>170687</td>\n",
       "      <td>30603</td>\n",
       "      <td>6606</td>\n",
       "      <td>1524</td>\n",
       "      <td>3608</td>\n",
       "      <td>11573</td>\n",
       "      <td>15259</td>\n",
       "      <td>10689</td>\n",
       "    </tr>\n",
       "    <tr>\n",
       "      <th>1OB1</th>\n",
       "      <td>3100</td>\n",
       "      <td>8600</td>\n",
       "      <td>378</td>\n",
       "      <td>30603</td>\n",
       "      <td>182923</td>\n",
       "      <td>11764</td>\n",
       "      <td>2045</td>\n",
       "      <td>2209</td>\n",
       "      <td>15462</td>\n",
       "      <td>31647</td>\n",
       "      <td>7400</td>\n",
       "    </tr>\n",
       "    <tr>\n",
       "      <th>1WEJ</th>\n",
       "      <td>3112</td>\n",
       "      <td>13111</td>\n",
       "      <td>2512</td>\n",
       "      <td>6606</td>\n",
       "      <td>11764</td>\n",
       "      <td>171387</td>\n",
       "      <td>2388</td>\n",
       "      <td>8193</td>\n",
       "      <td>29120</td>\n",
       "      <td>32231</td>\n",
       "      <td>15077</td>\n",
       "    </tr>\n",
       "    <tr>\n",
       "      <th>2YPV</th>\n",
       "      <td>3872</td>\n",
       "      <td>4282</td>\n",
       "      <td>30477</td>\n",
       "      <td>1524</td>\n",
       "      <td>2045</td>\n",
       "      <td>2388</td>\n",
       "      <td>176120</td>\n",
       "      <td>9292</td>\n",
       "      <td>7504</td>\n",
       "      <td>11709</td>\n",
       "      <td>189257</td>\n",
       "    </tr>\n",
       "    <tr>\n",
       "      <th>3RAJ</th>\n",
       "      <td>7331</td>\n",
       "      <td>3768</td>\n",
       "      <td>7965</td>\n",
       "      <td>3608</td>\n",
       "      <td>2209</td>\n",
       "      <td>8193</td>\n",
       "      <td>9292</td>\n",
       "      <td>81101</td>\n",
       "      <td>3747</td>\n",
       "      <td>8802</td>\n",
       "      <td>93120</td>\n",
       "    </tr>\n",
       "    <tr>\n",
       "      <th>3VRL</th>\n",
       "      <td>7957</td>\n",
       "      <td>4304</td>\n",
       "      <td>5906</td>\n",
       "      <td>11573</td>\n",
       "      <td>15462</td>\n",
       "      <td>29120</td>\n",
       "      <td>7504</td>\n",
       "      <td>3747</td>\n",
       "      <td>212995</td>\n",
       "      <td>24202</td>\n",
       "      <td>23042</td>\n",
       "    </tr>\n",
       "    <tr>\n",
       "      <th>5E94</th>\n",
       "      <td>4899</td>\n",
       "      <td>11708</td>\n",
       "      <td>10339</td>\n",
       "      <td>15259</td>\n",
       "      <td>31647</td>\n",
       "      <td>32231</td>\n",
       "      <td>11709</td>\n",
       "      <td>8802</td>\n",
       "      <td>24202</td>\n",
       "      <td>203633</td>\n",
       "      <td>32037</td>\n",
       "    </tr>\n",
       "    <tr>\n",
       "      <th>OPENSET</th>\n",
       "      <td>117186</td>\n",
       "      <td>11386</td>\n",
       "      <td>180466</td>\n",
       "      <td>10689</td>\n",
       "      <td>7400</td>\n",
       "      <td>15077</td>\n",
       "      <td>189257</td>\n",
       "      <td>93120</td>\n",
       "      <td>23042</td>\n",
       "      <td>32037</td>\n",
       "      <td>532719</td>\n",
       "    </tr>\n",
       "  </tbody>\n",
       "</table>\n",
       "</div>"
      ],
      "text/plain": [
       "           1ADQ    1FBI    1H0D    1NSN    1OB1    1WEJ    2YPV   3RAJ  \\\n",
       "#                                                                        \n",
       "1ADQ     108197    2763    4036    2521    3100    3112    3872   7331   \n",
       "1FBI       2763  135298    1631    3493    8600   13111    4282   3768   \n",
       "1H0D       4036    1631  165873    3895     378    2512   30477   7965   \n",
       "1NSN       2521    3493    3895  170687   30603    6606    1524   3608   \n",
       "1OB1       3100    8600     378   30603  182923   11764    2045   2209   \n",
       "1WEJ       3112   13111    2512    6606   11764  171387    2388   8193   \n",
       "2YPV       3872    4282   30477    1524    2045    2388  176120   9292   \n",
       "3RAJ       7331    3768    7965    3608    2209    8193    9292  81101   \n",
       "3VRL       7957    4304    5906   11573   15462   29120    7504   3747   \n",
       "5E94       4899   11708   10339   15259   31647   32231   11709   8802   \n",
       "OPENSET  117186   11386  180466   10689    7400   15077  189257  93120   \n",
       "\n",
       "           3VRL    5E94  OPENSET  \n",
       "#                                 \n",
       "1ADQ       7957    4899   117186  \n",
       "1FBI       4304   11708    11386  \n",
       "1H0D       5906   10339   180466  \n",
       "1NSN      11573   15259    10689  \n",
       "1OB1      15462   31647     7400  \n",
       "1WEJ      29120   32231    15077  \n",
       "2YPV       7504   11709   189257  \n",
       "3RAJ       3747    8802    93120  \n",
       "3VRL     212995   24202    23042  \n",
       "5E94      24202  203633    32037  \n",
       "OPENSET   23042   32037   532719  "
      ]
     },
     "execution_count": 3,
     "metadata": {},
     "output_type": "execute_result"
    }
   ],
   "source": [
    "compairr = pd.read_csv(\"../data/CompAIRR/results/overlaps_d1_output.tsv\", sep='\\t', index_col=0)\n",
    "compairr"
   ]
  },
  {
   "cell_type": "code",
   "execution_count": 4,
   "metadata": {},
   "outputs": [
    {
     "data": {
      "text/plain": [
       "0.015961242103274025"
      ]
     },
     "execution_count": 4,
     "metadata": {},
     "output_type": "execute_result"
    }
   ],
   "source": [
    "def jaccard_index(\n",
    "    ag1: str, \n",
    "    ag2: str, \n",
    "    pairwise: pd.DataFrame = compairr\n",
    "    ) -> float:\n",
    "    intersection = pairwise.loc[ag1, ag2]\n",
    "    union = (\n",
    "        pairwise.loc[ag1, ag1] \n",
    "        + pairwise.loc[ag2, ag2] \n",
    "        - intersection\n",
    "    )\n",
    "    return intersection / union\n",
    "\n",
    "jaccard_index(\"1ADQ\", \"5E94\")"
   ]
  },
  {
   "cell_type": "code",
   "execution_count": 5,
   "metadata": {},
   "outputs": [],
   "source": [
    "df[\"jaccard_pos_neg\"] = df.apply(lambda s: jaccard_index(s[\"ag_pos\"], s[\"ag_neg\"]), axis=1)\n",
    "df[\"jaccard_pos_openset\"] = df.apply(lambda s: jaccard_index(s[\"ag_pos\"], \"OPENSET\"), axis=1)\n",
    "df[\"jaccard_neg_openset\"] = df.apply(lambda s: jaccard_index(s[\"ag_neg\"], \"OPENSET\"), axis=1)\n",
    "df[\"jaccard_closed_openset_sum\"] = df[\"jaccard_pos_openset\"] + df[\"jaccard_neg_openset\"]"
   ]
  },
  {
   "cell_type": "code",
   "execution_count": 6,
   "metadata": {},
   "outputs": [
    {
     "data": {
      "text/plain": [
       "<AxesSubplot:xlabel='jaccard_pos_neg', ylabel='open_roc_auc'>"
      ]
     },
     "execution_count": 6,
     "metadata": {},
     "output_type": "execute_result"
    },
    {
     "data": {
      "image/png": "[encoded data removed]",
      "text/plain": [
       "<Figure size 432x288 with 1 Axes>"
      ]
     },
     "metadata": {
      "needs_background": "light"
     },
     "output_type": "display_data"
    },
    {
     "data": {
      "image/png": "[encoded data removed]",
      "text/plain": [
       "<Figure size 432x288 with 1 Axes>"
      ]
     },
     "metadata": {
      "needs_background": "light"
     },
     "output_type": "display_data"
    }
   ],
   "source": [
    "df.plot.scatter(x=\"jaccard_pos_neg\", y=\"closed_roc_auc\")\n",
    "df.plot.scatter(x=\"jaccard_pos_neg\", y=\"open_roc_auc\")"
   ]
  },
  {
   "cell_type": "code",
   "execution_count": 7,
   "metadata": {},
   "outputs": [
    {
     "data": {
      "text/plain": [
       "<AxesSubplot:xlabel='jaccard_pos_openset', ylabel='open_roc_auc'>"
      ]
     },
     "execution_count": 7,
     "metadata": {},
     "output_type": "execute_result"
    },
    {
     "data": {
      "image/png": "[encoded data removed]",
      "text/plain": [
       "<Figure size 432x288 with 1 Axes>"
      ]
     },
     "metadata": {
      "needs_background": "light"
     },
     "output_type": "display_data"
    },
    {
     "data": {
      "image/png": "[encoded data removed]",
      "text/plain": [
       "<Figure size 432x288 with 1 Axes>"
      ]
     },
     "metadata": {
      "needs_background": "light"
     },
     "output_type": "display_data"
    }
   ],
   "source": [
    "df.plot.scatter(x=\"jaccard_pos_openset\", y=\"closed_roc_auc\")\n",
    "df.plot.scatter(x=\"jaccard_pos_openset\", y=\"open_roc_auc\")"
   ]
  },
  {
   "cell_type": "code",
   "execution_count": 8,
   "metadata": {},
   "outputs": [
    {
     "data": {
      "text/plain": [
       "<AxesSubplot:xlabel='jaccard_neg_openset', ylabel='open_roc_auc'>"
      ]
     },
     "execution_count": 8,
     "metadata": {},
     "output_type": "execute_result"
    },
    {
     "data": {
      "image/png": "[encoded data removed]",
      "text/plain": [
       "<Figure size 432x288 with 1 Axes>"
      ]
     },
     "metadata": {
      "needs_background": "light"
     },
     "output_type": "display_data"
    },
    {
     "data": {
      "image/png": "[encoded data removed]",
      "text/plain": [
       "<Figure size 432x288 with 1 Axes>"
      ]
     },
     "metadata": {
      "needs_background": "light"
     },
     "output_type": "display_data"
    }
   ],
   "source": [
    "df.plot.scatter(x=\"jaccard_neg_openset\", y=\"closed_roc_auc\")\n",
    "df.plot.scatter(x=\"jaccard_neg_openset\", y=\"open_roc_auc\")"
   ]
  },
  {
   "cell_type": "code",
   "execution_count": 9,
   "metadata": {},
   "outputs": [
    {
     "data": {
      "text/plain": [
       "<AxesSubplot:xlabel='jaccard_closed_openset_sum', ylabel='open_roc_auc'>"
      ]
     },
     "execution_count": 9,
     "metadata": {},
     "output_type": "execute_result"
    },
    {
     "data": {
      "image/png": "[encoded data removed]",
      "text/plain": [
       "<Figure size 432x288 with 1 Axes>"
      ]
     },
     "metadata": {
      "needs_background": "light"
     },
     "output_type": "display_data"
    },
    {
     "data": {
      "image/png": "[encoded data removed]",
      "text/plain": [
       "<Figure size 432x288 with 1 Axes>"
      ]
     },
     "metadata": {
      "needs_background": "light"
     },
     "output_type": "display_data"
    }
   ],
   "source": [
    "df.plot.scatter(x=\"jaccard_closed_openset_sum\", y=\"closed_roc_auc\")\n",
    "df.plot.scatter(x=\"jaccard_closed_openset_sum\", y=\"open_roc_auc\")"
   ]
  },
  {
   "cell_type": "code",
   "execution_count": null,
   "metadata": {},
   "outputs": [],
   "source": []
  }
 ],
 "metadata": {
  "kernelspec": {
   "display_name": "Python 3.8.13 ('ab-negative-training')",
   "language": "python",
   "name": "python3"
  },
  "language_info": {
   "codemirror_mode": {
    "name": "ipython",
    "version": 3
   },
   "file_extension": ".py",
   "mimetype": "text/x-python",
   "name": "python",
   "nbconvert_exporter": "python",
   "pygments_lexer": "ipython3",
   "version": "3.8.13"
  },
  "orig_nbformat": 4,
  "vscode": {
   "interpreter": {
    "hash": "a66fbe740016efe90d6139b67c84a560168f2532ea3e3d46e49051f459208991"
   }
  }
 },
 "nbformat": 4,
 "nbformat_minor": 2
}
