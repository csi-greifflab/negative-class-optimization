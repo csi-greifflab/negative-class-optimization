{
 "cells": [
  {
   "cell_type": "code",
   "execution_count": 41,
   "id": "c982b7da-ff16-40e6-8d3e-bd20a8534d46",
   "metadata": {},
   "outputs": [],
   "source": [
    "import torch\n",
    "import torch.nn as nn\n",
    "import json\n",
    "from NegativeClassOptimization import config, utils\n",
    "import os\n",
    "import shutil\n",
    "import glob"
   ]
  },
  {
   "cell_type": "code",
   "execution_count": 2,
   "id": "4a72f678-4f73-4b3e-9903-1eea7668d431",
   "metadata": {},
   "outputs": [],
   "source": [
    "tasks_dict = {'ONE_VS_NINE': '1v9', 'HIGH_VS_95LOW': 'high_vs_95low', 'HIGH_VS_LOOSER': 'high_vs_looser'}\n",
    "task_template = {'ONE_VS_NINE': '{ag}__vs__9', 'HIGH_VS_95LOW': '{ag}_high__vs__{ag}_95low', 'HIGH_VS_LOOSER': '{ag}_high__vs__{ag}_looser'}"
   ]
  },
  {
   "cell_type": "code",
   "execution_count": 42,
   "id": "d7a2364a-6f69-43dd-8145-2391b198ed76",
   "metadata": {},
   "outputs": [],
   "source": [
    "def weights_2_dict(torch_model):\n",
    "    torch_state_dict = torch_model.state_dict()\n",
    "    weights_dict = {'l1': torch_state_dict['module.linear_1.weight'].tolist(),\n",
    "                    'l1b': torch_state_dict['module.linear_1.bias'].tolist(),\n",
    "                    'l2': torch_state_dict['module.linear_2.weight'].tolist(), \n",
    "                    'l2b': torch_state_dict['module.linear_2.bias'].tolist()}\n",
    "    return weights_dict"
   ]
  },
  {
   "cell_type": "code",
   "execution_count": 18,
   "id": "63fe69bb-e1ec-4be0-8c62-27a13db77add",
   "metadata": {},
   "outputs": [
    {
     "data": {
      "text/plain": [
       "'./torch_models/Frozen_MiniAbsolut_ML/high_vs_looser/seed_3/split_0/1OB1_high__vs__1OB1_looser/swa_model/data/model.pth'"
      ]
     },
     "execution_count": 18,
     "metadata": {},
     "output_type": "execute_result"
    }
   ],
   "source": [
    "model_path "
   ]
  },
  {
   "cell_type": "code",
   "execution_count": 45,
   "id": "8209e3c6",
   "metadata": {},
   "outputs": [
    {
     "data": {
      "text/plain": [
       "<_io.TextIOWrapper name='../data/attr_to_calc_1v1.json' mode='r' encoding='UTF-8'>"
      ]
     },
     "execution_count": 45,
     "metadata": {},
     "output_type": "execute_result"
    }
   ],
   "source": [
    "f"
   ]
  },
  {
   "cell_type": "code",
   "execution_count": 47,
   "id": "f83b61c3",
   "metadata": {},
   "outputs": [],
   "source": [
    "with open('../data/attr_to_calc_1v1.json', 'r') as f:\n",
    "    f_data =f.read()\n",
    "    tasks_1v1 = json.loads(f_data)"
   ]
  },
  {
   "cell_type": "code",
   "execution_count": 50,
   "id": "5fee1cfa-ec50-4dc5-b6e4-6fb734729038",
   "metadata": {},
   "outputs": [],
   "source": [
    "#for 1v1\n",
    "for task in tasks_1v1:\n",
    "\n",
    "    model_path = f\"./torch_models/Frozen_MiniAbsolut_ML/1v1/seed_0/split_42/{task}/swa_model/data/model.pth\"\n",
    "    torch_model = torch.load(model_path, map_location=torch.device('cpu'))\n",
    "    weights_dict = weights_2_dict(torch_model)\n",
    "    with open(f'./torch_models/Frozen_MiniAbsolut_ML/model_weights_1v1/ONE_VS_ONE__{task}__0__42__weights.json', 'w') as f:\n",
    "        json.dump(weights_dict, f)\n",
    "    \n",
    "    data_path = glob.glob(f\"./torch_models/Frozen_MiniAbsolut_ML/1v1/seed_0/split_42/{task}/*test_dataset.tsv\")\n",
    "    if data_path != []:\n",
    "        new_path = f'../data/test_datasets_1v1/ONE_VS_ONE__{task}__0__42__test.tsv'\n",
    "        shutil.copy(data_path[0], new_path)\n"
   ]
  },
  {
   "cell_type": "code",
   "execution_count": null,
   "id": "2f77aa3b",
   "metadata": {},
   "outputs": [],
   "source": [
    "#for rest\n",
    "for ag in config.ANTIGENS:\n",
    "    for task in tasks_dict.keys():\n",
    "        for seed_id in [0,1,2,3]:\n",
    "            for split_id in [0,1,2,3,4,42]:\n",
    "                model_path = f\"./torch_models/Frozen_MiniAbsolut_ML/{tasks_dict[task]}/seed_{seed_id}/split_{split_id}/{task_template[task].format(ag=ag)}/swa_model/data/model.pth\"\n",
    "\n",
    "                try:\n",
    "                    torch_model = torch.load(model_path, map_location=torch.device('cpu'))\n",
    "                    weights_dict = weights_2_dict(torch_model)\n",
    "                    with open(f'./torch_models/Frozen_MiniAbsolut_ML/model_weights_1v1/{task}__{ag}__{seed_id}__{split_id}__weights.json', 'w') as f:\n",
    "                        json.dump(weights_dict, f)\n",
    "                except FileNotFoundError:\n",
    "                    pass\n",
    "\n",
    "                #extract test data\n",
    "\n",
    "                data_path = glob.glob(f\"./torch_models/Frozen_MiniAbsolut_ML/{tasks_dict[task]}/seed_{seed_id}/split_{split_id}/{task_template[task].format(ag=ag)}/*test_dataset.tsv\")\n",
    "                if data_path != []:\n",
    "                    new_path = f'../data/test_datasets/{task}__{ag}__{seed_id}__{split_id}__test.tsv'\n",
    "                    shutil.copy(data_path[0], new_path)\n",
    "                else:\n",
    "                    pass"
   ]
  },
  {
   "cell_type": "code",
   "execution_count": 26,
   "id": "d7922065-76c9-4f0a-8f6c-a67b8bb309bf",
   "metadata": {},
   "outputs": [
    {
     "name": "stdout",
     "output_type": "stream",
     "text": [
      "     270\n"
     ]
    }
   ],
   "source": [
    "!ls ./torch_models/Frozen_MiniAbsolut_ML/model_weights | wc -l"
   ]
  },
  {
   "cell_type": "code",
   "execution_count": 36,
   "id": "22d12312-748b-4a4d-a99d-27e21bbd140e",
   "metadata": {},
   "outputs": [
    {
     "data": {
      "text/plain": [
       "dict_keys(['ONE_VS_NINE', 'HIGH_VS_95LOW', 'HIGH_VS_LOOSER'])"
      ]
     },
     "execution_count": 36,
     "metadata": {},
     "output_type": "execute_result"
    }
   ],
   "source": [
    "tasks_dict.keys()"
   ]
  },
  {
   "cell_type": "code",
   "execution_count": 38,
   "id": "020cef0f-b0f0-4ca1-b79d-59101d0d407a",
   "metadata": {},
   "outputs": [],
   "source": [
    "#put weights and calculated reveal_cancel attributions to folder\n",
    "attributions_file = glob.glob(\"../data/deeplift_revealcancel/*\")\n",
    "for attribution_path in attributions_file:\n",
    "    file_name = os.path.basename(attribution_path)\n",
    "    task, ag, seed, split = file_name.split(\"__\")[:-1]\n",
    "    weights_path = f'./torch_models/Frozen_MiniAbsolut_ML/model_weights/{task}__{ag}__{seed}__{split}__weights.json'\n",
    "    destination_dir = f'./torch_models/Frozen_MiniAbsolut_ML/{tasks_dict[task]}/seed_{seed}/split_{split}/{task_template[task].replace(\"{ag}\", ag)}/attributions/reveal_cancel'\n",
    "    os.makedirs(destination_dir, exist_ok=True)\n",
    "    attr_rescale_p = f'./torch_models/Frozen_MiniAbsolut_ML/{tasks_dict[task]}/seed_{seed}/split_{split}/{task_template[task].replace(\"{ag}\", ag)}/attributions/v2.0-2/attribution_records.json'\n",
    "    with open(attr_rescale_p, 'r') as f:\n",
    "        json_data = f.read()\n",
    "        attr_rescale = json.loads(json_data)\n",
    "    with open(attribution_path, 'r') as f:\n",
    "        json_data = f.read()\n",
    "        attr_rev_cancel = json.loads(json_data) \n",
    "    all_attrs_rev_cancel = []\n",
    "    for  record in  attr_rescale:\n",
    "        record['DeepLIFT_Reveal_cancel'] = attr_rev_cancel[record['slide']]\n",
    "        all_attrs_rev_cancel.append(record)\n",
    "    with open(destination_dir+\"/attribution_records.json\", 'w') as f:\n",
    "        json.dump(all_attrs_rev_cancel, f)\n",
    "    shutil.copy(weights_path, destination_dir)\n",
    "    #shutil.copy(attribution_path, destination_dir + \"/attribution_records.json\")\n"
   ]
  },
  {
   "cell_type": "code",
   "execution_count": null,
   "id": "5cca9a57",
   "metadata": {},
   "outputs": [],
   "source": [
    "#put weights and calculated reveal_cancel attributions to 1v1 folders\n",
    "attributions_file = glob.glob(\"../data/deeplift_revealcancel_1v1/*\")\n",
    "for attribution_path in attributions_file:\n",
    "    file_name = os.path.basename(attribution_path)\n",
    "    task, ag1, _, ag2,  seed, split = file_name.split(\"__\")[:-1]\n",
    "    weights_path = f'./torch_models/Frozen_MiniAbsolut_ML/model_weights_1v1/{task}__{ag}__{seed}__{split}__weights.json'\n",
    "    destination_dir = f'./torch_models/Frozen_MiniAbsolut_ML/{tasks_dict[task]}/seed_{seed}/split_{split}/{task_template[task].replace(\"{ag}\", ag)}/attributions/reveal_cancel'\n",
    "    os.makedirs(destination_dir, exist_ok=True)\n",
    "    attr_rescale_p = f'./torch_models/Frozen_MiniAbsolut_ML/{tasks_dict[task]}/seed_{seed}/split_{split}/{task_template[task].replace(\"{ag}\", ag)}/attributions/v2.0-2/attribution_records.json'\n",
    "    with open(attr_rescale_p, 'r') as f:\n",
    "        json_data = f.read()\n",
    "        attr_rescale = json.loads(json_data)\n",
    "    with open(attribution_path, 'r') as f:\n",
    "        json_data = f.read()\n",
    "        attr_rev_cancel = json.loads(json_data) \n",
    "    all_attrs_rev_cancel = []\n",
    "    for  record in  attr_rescale:\n",
    "        record['DeepLIFT_Reveal_cancel'] = attr_rev_cancel[record['slide']]\n",
    "        all_attrs_rev_cancel.append(record)\n",
    "    with open(destination_dir+\"/attribution_records.json\", 'w') as f:\n",
    "        json.dump(all_attrs_rev_cancel, f)\n",
    "    shutil.copy(weights_path, destination_dir)\n",
    "    #shutil.copy(attribution_path, destination_dir + \"/attribution_records.json\")"
   ]
  },
  {
   "cell_type": "code",
   "execution_count": 73,
   "id": "a955ad7a",
   "metadata": {},
   "outputs": [
    {
     "name": "stdout",
     "output_type": "stream",
     "text": [
      "1WEJ 3RAJ\n",
      "1FBI 3VRL\n",
      "5E94 1OB1\n",
      "1OB1 1NSN\n",
      "1H0D 1OB1\n",
      "2YPV 5E94\n",
      "1FBI 1ADQ\n",
      "1ADQ 1OB1\n",
      "3RAJ 1NSN\n",
      "1NSN 5E94\n",
      "1WEJ 2YPV\n",
      "1ADQ 1NSN\n",
      "1WEJ 1H0D\n",
      "1H0D 1NSN\n",
      "1H0D 1FBI\n",
      "2YPV 1H0D\n",
      "1OB1 3VRL\n",
      "1ADQ 1FBI\n",
      "3VRL 1H0D\n",
      "1OB1 1ADQ\n",
      "2YPV 1WEJ\n",
      "1FBI 1NSN\n",
      "5E94 1FBI\n",
      "3VRL 2YPV\n",
      "1NSN 1WEJ\n",
      "1WEJ 5E94\n",
      "1OB1 1FBI\n",
      "1ADQ 3VRL\n",
      "3VRL 3RAJ\n",
      "2YPV 3RAJ\n",
      "1FBI 1OB1\n",
      "1H0D 1ADQ\n",
      "5E94 3VRL\n",
      "5E94 3RAJ\n",
      "3RAJ 1H0D\n",
      "1WEJ 1OB1\n",
      "2YPV 3VRL\n",
      "1OB1 1H0D\n",
      "2YPV 1ADQ\n",
      "1ADQ 3RAJ\n",
      "3VRL 1ADQ\n",
      "1FBI 5E94\n",
      "1NSN 1FBI\n",
      "1OB1 2YPV\n",
      "1OB1 1WEJ\n",
      "1WEJ 1NSN\n",
      "2YPV 1FBI\n",
      "5E94 1WEJ\n",
      "1ADQ 1H0D\n",
      "1OB1 3RAJ\n",
      "1H0D 2YPV\n",
      "1H0D 1WEJ\n",
      "1ADQ 1WEJ\n",
      "1ADQ 2YPV\n",
      "1FBI 1H0D\n",
      "1NSN 1OB1\n",
      "2YPV 1NSN\n",
      "1FBI 1WEJ\n",
      "1FBI 2YPV\n",
      "1WEJ 1FBI\n",
      "1OB1 5E94\n",
      "1WEJ 1ADQ\n",
      "1FBI 3RAJ\n",
      "1WEJ 3VRL\n",
      "2YPV 1OB1\n",
      "1ADQ 5E94\n"
     ]
    }
   ],
   "source": [
    "attributions_file = glob.glob(\"../data/deeplift_revealcancel_1v1/*\")\n",
    "for attribution_path in attributions_file:\n",
    "    file_name = os.path.basename(attribution_path)\n",
    "    base_name = file_name.split(\"__\")[:-1]\n",
    "    task, ag1, _, ag2,  seed, split = base_name\n",
    "    destination_dir = f'./torch_models/Frozen_MiniAbsolut_ML/1v1/seed_0/split_42/{ag1}__vs__{ag2}/attributions/reveal_cancel'\n",
    "    os.makedirs(destination_dir, exist_ok=True)\n",
    "\n",
    "    attr_rescale_p = f'./torch_models/Frozen_MiniAbsolut_ML/1v1/seed_0/split_42/{ag1}__vs__{ag2}/attributions/v2.0-2/attribution_records.json'\n",
    "    try:\n",
    "        with open(attr_rescale_p, 'r') as f:\n",
    "            json_data = f.read()\n",
    "            attr_rescale = json.loads(json_data)\n",
    "        with open(attribution_path, 'r') as f:\n",
    "            json_data = f.read()\n",
    "            attr_rev_cancel = json.loads(json_data) \n",
    "        all_attrs_rev_cancel = []\n",
    "        for  record in  attr_rescale:\n",
    "            record['DeepLIFT_Reveal_cancel'] = attr_rev_cancel[record['slide']]\n",
    "            all_attrs_rev_cancel.append(record)\n",
    "        with open(destination_dir+\"/attribution_records.json\", 'w') as f:\n",
    "            json.dump(all_attrs_rev_cancel, f)\n",
    "    except:\n",
    "        print(ag1, ag2)"
   ]
  },
  {
   "cell_type": "code",
   "execution_count": 71,
   "id": "91360d07",
   "metadata": {},
   "outputs": [
    {
     "data": {
      "text/plain": [
       "'../data/deeplift_revealcancel_1v1/ONE_VS_ONE__1FBI__vs__3VRL__0__42__attr.json'"
      ]
     },
     "execution_count": 71,
     "metadata": {},
     "output_type": "execute_result"
    }
   ],
   "source": [
    "attributions_file[1]"
   ]
  },
  {
   "cell_type": "code",
   "execution_count": null,
   "id": "6b28d005",
   "metadata": {},
   "outputs": [],
   "source": [
    "# data_path = glob.glob(f\"./torch_models/Frozen_MiniAbsolut_ML/1v1/seed_0/split_42/{task}/*test_dataset.tsv\")"
   ]
  }
 ],
 "metadata": {
  "kernelspec": {
   "display_name": "Python 3 (ipykernel)",
   "language": "python",
   "name": "python3"
  },
  "language_info": {
   "codemirror_mode": {
    "name": "ipython",
    "version": 3
   },
   "file_extension": ".py",
   "mimetype": "text/x-python",
   "name": "python",
   "nbconvert_exporter": "python",
   "pygments_lexer": "ipython3",
   "version": "3.8.13"
  }
 },
 "nbformat": 4,
 "nbformat_minor": 5
}
