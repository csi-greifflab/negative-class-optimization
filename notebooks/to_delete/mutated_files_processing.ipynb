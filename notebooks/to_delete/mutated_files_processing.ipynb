{
 "cells": [
  {
   "cell_type": "code",
   "execution_count": 5,
   "metadata": {},
   "outputs": [],
   "source": [
    "import pandas as pd\n",
    "import numpy as np\n",
    "import glob\n",
    "from NegativeClassOptimization.preprocessing import config"
   ]
  },
  {
   "cell_type": "code",
   "execution_count": 6,
   "metadata": {},
   "outputs": [],
   "source": [
    "path = '../data/mutated_t6' "
   ]
  },
  {
   "cell_type": "code",
   "execution_count": 34,
   "metadata": {},
   "outputs": [
    {
     "name": "stderr",
     "output_type": "stream",
     "text": [
      "/var/folders/ww/bptfq9n12_jbyy78qcjp7s4c0000gn/T/ipykernel_78070/1775486994.py:3: ParserWarning: Falling back to the 'python' engine because the 'c' engine does not support regex separators (separators > 1 char and different from '\\s+' are interpreted as regex); you can avoid this warning by specifying engine='python'.\n",
      "  df_1 = pd.read_csv(path + f'/{ag}/PooledTempResultsV2.txt', sep='\\s', names = df_columns)\n",
      "/var/folders/ww/bptfq9n12_jbyy78qcjp7s4c0000gn/T/ipykernel_78070/1775486994.py:4: ParserWarning: Falling back to the 'python' engine because the 'c' engine does not support regex separators (separators > 1 char and different from '\\s+' are interpreted as regex); you can avoid this warning by specifying engine='python'.\n",
      "  df_2 = pd.read_csv(path + f'/{ag}/PooledTempResultsV3.txt', sep='\\s', names = df_columns)\n",
      "/var/folders/ww/bptfq9n12_jbyy78qcjp7s4c0000gn/T/ipykernel_78070/1775486994.py:3: ParserWarning: Falling back to the 'python' engine because the 'c' engine does not support regex separators (separators > 1 char and different from '\\s+' are interpreted as regex); you can avoid this warning by specifying engine='python'.\n",
      "  df_1 = pd.read_csv(path + f'/{ag}/PooledTempResultsV2.txt', sep='\\s', names = df_columns)\n",
      "/var/folders/ww/bptfq9n12_jbyy78qcjp7s4c0000gn/T/ipykernel_78070/1775486994.py:4: ParserWarning: Falling back to the 'python' engine because the 'c' engine does not support regex separators (separators > 1 char and different from '\\s+' are interpreted as regex); you can avoid this warning by specifying engine='python'.\n",
      "  df_2 = pd.read_csv(path + f'/{ag}/PooledTempResultsV3.txt', sep='\\s', names = df_columns)\n",
      "/var/folders/ww/bptfq9n12_jbyy78qcjp7s4c0000gn/T/ipykernel_78070/1775486994.py:3: ParserWarning: Falling back to the 'python' engine because the 'c' engine does not support regex separators (separators > 1 char and different from '\\s+' are interpreted as regex); you can avoid this warning by specifying engine='python'.\n",
      "  df_1 = pd.read_csv(path + f'/{ag}/PooledTempResultsV2.txt', sep='\\s', names = df_columns)\n",
      "/var/folders/ww/bptfq9n12_jbyy78qcjp7s4c0000gn/T/ipykernel_78070/1775486994.py:4: ParserWarning: Falling back to the 'python' engine because the 'c' engine does not support regex separators (separators > 1 char and different from '\\s+' are interpreted as regex); you can avoid this warning by specifying engine='python'.\n",
      "  df_2 = pd.read_csv(path + f'/{ag}/PooledTempResultsV3.txt', sep='\\s', names = df_columns)\n",
      "/var/folders/ww/bptfq9n12_jbyy78qcjp7s4c0000gn/T/ipykernel_78070/1775486994.py:3: ParserWarning: Falling back to the 'python' engine because the 'c' engine does not support regex separators (separators > 1 char and different from '\\s+' are interpreted as regex); you can avoid this warning by specifying engine='python'.\n",
      "  df_1 = pd.read_csv(path + f'/{ag}/PooledTempResultsV2.txt', sep='\\s', names = df_columns)\n",
      "/var/folders/ww/bptfq9n12_jbyy78qcjp7s4c0000gn/T/ipykernel_78070/1775486994.py:4: ParserWarning: Falling back to the 'python' engine because the 'c' engine does not support regex separators (separators > 1 char and different from '\\s+' are interpreted as regex); you can avoid this warning by specifying engine='python'.\n",
      "  df_2 = pd.read_csv(path + f'/{ag}/PooledTempResultsV3.txt', sep='\\s', names = df_columns)\n",
      "/var/folders/ww/bptfq9n12_jbyy78qcjp7s4c0000gn/T/ipykernel_78070/1775486994.py:3: ParserWarning: Falling back to the 'python' engine because the 'c' engine does not support regex separators (separators > 1 char and different from '\\s+' are interpreted as regex); you can avoid this warning by specifying engine='python'.\n",
      "  df_1 = pd.read_csv(path + f'/{ag}/PooledTempResultsV2.txt', sep='\\s', names = df_columns)\n",
      "/var/folders/ww/bptfq9n12_jbyy78qcjp7s4c0000gn/T/ipykernel_78070/1775486994.py:4: ParserWarning: Falling back to the 'python' engine because the 'c' engine does not support regex separators (separators > 1 char and different from '\\s+' are interpreted as regex); you can avoid this warning by specifying engine='python'.\n",
      "  df_2 = pd.read_csv(path + f'/{ag}/PooledTempResultsV3.txt', sep='\\s', names = df_columns)\n",
      "/var/folders/ww/bptfq9n12_jbyy78qcjp7s4c0000gn/T/ipykernel_78070/1775486994.py:3: ParserWarning: Falling back to the 'python' engine because the 'c' engine does not support regex separators (separators > 1 char and different from '\\s+' are interpreted as regex); you can avoid this warning by specifying engine='python'.\n",
      "  df_1 = pd.read_csv(path + f'/{ag}/PooledTempResultsV2.txt', sep='\\s', names = df_columns)\n",
      "/var/folders/ww/bptfq9n12_jbyy78qcjp7s4c0000gn/T/ipykernel_78070/1775486994.py:4: ParserWarning: Falling back to the 'python' engine because the 'c' engine does not support regex separators (separators > 1 char and different from '\\s+' are interpreted as regex); you can avoid this warning by specifying engine='python'.\n",
      "  df_2 = pd.read_csv(path + f'/{ag}/PooledTempResultsV3.txt', sep='\\s', names = df_columns)\n",
      "/var/folders/ww/bptfq9n12_jbyy78qcjp7s4c0000gn/T/ipykernel_78070/1775486994.py:3: ParserWarning: Falling back to the 'python' engine because the 'c' engine does not support regex separators (separators > 1 char and different from '\\s+' are interpreted as regex); you can avoid this warning by specifying engine='python'.\n",
      "  df_1 = pd.read_csv(path + f'/{ag}/PooledTempResultsV2.txt', sep='\\s', names = df_columns)\n",
      "/var/folders/ww/bptfq9n12_jbyy78qcjp7s4c0000gn/T/ipykernel_78070/1775486994.py:4: ParserWarning: Falling back to the 'python' engine because the 'c' engine does not support regex separators (separators > 1 char and different from '\\s+' are interpreted as regex); you can avoid this warning by specifying engine='python'.\n",
      "  df_2 = pd.read_csv(path + f'/{ag}/PooledTempResultsV3.txt', sep='\\s', names = df_columns)\n",
      "/var/folders/ww/bptfq9n12_jbyy78qcjp7s4c0000gn/T/ipykernel_78070/1775486994.py:3: ParserWarning: Falling back to the 'python' engine because the 'c' engine does not support regex separators (separators > 1 char and different from '\\s+' are interpreted as regex); you can avoid this warning by specifying engine='python'.\n",
      "  df_1 = pd.read_csv(path + f'/{ag}/PooledTempResultsV2.txt', sep='\\s', names = df_columns)\n",
      "/var/folders/ww/bptfq9n12_jbyy78qcjp7s4c0000gn/T/ipykernel_78070/1775486994.py:4: ParserWarning: Falling back to the 'python' engine because the 'c' engine does not support regex separators (separators > 1 char and different from '\\s+' are interpreted as regex); you can avoid this warning by specifying engine='python'.\n",
      "  df_2 = pd.read_csv(path + f'/{ag}/PooledTempResultsV3.txt', sep='\\s', names = df_columns)\n",
      "/var/folders/ww/bptfq9n12_jbyy78qcjp7s4c0000gn/T/ipykernel_78070/1775486994.py:3: ParserWarning: Falling back to the 'python' engine because the 'c' engine does not support regex separators (separators > 1 char and different from '\\s+' are interpreted as regex); you can avoid this warning by specifying engine='python'.\n",
      "  df_1 = pd.read_csv(path + f'/{ag}/PooledTempResultsV2.txt', sep='\\s', names = df_columns)\n",
      "/var/folders/ww/bptfq9n12_jbyy78qcjp7s4c0000gn/T/ipykernel_78070/1775486994.py:4: ParserWarning: Falling back to the 'python' engine because the 'c' engine does not support regex separators (separators > 1 char and different from '\\s+' are interpreted as regex); you can avoid this warning by specifying engine='python'.\n",
      "  df_2 = pd.read_csv(path + f'/{ag}/PooledTempResultsV3.txt', sep='\\s', names = df_columns)\n",
      "/var/folders/ww/bptfq9n12_jbyy78qcjp7s4c0000gn/T/ipykernel_78070/1775486994.py:3: ParserWarning: Falling back to the 'python' engine because the 'c' engine does not support regex separators (separators > 1 char and different from '\\s+' are interpreted as regex); you can avoid this warning by specifying engine='python'.\n",
      "  df_1 = pd.read_csv(path + f'/{ag}/PooledTempResultsV2.txt', sep='\\s', names = df_columns)\n",
      "/var/folders/ww/bptfq9n12_jbyy78qcjp7s4c0000gn/T/ipykernel_78070/1775486994.py:4: ParserWarning: Falling back to the 'python' engine because the 'c' engine does not support regex separators (separators > 1 char and different from '\\s+' are interpreted as regex); you can avoid this warning by specifying engine='python'.\n",
      "  df_2 = pd.read_csv(path + f'/{ag}/PooledTempResultsV3.txt', sep='\\s', names = df_columns)\n"
     ]
    }
   ],
   "source": [
    "df_columns = ['ID_slide_Variant', 'CDR3', 'Best', 'Slide', 'Energy', 'Structure']\n",
    "for ag in config.ANTIGENS:\n",
    "    df_1 = pd.read_csv(path + f'/{ag}/PooledTempResultsV2.txt', sep='\\s', names = df_columns)\n",
    "    df_2 = pd.read_csv(path + f'/{ag}/PooledTempResultsV3.txt', sep='\\s', names = df_columns)\n",
    "    df = pd.concat([df_1, df_2]).drop_duplicates()\n",
    "    df.to_csv(path + f'/{ag}/PooledTempResults_merged.txt', sep=' ', index=False)\n"
   ]
  },
  {
   "cell_type": "code",
   "execution_count": null,
   "metadata": {},
   "outputs": [],
   "source": []
  }
 ],
 "metadata": {
  "kernelspec": {
   "display_name": "nco",
   "language": "python",
   "name": "python3"
  },
  "language_info": {
   "codemirror_mode": {
    "name": "ipython",
    "version": 3
   },
   "file_extension": ".py",
   "mimetype": "text/x-python",
   "name": "python",
   "nbconvert_exporter": "python",
   "pygments_lexer": "ipython3",
   "version": "3.8.13"
  },
  "orig_nbformat": 4
 },
 "nbformat": 4,
 "nbformat_minor": 2
}
