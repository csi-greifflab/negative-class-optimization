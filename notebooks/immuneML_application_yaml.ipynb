{
 "cells": [
  {
   "cell_type": "markdown",
   "id": "e44f8708-1315-4b3c-adf5-d6edbf3e6f66",
   "metadata": {},
   "source": [
    "### This notebook is used for creating yaml files for testing previously trained immuneML models on different test datasets. "
   ]
  },
  {
   "cell_type": "code",
   "execution_count": 255,
   "id": "ae9dff24-35aa-4aad-b739-f518b40c6374",
   "metadata": {},
   "outputs": [],
   "source": [
    "import re\n",
    "import numpy as np\n",
    "import pandas as pd\n",
    "from scipy import stats\n",
    "import matplotlib.pyplot as plt\n",
    "import seaborn as sns\n",
    "import NegativeClassOptimization.config as config\n",
    "import glob\n",
    "import yaml\n",
    "from pathlib import Path\n",
    "from itertools import combinations"
   ]
  },
  {
   "cell_type": "code",
   "execution_count": 2,
   "id": "9df3242a-f9fb-4177-98cd-e7a54bca6df9",
   "metadata": {},
   "outputs": [],
   "source": [
    "antigens = ['3VRL', '1NSN', '3RAJ', '5E94', '1H0D', '1WEJ', '1ADQ', '1FBI','2YPV', '1OB1']"
   ]
  },
  {
   "cell_type": "code",
   "execution_count": 136,
   "id": "834b9f94-0386-4879-8961-b3d9afa786f3",
   "metadata": {},
   "outputs": [],
   "source": [
    "class NoAliasDumper(yaml.SafeDumper):\n",
    "    \"\"\"\n",
    "    Yaml dumper without yaml references.\n",
    "    \"\"\"\n",
    "    def ignore_aliases(self, data):\n",
    "        return True"
   ]
  },
  {
   "cell_type": "code",
   "execution_count": 101,
   "id": "574a1ac8-5ac7-46f9-bd35-2498df551934",
   "metadata": {},
   "outputs": [],
   "source": [
    "def antigens_from_path(folder_name):\n",
    "    \"\"\"Find antigens name in the file name, where every word separated with'_'. Antigen list is a global variable.\"\"\"\n",
    "    name_parts = folder_name.split('_')\n",
    "    ags = [name_part for name_part in name_parts if name_part in antigens]\n",
    "    return ags"
   ]
  },
  {
   "cell_type": "code",
   "execution_count": 123,
   "id": "8ca29ea0-2d5c-4521-8ba9-fbd6aca16271",
   "metadata": {},
   "outputs": [],
   "source": [
    "#creating dict config:dataset_paths\n",
    "def get_config_path_dict(models_root, data_folder_path, file_pattern_format):\n",
    "    \"\"\" \n",
    "    Creates a dictionary of a ML models and their corresponding test datasets depending on antigen(s) used for training.\n",
    "    Antigen labeled as positive should be the same in training and testing datasets.\n",
    "    \n",
    "    Arguments:\n",
    "        models_root: foler where models located\n",
    "        data_folder_path: folder where test datasets are located\n",
    "        file_pattern_format: (str) string pattern for test data file formated using .format. Ex: \"'/*{0}*_test*'.format(conf_ag[0])\", \n",
    "                                                                                                          where conf_ag denotes list of antigens from the name of the model.\n",
    "    \"\"\"\n",
    "    config_paths = glob.glob(str(Path(config.IMMUNE_ML_BASE_PATH / models_root)) +'/fit_*')\n",
    "    config_path_dict = dict()\n",
    "    for config_path in config_paths:\n",
    "        #getting dataset file pattern in a bit tricky way\n",
    "        conf_ag = antigens_from_path(config_path.split('/')[-1])\n",
    "        data_file_pattern = []\n",
    "        exec('data_file_pattern.append(%s)' % file_pattern_format)\n",
    "        data_file_pattern = data_file_pattern[0]\n",
    "        \n",
    "        #creating config path dict\n",
    "        config_path = Path(config_path) / 'optimal_binder/zip/ml_settings_binder.zip'\n",
    "        config_path = str(config_path)\n",
    "        paths = glob.glob(str(Path(config.DATA_BASE_PATH / f'{data_folder_path}')) + data_file_pattern)\n",
    "        conf_ag = '_'.join(conf_ag)  # to put into a set together with another string\n",
    "        config_path_dict[(config_path, conf_ag)] = paths\n",
    "    return config_path_dict"
   ]
  },
  {
   "cell_type": "code",
   "execution_count": 209,
   "id": "7bb59cb5-d910-4cfd-8eae-da3e7f0472d5",
   "metadata": {},
   "outputs": [],
   "source": [
    "#{models_root}_{conf_ag[0]}_{path_ag[0]}\n",
    "def create_test_yaml(models_root, data_folder_path, data_file_str_pattern, spec_name, test_run = False):\n",
    "    \"\"\"\n",
    "    Creates yaml for immuneML application. Returns datasets and instruction dictionaries for subsequent dumping to yaml.\n",
    "    Arguments:\n",
    "        models_root: foler where models located\n",
    "        data_folder_path: folder where test datasets are located\n",
    "        data_file_str_pattern: (str) started pattern for test data file written formated using .format. Ex: \"'/*{0}*_test*'.format(conf_ag[0])\",\n",
    "                                                                                                        where conf_ag denotes list of antigens from the name of the model.                                                   \n",
    "        spec_name: (str) string pattern for specification name formated using .format. Ex: \"'high_low_svm_{0}_{1}_{2}'.format(conf_ag[0],path_ag[0],path_ag[1])\",\n",
    "                                                                                            where conf_ag/path denotes list of antigens from the name of the model or test dataset correspondingly.                                                   \n",
    "        test_run: (boolen) if True datasets and instruction dictionaries will consist of only one key-value pair.\n",
    "    \"\"\"\n",
    "    config_path_dict = get_config_path_dict(models_root, data_folder_path, data_file_str_pattern)\n",
    "    datasets = dict()\n",
    "    instructions = dict()\n",
    "    for config_set, paths in config_path_dict.items():\n",
    "        conf_ag = config_set[1].split('_')\n",
    "        config_path = config_set[0]\n",
    "        for path in paths:\n",
    "            path_ag = antigens_from_path(path.split('/')[-1])\n",
    "            spec_name_ag = []\n",
    "            exec('spec_name_ag.append(%s)' % spec_name)\n",
    "            spec_name_ag = spec_name_ag[0]\n",
    "            datasets[spec_name_ag] = {\n",
    "                    \"format\": \"Generic\",\n",
    "                    \"params\": {\n",
    "                        \"path\": path,\n",
    "                        \"is_repertoire\": False,\n",
    "                        \"region_type\": \"FULL_SEQUENCE\",\n",
    "                         \"column_mapping\": {\n",
    "                                \"Slide\": \"sequence_aas\",\n",
    "                                \"example_id\": \"sequence_identifiers\"\n",
    "\n",
    "                            },\n",
    "                            \"metadata_column_mapping\": {\n",
    "                                \"example_id\": \"sequence_identifiers\",\n",
    "                                \"Antigen\": \"Antigen\",\n",
    "                                \"binder\": \"binder\", #can be compared later, no need to crete an alt_binder coumn now\n",
    "                            }}\n",
    "            }\n",
    "            instructions[spec_name_ag + '_instruction'] = {\n",
    "                        \"type\": \"MLApplication\",\n",
    "                        \"dataset\": spec_name_ag,\n",
    "                        \"config_path\": config_path,\n",
    "                        \"number_of_processes\": 4\n",
    "            }\n",
    "            if test_run:\n",
    "                return datasets, instructions\n",
    "        \n",
    "    return datasets, instructions"
   ]
  },
  {
   "cell_type": "code",
   "execution_count": 137,
   "id": "5da38036-6097-4c99-ad00-152ed4701be2",
   "metadata": {},
   "outputs": [],
   "source": [
    "def yaml_dumping(yaml_file_name, datasets, instructions):\n",
    "    \"\"\"\n",
    "    Dumps dictionaries to yaml sile for immuneML.\n",
    "    \"\"\"\n",
    "    with open(f'../immuneML/yaml_specifications/{yaml_file_name}', 'w') as f:\n",
    "            yaml.dump(\n",
    "                {'definitions': {'datasets': datasets},\n",
    "                'instructions': instructions},\n",
    "                f,\n",
    "                default_flow_style=False,\n",
    "                sort_keys=False,\n",
    "                Dumper=NoAliasDumper\n",
    "            )"
   ]
  },
  {
   "cell_type": "markdown",
   "id": "b05579fd-32dc-4cf0-920f-2bf54a5e8abc",
   "metadata": {},
   "source": [
    "#there is a problem, maybe i need to use tsv not csv"
   ]
  },
  {
   "cell_type": "code",
   "execution_count": 231,
   "id": "03763295-ec19-4e9e-8592-9693fae3ee07",
   "metadata": {},
   "outputs": [],
   "source": [
    "def metadata_to_tsv(files_test_csv):\n",
    "    \"\"\"\n",
    "    Converts metadata test files from csv to tsv and saves them to the folder test_tsv in the same root folder as metadata.\n",
    "    Arguments:\n",
    "        files_test_csv: list of all test files in the metadata folder.\n",
    "    \"\"\"\n",
    "    for tets_path in files_test_csv:\n",
    "        df_i = pd.read_csv(tets_path)\n",
    "        out_path = tets_path.split('/')\n",
    "        file_name = out_path[-1].split('.')[0] + '.tsv'\n",
    "        out_path[-2] = 'test_tsv'\n",
    "        out_path[-1] = file_name\n",
    "        out_path = '/'.join(out_path)\n",
    "        df_i.to_csv(out_path, sep ='\\t')"
   ]
  },
  {
   "cell_type": "markdown",
   "id": "29f4b819-6259-4c1c-9131-5e5d197c72d1",
   "metadata": {},
   "source": [
    "### High-low agains pw-high"
   ]
  },
  {
   "cell_type": "code",
   "execution_count": null,
   "id": "294a5cb3-bb12-49eb-a38d-d3a298e07954",
   "metadata": {},
   "outputs": [],
   "source": [
    "files_test_csv = glob.glob(str(Path(config.DATA_BASE_PATH / 'full_data/high_pairwise/metadata/'))  + '/*_test*')\n",
    "metadata_to_tsv(files_test_csv)"
   ]
  },
  {
   "cell_type": "code",
   "execution_count": 225,
   "id": "0062466f-416d-40a5-80fe-4c8f5f744e18",
   "metadata": {},
   "outputs": [],
   "source": [
    "datasets_high_low_vs_high, instructions_high_low_vs_high = create_test_yaml('high_low_svm_out', 'full_data/high_pairwise/test_tsv/',\\\n",
    "                                                                            \"'/*{0}*_test*'.format(conf_ag[0])\",\\\n",
    "                                                                            \"'high_low_svm_{0}_{1}_{2}'.format(conf_ag[0],path_ag[0],path_ag[1])\", test_run = False)"
   ]
  },
  {
   "cell_type": "code",
   "execution_count": 226,
   "id": "8f36c923-8094-4a18-958a-01904a199c2d",
   "metadata": {},
   "outputs": [],
   "source": [
    "yaml_dumping('high_low_vs_high_svm_test.yaml', datasets_high_low_vs_high, instructions_high_low_vs_high)"
   ]
  },
  {
   "cell_type": "code",
   "execution_count": 227,
   "id": "3d42b62d-ec66-4fcd-b5cd-0398c7f1df52",
   "metadata": {},
   "outputs": [],
   "source": [
    "datasets_high_low_vs_high_knn, instructions_high_low_vs_high_knn = create_test_yaml('high_low_knn_out', 'full_data/high_pairwise/test_tsv/',\\\n",
    "                                                                            \"'/*{0}*_test*'.format(conf_ag[0])\",\\\n",
    "                                                                            \"'high_low_knn_{0}_{1}_{2}'.format(conf_ag[0],path_ag[0],path_ag[1])\")"
   ]
  },
  {
   "cell_type": "code",
   "execution_count": 228,
   "id": "3e0dfcbc-7d7c-4fbd-99d8-50da73ea23ce",
   "metadata": {},
   "outputs": [],
   "source": [
    "yaml_dumping('high_low_vs_high_knn_test.yaml', datasets_high_low_vs_high_knn, instructions_high_low_vs_high_knn)"
   ]
  },
  {
   "cell_type": "code",
   "execution_count": 229,
   "id": "26e30495-042d-47f6-b775-f2644c6e9bd3",
   "metadata": {},
   "outputs": [],
   "source": [
    "datasets_high_low_vs_high_rf, instructions_high_low_vs_high_rf = create_test_yaml('high_low_rf_out', 'full_data/high_pairwise/test_tsv/',\\\n",
    "                                                                            \"'/*{0}*_test*'.format(conf_ag[0])\",\\\n",
    "                                                                            \"'high_low_rf_{0}_{1}_{2}'.format(conf_ag[0],path_ag[0],path_ag[1])\")"
   ]
  },
  {
   "cell_type": "code",
   "execution_count": 230,
   "id": "9f8dcdd7-5ce3-442d-976f-1a5390ff5eb2",
   "metadata": {},
   "outputs": [],
   "source": [
    "yaml_dumping('high_low_vs_high_rf_test.yaml', datasets_high_low_vs_high_rf, instructions_high_low_vs_high_rf)"
   ]
  },
  {
   "cell_type": "markdown",
   "id": "ec826dda-d182-48ed-8785-41ef89ca9e5a",
   "metadata": {},
   "source": [
    "### Test pw_high agains low binders"
   ]
  },
  {
   "cell_type": "code",
   "execution_count": 240,
   "id": "45b39277-2cec-4353-b6a1-b85ac50ffdc1",
   "metadata": {},
   "outputs": [],
   "source": [
    "files_pw_high_test_csv = glob.glob(str(Path(config.DATA_BASE_PATH / 'full_data/high_low_concat/metadata/'))  + '/*_test*')"
   ]
  },
  {
   "cell_type": "code",
   "execution_count": 241,
   "id": "056aeeb7-76d2-4aed-9f3f-0f7afdb5d9b3",
   "metadata": {},
   "outputs": [],
   "source": [
    "metadata_to_tsv(files_pw_high_test_csv)"
   ]
  },
  {
   "cell_type": "code",
   "execution_count": null,
   "id": "b7ece5c3-c83b-4418-a463-e16ebb2a366d",
   "metadata": {},
   "outputs": [],
   "source": [
    "\"\"\"for tets_path in files_pw_high_test_csv:\n",
    "    df_i = pd.read_csv(tets_path)\n",
    "    out_path = tets_path.split('/')\n",
    "    file_name = out_path[-1].split('.')[0] + '.tsv'\n",
    "    out_path[-2] = 'test_tsv'\n",
    "    out_path[-1] = file_name\n",
    "    out_path = '/'.join(out_path)\n",
    "    df_i.to_csv(out_path, sep ='\\t')\"\"\""
   ]
  },
  {
   "cell_type": "code",
   "execution_count": 242,
   "id": "66bb46a5-a9f6-46f7-b0e1-1393fedb895e",
   "metadata": {},
   "outputs": [],
   "source": [
    "datasets_pw_high_vs_low_knn, instructions_pw_high_vs_low_knn = create_test_yaml('pw_high_knn_out', 'full_data/high_low_concat/test_tsv/',\\\n",
    "                                                                            \"'/*{0}*_test*'.format(conf_ag[0])\",\\\n",
    "                                                                            \"'pw_high_knn_{0}_{1}_vs_{2}'.format(conf_ag[0], conf_ag[1], path_ag[0])\")"
   ]
  },
  {
   "cell_type": "code",
   "execution_count": 243,
   "id": "bc1ff587-98a1-434b-8a83-6eb76a3362a8",
   "metadata": {},
   "outputs": [],
   "source": [
    "yaml_dumping('pw_high_vs_low_knn_test.yaml', datasets_pw_high_vs_low_knn, instructions_pw_high_vs_low_knn)"
   ]
  },
  {
   "cell_type": "code",
   "execution_count": 244,
   "id": "9afc79d1-60ea-4579-8b89-abdc71c94806",
   "metadata": {},
   "outputs": [],
   "source": [
    "datasets_pw_high_vs_low_svm, instructions_pw_high_vs_low_svm = create_test_yaml('pw_high_svm_out', 'full_data/high_low_concat/test_tsv/',\\\n",
    "                                                                            \"'/*{0}*_test*'.format(conf_ag[0])\",\\\n",
    "                                                                            \"'pw_high_svm_{0}_{1}_vs_{2}'.format(conf_ag[0], conf_ag[1], path_ag[0])\")"
   ]
  },
  {
   "cell_type": "code",
   "execution_count": 245,
   "id": "af12b939-76c5-47bb-bc01-f2c75a3b3ca3",
   "metadata": {},
   "outputs": [],
   "source": [
    "yaml_dumping('pw_high_vs_low_svm_test.yaml', datasets_pw_high_vs_low_svm, instructions_pw_high_vs_low_svm)"
   ]
  },
  {
   "cell_type": "code",
   "execution_count": 246,
   "id": "24e0f54c-0ab7-4707-94f6-d8e7ded40d6b",
   "metadata": {},
   "outputs": [],
   "source": [
    "datasets_pw_high_vs_low_rf, instructions_pw_high_vs_low_rf = create_test_yaml('pw_high_rf_out', 'full_data/high_low_concat/test_tsv/',\\\n",
    "                                                                            \"'/*{0}*_test*'.format(conf_ag[0])\",\\\n",
    "                                                                            \"'pw_high_rf_{0}_{1}_vs_{2}'.format(conf_ag[0], conf_ag[1], path_ag[0])\")"
   ]
  },
  {
   "cell_type": "code",
   "execution_count": 247,
   "id": "851af037-0bdb-4f80-a787-6c6f3ad54706",
   "metadata": {},
   "outputs": [],
   "source": [
    "yaml_dumping('pw_high_vs_low_rf_test.yaml', datasets_pw_high_vs_low_rf, instructions_pw_high_vs_low_rf)"
   ]
  },
  {
   "cell_type": "markdown",
   "id": "711708b5-1aa6-4944-9d0d-a2053f70f9d7",
   "metadata": {},
   "source": [
    "### 1_vs_all against high-low"
   ]
  },
  {
   "cell_type": "code",
   "execution_count": 248,
   "id": "d964a35c-4e4b-411b-8507-5c8ad800ca9d",
   "metadata": {},
   "outputs": [],
   "source": [
    "datasets_1all_vs_low_knn, instructions_1all_vs_low_knn = create_test_yaml('1_vs_all_knn_out', 'full_data/high_low_concat/test_tsv/',\\\n",
    "                                                                            \"'/*{0}*_test*'.format(conf_ag[0])\",\\\n",
    "                                                                            \"'1_vs_all_knn_{0}_vs_high_low_{1}'.format(conf_ag[0], path_ag[0])\")"
   ]
  },
  {
   "cell_type": "code",
   "execution_count": 249,
   "id": "de32f51b-e7b0-4c54-bb09-1370f1497cab",
   "metadata": {},
   "outputs": [],
   "source": [
    "yaml_dumping('1all_vs_high-low_knn_test.yaml', datasets_1all_vs_low_knn, instructions_1all_vs_low_knn)"
   ]
  },
  {
   "cell_type": "code",
   "execution_count": 250,
   "id": "05e6d1aa-67a2-4a09-8667-74fdfa17f910",
   "metadata": {},
   "outputs": [],
   "source": [
    "datasets_1all_vs_low_svm, instructions_1all_vs_low_svm = create_test_yaml('1_vs_all_svm_out', 'full_data/high_low_concat/test_tsv/',\\\n",
    "                                                                            \"'/*{0}*_test*'.format(conf_ag[0])\",\\\n",
    "                                                                            \"'1_vs_all_svm_{0}_vs_high_low_{1}'.format(conf_ag[0], path_ag[0])\")"
   ]
  },
  {
   "cell_type": "code",
   "execution_count": 251,
   "id": "a0e2330a-97e7-47cf-a928-437f97d818dc",
   "metadata": {},
   "outputs": [],
   "source": [
    "yaml_dumping('1all_vs_high-low_svm_test.yaml', datasets_1all_vs_low_svm, instructions_1all_vs_low_svm)"
   ]
  },
  {
   "cell_type": "code",
   "execution_count": 252,
   "id": "a8ffff61-a705-4f47-b342-0f4d614780f7",
   "metadata": {},
   "outputs": [],
   "source": [
    "datasets_1all_vs_low_rf, instructions_1all_vs_low_rf = create_test_yaml('1_vs_all_rf_out', 'full_data/high_low_concat/test_tsv/',\\\n",
    "                                                                            \"'/*{0}*_test*'.format(conf_ag[0])\",\\\n",
    "                                                                            \"'1_vs_all_rf_{0}_vs_high_low_{1}'.format(conf_ag[0], path_ag[0])\")"
   ]
  },
  {
   "cell_type": "code",
   "execution_count": 253,
   "id": "67a43feb-e185-4240-bfea-7287c3093557",
   "metadata": {},
   "outputs": [],
   "source": [
    "yaml_dumping('1all_vs_high-low_rf_test.yaml', datasets_1all_vs_low_rf, instructions_1all_vs_low_rf)"
   ]
  },
  {
   "cell_type": "markdown",
   "id": "3c527563-5bde-47f5-bb81-f8d2c54e67d3",
   "metadata": {},
   "source": [
    "### Creating cross pairwise high binders test datasets\n",
    "in a way that neg.dataset wasn't used for training the model"
   ]
  },
  {
   "cell_type": "code",
   "execution_count": 268,
   "id": "a1a021a8-bc30-4100-97df-5173124c4bda",
   "metadata": {},
   "outputs": [],
   "source": [
    "datasets_pw_high_cross_rf, instructions_pw_high_cross_rf = create_test_yaml('pw_high_rf_out', 'full_data/high_pairwise/test_tsv/cross_pw_high',\\\n",
    "                                                                            \"'/{0}*_test*'.format(conf_ag[0])\",\\\n",
    "                                                                            \"'pw_high_cross_rf_{0}_{1}_vs_{2}'.format(conf_ag[0], conf_ag[1], path_ag[1])\")\n"
   ]
  },
  {
   "cell_type": "code",
   "execution_count": 269,
   "id": "718ede8d-656b-4156-8ad1-4f4c3d2159c4",
   "metadata": {},
   "outputs": [],
   "source": [
    "yaml_dumping('pw_high_cross_rf_test.yaml', datasets_pw_high_cross_rf, instructions_pw_high_cross_rf)"
   ]
  },
  {
   "cell_type": "code",
   "execution_count": 270,
   "id": "9c7a83c5-8148-446c-bc89-a8d98c6d84b8",
   "metadata": {},
   "outputs": [],
   "source": [
    "datasets_pw_high_cross_knn, instructions_pw_high_cross_knn = create_test_yaml('pw_high_knn_out', 'full_data/high_pairwise/test_tsv/cross_pw_high',\\\n",
    "                                                                            \"'/{0}*_test*'.format(conf_ag[0])\",\\\n",
    "                                                                            \"'pw_high_cross_knn_{0}_{1}_vs_{2}'.format(conf_ag[0], conf_ag[1], path_ag[1])\")\n"
   ]
  },
  {
   "cell_type": "code",
   "execution_count": 271,
   "id": "d2fc18b9-11a5-4de0-8e83-cf9e6dcd5ca6",
   "metadata": {},
   "outputs": [],
   "source": [
    "yaml_dumping('pw_high_cross_knn_test.yaml', datasets_pw_high_cross_knn, instructions_pw_high_cross_knn)"
   ]
  },
  {
   "cell_type": "code",
   "execution_count": 272,
   "id": "69f0ae3d-51e7-4088-9d3c-d8b35d7c695d",
   "metadata": {},
   "outputs": [],
   "source": [
    "datasets_pw_high_cross_svm, instructions_pw_high_cross_svm = create_test_yaml('pw_high_svm_out', 'full_data/high_pairwise/test_tsv/cross_pw_high',\\\n",
    "                                                                            \"'/{0}*_test*'.format(conf_ag[0])\",\\\n",
    "                                                                            \"'pw_high_cross_svm_{0}_{1}_vs_{2}'.format(conf_ag[0], conf_ag[1], path_ag[1])\")\n"
   ]
  },
  {
   "cell_type": "code",
   "execution_count": 273,
   "id": "08fbce75-65fa-42ec-82a3-e6be14790ea0",
   "metadata": {},
   "outputs": [],
   "source": [
    "yaml_dumping('pw_high_cross_svm_test.yaml', datasets_pw_high_cross_svm, instructions_pw_high_cross_svm)"
   ]
  },
  {
   "cell_type": "code",
   "execution_count": null,
   "id": "9b0f8ad5-7723-418d-8d30-1d72ce72bf5c",
   "metadata": {},
   "outputs": [],
   "source": []
  }
 ],
 "metadata": {
  "kernelspec": {
   "display_name": "Python 3 (ipykernel)",
   "language": "python",
   "name": "python3"
  },
  "language_info": {
   "codemirror_mode": {
    "name": "ipython",
    "version": 3
   },
   "file_extension": ".py",
   "mimetype": "text/x-python",
   "name": "python",
   "nbconvert_exporter": "python",
   "pygments_lexer": "ipython3",
   "version": "3.8.13"
  }
 },
 "nbformat": 4,
 "nbformat_minor": 5
}
