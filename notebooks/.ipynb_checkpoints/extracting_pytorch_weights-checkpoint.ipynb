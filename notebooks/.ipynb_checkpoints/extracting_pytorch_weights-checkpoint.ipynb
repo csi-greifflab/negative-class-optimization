{
 "cells": [
  {
   "cell_type": "code",
   "execution_count": 1,
   "id": "c982b7da-ff16-40e6-8d3e-bd20a8534d46",
   "metadata": {},
   "outputs": [],
   "source": [
    "import torch\n",
    "import torch.nn as nn\n",
    "import json\n",
    "from NegativeClassOptimization import config, utils"
   ]
  },
  {
   "cell_type": "code",
   "execution_count": 2,
   "id": "4a72f678-4f73-4b3e-9903-1eea7668d431",
   "metadata": {},
   "outputs": [],
   "source": [
    "tasks_dict = {'ONE_VS_NINE': '1v9', 'HIGH_VS_95LOW': 'high_vs_95low', 'HIGH_VS_LOOSER': 'high_vs_looser'}\n",
    "task_template = {'ONE_VS_NINE': '{ag}__vs__9', 'HIGH_VS_95LOW': '{ag}_high__vs__{ag}_95low', 'HIGH_VS_LOOSER': '{ag}_high__vs__{ag}_looser'}"
   ]
  },
  {
   "cell_type": "code",
   "execution_count": 3,
   "id": "d7a2364a-6f69-43dd-8145-2391b198ed76",
   "metadata": {},
   "outputs": [],
   "source": [
    "def weights_2_dict(torch_model):\n",
    "    torch_state_dict = torch_model.state_dict()\n",
    "    weights_dict = {'l1': torch_state_dict['module.linear_1.weight'].tolist(),\n",
    "                    'l1b': torch_state_dict['module.linear_1.bias'].tolist(),\n",
    "                    'l2': torch_state_dict['module.linear_2.weight'].tolist(), \n",
    "                    'l2b': torch_state_dict['module.linear_2.bias'].tolist()}\n",
    "    return weights_dict"
   ]
  },
  {
   "cell_type": "code",
   "execution_count": 18,
   "id": "63fe69bb-e1ec-4be0-8c62-27a13db77add",
   "metadata": {},
   "outputs": [
    {
     "data": {
      "text/plain": [
       "'./torch_models/Frozen_MiniAbsolut_ML/high_vs_looser/seed_3/split_0/1OB1_high__vs__1OB1_looser/swa_model/data/model.pth'"
      ]
     },
     "execution_count": 18,
     "metadata": {},
     "output_type": "execute_result"
    }
   ],
   "source": [
    "model_path "
   ]
  },
  {
   "cell_type": "code",
   "execution_count": 32,
   "id": "5fee1cfa-ec50-4dc5-b6e4-6fb734729038",
   "metadata": {},
   "outputs": [],
   "source": [
    "for ag in config.ANTIGENS:\n",
    "    for task in tasks_dict.keys():\n",
    "        for seed_id in [0,1,2,3]:\n",
    "            for split_id in [0,1,2,3,4,42]:\n",
    "                model_path = f\"./torch_models/Frozen_MiniAbsolut_ML/{tasks_dict[task]}/seed_{seed_id}/split_{split_id}/{task_template[task].format(ag=ag)}/swa_model/data/model.pth\"\n",
    "\n",
    "                try:\n",
    "                    torch_model = torch.load(model_path, map_location=torch.device('cpu'))\n",
    "                    weights_dict = weights_2_dict(torch_model)\n",
    "                    with open(f'./torch_models/Frozen_MiniAbsolut_ML/model_weights/{task}__{ag}__{seed_id}__{split_id}__weights.json', 'w') as f:\n",
    "                        json.dump(weights_dict, f)\n",
    "                except FileNotFoundError:\n",
    "                    pass"
   ]
  },
  {
   "cell_type": "code",
   "execution_count": 33,
   "id": "d7922065-76c9-4f0a-8f6c-a67b8bb309bf",
   "metadata": {},
   "outputs": [
    {
     "name": "stdout",
     "output_type": "stream",
     "text": [
      "     270\n"
     ]
    }
   ],
   "source": [
    "!ls ./torch_models/Frozen_MiniAbsolut_ML/model_weights | wc -l"
   ]
  },
  {
   "cell_type": "code",
   "execution_count": 36,
   "id": "22d12312-748b-4a4d-a99d-27e21bbd140e",
   "metadata": {},
   "outputs": [
    {
     "data": {
      "text/plain": [
       "dict_keys(['ONE_VS_NINE', 'HIGH_VS_95LOW', 'HIGH_VS_LOOSER'])"
      ]
     },
     "execution_count": 36,
     "metadata": {},
     "output_type": "execute_result"
    }
   ],
   "source": [
    "tasks_dict.keys()"
   ]
  },
  {
   "cell_type": "code",
   "execution_count": 6,
   "id": "0fcf615b-d2ef-47ae-a280-025a6bc0cb0b",
   "metadata": {},
   "outputs": [],
   "source": [
    "import shutil\n",
    "import glob"
   ]
  },
  {
   "cell_type": "code",
   "execution_count": 7,
   "id": "e4acf5f8-7d50-4e6d-acde-aad41f3196a5",
   "metadata": {},
   "outputs": [],
   "source": [
    "#extract test datasets\n",
    "for ag in config.ANTIGENS:\n",
    "    for task in tasks_dict.keys():\n",
    "        for seed_id in [0,1,2,3]:\n",
    "            for split_id in [0,1,2,3,4,42]:\n",
    "                data_path = glob.glob(f\"./torch_models/Frozen_MiniAbsolut_ML/{tasks_dict[task]}/seed_{seed_id}/split_{split_id}/{task_template[task].format(ag=ag)}/*test_dataset.tsv\")\n",
    "                if data_path != []:\n",
    "                    new_path = f'../data/test_datasets/{task}__{ag}__{seed_id}__{split_id}__test.tsv'\n",
    "                    shutil.copy(data_path[0], new_path)\n",
    "                else:\n",
    "                    pass"
   ]
  },
  {
   "cell_type": "code",
   "execution_count": null,
   "id": "020cef0f-b0f0-4ca1-b79d-59101d0d407a",
   "metadata": {},
   "outputs": [],
   "source": []
  }
 ],
 "metadata": {
  "kernelspec": {
   "display_name": "Python 3 (ipykernel)",
   "language": "python",
   "name": "python3"
  },
  "language_info": {
   "codemirror_mode": {
    "name": "ipython",
    "version": 3
   },
   "file_extension": ".py",
   "mimetype": "text/x-python",
   "name": "python",
   "nbconvert_exporter": "python",
   "pygments_lexer": "ipython3",
   "version": "3.8.13"
  }
 },
 "nbformat": 4,
 "nbformat_minor": 5
}
