{
 "cells": [
  {
   "cell_type": "markdown",
   "metadata": {},
   "source": [
    "# SN10 classifier and integrated gradients attribution\n",
    "\n",
    "In this notebook, we develop the SN10 classifier used in `Absolut!` and the integrated-gradients method of attribution. We might also check other attribution methods."
   ]
  },
  {
   "cell_type": "code",
   "execution_count": 1,
   "metadata": {},
   "outputs": [
    {
     "name": "stderr",
     "output_type": "stream",
     "text": [
      "/home/eugen/miniconda3/envs/ab-negative-training/lib/python3.8/site-packages/tqdm/auto.py:22: TqdmWarning: IProgress not found. Please update jupyter and ipywidgets. See https://ipywidgets.readthedocs.io/en/stable/user_install.html\n",
      "  from .autonotebook import tqdm as notebook_tqdm\n"
     ]
    }
   ],
   "source": [
    "import os\n",
    "from pathlib import Path\n",
    "from typing import List\n",
    "\n",
    "import pandas as pd\n",
    "import numpy as np\n",
    "import seaborn as sns\n",
    "import joypy\n",
    "\n",
    "import torch\n",
    "from torch import nn\n",
    "from torch.utils.data import Dataset, DataLoader\n",
    "from captum.attr import IntegratedGradients\n",
    "\n",
    "import NegativeClassOptimization.config as config\n",
    "import NegativeClassOptimization.preprocessing as preprocessing"
   ]
  },
  {
   "cell_type": "markdown",
   "metadata": {},
   "source": [
    "Let's load the data on which we are going to develop the binary classifier."
   ]
  },
  {
   "cell_type": "code",
   "execution_count": 2,
   "metadata": {},
   "outputs": [
    {
     "data": {
      "text/html": [
       "<div>\n",
       "<style scoped>\n",
       "    .dataframe tbody tr th:only-of-type {\n",
       "        vertical-align: middle;\n",
       "    }\n",
       "\n",
       "    .dataframe tbody tr th {\n",
       "        vertical-align: top;\n",
       "    }\n",
       "\n",
       "    .dataframe thead th {\n",
       "        text-align: right;\n",
       "    }\n",
       "</style>\n",
       "<table border=\"1\" class=\"dataframe\">\n",
       "  <thead>\n",
       "    <tr style=\"text-align: right;\">\n",
       "      <th></th>\n",
       "      <th>ID_slide_Variant</th>\n",
       "      <th>CDR3</th>\n",
       "      <th>Best</th>\n",
       "      <th>Slide</th>\n",
       "      <th>Energy</th>\n",
       "      <th>Structure</th>\n",
       "      <th>UID</th>\n",
       "      <th>Antigen</th>\n",
       "    </tr>\n",
       "  </thead>\n",
       "  <tbody>\n",
       "    <tr>\n",
       "      <th>0</th>\n",
       "      <td>1873658_06a</td>\n",
       "      <td>CARPENLLLLLWYFDVW</td>\n",
       "      <td>True</td>\n",
       "      <td>LLLLLWYFDVW</td>\n",
       "      <td>-112.82</td>\n",
       "      <td>137442-BRDSLLUDLS</td>\n",
       "      <td>3VRL_1873658_06a</td>\n",
       "      <td>3VRL</td>\n",
       "    </tr>\n",
       "    <tr>\n",
       "      <th>1</th>\n",
       "      <td>7116990_04a</td>\n",
       "      <td>CARGLLLLLWYFDVW</td>\n",
       "      <td>True</td>\n",
       "      <td>LLLLLWYFDVW</td>\n",
       "      <td>-112.82</td>\n",
       "      <td>137442-BRDSLLUDLS</td>\n",
       "      <td>3VRL_7116990_04a</td>\n",
       "      <td>3VRL</td>\n",
       "    </tr>\n",
       "  </tbody>\n",
       "</table>\n",
       "</div>"
      ],
      "text/plain": [
       "  ID_slide_Variant               CDR3  Best        Slide  Energy  \\\n",
       "0      1873658_06a  CARPENLLLLLWYFDVW  True  LLLLLWYFDVW -112.82   \n",
       "1      7116990_04a    CARGLLLLLWYFDVW  True  LLLLLWYFDVW -112.82   \n",
       "\n",
       "           Structure               UID Antigen  \n",
       "0  137442-BRDSLLUDLS  3VRL_1873658_06a    3VRL  \n",
       "1  137442-BRDSLLUDLS  3VRL_7116990_04a    3VRL  "
      ]
     },
     "execution_count": 2,
     "metadata": {},
     "output_type": "execute_result"
    }
   ],
   "source": [
    "df = pd.read_csv(config.DATA_SLACK_1_GLOBAL, sep='\\t')\n",
    "\n",
    "ag_pos = \"3VRL\"\n",
    "ag_neg = \"1ADQ\"\n",
    "df = df.loc[df[\"Antigen\"].isin([ag_pos, ag_neg])].copy()\n",
    "\n",
    "df.head(2)"
   ]
  },
  {
   "cell_type": "markdown",
   "metadata": {},
   "source": [
    "First, handle duplicates."
   ]
  },
  {
   "cell_type": "code",
   "execution_count": 3,
   "metadata": {},
   "outputs": [
    {
     "data": {
      "text/html": [
       "<div>\n",
       "<style scoped>\n",
       "    .dataframe tbody tr th:only-of-type {\n",
       "        vertical-align: middle;\n",
       "    }\n",
       "\n",
       "    .dataframe tbody tr th {\n",
       "        vertical-align: top;\n",
       "    }\n",
       "\n",
       "    .dataframe thead th {\n",
       "        text-align: right;\n",
       "    }\n",
       "</style>\n",
       "<table border=\"1\" class=\"dataframe\">\n",
       "  <thead>\n",
       "    <tr style=\"text-align: right;\">\n",
       "      <th></th>\n",
       "      <th>Slide</th>\n",
       "      <th>Antigen</th>\n",
       "      <th>Slide_onehot</th>\n",
       "      <th>X</th>\n",
       "      <th>y</th>\n",
       "    </tr>\n",
       "  </thead>\n",
       "  <tbody>\n",
       "    <tr>\n",
       "      <th>0</th>\n",
       "      <td>AAELFWYFDVW</td>\n",
       "      <td>3VRL</td>\n",
       "      <td>[1.0, 0.0, 0.0, 0.0, 0.0, 0.0, 0.0, 0.0, 0.0, ...</td>\n",
       "      <td>[1.0, 0.0, 0.0, 0.0, 0.0, 0.0, 0.0, 0.0, 0.0, ...</td>\n",
       "      <td>1</td>\n",
       "    </tr>\n",
       "    <tr>\n",
       "      <th>1</th>\n",
       "      <td>AAFITTVGWYF</td>\n",
       "      <td>1ADQ</td>\n",
       "      <td>[1.0, 0.0, 0.0, 0.0, 0.0, 0.0, 0.0, 0.0, 0.0, ...</td>\n",
       "      <td>[1.0, 0.0, 0.0, 0.0, 0.0, 0.0, 0.0, 0.0, 0.0, ...</td>\n",
       "      <td>0</td>\n",
       "    </tr>\n",
       "    <tr>\n",
       "      <th>2</th>\n",
       "      <td>AAFYGRWYFDV</td>\n",
       "      <td>1ADQ</td>\n",
       "      <td>[1.0, 0.0, 0.0, 0.0, 0.0, 0.0, 0.0, 0.0, 0.0, ...</td>\n",
       "      <td>[1.0, 0.0, 0.0, 0.0, 0.0, 0.0, 0.0, 0.0, 0.0, ...</td>\n",
       "      <td>0</td>\n",
       "    </tr>\n",
       "  </tbody>\n",
       "</table>\n",
       "</div>"
      ],
      "text/plain": [
       "         Slide Antigen                                       Slide_onehot  \\\n",
       "0  AAELFWYFDVW    3VRL  [1.0, 0.0, 0.0, 0.0, 0.0, 0.0, 0.0, 0.0, 0.0, ...   \n",
       "1  AAFITTVGWYF    1ADQ  [1.0, 0.0, 0.0, 0.0, 0.0, 0.0, 0.0, 0.0, 0.0, ...   \n",
       "2  AAFYGRWYFDV    1ADQ  [1.0, 0.0, 0.0, 0.0, 0.0, 0.0, 0.0, 0.0, 0.0, ...   \n",
       "\n",
       "                                                   X  y  \n",
       "0  [1.0, 0.0, 0.0, 0.0, 0.0, 0.0, 0.0, 0.0, 0.0, ...  1  \n",
       "1  [1.0, 0.0, 0.0, 0.0, 0.0, 0.0, 0.0, 0.0, 0.0, ...  0  \n",
       "2  [1.0, 0.0, 0.0, 0.0, 0.0, 0.0, 0.0, 0.0, 0.0, ...  0  "
      ]
     },
     "execution_count": 3,
     "metadata": {},
     "output_type": "execute_result"
    }
   ],
   "source": [
    "def prepare_data(df: pd.DataFrame, pos_ag: str) -> pd.DataFrame:\n",
    "    \"\"\"Prepare data for SN10 training and evaluation. \n",
    "    Most importantly - appropriately removes duplicates. \n",
    "\n",
    "    Args:\n",
    "        df (pd.DataFrame): typical dataframe used in the project\n",
    "        pos_ag (str): the antigen assuming the positive dataset role\n",
    "\n",
    "    Returns:\n",
    "        pd.DataFrame: df with new columns suitable for modelling.\n",
    "    \"\"\"\n",
    "    \n",
    "    def infer_antigen_from_duplicate_list(antigens: List[str], pos_antigen: str):\n",
    "        assert len(antigens) <= 2, \">2 antigens not supported yet.\"\n",
    "        if len(antigens) == 1:\n",
    "            return antigens[0]\n",
    "        else:\n",
    "            if pos_antigen in antigens:\n",
    "                return pos_antigen\n",
    "            else:\n",
    "                return list(set(antigens) - set([pos_antigen]))[0]\n",
    "\n",
    "    df = df.groupby(\"Slide\").apply(\n",
    "        lambda df_: infer_antigen_from_duplicate_list(df_[\"Antigen\"].unique().tolist(), pos_antigen=ag_pos)\n",
    "    )\n",
    "    df = pd.DataFrame(data=df, columns=[\"Antigen\"])\n",
    "    df = df.reset_index()\n",
    "    return df\n",
    "\n",
    "\n",
    "df = prepare_data(df, ag_pos)\n",
    "\n",
    "preprocessing.onehot_encode_df(df);\n",
    "\n",
    "df[\"X\"] = df[\"Slide_onehot\"]\n",
    "df[\"y\"] = np.where(df[\"Antigen\"] == ag_pos, 1, 0)\n",
    "\n",
    "df.head(3)"
   ]
  },
  {
   "cell_type": "code",
   "execution_count": 4,
   "metadata": {},
   "outputs": [],
   "source": [
    "class PairwiseDataset(Dataset):\n",
    "    def __init__(self, df):\n",
    "        self.df = df\n",
    "\n",
    "    def __len__(self):\n",
    "        return self.df.shape[0]\n",
    "\n",
    "    def __getitem__(self, idx):\n",
    "        return (\n",
    "            torch.tensor(self.df.loc[idx, \"X\"]).reshape((1, -1)).type(torch.float),\n",
    "            torch.tensor(self.df.loc[idx, \"y\"]).reshape((1)).type(torch.float),\n",
    "        )\n",
    "\n",
    "\n",
    "batch_size = 64\n",
    "train_frac = 0.8\n",
    "df = df.sample(frac=1).reset_index(drop=True)  # shuffle\n",
    "\n",
    "split_idx = int(df.shape[0] * train_frac)\n",
    "df_train = df.loc[:split_idx].copy().reset_index(drop=True)\n",
    "df_test = df.loc[split_idx:].copy().reset_index(drop=True)\n",
    "\n",
    "train_data = PairwiseDataset(df_train)\n",
    "test_data = PairwiseDataset(df_test)\n",
    "\n",
    "train_loader = DataLoader(train_data, batch_size=64, shuffle=False)\n",
    "test_loader = DataLoader(test_data, batch_size=64, shuffle=False)"
   ]
  },
  {
   "cell_type": "markdown",
   "metadata": {},
   "source": [
    "Define the model."
   ]
  },
  {
   "cell_type": "code",
   "execution_count": 5,
   "metadata": {},
   "outputs": [
    {
     "name": "stdout",
     "output_type": "stream",
     "text": [
      "Using cpu device\n",
      "SN10(\n",
      "  (flatten): Flatten(start_dim=1, end_dim=-1)\n",
      "  (linear_relu_stack): Sequential(\n",
      "    (0): Linear(in_features=220, out_features=10, bias=True)\n",
      "    (1): ReLU()\n",
      "    (2): Linear(in_features=10, out_features=1, bias=True)\n",
      "    (3): Sigmoid()\n",
      "  )\n",
      ")\n"
     ]
    }
   ],
   "source": [
    "class SN10(nn.Module):\n",
    "    def __init__(self):\n",
    "        super(SN10, self).__init__()\n",
    "        self.flatten = nn.Flatten()\n",
    "        self.linear_relu_stack = nn.Sequential(\n",
    "            nn.Linear(11*20, 10),\n",
    "            nn.ReLU(),\n",
    "            nn.Linear(10, 1),\n",
    "            nn.Sigmoid()\n",
    "        )\n",
    "\n",
    "    def forward(self, x):\n",
    "        x = self.flatten(x)\n",
    "        logits = self.linear_relu_stack(x)\n",
    "        return logits\n",
    "\n",
    "\n",
    "device = \"cuda\" if torch.cuda.is_available() else \"cpu\"\n",
    "print(f\"Using {device} device\")\n",
    "model = SN10().to(device)\n",
    "print(model)"
   ]
  },
  {
   "cell_type": "markdown",
   "metadata": {},
   "source": [
    "Setup the optimization loop."
   ]
  },
  {
   "cell_type": "code",
   "execution_count": 6,
   "metadata": {},
   "outputs": [],
   "source": [
    "learning_rate = 0.01\n",
    "epochs = 5\n",
    "\n",
    "optimizer = torch.optim.SGD(model.parameters(), lr=learning_rate)\n",
    "loss_fn = nn.BCELoss()"
   ]
  },
  {
   "cell_type": "code",
   "execution_count": 7,
   "metadata": {},
   "outputs": [],
   "source": [
    "def train_loop(loader, model, loss_fn, optimizer):\n",
    "    size = len(loader.dataset)\n",
    "    for batch, (X, y) in enumerate(loader):\n",
    "        y_pred = model(X)\n",
    "        loss = loss_fn(y_pred, y)\n",
    "\n",
    "        optimizer.zero_grad()\n",
    "        loss.backward()\n",
    "        optimizer.step()\n",
    "\n",
    "        if batch % 100 == 0:\n",
    "            loss, current = loss.item(), batch * len(X)\n",
    "            print(f\"loss: {loss:>7f}  [{current:>5d}/{size:>5d}]\")\n",
    "\n",
    "\n",
    "def test_loop(loader, model, loss_fn):\n",
    "    size = len(loader.dataset)\n",
    "    num_batches = len(loader)\n",
    "    test_loss, correct = 0, 0\n",
    "\n",
    "    with torch.no_grad():\n",
    "        for X, y in loader:\n",
    "            y_pred = model(X)\n",
    "            test_loss += loss_fn(y_pred, y).item()\n",
    "            correct += (torch.round(y_pred) == y).type(torch.float).sum().item()\n",
    "    \n",
    "    test_loss /= num_batches\n",
    "    correct /= size\n",
    "    print(f\"Test Error: \\n Accuracy: {(100*correct):>0.1f}%, Avg loss: {test_loss:>8f} \\n\")"
   ]
  },
  {
   "cell_type": "code",
   "execution_count": 8,
   "metadata": {},
   "outputs": [
    {
     "name": "stdout",
     "output_type": "stream",
     "text": [
      "Epoch 1\n",
      "-------------------------------\n",
      "loss: 0.690720  [    0/66571]\n",
      "loss: 0.681421  [ 6400/66571]\n",
      "loss: 0.683116  [12800/66571]\n",
      "loss: 0.675709  [19200/66571]\n",
      "loss: 0.655223  [25600/66571]\n",
      "loss: 0.629626  [32000/66571]\n",
      "loss: 0.631616  [38400/66571]\n",
      "loss: 0.581512  [44800/66571]\n",
      "loss: 0.550792  [51200/66571]\n",
      "loss: 0.545783  [57600/66571]\n",
      "loss: 0.504910  [64000/66571]\n",
      "Test Error: \n",
      " Accuracy: 81.0%, Avg loss: 0.490365 \n",
      "\n",
      "Epoch 2\n",
      "-------------------------------\n",
      "loss: 0.504404  [    0/66571]\n",
      "loss: 0.544960  [ 6400/66571]\n",
      "loss: 0.455386  [12800/66571]\n",
      "loss: 0.479714  [19200/66571]\n",
      "loss: 0.498458  [25600/66571]\n",
      "loss: 0.420258  [32000/66571]\n",
      "loss: 0.449873  [38400/66571]\n",
      "loss: 0.393275  [44800/66571]\n",
      "loss: 0.378630  [51200/66571]\n",
      "loss: 0.374265  [57600/66571]\n",
      "loss: 0.413522  [64000/66571]\n",
      "Test Error: \n",
      " Accuracy: 85.0%, Avg loss: 0.366147 \n",
      "\n",
      "Epoch 3\n",
      "-------------------------------\n",
      "loss: 0.362378  [    0/66571]\n",
      "loss: 0.441171  [ 6400/66571]\n",
      "loss: 0.324821  [12800/66571]\n",
      "loss: 0.376116  [19200/66571]\n",
      "loss: 0.452255  [25600/66571]\n",
      "loss: 0.336361  [32000/66571]\n",
      "loss: 0.385918  [38400/66571]\n",
      "loss: 0.343927  [44800/66571]\n",
      "loss: 0.319393  [51200/66571]\n",
      "loss: 0.301451  [57600/66571]\n",
      "loss: 0.394742  [64000/66571]\n",
      "Test Error: \n",
      " Accuracy: 87.0%, Avg loss: 0.321857 \n",
      "\n",
      "Epoch 4\n",
      "-------------------------------\n",
      "loss: 0.315773  [    0/66571]\n",
      "loss: 0.382779  [ 6400/66571]\n",
      "loss: 0.276206  [12800/66571]\n",
      "loss: 0.326631  [19200/66571]\n",
      "loss: 0.442084  [25600/66571]\n",
      "loss: 0.299277  [32000/66571]\n",
      "loss: 0.344071  [38400/66571]\n",
      "loss: 0.315378  [44800/66571]\n",
      "loss: 0.282102  [51200/66571]\n",
      "loss: 0.264619  [57600/66571]\n",
      "loss: 0.378613  [64000/66571]\n",
      "Test Error: \n",
      " Accuracy: 88.1%, Avg loss: 0.297530 \n",
      "\n",
      "Epoch 5\n",
      "-------------------------------\n",
      "loss: 0.292643  [    0/66571]\n",
      "loss: 0.347335  [ 6400/66571]\n",
      "loss: 0.251437  [12800/66571]\n",
      "loss: 0.300369  [19200/66571]\n",
      "loss: 0.443509  [25600/66571]\n",
      "loss: 0.281689  [32000/66571]\n",
      "loss: 0.316567  [38400/66571]\n",
      "loss: 0.297469  [44800/66571]\n",
      "loss: 0.256381  [51200/66571]\n",
      "loss: 0.244717  [57600/66571]\n",
      "loss: 0.362256  [64000/66571]\n",
      "Test Error: \n",
      " Accuracy: 88.8%, Avg loss: 0.282367 \n",
      "\n"
     ]
    }
   ],
   "source": [
    "for t in range(epochs):\n",
    "    print(f\"Epoch {t+1}\\n-------------------------------\")\n",
    "    train_loop(train_loader, model, loss_fn, optimizer)\n",
    "    test_loop(test_loader, model, loss_fn)"
   ]
  },
  {
   "cell_type": "markdown",
   "metadata": {},
   "source": [
    "Having trained a model, we explore integrated gradients as an attribution method. As baseline, we use the zero one-hot tensor. \n",
    "\n",
    "Computing integrated gradients for feature $i$:\n",
    "\n",
    "$$\\text{IntegratedGrads}_i^{approx}(x) = (x_i-x_i') \\cdot \\frac{1}{m} \\cdot \\sum_{k=1}^{m}\\frac{\\partial F(x'+\\frac{k}{m}\\cdot (x-x'))}{\\partial x_i}$$\n",
    "\n",
    "Essential for the implementation is computing:\n",
    "\n",
    "$$\\frac{\\partial F(x'+\\frac{k}{m}\\cdot (x-x'))}{\\partial x_i}, \\text{ where }F(x)\\text{ is the SN10}$$\n",
    "\n",
    "One issue concerns the baseline. I'm not sure a zero-valued one-hot vector is the relevant baseline. I should maybe try different baselines (such as different aminoacids, or some specific sequence). Also, Euclidian interpolation might not be relevant as well.\n",
    "\n",
    "In any case, [Captum](https://captum.ai/) provides implementations for many interpretability methods. It looks like it also has interpretability methods for NLP models. It also has [a useful section](https://captum.ai/docs/algorithms_comparison_matrix) that compares algorithms.\n",
    "\n",
    "For first, let's go with integrated gradients and compute for all the test set. It would also be useful to add visualisation like [Captum Insights](https://captum.ai/tutorials/CIFAR_TorchVision_Captum_Insights)."
   ]
  },
  {
   "cell_type": "code",
   "execution_count": 9,
   "metadata": {},
   "outputs": [],
   "source": [
    "ig = IntegratedGradients(model)\n",
    "\n",
    "inputs = tuple(map(\n",
    "    lambda pair: pair[0].reshape((-1, 11*20)),\n",
    "    DataLoader(test_data, batch_size=1)\n",
    "))\n",
    "\n",
    "records = []\n",
    "for input in inputs:\n",
    "    attributions, approximation_error = ig.attribute(\n",
    "        inputs=input,\n",
    "        baselines=0,\n",
    "        n_steps=100,\n",
    "        method=\"gausslegendre\",\n",
    "        return_convergence_delta=True,\n",
    "    )\n",
    "    records.append((attributions, approximation_error))\n",
    "\n",
    "abs_sums = []\n",
    "for record in records:\n",
    "    abs_sum = record[0].reshape((11, 20)).abs().sum(axis=1).numpy()\n",
    "    abs_sums.append(abs_sum)\n",
    "\n",
    "df_attr = pd.DataFrame(data=np.stack(abs_sums), columns=range(1, 12))"
   ]
  },
  {
   "cell_type": "code",
   "execution_count": 10,
   "metadata": {},
   "outputs": [
    {
     "data": {
      "text/plain": [
       "(<Figure size 432x288 with 12 Axes>,\n",
       " [<AxesSubplot:>,\n",
       "  <AxesSubplot:>,\n",
       "  <AxesSubplot:>,\n",
       "  <AxesSubplot:>,\n",
       "  <AxesSubplot:>,\n",
       "  <AxesSubplot:>,\n",
       "  <AxesSubplot:>,\n",
       "  <AxesSubplot:>,\n",
       "  <AxesSubplot:>,\n",
       "  <AxesSubplot:>,\n",
       "  <AxesSubplot:>,\n",
       "  <AxesSubplot:>])"
      ]
     },
     "execution_count": 10,
     "metadata": {},
     "output_type": "execute_result"
    },
    {
     "data": {
      "image/png": "[encoded data removed]",
      "text/plain": [
       "<Figure size 432x288 with 12 Axes>"
      ]
     },
     "metadata": {
      "needs_background": "light"
     },
     "output_type": "display_data"
    }
   ],
   "source": [
    "joypy.joyplot(df_attr)"
   ]
  },
  {
   "cell_type": "code",
   "execution_count": null,
   "metadata": {},
   "outputs": [],
   "source": []
  }
 ],
 "metadata": {
  "kernelspec": {
   "display_name": "Python 3.8.13 ('ab-negative-training')",
   "language": "python",
   "name": "python3"
  },
  "language_info": {
   "codemirror_mode": {
    "name": "ipython",
    "version": 3
   },
   "file_extension": ".py",
   "mimetype": "text/x-python",
   "name": "python",
   "nbconvert_exporter": "python",
   "pygments_lexer": "ipython3",
   "version": "3.8.13"
  },
  "orig_nbformat": 4,
  "vscode": {
   "interpreter": {
    "hash": "a66fbe740016efe90d6139b67c84a560168f2532ea3e3d46e49051f459208991"
   }
  }
 },
 "nbformat": 4,
 "nbformat_minor": 2
}
