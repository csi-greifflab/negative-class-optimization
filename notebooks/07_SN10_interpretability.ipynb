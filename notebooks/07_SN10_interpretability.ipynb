{
 "cells": [
  {
   "cell_type": "markdown",
   "metadata": {},
   "source": [
    "# SN10 classifier and integrated gradients attribution\n",
    "\n",
    "In this notebook, we develop the SN10 classifier used in `Absolut!` and the integrated-gradients method of attribution. We might also check other attribution methods."
   ]
  },
  {
   "cell_type": "code",
   "execution_count": 1,
   "metadata": {},
   "outputs": [
    {
     "name": "stderr",
     "output_type": "stream",
     "text": [
      "/home/eugen/miniconda3/envs/ab-negative-training/lib/python3.8/site-packages/tqdm/auto.py:22: TqdmWarning: IProgress not found. Please update jupyter and ipywidgets. See https://ipywidgets.readthedocs.io/en/stable/user_install.html\n",
      "  from .autonotebook import tqdm as notebook_tqdm\n"
     ]
    }
   ],
   "source": [
    "import os\n",
    "from pathlib import Path\n",
    "from typing import List\n",
    "\n",
    "import pandas as pd\n",
    "import numpy as np\n",
    "import seaborn as sns\n",
    "import joypy\n",
    "\n",
    "import torch\n",
    "from torch import nn\n",
    "from torch.utils.data import DataLoader\n",
    "from captum.attr import IntegratedGradients\n",
    "\n",
    "import NegativeClassOptimization.config as config\n",
    "import NegativeClassOptimization.preprocessing as preprocessing\n",
    "from NegativeClassOptimization.ml import (\n",
    "    PairwiseDataset, preprocess_data_for_pytorch_pairwise, \n",
    "    SN10, \n",
    "    train_loop, test_loop, \n",
    "    compute_integratedgradients_attribution\n",
    ")"
   ]
  },
  {
   "cell_type": "markdown",
   "metadata": {},
   "source": [
    "Let's load the data on which we are going to develop the binary classifier."
   ]
  },
  {
   "cell_type": "code",
   "execution_count": 2,
   "metadata": {},
   "outputs": [
    {
     "data": {
      "text/html": [
       "<div>\n",
       "<style scoped>\n",
       "    .dataframe tbody tr th:only-of-type {\n",
       "        vertical-align: middle;\n",
       "    }\n",
       "\n",
       "    .dataframe tbody tr th {\n",
       "        vertical-align: top;\n",
       "    }\n",
       "\n",
       "    .dataframe thead th {\n",
       "        text-align: right;\n",
       "    }\n",
       "</style>\n",
       "<table border=\"1\" class=\"dataframe\">\n",
       "  <thead>\n",
       "    <tr style=\"text-align: right;\">\n",
       "      <th></th>\n",
       "      <th>ID_slide_Variant</th>\n",
       "      <th>CDR3</th>\n",
       "      <th>Best</th>\n",
       "      <th>Slide</th>\n",
       "      <th>Energy</th>\n",
       "      <th>Structure</th>\n",
       "      <th>UID</th>\n",
       "      <th>Antigen</th>\n",
       "    </tr>\n",
       "  </thead>\n",
       "  <tbody>\n",
       "    <tr>\n",
       "      <th>0</th>\n",
       "      <td>1873658_06a</td>\n",
       "      <td>CARPENLLLLLWYFDVW</td>\n",
       "      <td>True</td>\n",
       "      <td>LLLLLWYFDVW</td>\n",
       "      <td>-112.82</td>\n",
       "      <td>137442-BRDSLLUDLS</td>\n",
       "      <td>3VRL_1873658_06a</td>\n",
       "      <td>3VRL</td>\n",
       "    </tr>\n",
       "    <tr>\n",
       "      <th>1</th>\n",
       "      <td>7116990_04a</td>\n",
       "      <td>CARGLLLLLWYFDVW</td>\n",
       "      <td>True</td>\n",
       "      <td>LLLLLWYFDVW</td>\n",
       "      <td>-112.82</td>\n",
       "      <td>137442-BRDSLLUDLS</td>\n",
       "      <td>3VRL_7116990_04a</td>\n",
       "      <td>3VRL</td>\n",
       "    </tr>\n",
       "  </tbody>\n",
       "</table>\n",
       "</div>"
      ],
      "text/plain": [
       "  ID_slide_Variant               CDR3  Best        Slide  Energy  \\\n",
       "0      1873658_06a  CARPENLLLLLWYFDVW  True  LLLLLWYFDVW -112.82   \n",
       "1      7116990_04a    CARGLLLLLWYFDVW  True  LLLLLWYFDVW -112.82   \n",
       "\n",
       "           Structure               UID Antigen  \n",
       "0  137442-BRDSLLUDLS  3VRL_1873658_06a    3VRL  \n",
       "1  137442-BRDSLLUDLS  3VRL_7116990_04a    3VRL  "
      ]
     },
     "execution_count": 2,
     "metadata": {},
     "output_type": "execute_result"
    }
   ],
   "source": [
    "df = pd.read_csv(config.DATA_SLACK_1_GLOBAL, sep='\\t')\n",
    "\n",
    "ag_pos = \"3VRL\"\n",
    "ag_neg = \"1ADQ\"\n",
    "df = df.loc[df[\"Antigen\"].isin([ag_pos, ag_neg])].copy()\n",
    "\n",
    "df.head(2)"
   ]
  },
  {
   "cell_type": "markdown",
   "metadata": {},
   "source": [
    "First, handle duplicates."
   ]
  },
  {
   "cell_type": "code",
   "execution_count": 3,
   "metadata": {},
   "outputs": [
    {
     "data": {
      "text/html": [
       "<div>\n",
       "<style scoped>\n",
       "    .dataframe tbody tr th:only-of-type {\n",
       "        vertical-align: middle;\n",
       "    }\n",
       "\n",
       "    .dataframe tbody tr th {\n",
       "        vertical-align: top;\n",
       "    }\n",
       "\n",
       "    .dataframe thead th {\n",
       "        text-align: right;\n",
       "    }\n",
       "</style>\n",
       "<table border=\"1\" class=\"dataframe\">\n",
       "  <thead>\n",
       "    <tr style=\"text-align: right;\">\n",
       "      <th></th>\n",
       "      <th>Slide</th>\n",
       "      <th>Antigen</th>\n",
       "      <th>Slide_onehot</th>\n",
       "      <th>X</th>\n",
       "      <th>y</th>\n",
       "    </tr>\n",
       "  </thead>\n",
       "  <tbody>\n",
       "    <tr>\n",
       "      <th>0</th>\n",
       "      <td>AAELFWYFDVW</td>\n",
       "      <td>3VRL</td>\n",
       "      <td>[1.0, 0.0, 0.0, 0.0, 0.0, 0.0, 0.0, 0.0, 0.0, ...</td>\n",
       "      <td>[1.0, 0.0, 0.0, 0.0, 0.0, 0.0, 0.0, 0.0, 0.0, ...</td>\n",
       "      <td>1</td>\n",
       "    </tr>\n",
       "    <tr>\n",
       "      <th>1</th>\n",
       "      <td>AAFITTVGWYF</td>\n",
       "      <td>1ADQ</td>\n",
       "      <td>[1.0, 0.0, 0.0, 0.0, 0.0, 0.0, 0.0, 0.0, 0.0, ...</td>\n",
       "      <td>[1.0, 0.0, 0.0, 0.0, 0.0, 0.0, 0.0, 0.0, 0.0, ...</td>\n",
       "      <td>0</td>\n",
       "    </tr>\n",
       "    <tr>\n",
       "      <th>2</th>\n",
       "      <td>AAFYGRWYFDV</td>\n",
       "      <td>1ADQ</td>\n",
       "      <td>[1.0, 0.0, 0.0, 0.0, 0.0, 0.0, 0.0, 0.0, 0.0, ...</td>\n",
       "      <td>[1.0, 0.0, 0.0, 0.0, 0.0, 0.0, 0.0, 0.0, 0.0, ...</td>\n",
       "      <td>0</td>\n",
       "    </tr>\n",
       "  </tbody>\n",
       "</table>\n",
       "</div>"
      ],
      "text/plain": [
       "         Slide Antigen                                       Slide_onehot  \\\n",
       "0  AAELFWYFDVW    3VRL  [1.0, 0.0, 0.0, 0.0, 0.0, 0.0, 0.0, 0.0, 0.0, ...   \n",
       "1  AAFITTVGWYF    1ADQ  [1.0, 0.0, 0.0, 0.0, 0.0, 0.0, 0.0, 0.0, 0.0, ...   \n",
       "2  AAFYGRWYFDV    1ADQ  [1.0, 0.0, 0.0, 0.0, 0.0, 0.0, 0.0, 0.0, 0.0, ...   \n",
       "\n",
       "                                                   X  y  \n",
       "0  [1.0, 0.0, 0.0, 0.0, 0.0, 0.0, 0.0, 0.0, 0.0, ...  1  \n",
       "1  [1.0, 0.0, 0.0, 0.0, 0.0, 0.0, 0.0, 0.0, 0.0, ...  0  \n",
       "2  [1.0, 0.0, 0.0, 0.0, 0.0, 0.0, 0.0, 0.0, 0.0, ...  0  "
      ]
     },
     "execution_count": 3,
     "metadata": {},
     "output_type": "execute_result"
    }
   ],
   "source": [
    "train_data, test_data, train_loader, test_loader = preprocess_data_for_pytorch_pairwise(df, ag_pos)"
   ]
  },
  {
   "cell_type": "markdown",
   "metadata": {},
   "source": [
    "Setup the model."
   ]
  },
  {
   "cell_type": "code",
   "execution_count": 5,
   "metadata": {},
   "outputs": [
    {
     "name": "stdout",
     "output_type": "stream",
     "text": [
      "Using cpu device\n",
      "SN10(\n",
      "  (flatten): Flatten(start_dim=1, end_dim=-1)\n",
      "  (linear_relu_stack): Sequential(\n",
      "    (0): Linear(in_features=220, out_features=10, bias=True)\n",
      "    (1): ReLU()\n",
      "    (2): Linear(in_features=10, out_features=1, bias=True)\n",
      "    (3): Sigmoid()\n",
      "  )\n",
      ")\n"
     ]
    }
   ],
   "source": [
    "device = \"cuda\" if torch.cuda.is_available() else \"cpu\"\n",
    "print(f\"Using {device} device\")\n",
    "model = SN10().to(device)\n",
    "print(model)"
   ]
  },
  {
   "cell_type": "markdown",
   "metadata": {},
   "source": [
    "Setup and run optimization."
   ]
  },
  {
   "cell_type": "code",
   "execution_count": 6,
   "metadata": {},
   "outputs": [
    {
     "name": "stdout",
     "output_type": "stream",
     "text": [
      "Epoch 1\n",
      "-------------------------------\n",
      "loss: 0.723419  [    0/66571]\n",
      "loss: 0.684601  [ 6400/66571]\n",
      "loss: 0.658798  [12800/66571]\n",
      "loss: 0.653108  [19200/66571]\n",
      "loss: 0.591406  [25600/66571]\n",
      "loss: 0.650025  [32000/66571]\n",
      "loss: 0.602729  [38400/66571]\n",
      "loss: 0.515426  [44800/66571]\n",
      "loss: 0.510487  [51200/66571]\n",
      "loss: 0.478343  [57600/66571]\n",
      "loss: 0.513641  [64000/66571]\n",
      "Test Error: \n",
      " Accuracy: 81.2%, Avg loss: 0.476355 \n",
      "\n",
      "Epoch 2\n",
      "-------------------------------\n",
      "loss: 0.471044  [    0/66571]\n",
      "loss: 0.419002  [ 6400/66571]\n",
      "loss: 0.370769  [12800/66571]\n",
      "loss: 0.463803  [19200/66571]\n",
      "loss: 0.410664  [25600/66571]\n",
      "loss: 0.486013  [32000/66571]\n",
      "loss: 0.370902  [38400/66571]\n",
      "loss: 0.359683  [44800/66571]\n",
      "loss: 0.367171  [51200/66571]\n",
      "loss: 0.346467  [57600/66571]\n",
      "loss: 0.374388  [64000/66571]\n",
      "Test Error: \n",
      " Accuracy: 85.6%, Avg loss: 0.363028 \n",
      "\n",
      "Epoch 3\n",
      "-------------------------------\n",
      "loss: 0.386108  [    0/66571]\n",
      "loss: 0.326159  [ 6400/66571]\n",
      "loss: 0.245498  [12800/66571]\n",
      "loss: 0.371860  [19200/66571]\n",
      "loss: 0.372372  [25600/66571]\n",
      "loss: 0.457157  [32000/66571]\n",
      "loss: 0.302802  [38400/66571]\n",
      "loss: 0.326121  [44800/66571]\n",
      "loss: 0.323088  [51200/66571]\n",
      "loss: 0.296974  [57600/66571]\n",
      "loss: 0.323898  [64000/66571]\n",
      "Test Error: \n",
      " Accuracy: 87.5%, Avg loss: 0.319649 \n",
      "\n",
      "Epoch 4\n",
      "-------------------------------\n",
      "loss: 0.355003  [    0/66571]\n",
      "loss: 0.294466  [ 6400/66571]\n",
      "loss: 0.196038  [12800/66571]\n",
      "loss: 0.331525  [19200/66571]\n",
      "loss: 0.359215  [25600/66571]\n",
      "loss: 0.455834  [32000/66571]\n",
      "loss: 0.275437  [38400/66571]\n",
      "loss: 0.310832  [44800/66571]\n",
      "loss: 0.305680  [51200/66571]\n",
      "loss: 0.271998  [57600/66571]\n",
      "loss: 0.300741  [64000/66571]\n",
      "Test Error: \n",
      " Accuracy: 88.5%, Avg loss: 0.295487 \n",
      "\n",
      "Epoch 5\n",
      "-------------------------------\n",
      "loss: 0.338069  [    0/66571]\n",
      "loss: 0.276537  [ 6400/66571]\n",
      "loss: 0.169755  [12800/66571]\n",
      "loss: 0.312398  [19200/66571]\n",
      "loss: 0.351661  [25600/66571]\n",
      "loss: 0.456411  [32000/66571]\n",
      "loss: 0.259264  [38400/66571]\n",
      "loss: 0.298320  [44800/66571]\n",
      "loss: 0.298095  [51200/66571]\n",
      "loss: 0.257061  [57600/66571]\n",
      "loss: 0.289569  [64000/66571]\n",
      "Test Error: \n",
      " Accuracy: 89.2%, Avg loss: 0.280078 \n",
      "\n"
     ]
    }
   ],
   "source": [
    "learning_rate = 0.01\n",
    "epochs = 5\n",
    "loss_fn = nn.BCELoss()\n",
    "optimizer = torch.optim.SGD(model.parameters(), lr=learning_rate)\n",
    "\n",
    "for t in range(epochs):\n",
    "    print(f\"Epoch {t+1}\\n-------------------------------\")\n",
    "    train_loop(train_loader, model, loss_fn, optimizer)\n",
    "    test_loop(test_loader, model, loss_fn)"
   ]
  },
  {
   "cell_type": "markdown",
   "metadata": {},
   "source": [
    "Having trained a model, we explore integrated gradients as an attribution method. As baseline, we use the zero one-hot tensor. \n",
    "\n",
    "Computing integrated gradients for feature $i$:\n",
    "\n",
    "$$\\text{IntegratedGrads}_i^{approx}(x) = (x_i-x_i') \\cdot \\frac{1}{m} \\cdot \\sum_{k=1}^{m}\\frac{\\partial F(x'+\\frac{k}{m}\\cdot (x-x'))}{\\partial x_i}$$\n",
    "\n",
    "Essential for the implementation is computing:\n",
    "\n",
    "$$\\frac{\\partial F(x'+\\frac{k}{m}\\cdot (x-x'))}{\\partial x_i}, \\text{ where }F(x)\\text{ is the SN10}$$\n",
    "\n",
    "One issue concerns the baseline. I'm not sure a zero-valued one-hot vector is the relevant baseline. I should maybe try different baselines (such as different aminoacids, or some specific sequence). Also, Euclidian interpolation might not be relevant as well.\n",
    "\n",
    "In any case, [Captum](https://captum.ai/) provides implementations for many interpretability methods. It looks like it also has interpretability methods for NLP models. It also has [a useful section](https://captum.ai/docs/algorithms_comparison_matrix) that compares algorithms.\n",
    "\n",
    "For first, let's go with integrated gradients and compute for all the test set. It would also be useful to add visualisation like [Captum Insights](https://captum.ai/tutorials/CIFAR_TorchVision_Captum_Insights)."
   ]
  },
  {
   "cell_type": "code",
   "execution_count": null,
   "metadata": {},
   "outputs": [],
   "source": [
    "records = compute_integratedgradients_attribution(test_data, model)"
   ]
  },
  {
   "cell_type": "code",
   "execution_count": 16,
   "metadata": {},
   "outputs": [],
   "source": [
    "attributions = list(map(lambda tupl: tupl[0].numpy(), records))\n",
    "\n",
    "abs_sums = []\n",
    "for attr in attributions:\n",
    "    abs_sum = np.abs(attr.reshape((11, 20))).sum(axis=1)\n",
    "    abs_sums.append(abs_sum)\n",
    "\n",
    "df_attr = pd.DataFrame(data=np.stack(abs_sums), columns=range(1, 12))"
   ]
  },
  {
   "cell_type": "code",
   "execution_count": 21,
   "metadata": {},
   "outputs": [
    {
     "data": {
      "text/plain": [
       "(220,)"
      ]
     },
     "execution_count": 21,
     "metadata": {},
     "output_type": "execute_result"
    }
   ],
   "source": [
    "attributions[0].reshape(-1).shape"
   ]
  },
  {
   "cell_type": "code",
   "execution_count": 38,
   "metadata": {},
   "outputs": [
    {
     "name": "stderr",
     "output_type": "stream",
     "text": [
      "/home/eugen/miniconda3/envs/ab-negative-training/lib/python3.8/site-packages/IPython/core/interactiveshell.py:3337: FutureWarning: arrays to stack must be passed as a \"sequence\" type such as list or tuple. Support for non-sequence iterables such as generators is deprecated as of NumPy 1.16 and will raise an error in the future.\n",
      "  if await self.run_code(code, result, async_=asy):\n"
     ]
    }
   ],
   "source": [
    "df_ext = pd.DataFrame(\n",
    "    data=np.stack(map(lambda a: a.reshape(-1), attributions)), \n",
    "    columns=(\n",
    "        f\"{position} {aa}\" \n",
    "        for position in range (1, 12) \n",
    "        for aa in config.AMINOACID_ALPHABET\n",
    "    )\n",
    ")"
   ]
  },
  {
   "cell_type": "code",
   "execution_count": 37,
   "metadata": {},
   "outputs": [
    {
     "data": {
      "image/png": "[encoded data removed]",
      "text/plain": [
       "<Figure size 504x504 with 12 Axes>"
      ]
     },
     "metadata": {
      "needs_background": "light"
     },
     "output_type": "display_data"
    }
   ],
   "source": [
    "# joypy.joyplot(df_ext, figsize=(20, 15))\n",
    "g = joypy.joyplot(\n",
    "    df_attr,\n",
    "    figsize=(7, 7),\n",
    "    title=\"Integrated gradients-based attribution of prediction (x-axis)\\nfor Slide amino-acid position (y-axis)\\nbased on SN10 network for (3VRL vs 1ADQ) classification\")"
   ]
  },
  {
   "cell_type": "code",
   "execution_count": null,
   "metadata": {},
   "outputs": [],
   "source": []
  }
 ],
 "metadata": {
  "kernelspec": {
   "display_name": "Python 3.8.13 ('ab-negative-training')",
   "language": "python",
   "name": "python3"
  },
  "language_info": {
   "codemirror_mode": {
    "name": "ipython",
    "version": 3
   },
   "file_extension": ".py",
   "mimetype": "text/x-python",
   "name": "python",
   "nbconvert_exporter": "python",
   "pygments_lexer": "ipython3",
   "version": "3.8.13"
  },
  "orig_nbformat": 4,
  "vscode": {
   "interpreter": {
    "hash": "a66fbe740016efe90d6139b67c84a560168f2532ea3e3d46e49051f459208991"
   }
  }
 },
 "nbformat": 4,
 "nbformat_minor": 2
}
