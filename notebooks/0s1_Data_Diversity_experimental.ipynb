{
 "cells": [
  {
   "cell_type": "code",
   "execution_count": 1,
   "metadata": {},
   "outputs": [],
   "source": [
    "import pandas as pd\n",
    "import matplotlib.pyplot as plt\n",
    "from NegativeClassOptimization import config \n",
    "from NegativeClassOptimization import data_similarity as ds\n",
    "import seaborn as sns\n",
    "import matplotlib.pyplot as plt\n",
    "from NegativeClassOptimization.preprocessing import *\n",
    "from pathlib import Path"
   ]
  },
  {
   "cell_type": "code",
   "execution_count": 2,
   "metadata": {},
   "outputs": [],
   "source": [
    "df_affmat = pd.read_csv(config.DATA_POREBSKI_AFFMAT)\n",
    "df_mllib = pd.read_csv(config.DATA_POREBSKI_MLLIB)"
   ]
  },
  {
   "cell_type": "code",
   "execution_count": 3,
   "metadata": {},
   "outputs": [],
   "source": [
    "# 01b_df_kd.csv file generated in script_01c_build_experimental.py contains Kd - dissociation constant\n",
    "df_kd = pd.read_csv(Path(config.DATA_BASE_PATH) / \"01b_df_kd_absolut_format.csv\", index_col=0)"
   ]
  },
  {
   "cell_type": "code",
   "execution_count": 4,
   "metadata": {},
   "outputs": [
    {
     "data": {
      "text/html": [
       "<div>\n",
       "<style scoped>\n",
       "    .dataframe tbody tr th:only-of-type {\n",
       "        vertical-align: middle;\n",
       "    }\n",
       "\n",
       "    .dataframe tbody tr th {\n",
       "        vertical-align: top;\n",
       "    }\n",
       "\n",
       "    .dataframe thead th {\n",
       "        text-align: right;\n",
       "    }\n",
       "</style>\n",
       "<table border=\"1\" class=\"dataframe\">\n",
       "  <thead>\n",
       "    <tr style=\"text-align: right;\">\n",
       "      <th></th>\n",
       "      <th>ID_slide_Variant</th>\n",
       "      <th>CDR3</th>\n",
       "      <th>Best</th>\n",
       "      <th>Slide</th>\n",
       "      <th>Energy</th>\n",
       "      <th>Structure</th>\n",
       "      <th>Source</th>\n",
       "      <th>Antigen</th>\n",
       "      <th>binder_type</th>\n",
       "    </tr>\n",
       "  </thead>\n",
       "  <tbody>\n",
       "    <tr>\n",
       "      <th>0</th>\n",
       "      <td>NaN</td>\n",
       "      <td>ADVAYCCTPTCAKWPEYFQWW</td>\n",
       "      <td>True</td>\n",
       "      <td>ADVAYCCTPTCAKWPEYFQWW</td>\n",
       "      <td>118.581446</td>\n",
       "      <td>NaN</td>\n",
       "      <td>HR2P_95low</td>\n",
       "      <td>HR2P</td>\n",
       "      <td>HR2P_95low</td>\n",
       "    </tr>\n",
       "    <tr>\n",
       "      <th>1</th>\n",
       "      <td>NaN</td>\n",
       "      <td>CDGACCDTPTCAKWPEYFQHW</td>\n",
       "      <td>True</td>\n",
       "      <td>CDGACCDTPTCAKWPEYFQHW</td>\n",
       "      <td>113.952191</td>\n",
       "      <td>NaN</td>\n",
       "      <td>HR2P_95low</td>\n",
       "      <td>HR2P</td>\n",
       "      <td>HR2P_95low</td>\n",
       "    </tr>\n",
       "    <tr>\n",
       "      <th>2</th>\n",
       "      <td>NaN</td>\n",
       "      <td>CDPAYYSSSRCLTWPEYFQHW</td>\n",
       "      <td>True</td>\n",
       "      <td>CDPAYYSSSRCLTWPEYFQHW</td>\n",
       "      <td>114.270451</td>\n",
       "      <td>NaN</td>\n",
       "      <td>HR2P_95low</td>\n",
       "      <td>HR2P</td>\n",
       "      <td>HR2P_95low</td>\n",
       "    </tr>\n",
       "    <tr>\n",
       "      <th>3</th>\n",
       "      <td>NaN</td>\n",
       "      <td>CDRAYCDTPTCAKWPEYFQHW</td>\n",
       "      <td>True</td>\n",
       "      <td>CDRAYCDTPTCAKWPEYFQHW</td>\n",
       "      <td>113.967739</td>\n",
       "      <td>NaN</td>\n",
       "      <td>HR2P_95low</td>\n",
       "      <td>HR2P</td>\n",
       "      <td>HR2P_95low</td>\n",
       "    </tr>\n",
       "    <tr>\n",
       "      <th>4</th>\n",
       "      <td>NaN</td>\n",
       "      <td>CDRAYCDTPTCAKWPEYFQPW</td>\n",
       "      <td>True</td>\n",
       "      <td>CDRAYCDTPTCAKWPEYFQPW</td>\n",
       "      <td>113.271742</td>\n",
       "      <td>NaN</td>\n",
       "      <td>HR2P_95low</td>\n",
       "      <td>HR2P</td>\n",
       "      <td>HR2P_95low</td>\n",
       "    </tr>\n",
       "  </tbody>\n",
       "</table>\n",
       "</div>"
      ],
      "text/plain": [
       "   ID_slide_Variant                   CDR3  Best                  Slide  \\\n",
       "0               NaN  ADVAYCCTPTCAKWPEYFQWW  True  ADVAYCCTPTCAKWPEYFQWW   \n",
       "1               NaN  CDGACCDTPTCAKWPEYFQHW  True  CDGACCDTPTCAKWPEYFQHW   \n",
       "2               NaN  CDPAYYSSSRCLTWPEYFQHW  True  CDPAYYSSSRCLTWPEYFQHW   \n",
       "3               NaN  CDRAYCDTPTCAKWPEYFQHW  True  CDRAYCDTPTCAKWPEYFQHW   \n",
       "4               NaN  CDRAYCDTPTCAKWPEYFQPW  True  CDRAYCDTPTCAKWPEYFQPW   \n",
       "\n",
       "       Energy  Structure      Source Antigen binder_type  \n",
       "0  118.581446        NaN  HR2P_95low    HR2P  HR2P_95low  \n",
       "1  113.952191        NaN  HR2P_95low    HR2P  HR2P_95low  \n",
       "2  114.270451        NaN  HR2P_95low    HR2P  HR2P_95low  \n",
       "3  113.967739        NaN  HR2P_95low    HR2P  HR2P_95low  \n",
       "4  113.271742        NaN  HR2P_95low    HR2P  HR2P_95low  "
      ]
     },
     "execution_count": 4,
     "metadata": {},
     "output_type": "execute_result"
    }
   ],
   "source": [
    "df_kd.head()"
   ]
  },
  {
   "cell_type": "code",
   "execution_count": 5,
   "metadata": {},
   "outputs": [
    {
     "data": {
      "text/plain": [
       "HR2P_95low      18578\n",
       "HR2P_looserX     3574\n",
       "HR2P_high        2638\n",
       "Name: binder_type, dtype: int64"
      ]
     },
     "execution_count": 5,
     "metadata": {},
     "output_type": "execute_result"
    }
   ],
   "source": [
    "df_kd[\"binder_type\"].value_counts()"
   ]
  },
  {
   "cell_type": "code",
   "execution_count": 6,
   "metadata": {},
   "outputs": [],
   "source": [
    "df_pos = df_kd[df_kd['binder_type'] == 'HR2P_high'].sample(n=2500, random_state=42)\n",
    "df_pos['y'] = 1\n",
    "df_weak = df_kd[df_kd['binder_type'] == 'HR2P_looserX'].sample(n=2500, random_state=42)\n",
    "df_weak['y'] = 0\n",
    "df_nb = df_kd[df_kd['binder_type'] == 'HR2P_95low'].sample(n=2500, random_state=42)\n",
    "df_nb['y'] = 0\n"
   ]
  },
  {
   "cell_type": "code",
   "execution_count": 7,
   "metadata": {},
   "outputs": [],
   "source": [
    "from sklearn.model_selection import train_test_split\n",
    "df_pos_train, df_pos_test = train_test_split(df_pos, test_size=0.2, random_state=42)\n",
    "df_weak_train, df_weak_test = train_test_split(df_weak, test_size=0.2, random_state=42)\n",
    "df_nb_train, df_nb_test = train_test_split(df_nb, test_size=0.2, random_state=42)"
   ]
  },
  {
   "cell_type": "code",
   "execution_count": 8,
   "metadata": {},
   "outputs": [],
   "source": [
    "#merging positive data with negative variants\n",
    "df_vs_weak_train = pd.concat([df_pos_train, df_weak_train]).reset_index(drop=True)\n",
    "df_vs_weak_test = pd.concat([df_pos_test, df_weak_test]).reset_index(drop=True)\n",
    "df_vs_nb_train = pd.concat([df_pos_train, df_nb_train]).reset_index(drop=True)\n",
    "df_vs_nb_test = pd.concat([df_pos_test, df_nb_test]).reset_index(drop=True)"
   ]
  },
  {
   "cell_type": "code",
   "execution_count": 9,
   "metadata": {},
   "outputs": [],
   "source": [
    "#leaks on Weak\n",
    "df_train, df_test = df_vs_weak_train, df_vs_weak_test\n",
    "pairs = ds.find_one_char_diff_pairs(df_train, df_test)\n",
    "leak_weak_df = ds.get_leak_info(df_train,df_test, pairs)\n",
    "\n",
    "#leaks of Non-binder\n",
    "df_train, df_test = df_vs_nb_train, df_vs_nb_test\n",
    "pairs = ds.find_one_char_diff_pairs(df_train, df_test)\n",
    "leak_nb_df = ds.get_leak_info(df_train,df_test, pairs)"
   ]
  },
  {
   "cell_type": "code",
   "execution_count": 10,
   "metadata": {},
   "outputs": [],
   "source": [
    "def label_concordance_count(leak_df, df_test):\n",
    "    grouped_counts = leak_df.groupby(['test_Slide','label_concordance']).size().unstack(level=-1, fill_value=0)\n",
    "    row_sum = grouped_counts.sum(axis=1)\n",
    "    label_concordance_abundance = grouped_counts.div(row_sum, axis=0)\n",
    "    label_concordance_abundance = label_concordance_abundance.sum(axis=0)/df_test.shape[0]\n",
    "    return label_concordance_abundance"
   ]
  },
  {
   "cell_type": "code",
   "execution_count": 11,
   "metadata": {},
   "outputs": [],
   "source": [
    "label_concordance_abundance_nb = label_concordance_count(leak_nb_df, df_vs_nb_test)\n",
    "label_concordance_abundance_weak = label_concordance_count(leak_weak_df, df_vs_weak_test)"
   ]
  },
  {
   "cell_type": "code",
   "execution_count": 12,
   "metadata": {},
   "outputs": [],
   "source": [
    "lc_nb = pd.DataFrame(label_concordance_abundance_nb).T\n",
    "lc_nb['task'] = 'vs Non-binder'\n",
    "lc_wk = pd.DataFrame(label_concordance_abundance_weak).T\n",
    "lc_wk['task'] = 'vs Weak'"
   ]
  },
  {
   "cell_type": "code",
   "execution_count": 13,
   "metadata": {},
   "outputs": [
    {
     "data": {
      "text/plain": [
       "0    0.437\n",
       "dtype: float64"
      ]
     },
     "execution_count": 13,
     "metadata": {},
     "output_type": "execute_result"
    }
   ],
   "source": [
    "lc_nb[['++', '+-', '--', '-+']].apply(sum, axis=1)"
   ]
  },
  {
   "cell_type": "code",
   "execution_count": 14,
   "metadata": {},
   "outputs": [
    {
     "data": {
      "text/plain": [
       "0    0.651\n",
       "dtype: float64"
      ]
     },
     "execution_count": 14,
     "metadata": {},
     "output_type": "execute_result"
    }
   ],
   "source": [
    "lc_wk[['++', '+-', '--', '-+']].apply(sum, axis=1)"
   ]
  },
  {
   "cell_type": "code",
   "execution_count": 15,
   "metadata": {},
   "outputs": [],
   "source": [
    "lc = pd.concat([lc_nb, lc_wk])"
   ]
  },
  {
   "cell_type": "code",
   "execution_count": 16,
   "metadata": {},
   "outputs": [],
   "source": [
    "col_order = ['++', '--', '+-', '-+', 'task']\n",
    "task_order =['vs Non-binder', 'vs Weak']"
   ]
  },
  {
   "cell_type": "code",
   "execution_count": 17,
   "metadata": {},
   "outputs": [],
   "source": [
    "def put_numbers_to_barplt(count_df):\n",
    "    for i, task in enumerate(task_order):\n",
    "        base = 0\n",
    "        for col in col_order[:-1]:\n",
    "            y = count_df[count_df['task']==task][col].values[0].round(2)\n",
    "            plt.text(x=i-0.05, y=y/2+base, s=y, size=\"small\")\n",
    "            base += y"
   ]
  },
  {
   "cell_type": "code",
   "execution_count": 18,
   "metadata": {},
   "outputs": [
    {
     "data": {
      "image/png": "[encoded data removed]",
      "text/plain": [
       "<Figure size 400x400 with 1 Axes>"
      ]
     },
     "metadata": {},
     "output_type": "display_data"
    }
   ],
   "source": [
    "plt.rcParams['svg.fonttype'] = 'none'\n",
    "lc[col_order].plot(kind='bar', x='task', stacked=True, color=[\"#F00F7F\", \"#7FC97F\",\"#FDC086\",\"#666666\"], figsize=(4,4)) #colors are wrong\n",
    "put_numbers_to_barplt(lc[col_order])\n",
    "plt.xticks(rotation=0)\n",
    "#color=[\"#F00F7F\", \"#7FC97F\", \"#FDC086\",\"#666666\"]#\n",
    "#cmap={'++':\"#F00F7F\", '--': \"#7FC97F\", '+-': \"#FDC086\", \"-+\":\"#666666\"}\n",
    "plt.legend(loc='lower center', bbox_to_anchor=(0.5, -0.3), ncol=4)\n",
    "plt.savefig('./figures/id-ood-corr-exp.svg')"
   ]
  },
  {
   "cell_type": "code",
   "execution_count": 19,
   "metadata": {},
   "outputs": [
    {
     "data": {
      "image/png": "[encoded data removed]",
      "text/plain": [
       "<Figure size 400x400 with 1 Axes>"
      ]
     },
     "metadata": {},
     "output_type": "display_data"
    }
   ],
   "source": [
    "plt.rcParams['svg.fonttype'] = 'none'\n",
    "lc[col_order].plot(kind='bar', x='task', stacked=True, color=[\"#F00F7F\", \"#7FC97F\",\"#FDC086\",\"#666666\"], figsize=(4,4)) #colors are wrong\n",
    "put_numbers_to_barplt(lc[col_order])\n",
    "plt.xticks(rotation=0)\n",
    "#color=[\"#F00F7F\", \"#7FC97F\", \"#FDC086\",\"#666666\"]#\n",
    "#cmap={'++':\"#F00F7F\", '--': \"#7FC97F\", '+-': \"#FDC086\", \"-+\":\"#666666\"}\n",
    "plt.legend(loc='lower center', bbox_to_anchor=(0.5, -0.3), ncol=4)\n",
    "plt.savefig('./figures/id-ood-corr-exp.svg')"
   ]
  },
  {
   "cell_type": "code",
   "execution_count": 20,
   "metadata": {},
   "outputs": [],
   "source": [
    "leak_nb_df['task'] = 'vs Non-binder'\n",
    "leak_weak_df['task'] = 'vs Weak'\n",
    "leak_all_df = pd.concat([leak_nb_df, leak_weak_df])"
   ]
  },
  {
   "cell_type": "code",
   "execution_count": 21,
   "metadata": {},
   "outputs": [],
   "source": [
    "leak_all_df['Energy_diff_abs'] = leak_all_df['Energy_diff'].abs()"
   ]
  },
  {
   "cell_type": "code",
   "execution_count": 22,
   "metadata": {},
   "outputs": [],
   "source": [
    "hue_order=['++', '--', '+-', '-+']"
   ]
  },
  {
   "cell_type": "code",
   "execution_count": 23,
   "metadata": {},
   "outputs": [
    {
     "data": {
      "image/png": "[encoded data removed]",
      "text/plain": [
       "<Figure size 453.6x400 with 1 Axes>"
      ]
     },
     "metadata": {},
     "output_type": "display_data"
    }
   ],
   "source": [
    "plt.rcParams['svg.fonttype'] = 'none'\n",
    "plt.figure(figsize=(4*1.134,4))\n",
    "plt.ylim([-20, 100])\n",
    "sns.boxplot(leak_all_df, x='task',  y='Energy_diff_abs', hue='label_concordance', showfliers=False,\\\n",
    "            hue_order=hue_order, palette={\"++\": \"#F00F7F\", \"--\": \"#7FC97F\",\"+-\": \"#FDC086\",\"-+\":\"#666666\"})\n",
    "ds.plot_median_for_energy_diff(leak_all_df, hue_order, \"task\", task_order) #add task as parameter\n",
    "\n",
    "plt.legend(loc='upper center', bbox_to_anchor=(0.5, -0.13), ncol=5)\n",
    "plt.savefig('./figures/leak_eng_diff_exp.svg')"
   ]
  }
 ],
 "metadata": {
  "kernelspec": {
   "display_name": "nco",
   "language": "python",
   "name": "python3"
  },
  "language_info": {
   "codemirror_mode": {
    "name": "ipython",
    "version": 3
   },
   "file_extension": ".py",
   "mimetype": "text/x-python",
   "name": "python",
   "nbconvert_exporter": "python",
   "pygments_lexer": "ipython3",
   "version": "3.8.13"
  }
 },
 "nbformat": 4,
 "nbformat_minor": 2
}
