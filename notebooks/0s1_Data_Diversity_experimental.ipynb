{
 "cells": [
  {
   "cell_type": "code",
   "execution_count": 2,
   "metadata": {},
   "outputs": [],
   "source": [
    "from pathlib import Path\n",
    "import pandas as pd\n",
    "import matplotlib.pyplot as plt\n",
    "import numpy as np\n",
    "from NegativeClassOptimization import config\n",
    "import seaborn as sns\n",
    "import matplotlib.pyplot as plt\n",
    "from NegativeClassOptimization.preprocessing import *"
   ]
  },
  {
   "cell_type": "code",
   "execution_count": 3,
   "metadata": {},
   "outputs": [],
   "source": [
    "df_affmat = pd.read_csv(config.DATA_POREBSKI_AFFMAT)\n",
    "df_mllib = pd.read_csv(config.DATA_POREBSKI_MLLIB)"
   ]
  },
  {
   "cell_type": "code",
   "execution_count": 4,
   "metadata": {},
   "outputs": [],
   "source": [
    "fp = \"01b_df_kd.csv\"\n",
    "df_kd = pd.read_csv(fp)"
   ]
  },
  {
   "cell_type": "code",
   "execution_count": 5,
   "metadata": {},
   "outputs": [
    {
     "name": "stdout",
     "output_type": "stream",
     "text": [
      "HR2P_95low      18578\n",
      "HR2P_looserX     3574\n",
      "HR2P_high        2638\n",
      "Name: binder_type, dtype: int64\n"
     ]
    },
    {
     "data": {
      "text/html": [
       "<div>\n",
       "<style scoped>\n",
       "    .dataframe tbody tr th:only-of-type {\n",
       "        vertical-align: middle;\n",
       "    }\n",
       "\n",
       "    .dataframe tbody tr th {\n",
       "        vertical-align: top;\n",
       "    }\n",
       "\n",
       "    .dataframe thead th {\n",
       "        text-align: right;\n",
       "    }\n",
       "</style>\n",
       "<table border=\"1\" class=\"dataframe\">\n",
       "  <thead>\n",
       "    <tr style=\"text-align: right;\">\n",
       "      <th></th>\n",
       "      <th>Unnamed: 0</th>\n",
       "      <th>cdr3</th>\n",
       "      <th>Kd_est</th>\n",
       "      <th>E_est</th>\n",
       "      <th>F_min</th>\n",
       "      <th>F_max</th>\n",
       "      <th>intensity 0</th>\n",
       "      <th>intensity 1</th>\n",
       "      <th>intensity 10</th>\n",
       "      <th>intensity 11</th>\n",
       "      <th>...</th>\n",
       "      <th>intensity 2</th>\n",
       "      <th>intensity 3</th>\n",
       "      <th>intensity 4</th>\n",
       "      <th>intensity 5</th>\n",
       "      <th>intensity 6</th>\n",
       "      <th>intensity 7</th>\n",
       "      <th>intensity 8</th>\n",
       "      <th>intensity 9</th>\n",
       "      <th>affinity_est</th>\n",
       "      <th>binder_type</th>\n",
       "    </tr>\n",
       "  </thead>\n",
       "  <tbody>\n",
       "    <tr>\n",
       "      <th>0</th>\n",
       "      <td>0</td>\n",
       "      <td>ADVAYCCTPTCAKWPEYFQWW</td>\n",
       "      <td>2.566097e-07</td>\n",
       "      <td>-36.989043</td>\n",
       "      <td>94.461716</td>\n",
       "      <td>141.05211</td>\n",
       "      <td>111.342196</td>\n",
       "      <td>108.361792</td>\n",
       "      <td>117.222275</td>\n",
       "      <td>117.295862</td>\n",
       "      <td>...</td>\n",
       "      <td>107.364475</td>\n",
       "      <td>113.558279</td>\n",
       "      <td>110.967933</td>\n",
       "      <td>111.959556</td>\n",
       "      <td>119.406109</td>\n",
       "      <td>126.040790</td>\n",
       "      <td>118.581446</td>\n",
       "      <td>118.161568</td>\n",
       "      <td>3.896969e+06</td>\n",
       "      <td>HR2P_95low</td>\n",
       "    </tr>\n",
       "    <tr>\n",
       "      <th>1</th>\n",
       "      <td>1</td>\n",
       "      <td>CDGACCDTPTCAKWPEYFQHW</td>\n",
       "      <td>3.757516e-07</td>\n",
       "      <td>-36.059492</td>\n",
       "      <td>93.957440</td>\n",
       "      <td>144.95908</td>\n",
       "      <td>110.953692</td>\n",
       "      <td>108.887190</td>\n",
       "      <td>113.325916</td>\n",
       "      <td>114.728697</td>\n",
       "      <td>...</td>\n",
       "      <td>112.172095</td>\n",
       "      <td>111.951280</td>\n",
       "      <td>113.303819</td>\n",
       "      <td>113.053718</td>\n",
       "      <td>113.291626</td>\n",
       "      <td>117.351588</td>\n",
       "      <td>113.952191</td>\n",
       "      <td>113.828101</td>\n",
       "      <td>2.661333e+06</td>\n",
       "      <td>HR2P_95low</td>\n",
       "    </tr>\n",
       "    <tr>\n",
       "      <th>2</th>\n",
       "      <td>2</td>\n",
       "      <td>CDPAYYSSSRCLTWPEYFQHW</td>\n",
       "      <td>3.962092e-07</td>\n",
       "      <td>-35.930277</td>\n",
       "      <td>94.155020</td>\n",
       "      <td>149.19969</td>\n",
       "      <td>109.530200</td>\n",
       "      <td>110.394295</td>\n",
       "      <td>112.850615</td>\n",
       "      <td>111.254278</td>\n",
       "      <td>...</td>\n",
       "      <td>109.994383</td>\n",
       "      <td>110.328671</td>\n",
       "      <td>110.611589</td>\n",
       "      <td>113.414645</td>\n",
       "      <td>113.032409</td>\n",
       "      <td>117.512647</td>\n",
       "      <td>114.270451</td>\n",
       "      <td>112.941200</td>\n",
       "      <td>2.523919e+06</td>\n",
       "      <td>HR2P_95low</td>\n",
       "    </tr>\n",
       "    <tr>\n",
       "      <th>3</th>\n",
       "      <td>3</td>\n",
       "      <td>CDRAYCDTPTCAKWPEYFQHW</td>\n",
       "      <td>4.037524e-07</td>\n",
       "      <td>-35.884309</td>\n",
       "      <td>96.954380</td>\n",
       "      <td>133.01643</td>\n",
       "      <td>109.273767</td>\n",
       "      <td>110.639957</td>\n",
       "      <td>117.067877</td>\n",
       "      <td>112.947864</td>\n",
       "      <td>...</td>\n",
       "      <td>109.797395</td>\n",
       "      <td>107.939179</td>\n",
       "      <td>111.938496</td>\n",
       "      <td>113.410432</td>\n",
       "      <td>116.078040</td>\n",
       "      <td>116.459165</td>\n",
       "      <td>113.967739</td>\n",
       "      <td>114.493203</td>\n",
       "      <td>2.476765e+06</td>\n",
       "      <td>HR2P_95low</td>\n",
       "    </tr>\n",
       "    <tr>\n",
       "      <th>4</th>\n",
       "      <td>4</td>\n",
       "      <td>CDRAYCDTPTCAKWPEYFQPW</td>\n",
       "      <td>3.318797e-07</td>\n",
       "      <td>-36.362107</td>\n",
       "      <td>91.821106</td>\n",
       "      <td>142.25514</td>\n",
       "      <td>110.699016</td>\n",
       "      <td>109.528347</td>\n",
       "      <td>112.976801</td>\n",
       "      <td>112.402118</td>\n",
       "      <td>...</td>\n",
       "      <td>110.135047</td>\n",
       "      <td>109.945588</td>\n",
       "      <td>111.109728</td>\n",
       "      <td>112.412832</td>\n",
       "      <td>114.181798</td>\n",
       "      <td>116.347380</td>\n",
       "      <td>113.271742</td>\n",
       "      <td>114.328324</td>\n",
       "      <td>3.013140e+06</td>\n",
       "      <td>HR2P_95low</td>\n",
       "    </tr>\n",
       "  </tbody>\n",
       "</table>\n",
       "<p>5 rows × 22 columns</p>\n",
       "</div>"
      ],
      "text/plain": [
       "   Unnamed: 0                   cdr3        Kd_est      E_est      F_min  \\\n",
       "0           0  ADVAYCCTPTCAKWPEYFQWW  2.566097e-07 -36.989043  94.461716   \n",
       "1           1  CDGACCDTPTCAKWPEYFQHW  3.757516e-07 -36.059492  93.957440   \n",
       "2           2  CDPAYYSSSRCLTWPEYFQHW  3.962092e-07 -35.930277  94.155020   \n",
       "3           3  CDRAYCDTPTCAKWPEYFQHW  4.037524e-07 -35.884309  96.954380   \n",
       "4           4  CDRAYCDTPTCAKWPEYFQPW  3.318797e-07 -36.362107  91.821106   \n",
       "\n",
       "       F_max  intensity 0  intensity 1  intensity 10  intensity 11  ...  \\\n",
       "0  141.05211   111.342196   108.361792    117.222275    117.295862  ...   \n",
       "1  144.95908   110.953692   108.887190    113.325916    114.728697  ...   \n",
       "2  149.19969   109.530200   110.394295    112.850615    111.254278  ...   \n",
       "3  133.01643   109.273767   110.639957    117.067877    112.947864  ...   \n",
       "4  142.25514   110.699016   109.528347    112.976801    112.402118  ...   \n",
       "\n",
       "   intensity 2  intensity 3  intensity 4  intensity 5  intensity 6  \\\n",
       "0   107.364475   113.558279   110.967933   111.959556   119.406109   \n",
       "1   112.172095   111.951280   113.303819   113.053718   113.291626   \n",
       "2   109.994383   110.328671   110.611589   113.414645   113.032409   \n",
       "3   109.797395   107.939179   111.938496   113.410432   116.078040   \n",
       "4   110.135047   109.945588   111.109728   112.412832   114.181798   \n",
       "\n",
       "   intensity 7  intensity 8  intensity 9  affinity_est  binder_type  \n",
       "0   126.040790   118.581446   118.161568  3.896969e+06   HR2P_95low  \n",
       "1   117.351588   113.952191   113.828101  2.661333e+06   HR2P_95low  \n",
       "2   117.512647   114.270451   112.941200  2.523919e+06   HR2P_95low  \n",
       "3   116.459165   113.967739   114.493203  2.476765e+06   HR2P_95low  \n",
       "4   116.347380   113.271742   114.328324  3.013140e+06   HR2P_95low  \n",
       "\n",
       "[5 rows x 22 columns]"
      ]
     },
     "execution_count": 5,
     "metadata": {},
     "output_type": "execute_result"
    }
   ],
   "source": [
    "th_non_weak = 122\n",
    "th_weak_high = 150\n",
    "\n",
    "df_kd[\"binder_type\"] = \"HR2P_95low\"\n",
    "df_kd.loc[df_kd[\"intensity 8\"] > th_weak_high, \"binder_type\"] = \"HR2P_high\"\n",
    "df_kd.loc[\n",
    "    (df_kd[\"intensity 8\"] > th_non_weak) & ((df_kd[\"intensity 8\"] <= th_weak_high)),\n",
    "    \"binder_type\",\n",
    "] = \"HR2P_looserX\"\n",
    "\n",
    "print(df_kd[\"binder_type\"].value_counts())\n",
    "df_kd.head()"
   ]
  },
  {
   "cell_type": "code",
   "execution_count": 6,
   "metadata": {},
   "outputs": [],
   "source": [
    "### Adapt df to fit as much as possible\n",
    "### the format we used with Absolut data.\n",
    "# ID_slide_Variant\tCDR3\tBest\tSlide\tEnergy\tStructure\tSource\tAntigen\n",
    "df_kd[\"ID_slide_Variant\"] = None\n",
    "df_kd[\"CDR3\"] = df_kd[\"cdr3\"]\n",
    "df_kd[\"Best\"] = True\n",
    "df_kd[\"Slide\"] = df_kd[\"cdr3\"]\n",
    "df_kd[\"Energy\"] = df_kd[\"intensity 8\"]\n",
    "df_kd[\"Structure\"] = None\n",
    "df_kd[\"Source\"] = df_kd[\"binder_type\"]\n",
    "df_kd[\"Antigen\"] = \"HR2P\"\n",
    "df_kd = df_kd[[\"ID_slide_Variant\", \"CDR3\", \"Best\", \"Slide\", \"Energy\", \"Structure\", \"Source\", \"Antigen\", \"binder_type\"]].copy()\n",
    "\n",
    "# Check no duplicates\n",
    "assert df_kd[\"CDR3\"].duplicated().sum() == 0, \"There are duplicated CDR3s\""
   ]
  },
  {
   "cell_type": "code",
   "execution_count": 7,
   "metadata": {},
   "outputs": [
    {
     "data": {
      "text/html": [
       "<div>\n",
       "<style scoped>\n",
       "    .dataframe tbody tr th:only-of-type {\n",
       "        vertical-align: middle;\n",
       "    }\n",
       "\n",
       "    .dataframe tbody tr th {\n",
       "        vertical-align: top;\n",
       "    }\n",
       "\n",
       "    .dataframe thead th {\n",
       "        text-align: right;\n",
       "    }\n",
       "</style>\n",
       "<table border=\"1\" class=\"dataframe\">\n",
       "  <thead>\n",
       "    <tr style=\"text-align: right;\">\n",
       "      <th></th>\n",
       "      <th>ID_slide_Variant</th>\n",
       "      <th>CDR3</th>\n",
       "      <th>Best</th>\n",
       "      <th>Slide</th>\n",
       "      <th>Energy</th>\n",
       "      <th>Structure</th>\n",
       "      <th>Source</th>\n",
       "      <th>Antigen</th>\n",
       "      <th>binder_type</th>\n",
       "    </tr>\n",
       "  </thead>\n",
       "  <tbody>\n",
       "    <tr>\n",
       "      <th>0</th>\n",
       "      <td>None</td>\n",
       "      <td>ADVAYCCTPTCAKWPEYFQWW</td>\n",
       "      <td>True</td>\n",
       "      <td>ADVAYCCTPTCAKWPEYFQWW</td>\n",
       "      <td>118.581446</td>\n",
       "      <td>None</td>\n",
       "      <td>HR2P_95low</td>\n",
       "      <td>HR2P</td>\n",
       "      <td>HR2P_95low</td>\n",
       "    </tr>\n",
       "    <tr>\n",
       "      <th>1</th>\n",
       "      <td>None</td>\n",
       "      <td>CDGACCDTPTCAKWPEYFQHW</td>\n",
       "      <td>True</td>\n",
       "      <td>CDGACCDTPTCAKWPEYFQHW</td>\n",
       "      <td>113.952191</td>\n",
       "      <td>None</td>\n",
       "      <td>HR2P_95low</td>\n",
       "      <td>HR2P</td>\n",
       "      <td>HR2P_95low</td>\n",
       "    </tr>\n",
       "    <tr>\n",
       "      <th>2</th>\n",
       "      <td>None</td>\n",
       "      <td>CDPAYYSSSRCLTWPEYFQHW</td>\n",
       "      <td>True</td>\n",
       "      <td>CDPAYYSSSRCLTWPEYFQHW</td>\n",
       "      <td>114.270451</td>\n",
       "      <td>None</td>\n",
       "      <td>HR2P_95low</td>\n",
       "      <td>HR2P</td>\n",
       "      <td>HR2P_95low</td>\n",
       "    </tr>\n",
       "    <tr>\n",
       "      <th>3</th>\n",
       "      <td>None</td>\n",
       "      <td>CDRAYCDTPTCAKWPEYFQHW</td>\n",
       "      <td>True</td>\n",
       "      <td>CDRAYCDTPTCAKWPEYFQHW</td>\n",
       "      <td>113.967739</td>\n",
       "      <td>None</td>\n",
       "      <td>HR2P_95low</td>\n",
       "      <td>HR2P</td>\n",
       "      <td>HR2P_95low</td>\n",
       "    </tr>\n",
       "    <tr>\n",
       "      <th>4</th>\n",
       "      <td>None</td>\n",
       "      <td>CDRAYCDTPTCAKWPEYFQPW</td>\n",
       "      <td>True</td>\n",
       "      <td>CDRAYCDTPTCAKWPEYFQPW</td>\n",
       "      <td>113.271742</td>\n",
       "      <td>None</td>\n",
       "      <td>HR2P_95low</td>\n",
       "      <td>HR2P</td>\n",
       "      <td>HR2P_95low</td>\n",
       "    </tr>\n",
       "  </tbody>\n",
       "</table>\n",
       "</div>"
      ],
      "text/plain": [
       "  ID_slide_Variant                   CDR3  Best                  Slide  \\\n",
       "0             None  ADVAYCCTPTCAKWPEYFQWW  True  ADVAYCCTPTCAKWPEYFQWW   \n",
       "1             None  CDGACCDTPTCAKWPEYFQHW  True  CDGACCDTPTCAKWPEYFQHW   \n",
       "2             None  CDPAYYSSSRCLTWPEYFQHW  True  CDPAYYSSSRCLTWPEYFQHW   \n",
       "3             None  CDRAYCDTPTCAKWPEYFQHW  True  CDRAYCDTPTCAKWPEYFQHW   \n",
       "4             None  CDRAYCDTPTCAKWPEYFQPW  True  CDRAYCDTPTCAKWPEYFQPW   \n",
       "\n",
       "       Energy Structure      Source Antigen binder_type  \n",
       "0  118.581446      None  HR2P_95low    HR2P  HR2P_95low  \n",
       "1  113.952191      None  HR2P_95low    HR2P  HR2P_95low  \n",
       "2  114.270451      None  HR2P_95low    HR2P  HR2P_95low  \n",
       "3  113.967739      None  HR2P_95low    HR2P  HR2P_95low  \n",
       "4  113.271742      None  HR2P_95low    HR2P  HR2P_95low  "
      ]
     },
     "execution_count": 7,
     "metadata": {},
     "output_type": "execute_result"
    }
   ],
   "source": [
    "df_kd.head()"
   ]
  },
  {
   "cell_type": "code",
   "execution_count": 8,
   "metadata": {},
   "outputs": [
    {
     "data": {
      "text/plain": [
       "HR2P_95low      18578\n",
       "HR2P_looserX     3574\n",
       "HR2P_high        2638\n",
       "Name: binder_type, dtype: int64"
      ]
     },
     "execution_count": 8,
     "metadata": {},
     "output_type": "execute_result"
    }
   ],
   "source": [
    "#N train 5000 seq in total, 2500 + and 2500+ neg, then split 42\n",
    "\n",
    "df_kd.binder_type.value_counts()"
   ]
  },
  {
   "cell_type": "code",
   "execution_count": 9,
   "metadata": {},
   "outputs": [],
   "source": [
    "#We take 2500 positives\n",
    "df_pos = df_kd[df_kd['binder_type'] == 'HR2P_high'].sample(n=2500, random_state=42)\n",
    "df_pos['y'] = 1\n",
    "df_weak = df_kd[df_kd['binder_type'] == 'HR2P_looserX'].sample(n=2500, random_state=42)\n",
    "df_weak['y'] = 0\n",
    "df_nb = df_kd[df_kd['binder_type'] == 'HR2P_95low'].sample(n=2500, random_state=42)\n",
    "df_nb['y'] = 0\n"
   ]
  },
  {
   "cell_type": "code",
   "execution_count": 10,
   "metadata": {},
   "outputs": [],
   "source": [
    "from sklearn.model_selection import train_test_split\n",
    "df_pos_train, df_pos_test = train_test_split(df_pos, test_size=0.2, random_state=42)\n",
    "df_weak_train, df_weak_test = train_test_split(df_weak, test_size=0.2, random_state=42)\n",
    "df_nb_train, df_nb_test = train_test_split(df_nb, test_size=0.2, random_state=42)"
   ]
  },
  {
   "cell_type": "code",
   "execution_count": 11,
   "metadata": {},
   "outputs": [],
   "source": [
    "df_vs_weak_train = pd.concat([df_pos_train, df_weak_train]).reset_index(drop=True)\n",
    "df_vs_weak_test = pd.concat([df_pos_test, df_weak_test]).reset_index(drop=True)\n",
    "df_vs_nb_train = pd.concat([df_pos_train, df_nb_train]).reset_index(drop=True)\n",
    "df_vs_nb_test = pd.concat([df_pos_test, df_nb_test]).reset_index(drop=True)"
   ]
  },
  {
   "cell_type": "code",
   "execution_count": 12,
   "metadata": {},
   "outputs": [],
   "source": [
    "def find_one_char_diff_pairs(df_train, df_test):\n",
    "    placeholder = '*'\n",
    "    seen = {}\n",
    "    pairs = []\n",
    "\n",
    "    # Process the first set: store modified sequences with their identifiers\n",
    "    for train_sequence in df_train['Slide']:\n",
    "        for i in range(len(train_sequence)):\n",
    "            modified = train_sequence[:i] + placeholder + train_sequence[i+1:]\n",
    "            if modified in seen:\n",
    "                seen[modified].append(train_sequence)\n",
    "            else:\n",
    "                seen[modified] = [train_sequence]\n",
    "\n",
    "    # Process the second set and look for matches in the dictionary\n",
    "    for test_sequence in df_test['Slide']:\n",
    "        for i in range(len(test_sequence)):\n",
    "            modified = test_sequence[:i] + placeholder + test_sequence[i+1:]\n",
    "            if modified in seen:\n",
    "                for train_seq in seen[modified]:\n",
    "                    pairs.append([train_seq, test_sequence])\n",
    "\n",
    "    return pairs\n"
   ]
  },
  {
   "cell_type": "code",
   "execution_count": 13,
   "metadata": {},
   "outputs": [],
   "source": [
    "def get_leak_info(df_train,df_test, pairs):\n",
    "    train_lookup_dict = df_train.set_index('Slide').to_dict(orient='index')\n",
    "    test_lookup_dict = df_test.set_index('Slide').to_dict(orient='index')\n",
    "    leak_info = []\n",
    "    concordance_dict = {\n",
    "    '11':'++',\n",
    "    '00':'--',\n",
    "    '10':'+-',\n",
    "    '01':'-+'}\n",
    "    for train_slide, test_slide in pairs: #mixed up\n",
    "        train_label = train_lookup_dict[train_slide]['y']\n",
    "        train_eng = train_lookup_dict[train_slide]['Energy']\n",
    "\n",
    "        test_label = test_lookup_dict[test_slide]['y']\n",
    "        test_eng = test_lookup_dict[test_slide]['Energy']\n",
    "        label_concordance = str(train_label) + str(test_label)\n",
    "        label_concordance = concordance_dict[label_concordance]\n",
    "        eng_diff = train_eng - test_eng\n",
    "        leak_info.append([train_slide, test_slide, label_concordance, eng_diff])\n",
    "    leak_df = pd.DataFrame(leak_info, columns=['train_Slide', 'test_Slide', 'label_concordance', 'Energy_diff'])\n",
    "    return leak_df"
   ]
  },
  {
   "cell_type": "code",
   "execution_count": 14,
   "metadata": {},
   "outputs": [],
   "source": [
    "#leaks on Weak\n",
    "df_train, df_test = df_vs_weak_train, df_vs_weak_test\n",
    "pairs = find_one_char_diff_pairs(df_train, df_test)\n",
    "leak_weak_df = get_leak_info(df_train,df_test, pairs)\n",
    "\n",
    "#leaks of Non-binder\n",
    "df_train, df_test = df_vs_nb_train, df_vs_nb_test\n",
    "pairs = find_one_char_diff_pairs(df_train, df_test)\n",
    "leak_nb_df = get_leak_info(df_train,df_test, pairs)"
   ]
  },
  {
   "cell_type": "code",
   "execution_count": 15,
   "metadata": {},
   "outputs": [],
   "source": [
    "def label_concordance_count(leak_df, df_test):\n",
    "    grouped_counts = leak_df.groupby(['test_Slide','label_concordance']).size().unstack(level=-1, fill_value=0)\n",
    "    row_sum = grouped_counts.sum(axis=1)\n",
    "    label_concordance_abundance = grouped_counts.div(row_sum, axis=0)\n",
    "    label_concordance_abundance = label_concordance_abundance.sum(axis=0)/df_test.shape[0]\n",
    "    return label_concordance_abundance"
   ]
  },
  {
   "cell_type": "code",
   "execution_count": 16,
   "metadata": {},
   "outputs": [],
   "source": [
    "label_concordance_abundance_nb = label_concordance_count(leak_nb_df, df_vs_nb_test)\n",
    "label_concordance_abundance_weak = label_concordance_count(leak_weak_df, df_vs_weak_test)"
   ]
  },
  {
   "cell_type": "code",
   "execution_count": 17,
   "metadata": {},
   "outputs": [],
   "source": [
    "lc_nb = pd.DataFrame(label_concordance_abundance_nb).T\n",
    "lc_nb['task'] = 'vs Non-binder'\n",
    "lc_wk = pd.DataFrame(label_concordance_abundance_weak).T\n",
    "lc_wk['task'] = 'vs Weak'"
   ]
  },
  {
   "cell_type": "code",
   "execution_count": 28,
   "metadata": {},
   "outputs": [
    {
     "data": {
      "text/plain": [
       "0    0.437\n",
       "dtype: float64"
      ]
     },
     "execution_count": 28,
     "metadata": {},
     "output_type": "execute_result"
    }
   ],
   "source": [
    "lc_nb[['++', '+-', '--', '-+']].apply(sum, axis=1)"
   ]
  },
  {
   "cell_type": "code",
   "execution_count": 29,
   "metadata": {},
   "outputs": [
    {
     "data": {
      "text/plain": [
       "0    0.651\n",
       "dtype: float64"
      ]
     },
     "execution_count": 29,
     "metadata": {},
     "output_type": "execute_result"
    }
   ],
   "source": [
    "lc_wk[['++', '+-', '--', '-+']].apply(sum, axis=1)"
   ]
  },
  {
   "cell_type": "code",
   "execution_count": 18,
   "metadata": {},
   "outputs": [],
   "source": [
    "lc = pd.concat([lc_nb, lc_wk])"
   ]
  },
  {
   "cell_type": "code",
   "execution_count": 18,
   "metadata": {},
   "outputs": [],
   "source": [
    "col_order = ['++', '--', '+-', '-+', 'task']"
   ]
  },
  {
   "cell_type": "code",
   "execution_count": 19,
   "metadata": {},
   "outputs": [],
   "source": [
    "task_order =['vs Non-binder', 'vs Weak']"
   ]
  },
  {
   "cell_type": "code",
   "execution_count": 20,
   "metadata": {},
   "outputs": [],
   "source": [
    "def put_numbers_to_barplt(count_df):\n",
    "    for i, task in enumerate(task_order):\n",
    "        base = 0\n",
    "        for col in col_order[:-1]:\n",
    "            y = count_df[count_df['task']==task][col].values[0].round(2)\n",
    "            plt.text(x=i-0.05, y=y/2+base, s=y, size=\"small\")\n",
    "            base += y"
   ]
  },
  {
   "cell_type": "code",
   "execution_count": 21,
   "metadata": {},
   "outputs": [
    {
     "data": {
      "image/png": "[encoded data removed]",
      "text/plain": [
       "<Figure size 400x400 with 1 Axes>"
      ]
     },
     "metadata": {},
     "output_type": "display_data"
    }
   ],
   "source": [
    "plt.rcParams['svg.fonttype'] = 'none'\n",
    "lc[col_order].plot(kind='bar', x='task', stacked=True, color=[\"#F00F7F\", \"#7FC97F\",\"#FDC086\",\"#666666\"], figsize=(4,4)) #colors are wrong\n",
    "put_numbers_to_barplt(lc[col_order])\n",
    "plt.xticks(rotation=0)\n",
    "#color=[\"#F00F7F\", \"#7FC97F\", \"#FDC086\",\"#666666\"]#\n",
    "#cmap={'++':\"#F00F7F\", '--': \"#7FC97F\", '+-': \"#FDC086\", \"-+\":\"#666666\"}\n",
    "plt.savefig('./figures/id-ood-corr-exp.svg')"
   ]
  },
  {
   "cell_type": "code",
   "execution_count": 22,
   "metadata": {},
   "outputs": [],
   "source": [
    "leak_nb_df['task'] = 'vs Non-binder'\n",
    "leak_weak_df['task'] = 'vs Weak'\n",
    "leak_all_df = pd.concat([leak_nb_df, leak_weak_df])"
   ]
  },
  {
   "cell_type": "code",
   "execution_count": 23,
   "metadata": {},
   "outputs": [],
   "source": [
    "leak_all_df['Energy_diff_abs'] = leak_all_df['Energy_diff'].abs()"
   ]
  },
  {
   "cell_type": "code",
   "execution_count": 24,
   "metadata": {},
   "outputs": [],
   "source": [
    "def plot_median_for_energy_diff(df, hue_order):\n",
    "    median_values = df.groupby(['task', 'label_concordance']).median().reset_index()\n",
    "    n_hues = len(hue_order) # Number of hues\n",
    "    width_per_group = 1\n",
    "    for i, row in median_values.iterrows():\n",
    "        task = row['task']\n",
    "        label_concordance = row['label_concordance']\n",
    "        median_value = row['Energy_diff_abs']\n",
    "\n",
    "        if label_concordance in hue_order:\n",
    "\n",
    "            task_index = task_order.index(task)\n",
    "            base_x_position = task_index * width_per_group\n",
    "\n",
    "            # Calculate the offset for the current hue within the group\n",
    "            hue_index = hue_order.index(label_concordance)\n",
    "            hue_offset = (hue_index - (n_hues - 1) / 2) * (width_per_group / n_hues)\n",
    "\n",
    "            # Final x-position\n",
    "            x_position = base_x_position + hue_offset\n",
    "            y_position = -0.4\n",
    "\n",
    "            # Place the text\n",
    "            plt.text(x_position, y_position, f'{median_value:.2f}', ha='center', va='top', rotation=90)"
   ]
  },
  {
   "cell_type": "code",
   "execution_count": 25,
   "metadata": {},
   "outputs": [],
   "source": [
    "hue_order=['++', '--', '+-', '-+']"
   ]
  },
  {
   "cell_type": "code",
   "execution_count": 26,
   "metadata": {},
   "outputs": [
    {
     "data": {
      "image/png": "[encoded data removed]",
      "text/plain": [
       "<Figure size 453.6x400 with 1 Axes>"
      ]
     },
     "metadata": {},
     "output_type": "display_data"
    }
   ],
   "source": [
    "plt.rcParams['svg.fonttype'] = 'none'\n",
    "plt.figure(figsize=(4*1.134,4))\n",
    "plt.ylim([-20, 100])\n",
    "sns.boxplot(leak_all_df, x='task',  y='Energy_diff_abs', hue='label_concordance', showfliers=False,\\\n",
    "            hue_order=hue_order, palette={\"++\": \"#F00F7F\", \"--\": \"#7FC97F\",\"+-\": \"#FDC086\",\"-+\":\"#666666\"})\n",
    "plot_median_for_energy_diff(leak_all_df, hue_order)\n",
    "\n",
    "plt.legend(loc='upper center', bbox_to_anchor=(0.5, -0.13), ncol=5)\n",
    "plt.savefig('./figures/leak_eng_diff_exp.svg')"
   ]
  },
  {
   "cell_type": "code",
   "execution_count": null,
   "metadata": {},
   "outputs": [],
   "source": [
    "#I don't think we can do performance correlation because there are one independent data point \n",
    "#but we can try to add it to synthetic"
   ]
  }
 ],
 "metadata": {
  "kernelspec": {
   "display_name": "nco",
   "language": "python",
   "name": "python3"
  },
  "language_info": {
   "codemirror_mode": {
    "name": "ipython",
    "version": 3
   },
   "file_extension": ".py",
   "mimetype": "text/x-python",
   "name": "python",
   "nbconvert_exporter": "python",
   "pygments_lexer": "ipython3",
   "version": "3.8.13"
  }
 },
 "nbformat": 4,
 "nbformat_minor": 2
}
