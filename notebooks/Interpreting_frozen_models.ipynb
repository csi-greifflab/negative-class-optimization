{
 "cells": [
  {
   "cell_type": "code",
   "execution_count": 1,
   "metadata": {},
   "outputs": [],
   "source": [
    "import NegativeClassOptimization.config as config\n",
    "import numpy as np\n",
    "import pandas as pd\n",
    "import glob\n",
    "from pathlib import Path\n",
    "import re\n",
    "import matplotlib.pyplot as plt"
   ]
  },
  {
   "cell_type": "code",
   "execution_count": 2,
   "metadata": {},
   "outputs": [],
   "source": [
    "import torch\n",
    "import torch.nn as nn\n",
    "import torch.nn.functional as F"
   ]
  },
  {
   "cell_type": "code",
   "execution_count": 3,
   "metadata": {},
   "outputs": [],
   "source": [
    "import NegativeClassOptimization as ml"
   ]
  },
  {
   "cell_type": "code",
   "execution_count": 4,
   "metadata": {},
   "outputs": [],
   "source": [
    "import torch.optim as optim"
   ]
  },
  {
   "cell_type": "code",
   "execution_count": 5,
   "metadata": {},
   "outputs": [
    {
     "data": {
      "text/plain": [
       "['3VRL',\n",
       " '1NSN',\n",
       " '3RAJ',\n",
       " '5E94',\n",
       " '1H0D',\n",
       " '1WEJ',\n",
       " '1ADQ',\n",
       " '1FBI',\n",
       " '2YPV',\n",
       " '1OB1']"
      ]
     },
     "execution_count": 5,
     "metadata": {},
     "output_type": "execute_result"
    }
   ],
   "source": [
    "config.ANTIGENS"
   ]
  },
  {
   "cell_type": "code",
   "execution_count": 70,
   "metadata": {},
   "outputs": [
    {
     "data": {
      "text/html": [
       "<div>\n",
       "<style scoped>\n",
       "    .dataframe tbody tr th:only-of-type {\n",
       "        vertical-align: middle;\n",
       "    }\n",
       "\n",
       "    .dataframe tbody tr th {\n",
       "        vertical-align: top;\n",
       "    }\n",
       "\n",
       "    .dataframe thead th {\n",
       "        text-align: right;\n",
       "    }\n",
       "</style>\n",
       "<table border=\"1\" class=\"dataframe\">\n",
       "  <thead>\n",
       "    <tr style=\"text-align: right;\">\n",
       "      <th></th>\n",
       "      <th>acc</th>\n",
       "      <th>recall</th>\n",
       "      <th>precision</th>\n",
       "      <th>f1</th>\n",
       "      <th>train_task</th>\n",
       "      <th>train_ag</th>\n",
       "      <th>train_neg</th>\n",
       "      <th>seed_id</th>\n",
       "      <th>split_id</th>\n",
       "      <th>test_task</th>\n",
       "      <th>test_ag</th>\n",
       "      <th>test_neg</th>\n",
       "      <th>test_seed_id</th>\n",
       "      <th>test_split_id</th>\n",
       "    </tr>\n",
       "  </thead>\n",
       "  <tbody>\n",
       "    <tr>\n",
       "      <th>0</th>\n",
       "      <td>0.972986</td>\n",
       "      <td>0.975</td>\n",
       "      <td>0.971116</td>\n",
       "      <td>0.973054</td>\n",
       "      <td>ONE_VS_NINE</td>\n",
       "      <td>3VRL</td>\n",
       "      <td>auto</td>\n",
       "      <td>0</td>\n",
       "      <td>42</td>\n",
       "      <td>ONE_VS_NINE</td>\n",
       "      <td>3VRL</td>\n",
       "      <td>auto</td>\n",
       "      <td>0</td>\n",
       "      <td>42</td>\n",
       "    </tr>\n",
       "    <tr>\n",
       "      <th>1</th>\n",
       "      <td>0.987000</td>\n",
       "      <td>0.975</td>\n",
       "      <td>0.998975</td>\n",
       "      <td>0.986842</td>\n",
       "      <td>ONE_VS_NINE</td>\n",
       "      <td>3VRL</td>\n",
       "      <td>auto</td>\n",
       "      <td>0</td>\n",
       "      <td>42</td>\n",
       "      <td>HIGH_VS_95LOW</td>\n",
       "      <td>3VRL</td>\n",
       "      <td>auto</td>\n",
       "      <td>0</td>\n",
       "      <td>42</td>\n",
       "    </tr>\n",
       "    <tr>\n",
       "      <th>2</th>\n",
       "      <td>0.882900</td>\n",
       "      <td>0.975</td>\n",
       "      <td>0.823341</td>\n",
       "      <td>0.892775</td>\n",
       "      <td>ONE_VS_NINE</td>\n",
       "      <td>3VRL</td>\n",
       "      <td>auto</td>\n",
       "      <td>0</td>\n",
       "      <td>42</td>\n",
       "      <td>HIGH_VS_LOOSER</td>\n",
       "      <td>3VRL</td>\n",
       "      <td>auto</td>\n",
       "      <td>0</td>\n",
       "      <td>42</td>\n",
       "    </tr>\n",
       "    <tr>\n",
       "      <th>3</th>\n",
       "      <td>0.912356</td>\n",
       "      <td>0.998</td>\n",
       "      <td>0.852117</td>\n",
       "      <td>0.919307</td>\n",
       "      <td>HIGH_VS_95LOW</td>\n",
       "      <td>3VRL</td>\n",
       "      <td>auto</td>\n",
       "      <td>0</td>\n",
       "      <td>42</td>\n",
       "      <td>ONE_VS_NINE</td>\n",
       "      <td>3VRL</td>\n",
       "      <td>auto</td>\n",
       "      <td>0</td>\n",
       "      <td>42</td>\n",
       "    </tr>\n",
       "    <tr>\n",
       "      <th>4</th>\n",
       "      <td>0.996600</td>\n",
       "      <td>0.998</td>\n",
       "      <td>0.995213</td>\n",
       "      <td>0.996605</td>\n",
       "      <td>HIGH_VS_95LOW</td>\n",
       "      <td>3VRL</td>\n",
       "      <td>auto</td>\n",
       "      <td>0</td>\n",
       "      <td>42</td>\n",
       "      <td>HIGH_VS_95LOW</td>\n",
       "      <td>3VRL</td>\n",
       "      <td>auto</td>\n",
       "      <td>0</td>\n",
       "      <td>42</td>\n",
       "    </tr>\n",
       "  </tbody>\n",
       "</table>\n",
       "</div>"
      ],
      "text/plain": [
       "        acc  recall  precision        f1     train_task train_ag train_neg  \\\n",
       "0  0.972986   0.975   0.971116  0.973054    ONE_VS_NINE     3VRL      auto   \n",
       "1  0.987000   0.975   0.998975  0.986842    ONE_VS_NINE     3VRL      auto   \n",
       "2  0.882900   0.975   0.823341  0.892775    ONE_VS_NINE     3VRL      auto   \n",
       "3  0.912356   0.998   0.852117  0.919307  HIGH_VS_95LOW     3VRL      auto   \n",
       "4  0.996600   0.998   0.995213  0.996605  HIGH_VS_95LOW     3VRL      auto   \n",
       "\n",
       "  seed_id split_id       test_task test_ag test_neg test_seed_id test_split_id  \n",
       "0       0       42     ONE_VS_NINE    3VRL     auto            0            42  \n",
       "1       0       42   HIGH_VS_95LOW    3VRL     auto            0            42  \n",
       "2       0       42  HIGH_VS_LOOSER    3VRL     auto            0            42  \n",
       "3       0       42     ONE_VS_NINE    3VRL     auto            0            42  \n",
       "4       0       42   HIGH_VS_95LOW    3VRL     auto            0            42  "
      ]
     },
     "execution_count": 70,
     "metadata": {},
     "output_type": "execute_result"
    }
   ],
   "source": [
    "perf_df = pd.read_csv('../data/openset_performance.tsv', sep='\\t')\n",
    "perf_df[['train_task', 'train_ag', 'train_neg', 'seed_id', 'split_id']] = perf_df.task_1.str.split('__', expand=True)\n",
    "perf_df[['test_task', 'test_ag', 'test_neg', 'test_seed_id', 'test_split_id']] = perf_df.task_2.str.split('__', expand=True)\n",
    "perf_df.drop(['task_1', 'task_2'], inplace=True, axis=1)\n",
    "perf_df.head()"
   ]
  },
  {
   "cell_type": "code",
   "execution_count": 49,
   "metadata": {},
   "outputs": [],
   "source": [
    "#choosing the best model\n",
    "def get_best_model_seed_split(df, train_task, test_task, ag, metric):\n",
    "    task_df = df[df['train_task'] == train_task][df['test_task'] == test_task][df['train_ag'] == ag]\n",
    "    best_row = task_df[task_df['acc'] == task_df['acc'].max()]\n",
    "    seed_id = best_row['seed_id'].values[0]\n",
    "    split_id = best_row['split_id'].values[0]\n",
    "    return seed_id , split_id"
   ]
  },
  {
   "cell_type": "code",
   "execution_count": 68,
   "metadata": {},
   "outputs": [],
   "source": [
    "tasks = ['ONE_VS_NINE', 'HIGH_VS_95LOW', 'HIGH_VS_LOOSER']\n",
    "tasks_dict = {'ONE_VS_NINE': '1v9', 'HIGH_VS_95LOW': 'high_vs_95low', 'HIGH_VS_LOOSER': 'high_vs_looser'}\n",
    "task_template = {'ONE_VS_NINE': '{ag}__vs__9', 'HIGH_VS_95LOW': '{ag}_high__vs__{ag}_95low', 'HIGH_VS_LOOSER': '{ag}_high__vs__{ag}_looser'}"
   ]
  },
  {
   "cell_type": "code",
   "execution_count": 64,
   "metadata": {},
   "outputs": [
    {
     "name": "stderr",
     "output_type": "stream",
     "text": [
      "/var/folders/ww/bptfq9n12_jbyy78qcjp7s4c0000gn/T/ipykernel_12160/1323516425.py:3: UserWarning: Boolean Series key will be reindexed to match DataFrame index.\n",
      "  task_df = df[df['train_task'] == train_task][df['test_task'] == test_task][df['train_ag'] == ag]\n"
     ]
    }
   ],
   "source": [
    "ag = '3VRL'\n",
    "for task in tasks:\n",
    "    seed_id, split_id = get_best_model_seed_split(perf_df, task, task, ag, 'acc')\n",
    "    \n",
    "    model_path = f\"./torch_models/Frozen_MiniAbsolut_ML/{tasks_dict[task]}/seed_{seed_id}/split_{split_id}/{task_template[task].format(ag=ag)}/swa_model/data/model.pth\"\n",
    "    model = torch.load(model_path, map_location=torch.device('cpu'))\n",
    "    break"
   ]
  },
  {
   "cell_type": "code",
   "execution_count": 67,
   "metadata": {},
   "outputs": [
    {
     "data": {
      "text/plain": [
       "AveragedModel(\n",
       "  (module): SNN(\n",
       "    (flatten): Flatten(start_dim=1, end_dim=-1)\n",
       "    (linear_1): Linear(in_features=220, out_features=10, bias=True)\n",
       "    (activation): ReLU()\n",
       "    (linear_2): Linear(in_features=10, out_features=1, bias=True)\n",
       "    (final): Sigmoid()\n",
       "  )\n",
       ")"
      ]
     },
     "execution_count": 67,
     "metadata": {},
     "output_type": "execute_result"
    }
   ],
   "source": [
    "model"
   ]
  },
  {
   "cell_type": "code",
   "execution_count": 63,
   "metadata": {},
   "outputs": [],
   "source": [
    "#swa_model = optim.swa_utils.AveragedModel(model)\n"
   ]
  },
  {
   "cell_type": "code",
   "execution_count": 66,
   "metadata": {},
   "outputs": [
    {
     "data": {
      "text/plain": [
       "AveragedModel(\n",
       "  (module): AveragedModel(\n",
       "    (module): SNN(\n",
       "      (flatten): Flatten(start_dim=1, end_dim=-1)\n",
       "      (linear_1): Linear(in_features=220, out_features=10, bias=True)\n",
       "      (activation): ReLU()\n",
       "      (linear_2): Linear(in_features=10, out_features=1, bias=True)\n",
       "      (final): Sigmoid()\n",
       "    )\n",
       "  )\n",
       ")"
      ]
     },
     "execution_count": 66,
     "metadata": {},
     "output_type": "execute_result"
    }
   ],
   "source": [
    "swa_model"
   ]
  },
  {
   "cell_type": "code",
   "execution_count": null,
   "metadata": {},
   "outputs": [],
   "source": []
  }
 ],
 "metadata": {
  "kernelspec": {
   "display_name": "nco",
   "language": "python",
   "name": "python3"
  },
  "language_info": {
   "codemirror_mode": {
    "name": "ipython",
    "version": 3
   },
   "file_extension": ".py",
   "mimetype": "text/x-python",
   "name": "python",
   "nbconvert_exporter": "python",
   "pygments_lexer": "ipython3",
   "version": "3.8.13"
  },
  "orig_nbformat": 4
 },
 "nbformat": 4,
 "nbformat_minor": 2
}
