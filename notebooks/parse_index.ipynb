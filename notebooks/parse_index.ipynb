{
 "cells": [
  {
   "cell_type": "markdown",
   "id": "c4aef17c",
   "metadata": {},
   "source": [
    "### This notebook was created to download low binders of Absolut! dataset"
   ]
  },
  {
   "cell_type": "code",
   "execution_count": 1,
   "id": "5b1f5a71",
   "metadata": {},
   "outputs": [],
   "source": [
    "import re\n",
    "import NegativeClassOptimization.config as config"
   ]
  },
  {
   "cell_type": "code",
   "execution_count": 55,
   "id": "2c86e8b9",
   "metadata": {},
   "outputs": [],
   "source": [
    "folders = []\n",
    "with open(config.DATA_BASE_PATH / 'full_data/index.html', 'r') as infile:\n",
    "    for line in infile:\n",
    "        folder = re.search(r'href=\"(.+?)\"', line).group(1)\n",
    "        folders.append(folder)"
   ]
  },
  {
   "cell_type": "code",
   "execution_count": 57,
   "id": "f825c627",
   "metadata": {},
   "outputs": [],
   "source": [
    "allowed = ['3VRL', '1NSN', '3RAJ', '5E94', '1H0D', '1WEJ', '1ADQ', '1FBI', '2YPV', '1OB1']"
   ]
  },
  {
   "cell_type": "code",
   "execution_count": 60,
   "id": "438a3f18",
   "metadata": {},
   "outputs": [],
   "source": [
    "res = []\n",
    "for folder in folders:\n",
    "    for a in allowed:\n",
    "        if a in folder:\n",
    "            res.append(folder)"
   ]
  },
  {
   "cell_type": "code",
   "execution_count": 62,
   "id": "c6f18ffe",
   "metadata": {},
   "outputs": [
    {
     "name": "stdout",
     "output_type": "stream",
     "text": [
      "1ADQ_AAnalyses/ 1FBI_XAnalyses/ 1H0D_CAnalyses/ 1NSN_SAnalyses/ 1OB1_CAnalyses/ 1WEJ_FAnalyses/ 2YPV_AAnalyses/ 3RAJ_AAnalyses/ 3VRL_CAnalyses/ 5E94_GAnalyses/\n"
     ]
    }
   ],
   "source": [
    "print(' '.join(res))"
   ]
  }
 ],
 "metadata": {
  "kernelspec": {
   "display_name": "Python 3",
   "language": "python",
   "name": "python3"
  },
  "language_info": {
   "codemirror_mode": {
    "name": "ipython",
    "version": 3
   },
   "file_extension": ".py",
   "mimetype": "text/x-python",
   "name": "python",
   "nbconvert_exporter": "python",
   "pygments_lexer": "ipython3",
   "version": "3.7.8"
  }
 },
 "nbformat": 4,
 "nbformat_minor": 5
}
