{
 "cells": [
  {
   "cell_type": "code",
   "execution_count": 4,
   "id": "c5c52050-97d5-4d45-9d6c-bee5f8d04894",
   "metadata": {},
   "outputs": [],
   "source": [
    "DEFAULT_MODELS = {\n",
    "    \"logistic_default_model\": \"LogisticRegression\",\n",
    "    \"svm_default_model\": \"SVM\",\n",
    "    \"randomforest_default_model\": \"RandomForestClassifier\",\n",
    "}"
   ]
  },
  {
   "cell_type": "code",
   "execution_count": 5,
   "id": "ffaaadc8-4fc0-4e4c-b318-0fb898a3c7f0",
   "metadata": {},
   "outputs": [],
   "source": [
    "DEFAULT_MODELS['model_selection_cv'] = 'True'"
   ]
  },
  {
   "cell_type": "code",
   "execution_count": 6,
   "id": "709ba467-8e33-4ac9-a53d-2f0c2da9bcc3",
   "metadata": {},
   "outputs": [
    {
     "data": {
      "text/plain": [
       "{'logistic_default_model': 'LogisticRegression',\n",
       " 'svm_default_model': 'SVM',\n",
       " 'randomforest_default_model': 'RandomForestClassifier',\n",
       " 'model_selection_cv': True}"
      ]
     },
     "execution_count": 6,
     "metadata": {},
     "output_type": "execute_result"
    }
   ],
   "source": [
    "DEFAULT_MODELS"
   ]
  },
  {
   "cell_type": "code",
   "execution_count": null,
   "id": "c7d0a7da-65e9-4959-9ea3-edd3f81d3e63",
   "metadata": {},
   "outputs": [],
   "source": []
  }
 ],
 "metadata": {
  "kernelspec": {
   "display_name": "Python 3 (ipykernel)",
   "language": "python",
   "name": "python3"
  },
  "language_info": {
   "codemirror_mode": {
    "name": "ipython",
    "version": 3
   },
   "file_extension": ".py",
   "mimetype": "text/x-python",
   "name": "python",
   "nbconvert_exporter": "python",
   "pygments_lexer": "ipython3",
   "version": "3.9.9"
  }
 },
 "nbformat": 4,
 "nbformat_minor": 5
}
