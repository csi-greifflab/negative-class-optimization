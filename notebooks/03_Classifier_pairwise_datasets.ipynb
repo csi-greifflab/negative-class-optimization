{
 "cells": [
  {
   "cell_type": "markdown",
   "metadata": {},
   "source": [
    "# Train classifiers\n",
    "\n",
    "We develop classifiers fitting and evaluation workflow. We apply to the pairwise datasets."
   ]
  },
  {
   "cell_type": "code",
   "execution_count": 1,
   "metadata": {},
   "outputs": [],
   "source": [
    "from pathlib import Path\n",
    "import warnings\n",
    "import numpy as np\n",
    "import pandas as pd\n",
    "\n",
    "import NegativeClassOptimization.config as config\n",
    "import NegativeClassOptimization.datasets as datasets\n",
    "import NegativeClassOptimization.utils as utils"
   ]
  },
  {
   "cell_type": "code",
   "execution_count": 2,
   "metadata": {},
   "outputs": [
    {
     "data": {
      "text/html": [
       "<div>\n",
       "<style scoped>\n",
       "    .dataframe tbody tr th:only-of-type {\n",
       "        vertical-align: middle;\n",
       "    }\n",
       "\n",
       "    .dataframe tbody tr th {\n",
       "        vertical-align: top;\n",
       "    }\n",
       "\n",
       "    .dataframe thead th {\n",
       "        text-align: right;\n",
       "    }\n",
       "</style>\n",
       "<table border=\"1\" class=\"dataframe\">\n",
       "  <thead>\n",
       "    <tr style=\"text-align: right;\">\n",
       "      <th></th>\n",
       "      <th>ID_slide_Variant</th>\n",
       "      <th>CDR3</th>\n",
       "      <th>Best</th>\n",
       "      <th>Slide</th>\n",
       "      <th>Energy</th>\n",
       "      <th>Structure</th>\n",
       "      <th>UID</th>\n",
       "      <th>Antigen</th>\n",
       "    </tr>\n",
       "  </thead>\n",
       "  <tbody>\n",
       "    <tr>\n",
       "      <th>0</th>\n",
       "      <td>1873658_06a</td>\n",
       "      <td>CARPENLLLLLWYFDVW</td>\n",
       "      <td>True</td>\n",
       "      <td>LLLLLWYFDVW</td>\n",
       "      <td>-112.82</td>\n",
       "      <td>137442-BRDSLLUDLS</td>\n",
       "      <td>3VRL_1873658_06a</td>\n",
       "      <td>3VRL</td>\n",
       "    </tr>\n",
       "    <tr>\n",
       "      <th>1</th>\n",
       "      <td>7116990_04a</td>\n",
       "      <td>CARGLLLLLWYFDVW</td>\n",
       "      <td>True</td>\n",
       "      <td>LLLLLWYFDVW</td>\n",
       "      <td>-112.82</td>\n",
       "      <td>137442-BRDSLLUDLS</td>\n",
       "      <td>3VRL_7116990_04a</td>\n",
       "      <td>3VRL</td>\n",
       "    </tr>\n",
       "  </tbody>\n",
       "</table>\n",
       "</div>"
      ],
      "text/plain": [
       "  ID_slide_Variant               CDR3  Best        Slide  Energy  \\\n",
       "0      1873658_06a  CARPENLLLLLWYFDVW  True  LLLLLWYFDVW -112.82   \n",
       "1      7116990_04a    CARGLLLLLWYFDVW  True  LLLLLWYFDVW -112.82   \n",
       "\n",
       "           Structure               UID Antigen  \n",
       "0  137442-BRDSLLUDLS  3VRL_1873658_06a    3VRL  \n",
       "1  137442-BRDSLLUDLS  3VRL_7116990_04a    3VRL  "
      ]
     },
     "execution_count": 2,
     "metadata": {},
     "output_type": "execute_result"
    }
   ],
   "source": [
    "df_global = pd.read_csv(config.DATA_SLACK_1_GLOBAL, sep='\\t')\n",
    "df_global.head(2)"
   ]
  },
  {
   "cell_type": "markdown",
   "metadata": {},
   "source": [
    "## Toy dataset"
   ]
  },
  {
   "cell_type": "code",
   "execution_count": 6,
   "metadata": {},
   "outputs": [
    {
     "name": "stderr",
     "output_type": "stream",
     "text": [
      "/data/sources/ab-negative-training/datasets.py:172: UserWarning: Removing rare CDR3 lengths: 48 rows from (140000, 9)\n",
      "  warnings.warn(f\"Removing rare CDR3 lengths: {sum(small_len_mask)} rows from {df.shape}\")\n"
     ]
    },
    {
     "data": {
      "text/html": [
       "<div>\n",
       "<style scoped>\n",
       "    .dataframe tbody tr th:only-of-type {\n",
       "        vertical-align: middle;\n",
       "    }\n",
       "\n",
       "    .dataframe tbody tr th {\n",
       "        vertical-align: top;\n",
       "    }\n",
       "\n",
       "    .dataframe thead th {\n",
       "        text-align: right;\n",
       "    }\n",
       "</style>\n",
       "<table border=\"1\" class=\"dataframe\">\n",
       "  <thead>\n",
       "    <tr style=\"text-align: right;\">\n",
       "      <th></th>\n",
       "      <th>ID_slide_Variant</th>\n",
       "      <th>CDR3</th>\n",
       "      <th>Best</th>\n",
       "      <th>Slide</th>\n",
       "      <th>Energy</th>\n",
       "      <th>Structure</th>\n",
       "      <th>UID</th>\n",
       "      <th>Antigen</th>\n",
       "      <th>binder</th>\n",
       "    </tr>\n",
       "  </thead>\n",
       "  <tbody>\n",
       "    <tr>\n",
       "      <th>466730</th>\n",
       "      <td>2530497_02a</td>\n",
       "      <td>CARLILYGPHYAMDYW</td>\n",
       "      <td>True</td>\n",
       "      <td>RLILYGPHYAM</td>\n",
       "      <td>-95.12</td>\n",
       "      <td>128868-LSRRLLSUSU</td>\n",
       "      <td>1ADQ_2530497_02a</td>\n",
       "      <td>1ADQ</td>\n",
       "      <td>True</td>\n",
       "    </tr>\n",
       "    <tr>\n",
       "      <th>468393</th>\n",
       "      <td>7250649_03a</td>\n",
       "      <td>CARLNLRYPAWFAYW</td>\n",
       "      <td>True</td>\n",
       "      <td>LNLRYPAWFAY</td>\n",
       "      <td>-95.04</td>\n",
       "      <td>137190-LDSDSLLRRS</td>\n",
       "      <td>1ADQ_7250649_03a</td>\n",
       "      <td>1ADQ</td>\n",
       "      <td>True</td>\n",
       "    </tr>\n",
       "  </tbody>\n",
       "</table>\n",
       "</div>"
      ],
      "text/plain": [
       "       ID_slide_Variant              CDR3  Best        Slide  Energy  \\\n",
       "466730      2530497_02a  CARLILYGPHYAMDYW  True  RLILYGPHYAM  -95.12   \n",
       "468393      7250649_03a   CARLNLRYPAWFAYW  True  LNLRYPAWFAY  -95.04   \n",
       "\n",
       "                Structure               UID Antigen  binder  \n",
       "466730  128868-LSRRLLSUSU  1ADQ_2530497_02a    1ADQ    True  \n",
       "468393  137190-LDSDSLLRRS  1ADQ_7250649_03a    1ADQ    True  "
      ]
     },
     "execution_count": 6,
     "metadata": {},
     "output_type": "execute_result"
    }
   ],
   "source": [
    "ag1 = '1ADQ'\n",
    "ag2 = '1FBI'\n",
    "N = 140000\n",
    "df = datasets.generate_pairwise_dataset(df_global, ag1, ag2, N)\n",
    "df.head(2)"
   ]
  },
  {
   "cell_type": "markdown",
   "metadata": {},
   "source": [
    "## Generate all pairwise datasets\n",
    "\n",
    "`script_03_build_pairwise_datasets.py`"
   ]
  },
  {
   "cell_type": "code",
   "execution_count": null,
   "metadata": {},
   "outputs": [],
   "source": []
  }
 ],
 "metadata": {
  "interpreter": {
   "hash": "a66fbe740016efe90d6139b67c84a560168f2532ea3e3d46e49051f459208991"
  },
  "kernelspec": {
   "display_name": "Python 3.8.13 ('ab-negative-training')",
   "language": "python",
   "name": "python3"
  },
  "language_info": {
   "codemirror_mode": {
    "name": "ipython",
    "version": 3
   },
   "file_extension": ".py",
   "mimetype": "text/x-python",
   "name": "python",
   "nbconvert_exporter": "python",
   "pygments_lexer": "ipython3",
   "version": "3.8.13"
  },
  "orig_nbformat": 4
 },
 "nbformat": 4,
 "nbformat_minor": 2
}
