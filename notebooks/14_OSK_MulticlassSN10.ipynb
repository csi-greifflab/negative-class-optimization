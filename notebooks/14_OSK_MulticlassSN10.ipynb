{
 "cells": [
  {
   "cell_type": "markdown",
   "metadata": {},
   "source": [
    "# MulticlassSN10 development"
   ]
  },
  {
   "cell_type": "code",
   "execution_count": 1,
   "metadata": {},
   "outputs": [
    {
     "name": "stderr",
     "output_type": "stream",
     "text": [
      "/home/eugen/miniconda3/envs/nco/lib/python3.8/site-packages/tqdm/auto.py:22: TqdmWarning: IProgress not found. Please update jupyter and ipywidgets. See https://ipywidgets.readthedocs.io/en/stable/user_install.html\n",
      "  from .autonotebook import tqdm as notebook_tqdm\n"
     ]
    }
   ],
   "source": [
    "from pathlib import Path\n",
    "import re\n",
    "from typing import List\n",
    "import json\n",
    "import numpy as np\n",
    "import pandas as pd\n",
    "# import dovpanda\n",
    "import matplotlib.pyplot as plt\n",
    "import seaborn as sns\n",
    "import torch\n",
    "import torch.nn as nn\n",
    "from torch.utils.data import DataLoader\n",
    "# import mlflow\n",
    "\n",
    "from sklearn.preprocessing import StandardScaler\n",
    "from sklearn.preprocessing import LabelEncoder\n",
    "\n",
    "import NegativeClassOptimization.config as config\n",
    "import NegativeClassOptimization.utils as utils\n",
    "import NegativeClassOptimization.datasets as datasets\n",
    "import NegativeClassOptimization.preprocessing as preprocessing\n",
    "import NegativeClassOptimization.ml as ml"
   ]
  },
  {
   "cell_type": "code",
   "execution_count": 2,
   "metadata": {},
   "outputs": [],
   "source": [
    "N = 100\n",
    "NUM_CLASSES = 6"
   ]
  },
  {
   "cell_type": "markdown",
   "metadata": {},
   "source": [
    "Define the dataset"
   ]
  },
  {
   "cell_type": "code",
   "execution_count": 3,
   "metadata": {},
   "outputs": [
    {
     "name": "stdout",
     "output_type": "stream",
     "text": [
      "df.columns=Index(['Unnamed: 0.1', 'Unnamed: 0', 'ID_slide_Variant', 'CDR3', 'Best',\n",
      "       'Slide', 'Energy', 'Structure', 'UID', 'Antigen',\n",
      "       'Slide_farmhash_mod_10'],\n",
      "      dtype='object')\n"
     ]
    },
    {
     "data": {
      "text/html": [
       "<div>\n",
       "<style scoped>\n",
       "    .dataframe tbody tr th:only-of-type {\n",
       "        vertical-align: middle;\n",
       "    }\n",
       "\n",
       "    .dataframe tbody tr th {\n",
       "        vertical-align: top;\n",
       "    }\n",
       "\n",
       "    .dataframe thead th {\n",
       "        text-align: right;\n",
       "    }\n",
       "</style>\n",
       "<table border=\"1\" class=\"dataframe\">\n",
       "  <thead>\n",
       "    <tr style=\"text-align: right;\">\n",
       "      <th></th>\n",
       "      <th>X</th>\n",
       "      <th>y</th>\n",
       "    </tr>\n",
       "  </thead>\n",
       "  <tbody>\n",
       "    <tr>\n",
       "      <th>0</th>\n",
       "      <td>[-0.4034732923929644, -0.6081636405595369, 0.0...</td>\n",
       "      <td>0</td>\n",
       "    </tr>\n",
       "    <tr>\n",
       "      <th>1</th>\n",
       "      <td>[-0.4034732923929644, -0.6081636405595369, 0.0...</td>\n",
       "      <td>4</td>\n",
       "    </tr>\n",
       "    <tr>\n",
       "      <th>2</th>\n",
       "      <td>[-0.4034732923929644, -0.6081636405595369, 0.0...</td>\n",
       "      <td>5</td>\n",
       "    </tr>\n",
       "  </tbody>\n",
       "</table>\n",
       "</div>"
      ],
      "text/plain": [
       "                                                   X  y\n",
       "0  [-0.4034732923929644, -0.6081636405595369, 0.0...  0\n",
       "1  [-0.4034732923929644, -0.6081636405595369, 0.0...  4\n",
       "2  [-0.4034732923929644, -0.6081636405595369, 0.0...  5"
      ]
     },
     "execution_count": 3,
     "metadata": {},
     "output_type": "execute_result"
    }
   ],
   "source": [
    "dfs = utils.load_processed_dataframes()\n",
    "df = dfs[\"train_val\"].sample(N).reset_index(drop=True)\n",
    "print(f\"{df.columns=}\")\n",
    "\n",
    "df = preprocessing.onehot_encode_df(df)\n",
    "arr = preprocessing.arr_from_list_series(df[\"Slide_onehot\"])\n",
    "arr = StandardScaler().fit_transform(arr)\n",
    "\n",
    "antigens = df[\"Antigen\"].unique().tolist()\n",
    "encoder = LabelEncoder().fit(antigens)\n",
    "\n",
    "df[\"X\"] = arr.tolist()\n",
    "df[\"y\"] = encoder.transform(df[\"Antigen\"])\n",
    "\n",
    "df[[\"X\", \"y\"]].head(3)"
   ]
  },
  {
   "cell_type": "code",
   "execution_count": 4,
   "metadata": {},
   "outputs": [],
   "source": [
    "dataset = datasets.MulticlassDataset(df[[\"X\", \"y\"]])\n",
    "\n",
    "loader = DataLoader(\n",
    "    dataset=dataset,\n",
    "    batch_size=10,\n",
    "    shuffle=False,\n",
    ")"
   ]
  },
  {
   "cell_type": "markdown",
   "metadata": {},
   "source": [
    "Define the model"
   ]
  },
  {
   "cell_type": "code",
   "execution_count": 5,
   "metadata": {},
   "outputs": [
    {
     "name": "stdout",
     "output_type": "stream",
     "text": [
      "y_pred.shape=torch.Size([100, 6])\n",
      "y_true.shape=torch.Size([100])\n",
      "loss=tensor(1.8505, grad_fn=<NllLossBackward0>)\n"
     ]
    }
   ],
   "source": [
    "model = ml.MulticlassSN10(num_classes=NUM_CLASSES)\n",
    "y_pred = model.forward(torch.Tensor(df[\"X\"]))\n",
    "print(f\"{y_pred.shape=}\")\n",
    "\n",
    "y_true = torch.Tensor(df[\"y\"]).type(torch.long)\n",
    "print(f\"{y_true.shape=}\")\n",
    "\n",
    "loss = nn.CrossEntropyLoss()(y_pred, y_true)\n",
    "print(f\"{loss=}\")"
   ]
  },
  {
   "cell_type": "markdown",
   "metadata": {},
   "source": [
    "Train"
   ]
  },
  {
   "cell_type": "code",
   "execution_count": 6,
   "metadata": {},
   "outputs": [
    {
     "name": "stdout",
     "output_type": "stream",
     "text": [
      "Epoch 1\n",
      "-------------------------------\n",
      "loss: 1.821280  [    0/  100]\n",
      "Epoch 2\n",
      "-------------------------------\n",
      "loss: 1.376157  [    0/  100]\n",
      "Epoch 3\n",
      "-------------------------------\n",
      "loss: 0.914777  [    0/  100]\n",
      "Epoch 4\n",
      "-------------------------------\n",
      "loss: 0.506919  [    0/  100]\n",
      "Epoch 5\n",
      "-------------------------------\n",
      "loss: 0.251449  [    0/  100]\n",
      "Epoch 6\n",
      "-------------------------------\n",
      "loss: 0.125682  [    0/  100]\n",
      "Epoch 7\n",
      "-------------------------------\n",
      "loss: 0.063118  [    0/  100]\n",
      "Epoch 8\n",
      "-------------------------------\n",
      "loss: 0.036617  [    0/  100]\n",
      "Epoch 9\n",
      "-------------------------------\n",
      "loss: 0.023833  [    0/  100]\n",
      "Epoch 10\n",
      "-------------------------------\n",
      "loss: 0.016755  [    0/  100]\n"
     ]
    }
   ],
   "source": [
    "loss_fn = nn.CrossEntropyLoss()\n",
    "optimizer = ml.construct_optimizer(\n",
    "    optimizer_type=\"Adam\",\n",
    "    learning_rate=0.01,\n",
    "    momentum=0.9,\n",
    "    weight_decay=0,\n",
    "    model=model,\n",
    ")\n",
    "\n",
    "for t in range(10):\n",
    "    print(f\"Epoch {t+1}\\n-------------------------------\")\n",
    "    losses = ml.train_loop(loader, model, loss_fn, optimizer)"
   ]
  },
  {
   "cell_type": "code",
   "execution_count": null,
   "metadata": {},
   "outputs": [],
   "source": []
  }
 ],
 "metadata": {
  "kernelspec": {
   "display_name": "Python 3.8.13 ('nco')",
   "language": "python",
   "name": "python3"
  },
  "language_info": {
   "codemirror_mode": {
    "name": "ipython",
    "version": 3
   },
   "file_extension": ".py",
   "mimetype": "text/x-python",
   "name": "python",
   "nbconvert_exporter": "python",
   "pygments_lexer": "ipython3",
   "version": "3.8.13"
  },
  "orig_nbformat": 4,
  "vscode": {
   "interpreter": {
    "hash": "3ec5334dbdc4a6f7f47854c251e8d2556e95e85daa09db51a6f2bda295b96836"
   }
  }
 },
 "nbformat": 4,
 "nbformat_minor": 2
}
