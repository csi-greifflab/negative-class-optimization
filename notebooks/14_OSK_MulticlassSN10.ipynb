{
 "cells": [
  {
   "cell_type": "markdown",
   "metadata": {},
   "source": [
    "# MulticlassSN10 development"
   ]
  },
  {
   "cell_type": "code",
   "execution_count": 1,
   "metadata": {},
   "outputs": [
    {
     "name": "stderr",
     "output_type": "stream",
     "text": [
      "/home/eugen/miniconda3/envs/nco/lib/python3.8/site-packages/tqdm/auto.py:22: TqdmWarning: IProgress not found. Please update jupyter and ipywidgets. See https://ipywidgets.readthedocs.io/en/stable/user_install.html\n",
      "  from .autonotebook import tqdm as notebook_tqdm\n"
     ]
    }
   ],
   "source": [
    "from pathlib import Path\n",
    "import re\n",
    "from typing import List\n",
    "import json\n",
    "import numpy as np\n",
    "import pandas as pd\n",
    "# import dovpanda\n",
    "import matplotlib.pyplot as plt\n",
    "import seaborn as sns\n",
    "import torch\n",
    "import torch.nn as nn\n",
    "from torch.utils.data import DataLoader\n",
    "# import mlflow\n",
    "\n",
    "from sklearn.preprocessing import StandardScaler\n",
    "from sklearn.preprocessing import LabelEncoder\n",
    "from sklearn import metrics\n",
    "\n",
    "import NegativeClassOptimization.config as config\n",
    "import NegativeClassOptimization.utils as utils\n",
    "import NegativeClassOptimization.datasets as datasets\n",
    "import NegativeClassOptimization.preprocessing as preprocessing\n",
    "import NegativeClassOptimization.ml as ml"
   ]
  },
  {
   "cell_type": "code",
   "execution_count": 2,
   "metadata": {},
   "outputs": [],
   "source": [
    "N = 100\n",
    "NUM_CLASSES = 6"
   ]
  },
  {
   "cell_type": "markdown",
   "metadata": {},
   "source": [
    "Define the dataset"
   ]
  },
  {
   "cell_type": "code",
   "execution_count": 3,
   "metadata": {},
   "outputs": [
    {
     "name": "stdout",
     "output_type": "stream",
     "text": [
      "df.columns=Index(['Unnamed: 0.1', 'Unnamed: 0', 'ID_slide_Variant', 'CDR3', 'Best',\n",
      "       'Slide', 'Energy', 'Structure', 'UID', 'Antigen',\n",
      "       'Slide_farmhash_mod_10'],\n",
      "      dtype='object')\n"
     ]
    },
    {
     "data": {
      "text/html": [
       "<div>\n",
       "<style scoped>\n",
       "    .dataframe tbody tr th:only-of-type {\n",
       "        vertical-align: middle;\n",
       "    }\n",
       "\n",
       "    .dataframe tbody tr th {\n",
       "        vertical-align: top;\n",
       "    }\n",
       "\n",
       "    .dataframe thead th {\n",
       "        text-align: right;\n",
       "    }\n",
       "</style>\n",
       "<table border=\"1\" class=\"dataframe\">\n",
       "  <thead>\n",
       "    <tr style=\"text-align: right;\">\n",
       "      <th></th>\n",
       "      <th>X</th>\n",
       "      <th>y</th>\n",
       "    </tr>\n",
       "  </thead>\n",
       "  <tbody>\n",
       "    <tr>\n",
       "      <th>0</th>\n",
       "      <td>[2.7080128015453186, -0.5619514869490159, 0.0,...</td>\n",
       "      <td>1</td>\n",
       "    </tr>\n",
       "    <tr>\n",
       "      <th>1</th>\n",
       "      <td>[-0.369274472937998, 1.779513042005217, 0.0, -...</td>\n",
       "      <td>3</td>\n",
       "    </tr>\n",
       "    <tr>\n",
       "      <th>2</th>\n",
       "      <td>[-0.369274472937998, -0.5619514869490159, 0.0,...</td>\n",
       "      <td>2</td>\n",
       "    </tr>\n",
       "  </tbody>\n",
       "</table>\n",
       "</div>"
      ],
      "text/plain": [
       "                                                   X  y\n",
       "0  [2.7080128015453186, -0.5619514869490159, 0.0,...  1\n",
       "1  [-0.369274472937998, 1.779513042005217, 0.0, -...  3\n",
       "2  [-0.369274472937998, -0.5619514869490159, 0.0,...  2"
      ]
     },
     "execution_count": 3,
     "metadata": {},
     "output_type": "execute_result"
    }
   ],
   "source": [
    "# TODO: Add a label - Ag map! To log with mlflow later.\n",
    "\n",
    "dfs = utils.load_processed_dataframes()\n",
    "df = dfs[\"train_val\"].sample(N).reset_index(drop=True)\n",
    "print(f\"{df.columns=}\")\n",
    "\n",
    "df = preprocessing.onehot_encode_df(df)\n",
    "\n",
    "arr = preprocessing.arr_from_list_series(df[\"Slide_onehot\"])\n",
    "scaler = StandardScaler()\n",
    "scaler.fit(arr)\n",
    "arr = scaler.transform(arr)\n",
    "# TODO: note scaling leaks to test set\n",
    "\n",
    "antigens = df[\"Antigen\"].unique().tolist()\n",
    "encoder = LabelEncoder().fit(antigens)\n",
    "\n",
    "df[\"X\"] = arr.tolist()\n",
    "df[\"y\"] = encoder.transform(df[\"Antigen\"])\n",
    "\n",
    "df[[\"X\", \"y\"]].head(3)"
   ]
  },
  {
   "cell_type": "code",
   "execution_count": 4,
   "metadata": {},
   "outputs": [],
   "source": [
    "def construct_dataset_loader(df: pd.DataFrame):\n",
    "    dataset = datasets.MulticlassDataset(df)\n",
    "    loader = DataLoader(\n",
    "        dataset=dataset,\n",
    "        batch_size=10,\n",
    "        shuffle=False,\n",
    "    )\n",
    "    return dataset, loader    \n",
    "\n",
    "\n",
    "df_train = df[[\"X\", \"y\"]].sample(int(0.7*N))\n",
    "df_test = df.loc[~df.index.isin(df_train.index)].copy()\n",
    "\n",
    "train_dataset, train_loader = construct_dataset_loader(df_train.reset_index(drop=True))\n",
    "test_dataset, test_loader = construct_dataset_loader(df_test.reset_index(drop=True))\n",
    "open_dataset, open_loader = preprocessing.construct_open_dataset_loader(\n",
    "    dfs[\"test_open_exclusive\"].sample(int(N*4)).reset_index(drop=True),\n",
    "    batch_size=10,\n",
    "    scaler=scaler\n",
    ")"
   ]
  },
  {
   "cell_type": "markdown",
   "metadata": {},
   "source": [
    "Define the model"
   ]
  },
  {
   "cell_type": "code",
   "execution_count": 5,
   "metadata": {},
   "outputs": [
    {
     "name": "stdout",
     "output_type": "stream",
     "text": [
      "y_pred.shape=torch.Size([100, 6])\n",
      "y_true.shape=torch.Size([100])\n",
      "loss=tensor(1.8176, grad_fn=<NllLossBackward0>)\n"
     ]
    }
   ],
   "source": [
    "model = ml.MulticlassSN10(num_classes=NUM_CLASSES)\n",
    "y_pred = model.forward(torch.Tensor(df[\"X\"]))\n",
    "print(f\"{y_pred.shape=}\")\n",
    "\n",
    "y_true = torch.Tensor(df[\"y\"]).type(torch.long)\n",
    "print(f\"{y_true.shape=}\")\n",
    "\n",
    "loss = nn.CrossEntropyLoss()(y_pred, y_true)\n",
    "print(f\"{loss=}\")"
   ]
  },
  {
   "cell_type": "markdown",
   "metadata": {},
   "source": [
    "Train"
   ]
  },
  {
   "cell_type": "code",
   "execution_count": 6,
   "metadata": {},
   "outputs": [
    {
     "name": "stdout",
     "output_type": "stream",
     "text": [
      "Epoch 1\n",
      "-------------------------------\n",
      "loss: 1.836646  [    0/   70]\n",
      "Epoch 2\n",
      "-------------------------------\n",
      "loss: 1.333343  [    0/   70]\n",
      "Epoch 3\n",
      "-------------------------------\n",
      "loss: 1.039355  [    0/   70]\n",
      "Epoch 4\n",
      "-------------------------------\n",
      "loss: 0.753531  [    0/   70]\n",
      "Epoch 5\n",
      "-------------------------------\n",
      "loss: 0.530035  [    0/   70]\n",
      "Epoch 6\n",
      "-------------------------------\n",
      "loss: 0.392182  [    0/   70]\n",
      "Epoch 7\n",
      "-------------------------------\n",
      "loss: 0.295859  [    0/   70]\n",
      "Epoch 8\n",
      "-------------------------------\n",
      "loss: 0.213415  [    0/   70]\n",
      "Epoch 9\n",
      "-------------------------------\n",
      "loss: 0.157795  [    0/   70]\n",
      "Epoch 10\n",
      "-------------------------------\n",
      "loss: 0.116125  [    0/   70]\n"
     ]
    }
   ],
   "source": [
    "# TODO: add online metrics\n",
    "\n",
    "loss_fn = nn.CrossEntropyLoss()\n",
    "optimizer = ml.construct_optimizer(\n",
    "    optimizer_type=\"Adam\",\n",
    "    learning_rate=0.01,\n",
    "    momentum=0.9,\n",
    "    weight_decay=0,\n",
    "    model=model,\n",
    ")\n",
    "\n",
    "online_metrics_per_epoch = []\n",
    "for t in range(10):\n",
    "    print(f\"Epoch {t+1}\\n-------------------------------\")\n",
    "    losses = ml.train_loop(train_loader, model, loss_fn, optimizer)\n",
    "    # TODO: test_metrics = ml.test_loop(test_loader, model, loss_fn)\n",
    "    # TODO: open_metrics = ml.openset_loop(open_loader, test_loader, model)\n",
    "    online_metrics_per_epoch.append({\n",
    "            \"train_losses\": losses,\n",
    "            # \"test_metrics\": test_metrics,\n",
    "            # \"open_metrics\": open_metrics,\n",
    "        })"
   ]
  },
  {
   "cell_type": "markdown",
   "metadata": {},
   "source": [
    "Metrics:\n",
    "- one vs rest (OVR) approach is preferred -- done\n",
    "- F1 -- done\n",
    "- ROC PR\n",
    "    - average precision only for multilabel and binary, not multiclass problems.\n",
    "- Kohen's kappa\n",
    "    - Not relevant for us: The function cohen_kappa_score computes Cohen’s kappa statistic. This measure is intended to compare labelings by different human annotators, not a classifier versus a ground truth.\n",
    "- MCC -- done\n",
    "- confusion matrix -- done\n",
    "- classification_report -- done\n",
    "\n",
    "sklearn has the metrics that are required."
   ]
  },
  {
   "cell_type": "code",
   "execution_count": 7,
   "metadata": {},
   "outputs": [
    {
     "data": {
      "text/plain": [
       "{'acc_closed': 0.4,\n",
       " 'acc_balanced_closed': 0.3972222222222222,\n",
       " 'precision_macro_closed': 0.37777777777777777,\n",
       " 'precision_None_closed': array([0.33333333, 0.5       , 0.6       , 0.33333333, 0.5       ,\n",
       "        0.        ]),\n",
       " 'precision_micro_closed': 0.4,\n",
       " 'precision_weighted_closed': 0.43333333333333335,\n",
       " 'recall_macro_closed': 0.3972222222222222,\n",
       " 'recall_None_closed': array([0.33333333, 0.75      , 0.3       , 0.5       , 0.5       ,\n",
       "        0.        ]),\n",
       " 'recall_micro_closed': 0.4,\n",
       " 'recall_weighted_closed': 0.4,\n",
       " 'f1_macro_closed': 0.37222222222222223,\n",
       " 'f1_None_closed': array([0.33333333, 0.6       , 0.4       , 0.4       , 0.5       ,\n",
       "        0.        ]),\n",
       " 'f1_micro_closed': 0.4000000000000001,\n",
       " 'f1_weighted_closed': 0.39333333333333337,\n",
       " 'roc_auc_macro_closed': 0.6732237258626149,\n",
       " 'roc_auc_None_closed': array([0.75308642, 0.75      , 0.58      , 0.60416667, 0.67307692,\n",
       "        0.67901235]),\n",
       " 'roc_auc_weighted_closed': 0.6471201329534664,\n",
       " 'confusion_matrix_normed_closed': array([[1, 0, 0, 2, 0, 0],\n",
       "        [0, 3, 1, 0, 0, 0],\n",
       "        [0, 0, 3, 4, 1, 2],\n",
       "        [0, 2, 0, 3, 1, 0],\n",
       "        [0, 1, 0, 0, 2, 1],\n",
       "        [2, 0, 1, 0, 0, 0]]),\n",
       " 'mcc_closed': 0.2753891345881046}"
      ]
     },
     "execution_count": 7,
     "metadata": {},
     "output_type": "execute_result"
    }
   ],
   "source": [
    "# TODO: add this as separate func\n",
    "x_test, y_test = list(DataLoader(test_loader.dataset, batch_size=len(test_loader.dataset)))[0]\n",
    "\n",
    "# fetch avg loss from the other func\n",
    "# TODO\n",
    "\n",
    "# ~ multiclass version of compute_metrics_closed_testset \n",
    "y_test_pred_logits = model.forward(x_test).detach().numpy()\n",
    "y_test_pred_prob = model.forward_prob(x_test).detach().numpy()\n",
    "y_test_pred = y_test_pred_prob.argmax(axis=1)\n",
    "metrics_closed = {\n",
    "    \"acc_closed\": metrics.accuracy_score(y_test, y_test_pred),\n",
    "    \"acc_balanced_closed\": metrics.balanced_accuracy_score(y_test, y_test_pred),\n",
    "\n",
    "    **{\n",
    "        f\"{str(func).split(' ')[1].split('_')[0]}_{str(avg_type)}_closed\": func(\n",
    "            y_test, \n",
    "            y_test_pred, \n",
    "            average=avg_type\n",
    "            )\n",
    "        for func in {\n",
    "            metrics.f1_score, \n",
    "            metrics.precision_score, \n",
    "            metrics.recall_score,\n",
    "            }\n",
    "        for avg_type in {\"micro\", \"macro\", \"weighted\", None}\n",
    "    },\n",
    "\n",
    "    **{\n",
    "        f\"roc_auc_{avg_type}_closed\": metrics.roc_auc_score(\n",
    "            y_test, \n",
    "            y_test_pred_prob, \n",
    "            average=avg_type,\n",
    "            multi_class=\"ovr\",\n",
    "            )\n",
    "        for avg_type in {\"macro\", \"weighted\", None}\n",
    "    },\n",
    "\n",
    "    \"confusion_matrix_normed_closed\": metrics.confusion_matrix(y_test, y_test_pred),\n",
    "    \"mcc_closed\": metrics.matthews_corrcoef(y_test, y_test_pred),\n",
    "}\n",
    "metrics_closed"
   ]
  },
  {
   "cell_type": "markdown",
   "metadata": {},
   "source": [
    "Open set classification with MulticlassSN10\n"
   ]
  },
  {
   "cell_type": "code",
   "execution_count": 8,
   "metadata": {},
   "outputs": [
    {
     "data": {
      "text/plain": [
       "{'y_open_abs_logits': array([ 7.7658906 ,  2.9532835 ,  4.976025  ,  4.478628  ,  9.444641  ,\n",
       "         5.497519  ,  7.874886  ,  3.7259028 , 11.247861  ,  3.5865455 ,\n",
       "         4.5035605 ,  7.6758976 ,  5.2317    ,  7.5456924 ,  5.88175   ,\n",
       "         2.0042155 ,  2.0973265 ,  7.4185996 ,  2.3344343 ,  4.7991667 ,\n",
       "         4.942945  ,  6.5602903 ,  6.0855665 ,  4.829858  ,  5.2253785 ,\n",
       "         2.0330408 ,  8.030176  , 12.104701  ,  2.6740243 ,  7.661266  ,\n",
       "        10.621866  ,  6.4732823 ,  5.6479206 ,  7.658215  ,  4.3780704 ,\n",
       "         4.7537026 ,  0.9162084 ,  0.7004853 ,  5.2071652 ,  5.5698614 ,\n",
       "         0.31472105,  3.938212  ,  2.2066534 ,  4.0672417 ,  3.2885985 ,\n",
       "         5.0227027 ,  0.31472105,  7.794289  ,  1.5533086 ,  8.166443  ,\n",
       "         3.9138649 ,  1.7389042 ,  5.8340364 ,  3.7881293 ,  0.31472105,\n",
       "         2.8489811 ,  2.762638  ,  8.4917755 ,  1.9729731 ,  4.6065593 ,\n",
       "         2.3307638 ,  0.8617852 ,  1.0491167 ,  5.6307735 ,  5.9122725 ,\n",
       "         4.1359434 ,  5.9850607 ,  6.119769  ,  3.980451  ,  4.518383  ,\n",
       "         2.3826692 ,  4.2454042 ,  2.9419684 ,  4.68097   ,  5.1131406 ,\n",
       "         4.4828925 ,  4.793491  ,  6.3100696 ,  3.2586153 ,  5.5400586 ,\n",
       "         1.7407923 ,  8.579133  ,  3.1753993 ,  5.705331  ,  4.9007053 ,\n",
       "        10.619054  ,  4.120624  ,  3.0027654 ,  3.3437076 ,  4.266607  ,\n",
       "         3.8031511 ,  2.2213104 ,  3.631929  ,  3.5582044 ,  7.7526064 ,\n",
       "         1.8940315 ,  5.1028514 ,  3.247713  , 10.065185  ,  0.32436886,\n",
       "         2.7790558 ,  3.7424972 ,  3.5263386 ,  4.96468   ,  5.026426  ,\n",
       "         1.9904095 ,  8.036139  ,  4.091402  ,  5.8317256 ,  5.4685163 ,\n",
       "         2.2185671 ,  2.441023  ,  2.5394268 ,  4.850739  ,  4.6631546 ,\n",
       "         5.1420703 ,  4.4782753 ,  7.156523  ,  1.955008  ,  3.8489876 ,\n",
       "         1.1631857 ,  4.4572144 ,  8.459236  ,  8.427159  ,  1.6893609 ,\n",
       "         4.075266  ,  4.7655053 ,  1.2712458 ,  5.06689   ,  1.1078088 ,\n",
       "         5.3606734 ,  5.258548  ,  4.3308744 ,  5.568643  ,  5.449423  ,\n",
       "         5.236147  ,  0.31446335,  3.781371  ,  3.1535974 ,  6.205126  ,\n",
       "         8.175904  ,  6.5100417 ,  3.572625  ,  3.9820094 ,  5.612913  ,\n",
       "         4.436184  ,  5.8721604 ,  2.62265   ,  4.9955683 ,  6.8179684 ,\n",
       "         1.9874445 ,  5.168388  ,  4.3195205 ,  3.7850728 ,  1.532674  ,\n",
       "         1.8834649 ,  7.5226398 ,  1.2585255 ,  8.467685  ,  0.8456918 ,\n",
       "         4.4036775 ,  6.9557705 ,  4.720726  ,  5.873669  ,  1.021051  ,\n",
       "         8.880217  ,  5.5569105 ,  3.6418061 ,  4.4614153 ,  8.260757  ,\n",
       "         1.9161291 ,  2.964591  ,  4.038477  ,  3.8707726 ,  2.4388587 ,\n",
       "         3.354605  ,  1.3492244 ,  4.086874  ,  5.826751  ,  2.8145268 ,\n",
       "         1.6443119 ,  7.8472934 ,  4.9698706 ,  7.442381  ,  5.156328  ,\n",
       "         8.074265  ,  0.5406752 ,  0.31472105,  4.3137155 ,  0.27205208,\n",
       "         4.284856  ,  5.178468  ,  2.5849032 ,  2.7043865 ,  3.8243017 ,\n",
       "         3.7372108 ,  4.8204455 ,  0.8357856 ,  4.5705748 ,  2.0880172 ,\n",
       "         2.5727592 ,  4.251028  ,  7.0507884 ,  5.7396793 ,  5.6470118 ,\n",
       "         5.548306  ,  6.1026325 , 10.369907  ,  5.5914574 ,  7.725428  ,\n",
       "         3.1500866 ,  0.31472105,  4.1149197 ,  2.023152  ,  3.845735  ,\n",
       "         0.31472105,  0.31472105,  2.1867664 ,  7.254045  ,  5.5509706 ,\n",
       "         2.2138693 ,  3.256584  ,  5.1317472 ,  4.6239376 ,  1.480217  ,\n",
       "         9.372608  ,  4.241642  ,  5.0436673 ,  0.31472105,  2.871822  ,\n",
       "         2.5849204 ,  5.2870665 ,  6.371489  ,  1.1527877 ,  6.1971173 ,\n",
       "         4.152     ,  6.6612234 , 10.073582  ,  1.6532482 ,  2.5060785 ,\n",
       "         1.414456  ,  5.5594435 ,  4.5930977 ,  0.31472105,  1.4367517 ,\n",
       "         2.8356369 ,  3.3270998 ,  8.332689  ,  3.4050248 ,  7.2812    ,\n",
       "         3.5949285 ,  8.5209465 ,  5.687013  ,  8.047357  ,  4.428324  ,\n",
       "         4.613632  ,  4.925213  ,  6.599253  ,  1.4666144 ,  1.8768067 ,\n",
       "         4.002957  ,  3.1190906 ,  9.820994  ,  7.665705  ,  5.4476533 ,\n",
       "         9.441983  ,  1.2440304 ,  4.757056  ,  0.39194223,  2.155603  ,\n",
       "         4.2440248 ,  1.5036334 ,  5.8212953 ,  6.61161   ,  4.9878206 ,\n",
       "         4.5010834 ,  5.9090905 ,  0.46908203,  5.868228  ,  5.4495606 ,\n",
       "         6.9598784 ,  4.228337  ,  4.795683  ,  7.203866  ,  4.235623  ,\n",
       "         6.3952427 ,  5.846582  ,  8.287442  ,  2.4255006 ,  6.132104  ,\n",
       "         4.3065286 ,  5.625304  ,  5.8469305 ,  3.7101464 ,  4.64227   ,\n",
       "         1.932676  ,  5.859427  ,  0.7979015 ,  5.9421396 ,  7.3835626 ,\n",
       "         5.090151  ,  5.0079684 ,  0.32423586,  3.3849766 ,  0.9425327 ,\n",
       "         9.364691  ,  0.8295968 ,  2.3617516 ,  2.7602034 ,  3.2761521 ,\n",
       "         6.098243  ,  4.315295  ,  0.31472105,  7.840283  ,  5.1367207 ,\n",
       "         2.814706  ,  7.467551  ,  4.3847957 ,  3.2093544 ,  7.0825763 ,\n",
       "         2.7244732 ,  4.5620317 ,  7.920076  ,  6.2673936 ,  4.012185  ,\n",
       "         5.9742894 ,  2.8416793 ,  3.1823008 ,  4.7848    ,  4.2357163 ,\n",
       "         4.618712  ,  3.7161822 ,  6.6911416 ,  4.6602163 ,  5.077762  ,\n",
       "         2.2026958 ,  5.040796  ,  3.684209  ,  2.5242493 ,  1.6775275 ,\n",
       "         5.418977  ,  7.77565   ,  6.9656987 ,  5.0698214 ,  3.7480981 ,\n",
       "         5.8938193 ,  3.0337331 ,  2.518276  ,  5.700892  ,  5.118353  ,\n",
       "         2.792241  ,  8.9546585 ,  2.0107563 ,  7.8065042 ,  4.992672  ,\n",
       "         4.6520767 ,  3.1679764 ,  5.005361  ,  6.994059  ,  5.0699234 ,\n",
       "         4.9389873 ,  0.31472105,  3.4712648 ,  4.7571006 ,  4.967586  ,\n",
       "         5.359178  ,  5.776814  ,  4.054446  ,  2.9802048 ,  3.4600046 ,\n",
       "         0.33143225,  6.620494  ,  6.3825135 ,  6.2402196 ,  3.4108188 ,\n",
       "         1.1759557 ,  1.6782758 ,  1.3352835 ,  4.719959  ,  5.9002156 ,\n",
       "         4.1493726 ,  3.076722  ,  4.6249523 ,  7.0831785 ,  4.8816366 ,\n",
       "         2.1418908 ,  6.275365  ,  1.4977303 ,  6.651969  ,  8.561529  ,\n",
       "         6.0483603 ,  5.3271227 ,  4.4409065 ,  4.9310284 ,  7.141293  ,\n",
       "         3.5877082 ,  3.2295434 ,  4.0216975 ,  1.0238376 ,  4.475878  ,\n",
       "         2.5324888 ,  3.6760342 ,  8.164431  ,  0.31472105,  7.2262287 ,\n",
       "         4.4225454 ,  6.798856  ,  2.7765276 ,  3.2143743 ,  7.9041343 ,\n",
       "         0.35324278,  7.5101647 ,  1.0674703 ,  4.0901504 ,  0.747728  ,\n",
       "         2.4847677 ,  5.9142275 ,  5.2000656 ,  2.1986387 ,  2.6549158 ,\n",
       "         1.9662606 ,  1.8488055 ,  3.3020566 ,  6.1419563 ,  5.1195974 ,\n",
       "         3.4996974 ,  3.7982666 ,  3.6467829 ,  3.5479884 ,  6.287649  ],\n",
       "       dtype=float32),\n",
       " 'y_open_true': array([0, 0, 0, 0, 0, 0, 0, 0, 0, 0, 0, 0, 0, 0, 0, 0, 0, 0, 0, 0, 0, 0,\n",
       "        0, 0, 0, 0, 0, 0, 0, 0, 0, 0, 0, 0, 0, 0, 0, 0, 0, 0, 0, 0, 0, 0,\n",
       "        0, 0, 0, 0, 0, 0, 0, 0, 0, 0, 0, 0, 0, 0, 0, 0, 0, 0, 0, 0, 0, 0,\n",
       "        0, 0, 0, 0, 0, 0, 0, 0, 0, 0, 0, 0, 0, 0, 0, 0, 0, 0, 0, 0, 0, 0,\n",
       "        0, 0, 0, 0, 0, 0, 0, 0, 0, 0, 0, 0, 0, 0, 0, 0, 0, 0, 0, 0, 0, 0,\n",
       "        0, 0, 0, 0, 0, 0, 0, 0, 0, 0, 0, 0, 0, 0, 0, 0, 0, 0, 0, 0, 0, 0,\n",
       "        0, 0, 0, 0, 0, 0, 0, 0, 0, 0, 0, 0, 0, 0, 0, 0, 0, 0, 0, 0, 0, 0,\n",
       "        0, 0, 0, 0, 0, 0, 0, 0, 0, 0, 0, 0, 0, 0, 0, 0, 0, 0, 0, 0, 0, 0,\n",
       "        0, 0, 0, 0, 0, 0, 0, 0, 0, 0, 0, 0, 0, 0, 0, 0, 0, 0, 0, 0, 0, 0,\n",
       "        0, 0, 0, 0, 0, 0, 0, 0, 0, 0, 0, 0, 0, 0, 0, 0, 0, 0, 0, 0, 0, 0,\n",
       "        0, 0, 0, 0, 0, 0, 0, 0, 0, 0, 0, 0, 0, 0, 0, 0, 0, 0, 0, 0, 0, 0,\n",
       "        0, 0, 0, 0, 0, 0, 0, 0, 0, 0, 0, 0, 0, 0, 0, 0, 0, 0, 0, 0, 0, 0,\n",
       "        0, 0, 0, 0, 0, 0, 0, 0, 0, 0, 0, 0, 0, 0, 0, 0, 0, 0, 0, 0, 0, 0,\n",
       "        0, 0, 0, 0, 0, 0, 0, 0, 0, 0, 0, 0, 0, 0, 0, 0, 0, 0, 0, 0, 0, 0,\n",
       "        0, 0, 0, 0, 0, 0, 0, 0, 0, 0, 0, 0, 0, 0, 0, 0, 0, 0, 0, 0, 0, 0,\n",
       "        0, 0, 0, 0, 0, 0, 0, 0, 0, 0, 0, 0, 0, 0, 0, 0, 0, 0, 0, 0, 0, 0,\n",
       "        0, 0, 0, 0, 0, 0, 0, 0, 0, 0, 0, 0, 0, 0, 0, 0, 0, 0, 0, 0, 0, 0,\n",
       "        0, 0, 0, 0, 0, 0, 0, 0, 0, 0, 0, 0, 0, 0, 0, 0, 0, 0, 0, 0, 0, 0,\n",
       "        0, 0, 0, 0, 1, 1, 1, 1, 1, 1, 1, 1, 1, 1, 1, 1, 1, 1, 1, 1, 1, 1,\n",
       "        1, 1, 1, 1, 1, 1, 1, 1, 1, 1, 1, 1]),\n",
       " 'roc_auc_open': 0.4312916666666666,\n",
       " 'avg_precision_open': 0.06344355331636622,\n",
       " 'acc_open': 0.09767441860465116,\n",
       " 'recall_open': 0.9666666666666667,\n",
       " 'precision_open': 0.06971153846153846,\n",
       " 'f1_open': 0.13004484304932734,\n",
       " 'fpr_abs_logit_model': 0.9674418604651163}"
      ]
     },
     "execution_count": 8,
     "metadata": {},
     "output_type": "execute_result"
    }
   ],
   "source": [
    "# TODO: add pred and eval on open set\n",
    "ml.openset_loop(open_loader, test_loader, model)"
   ]
  },
  {
   "cell_type": "markdown",
   "metadata": {},
   "source": [
    "Other artifacts: plots, text, dicts, etc.\n",
    "\n",
    "- {precision_recall,roc}_curve work only in binary."
   ]
  },
  {
   "cell_type": "code",
   "execution_count": 9,
   "metadata": {},
   "outputs": [
    {
     "name": "stdout",
     "output_type": "stream",
     "text": [
      "              precision    recall  f1-score   support\n",
      "\n",
      "        1FBI       0.33      0.33      0.33         3\n",
      "        1NSN       0.50      0.75      0.60         4\n",
      "        1OB1       0.60      0.30      0.40        10\n",
      "        1WEJ       0.33      0.50      0.40         6\n",
      "        3VRL       0.50      0.50      0.50         4\n",
      "        5E94       0.00      0.00      0.00         3\n",
      "\n",
      "    accuracy                           0.40        30\n",
      "   macro avg       0.38      0.40      0.37        30\n",
      "weighted avg       0.43      0.40      0.39        30\n",
      "\n"
     ]
    }
   ],
   "source": [
    "# TODO: save as text?\n",
    "print(metrics.classification_report(y_test, y_test_pred, target_names=encoder.classes_))"
   ]
  },
  {
   "cell_type": "code",
   "execution_count": 10,
   "metadata": {},
   "outputs": [
    {
     "data": {
      "text/plain": [
       "<sklearn.metrics._plot.confusion_matrix.ConfusionMatrixDisplay at 0x7fac5c3ae640>"
      ]
     },
     "execution_count": 10,
     "metadata": {},
     "output_type": "execute_result"
    },
    {
     "data": {
      "image/png": "[encoded data removed]",
      "text/plain": [
       "<Figure size 640x480 with 2 Axes>"
      ]
     },
     "metadata": {},
     "output_type": "display_data"
    }
   ],
   "source": [
    "# TODO: Do the plots!\n",
    "\n",
    "## PR, ROC, logit distributions\n",
    "\n",
    "## Confusion\n",
    "cm = metrics.confusion_matrix(y_test, y_test_pred)\n",
    "disp = metrics.ConfusionMatrixDisplay(cm)\n",
    "disp.plot()\n",
    "# TODO: add normed"
   ]
  }
 ],
 "metadata": {
  "kernelspec": {
   "display_name": "Python 3.8.13 ('nco')",
   "language": "python",
   "name": "python3"
  },
  "language_info": {
   "codemirror_mode": {
    "name": "ipython",
    "version": 3
   },
   "file_extension": ".py",
   "mimetype": "text/x-python",
   "name": "python",
   "nbconvert_exporter": "python",
   "pygments_lexer": "ipython3",
   "version": "3.8.13"
  },
  "orig_nbformat": 4,
  "vscode": {
   "interpreter": {
    "hash": "3ec5334dbdc4a6f7f47854c251e8d2556e95e85daa09db51a6f2bda295b96836"
   }
  }
 },
 "nbformat": 4,
 "nbformat_minor": 2
}
