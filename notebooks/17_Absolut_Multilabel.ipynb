{
 "cells": [
  {
   "cell_type": "markdown",
   "metadata": {},
   "source": [
    "# Multilabel classification\n",
    "\n",
    "We develop here a model for multilabel classification."
   ]
  },
  {
   "cell_type": "code",
   "execution_count": 1,
   "metadata": {},
   "outputs": [
    {
     "name": "stderr",
     "output_type": "stream",
     "text": [
      "/home/eugen/miniconda3/envs/nco/lib/python3.8/site-packages/tqdm/auto.py:22: TqdmWarning: IProgress not found. Please update jupyter and ipywidgets. See https://ipywidgets.readthedocs.io/en/stable/user_install.html\n",
      "  from .autonotebook import tqdm as notebook_tqdm\n"
     ]
    }
   ],
   "source": [
    "from pathlib import Path\n",
    "import json\n",
    "import numpy as np\n",
    "import pandas as pd\n",
    "import matplotlib.pyplot as plt\n",
    "import seaborn as sns\n",
    "\n",
    "import torch\n",
    "import torch.nn as nn\n",
    "\n",
    "from NegativeClassOptimization import datasets\n",
    "from NegativeClassOptimization import preprocessing\n",
    "from NegativeClassOptimization import ml"
   ]
  },
  {
   "cell_type": "code",
   "execution_count": 2,
   "metadata": {},
   "outputs": [
    {
     "data": {
      "text/plain": [
       "tensor([[0.5637, 0.5019, 0.5087],\n",
       "        [0.5362, 0.4837, 0.4863],\n",
       "        [0.5496, 0.4792, 0.5139],\n",
       "        [0.5316, 0.4892, 0.4802],\n",
       "        [0.5325, 0.4716, 0.5074],\n",
       "        [0.5135, 0.5215, 0.4979],\n",
       "        [0.5403, 0.4799, 0.4663],\n",
       "        [0.4963, 0.5200, 0.4797],\n",
       "        [0.5295, 0.5127, 0.4894],\n",
       "        [0.5247, 0.5013, 0.4774]], grad_fn=<SigmoidBackward0>)"
      ]
     },
     "execution_count": 2,
     "metadata": {},
     "output_type": "execute_result"
    }
   ],
   "source": [
    "model = ml.MultilabelSNN(hidden_dim = 10, num_classes = 3)\n",
    "X = torch.rand((10, 220))\n",
    "model.forward(X)"
   ]
  },
  {
   "cell_type": "code",
   "execution_count": 3,
   "metadata": {},
   "outputs": [
    {
     "data": {
      "text/plain": [
       "tensor([[0, 1, 0],\n",
       "        [0, 0, 0],\n",
       "        [0, 1, 1],\n",
       "        [0, 1, 1],\n",
       "        [1, 1, 1],\n",
       "        [1, 1, 0],\n",
       "        [0, 0, 0],\n",
       "        [1, 0, 1],\n",
       "        [0, 0, 0],\n",
       "        [0, 1, 1]])"
      ]
     },
     "execution_count": 3,
     "metadata": {},
     "output_type": "execute_result"
    }
   ],
   "source": [
    "y = torch.tensor(np.random.choice([0, 1], (10, 3)))\n",
    "y"
   ]
  },
  {
   "cell_type": "code",
   "execution_count": 4,
   "metadata": {},
   "outputs": [
    {
     "data": {
      "text/plain": [
       "tensor(0.7115, grad_fn=<BinaryCrossEntropyBackward0>)"
      ]
     },
     "execution_count": 4,
     "metadata": {},
     "output_type": "execute_result"
    }
   ],
   "source": [
    "loss = nn.BCELoss()\n",
    "\n",
    "ml.compute_loss(\n",
    "    model, \n",
    "    loss, \n",
    "    X,\n",
    "    y,\n",
    ")"
   ]
  },
  {
   "cell_type": "code",
   "execution_count": 5,
   "metadata": {},
   "outputs": [
    {
     "data": {
      "text/plain": [
       "tensor([[ 0.4074,  0.0264,  0.0277,  0.5014, -0.3050, -0.1861, -0.1766,  0.0155,\n",
       "          0.0944,  0.5483],\n",
       "        [ 0.5968,  0.0681,  0.0714,  0.3203, -0.0339, -0.4058, -0.2426, -0.2135,\n",
       "          0.4137,  0.4051],\n",
       "        [ 0.6784, -0.1314, -0.4113,  0.1817,  0.0134, -0.5513, -0.1062, -0.0610,\n",
       "          0.0775,  0.4496],\n",
       "        [ 0.3290,  0.0746,  0.0674,  0.2757, -0.2442, -0.1877,  0.1303, -0.5303,\n",
       "          0.3996,  0.5777],\n",
       "        [ 0.4832, -0.1626, -0.0317,  0.2795,  0.2737,  0.0655,  0.1392, -0.1180,\n",
       "          0.2094,  0.5079],\n",
       "        [ 0.3733,  0.2959, -0.1039,  0.0834, -0.1084, -0.3195, -0.0744, -0.2028,\n",
       "         -0.0284,  0.3866],\n",
       "        [ 0.5267,  0.0424,  0.2016,  0.5036, -0.0113, -0.1709, -0.1463, -0.3491,\n",
       "          0.6908,  0.5341],\n",
       "        [ 0.3622,  0.2215,  0.0062,  0.5495,  0.2918, -0.0565, -0.0086,  0.1775,\n",
       "          0.4266,  0.0372],\n",
       "        [ 0.4085,  0.0961, -0.1846,  0.3790, -0.1064, -0.2778,  0.0076,  0.1486,\n",
       "          0.2027,  0.2463],\n",
       "        [ 0.3140,  0.1743,  0.1655,  0.1547, -0.3964, -0.4834, -0.0505, -0.2031,\n",
       "          0.2468,  0.7009]], grad_fn=<AddmmBackward0>)"
      ]
     },
     "execution_count": 5,
     "metadata": {},
     "output_type": "execute_result"
    }
   ],
   "source": [
    "model.linear_1(model.flatten(X))"
   ]
  },
  {
   "cell_type": "code",
   "execution_count": 6,
   "metadata": {},
   "outputs": [
    {
     "data": {
      "text/plain": [
       "{'multilabel_fraction': 0.1,\n",
       " 'precision_weighted_closed': 0.5428571428571428,\n",
       " 'precision_None_closed': array([0.22222222, 0.6       , 0.66666667]),\n",
       " 'precision_macro_closed': 0.4962962962962963,\n",
       " 'precision_micro_closed': 0.4117647058823529,\n",
       " 'recall_weighted_closed': 0.5,\n",
       " 'recall_None_closed': array([0.66666667, 0.5       , 0.4       ]),\n",
       " 'recall_macro_closed': 0.5222222222222221,\n",
       " 'recall_micro_closed': 0.5,\n",
       " 'f1_weighted_closed': 0.48376623376623373,\n",
       " 'f1_None_closed': array([0.33333333, 0.54545455, 0.5       ]),\n",
       " 'f1_macro_closed': 0.45959595959595956,\n",
       " 'f1_micro_closed': 0.45161290322580644}"
      ]
     },
     "execution_count": 6,
     "metadata": {},
     "output_type": "execute_result"
    }
   ],
   "source": [
    "X_o = torch.rand((10, 220))\n",
    "\n",
    "metrics_open = ml.compute_metrics_open_testset(model, X, X_o)\n",
    "# metrics_closed = ml.compute_metrics_closed_testset(model, X, y)\n",
    "model.compute_metrics_closed_testset(X, y)\n"
   ]
  },
  {
   "cell_type": "code",
   "execution_count": 7,
   "metadata": {},
   "outputs": [
    {
     "name": "stdout",
     "output_type": "stream",
     "text": [
      "(903717, 5)\n"
     ]
    },
    {
     "data": {
      "text/html": [
       "<div>\n",
       "<style scoped>\n",
       "    .dataframe tbody tr th:only-of-type {\n",
       "        vertical-align: middle;\n",
       "    }\n",
       "\n",
       "    .dataframe tbody tr th {\n",
       "        vertical-align: top;\n",
       "    }\n",
       "\n",
       "    .dataframe thead th {\n",
       "        text-align: right;\n",
       "    }\n",
       "</style>\n",
       "<table border=\"1\" class=\"dataframe\">\n",
       "  <thead>\n",
       "    <tr style=\"text-align: right;\">\n",
       "      <th></th>\n",
       "      <th>Unnamed: 0</th>\n",
       "      <th>index</th>\n",
       "      <th>Slide</th>\n",
       "      <th>Antigen</th>\n",
       "      <th>Slide_farmhash_mod_10</th>\n",
       "    </tr>\n",
       "  </thead>\n",
       "  <tbody>\n",
       "    <tr>\n",
       "      <th>0</th>\n",
       "      <td>1</td>\n",
       "      <td>83</td>\n",
       "      <td>AAFYYGNLAWF</td>\n",
       "      <td>1ADQ_A</td>\n",
       "      <td>2</td>\n",
       "    </tr>\n",
       "    <tr>\n",
       "      <th>1</th>\n",
       "      <td>2</td>\n",
       "      <td>157</td>\n",
       "      <td>AAIFITTGGFD</td>\n",
       "      <td>1ADQ_A</td>\n",
       "      <td>6</td>\n",
       "    </tr>\n",
       "    <tr>\n",
       "      <th>2</th>\n",
       "      <td>3</td>\n",
       "      <td>163</td>\n",
       "      <td>AAIIYYDYGFD</td>\n",
       "      <td>1ADQ_A</td>\n",
       "      <td>2</td>\n",
       "    </tr>\n",
       "    <tr>\n",
       "      <th>3</th>\n",
       "      <td>4</td>\n",
       "      <td>165</td>\n",
       "      <td>AAILLPEYYFD</td>\n",
       "      <td>1ADQ_A</td>\n",
       "      <td>6</td>\n",
       "    </tr>\n",
       "    <tr>\n",
       "      <th>4</th>\n",
       "      <td>5</td>\n",
       "      <td>193</td>\n",
       "      <td>AAIWLRRWYFD</td>\n",
       "      <td>1ADQ_A</td>\n",
       "      <td>1</td>\n",
       "    </tr>\n",
       "  </tbody>\n",
       "</table>\n",
       "</div>"
      ],
      "text/plain": [
       "   Unnamed: 0  index        Slide Antigen  Slide_farmhash_mod_10\n",
       "0           1     83  AAFYYGNLAWF  1ADQ_A                      2\n",
       "1           2    157  AAIFITTGGFD  1ADQ_A                      6\n",
       "2           3    163  AAIIYYDYGFD  1ADQ_A                      2\n",
       "3           4    165  AAILLPEYYFD  1ADQ_A                      6\n",
       "4           5    193  AAIWLRRWYFD  1ADQ_A                      1"
      ]
     },
     "execution_count": 7,
     "metadata": {},
     "output_type": "execute_result"
    }
   ],
   "source": [
    "df_train_val = pd.read_csv(\"../data/Absolut/processed/multilabel/df_train_val.tsv\", sep='\\t')\n",
    "df_train_val_2 = pd.read_csv(\"../data/Absolut/processed/multiclass/df_train_val.tsv\", sep='\\t')\n",
    "\n",
    "print(df_train_val.shape)\n",
    "df_train_val.head()"
   ]
  },
  {
   "cell_type": "code",
   "execution_count": 8,
   "metadata": {},
   "outputs": [
    {
     "data": {
      "text/plain": [
       "539523"
      ]
     },
     "execution_count": 8,
     "metadata": {},
     "output_type": "execute_result"
    }
   ],
   "source": [
    "df_train_val[\"Slide\"].duplicated(keep=False).sum()"
   ]
  },
  {
   "cell_type": "code",
   "execution_count": 9,
   "metadata": {},
   "outputs": [
    {
     "data": {
      "text/plain": [
       "<AxesSubplot:title={'center':'Sorted #duplications per slide'}>"
      ]
     },
     "execution_count": 9,
     "metadata": {},
     "output_type": "execute_result"
    },
    {
     "data": {
      "image/png": "[encoded data removed]",
      "text/plain": [
       "<Figure size 640x480 with 1 Axes>"
      ]
     },
     "metadata": {},
     "output_type": "display_data"
    }
   ],
   "source": [
    "df_train_val[\"Slide\"].value_counts().reset_index().plot(title=\"Sorted #duplications per slide\")"
   ]
  },
  {
   "cell_type": "markdown",
   "metadata": {},
   "source": [
    "Process dataframe to multilabel format."
   ]
  },
  {
   "cell_type": "code",
   "execution_count": 10,
   "metadata": {},
   "outputs": [
    {
     "data": {
      "text/html": [
       "<div>\n",
       "<style scoped>\n",
       "    .dataframe tbody tr th:only-of-type {\n",
       "        vertical-align: middle;\n",
       "    }\n",
       "\n",
       "    .dataframe tbody tr th {\n",
       "        vertical-align: top;\n",
       "    }\n",
       "\n",
       "    .dataframe thead th {\n",
       "        text-align: right;\n",
       "    }\n",
       "</style>\n",
       "<table border=\"1\" class=\"dataframe\">\n",
       "  <thead>\n",
       "    <tr style=\"text-align: right;\">\n",
       "      <th></th>\n",
       "      <th>Unnamed: 0</th>\n",
       "      <th>index</th>\n",
       "      <th>Slide</th>\n",
       "      <th>Antigen</th>\n",
       "      <th>Slide_farmhash_mod_10</th>\n",
       "    </tr>\n",
       "  </thead>\n",
       "  <tbody>\n",
       "    <tr>\n",
       "      <th>0</th>\n",
       "      <td>1</td>\n",
       "      <td>83</td>\n",
       "      <td>AAFYYGNLAWF</td>\n",
       "      <td>1ADQ_A</td>\n",
       "      <td>2</td>\n",
       "    </tr>\n",
       "    <tr>\n",
       "      <th>1</th>\n",
       "      <td>2</td>\n",
       "      <td>157</td>\n",
       "      <td>AAIFITTGGFD</td>\n",
       "      <td>1ADQ_A</td>\n",
       "      <td>6</td>\n",
       "    </tr>\n",
       "  </tbody>\n",
       "</table>\n",
       "</div>"
      ],
      "text/plain": [
       "   Unnamed: 0  index        Slide Antigen  Slide_farmhash_mod_10\n",
       "0           1     83  AAFYYGNLAWF  1ADQ_A                      2\n",
       "1           2    157  AAIFITTGGFD  1ADQ_A                      6"
      ]
     },
     "execution_count": 10,
     "metadata": {},
     "output_type": "execute_result"
    }
   ],
   "source": [
    "df_train_val.head(2)"
   ]
  },
  {
   "cell_type": "code",
   "execution_count": 11,
   "metadata": {},
   "outputs": [],
   "source": [
    "from sklearn.preprocessing import MultiLabelBinarizer\n",
    "\n",
    "mlb_encoder = MultiLabelBinarizer()\n",
    "# mlb.fit_transform([(1, 2), (3,), (2, 1)])\n",
    "# multilabel_bin = mlb_encoder.fit_transform(df_train_val.groupby(\"Slide\")[\"Antigen\"].agg(lambda x: tuple(x)))\n",
    "# (multilabel_bin.sum(axis=1) > 1).sum() / multilabel_bin.shape[0]"
   ]
  },
  {
   "cell_type": "code",
   "execution_count": 12,
   "metadata": {},
   "outputs": [
    {
     "name": "stderr",
     "output_type": "stream",
     "text": [
      "Resetting the index of df_train_val.\n"
     ]
    }
   ],
   "source": [
    "df, scaler, encoder = preprocessing.preprocess_df_for_multilabel(\n",
    "    df_train_val,\n",
    "    ags=[\"1YJD_C\", \"4K24_A\", \"5T5F_A\",],\n",
    "    sample=1000,\n",
    ")"
   ]
  },
  {
   "cell_type": "code",
   "execution_count": 13,
   "metadata": {},
   "outputs": [
    {
     "data": {
      "text/html": [
       "<div>\n",
       "<style scoped>\n",
       "    .dataframe tbody tr th:only-of-type {\n",
       "        vertical-align: middle;\n",
       "    }\n",
       "\n",
       "    .dataframe tbody tr th {\n",
       "        vertical-align: top;\n",
       "    }\n",
       "\n",
       "    .dataframe thead th {\n",
       "        text-align: right;\n",
       "    }\n",
       "</style>\n",
       "<table border=\"1\" class=\"dataframe\">\n",
       "  <thead>\n",
       "    <tr style=\"text-align: right;\">\n",
       "      <th></th>\n",
       "      <th>index</th>\n",
       "      <th>Slide</th>\n",
       "      <th>Antigen</th>\n",
       "      <th>Slide_farmhash_mod_10</th>\n",
       "      <th>Slide_onehot</th>\n",
       "      <th>X</th>\n",
       "      <th>y</th>\n",
       "    </tr>\n",
       "  </thead>\n",
       "  <tbody>\n",
       "    <tr>\n",
       "      <th>0</th>\n",
       "      <td>0</td>\n",
       "      <td>AAFITTVVRYF</td>\n",
       "      <td>[1YJD_C]</td>\n",
       "      <td>1</td>\n",
       "      <td>[1.0, 0.0, 0.0, 0.0, 0.0, 0.0, 0.0, 0.0, 0.0, ...</td>\n",
       "      <td>[3.047730269202701, -0.4738563888992363, -0.11...</td>\n",
       "      <td>[1, 0, 0]</td>\n",
       "    </tr>\n",
       "    <tr>\n",
       "      <th>1</th>\n",
       "      <td>1</td>\n",
       "      <td>AALLYDGYYPF</td>\n",
       "      <td>[4K24_A]</td>\n",
       "      <td>7</td>\n",
       "      <td>[1.0, 0.0, 0.0, 0.0, 0.0, 0.0, 0.0, 0.0, 0.0, ...</td>\n",
       "      <td>[3.047730269202701, -0.4738563888992363, -0.11...</td>\n",
       "      <td>[0, 1, 0]</td>\n",
       "    </tr>\n",
       "    <tr>\n",
       "      <th>2</th>\n",
       "      <td>2</td>\n",
       "      <td>AEFITTVAYYF</td>\n",
       "      <td>[1YJD_C]</td>\n",
       "      <td>6</td>\n",
       "      <td>[1.0, 0.0, 0.0, 0.0, 0.0, 0.0, 0.0, 0.0, 0.0, ...</td>\n",
       "      <td>[3.047730269202701, -0.4738563888992363, -0.11...</td>\n",
       "      <td>[1, 0, 0]</td>\n",
       "    </tr>\n",
       "    <tr>\n",
       "      <th>3</th>\n",
       "      <td>3</td>\n",
       "      <td>AGGLLDYPAWF</td>\n",
       "      <td>[1YJD_C]</td>\n",
       "      <td>6</td>\n",
       "      <td>[1.0, 0.0, 0.0, 0.0, 0.0, 0.0, 0.0, 0.0, 0.0, ...</td>\n",
       "      <td>[3.047730269202701, -0.4738563888992363, -0.11...</td>\n",
       "      <td>[1, 0, 0]</td>\n",
       "    </tr>\n",
       "    <tr>\n",
       "      <th>4</th>\n",
       "      <td>4</td>\n",
       "      <td>AGLITTVVGYF</td>\n",
       "      <td>[1YJD_C]</td>\n",
       "      <td>6</td>\n",
       "      <td>[1.0, 0.0, 0.0, 0.0, 0.0, 0.0, 0.0, 0.0, 0.0, ...</td>\n",
       "      <td>[3.047730269202701, -0.4738563888992363, -0.11...</td>\n",
       "      <td>[1, 0, 0]</td>\n",
       "    </tr>\n",
       "    <tr>\n",
       "      <th>...</th>\n",
       "      <td>...</td>\n",
       "      <td>...</td>\n",
       "      <td>...</td>\n",
       "      <td>...</td>\n",
       "      <td>...</td>\n",
       "      <td>...</td>\n",
       "      <td>...</td>\n",
       "    </tr>\n",
       "    <tr>\n",
       "      <th>993</th>\n",
       "      <td>993</td>\n",
       "      <td>YYGYFAWFAYW</td>\n",
       "      <td>[5T5F_A]</td>\n",
       "      <td>1</td>\n",
       "      <td>[0.0, 0.0, 0.0, 0.0, 0.0, 0.0, 0.0, 0.0, 0.0, ...</td>\n",
       "      <td>[-0.3281130256522331, -0.4738563888992363, -0....</td>\n",
       "      <td>[0, 0, 1]</td>\n",
       "    </tr>\n",
       "    <tr>\n",
       "      <th>994</th>\n",
       "      <td>994</td>\n",
       "      <td>YYGYVLYAMDY</td>\n",
       "      <td>[4K24_A]</td>\n",
       "      <td>1</td>\n",
       "      <td>[0.0, 0.0, 0.0, 0.0, 0.0, 0.0, 0.0, 0.0, 0.0, ...</td>\n",
       "      <td>[-0.3281130256522331, -0.4738563888992363, -0....</td>\n",
       "      <td>[0, 1, 0]</td>\n",
       "    </tr>\n",
       "    <tr>\n",
       "      <th>995</th>\n",
       "      <td>995</td>\n",
       "      <td>YYSNFLWYCDV</td>\n",
       "      <td>[4K24_A]</td>\n",
       "      <td>1</td>\n",
       "      <td>[0.0, 0.0, 0.0, 0.0, 0.0, 0.0, 0.0, 0.0, 0.0, ...</td>\n",
       "      <td>[-0.3281130256522331, -0.4738563888992363, -0....</td>\n",
       "      <td>[0, 1, 0]</td>\n",
       "    </tr>\n",
       "    <tr>\n",
       "      <th>996</th>\n",
       "      <td>996</td>\n",
       "      <td>YYSNVWWYFDV</td>\n",
       "      <td>[4K24_A]</td>\n",
       "      <td>4</td>\n",
       "      <td>[0.0, 0.0, 0.0, 0.0, 0.0, 0.0, 0.0, 0.0, 0.0, ...</td>\n",
       "      <td>[-0.3281130256522331, -0.4738563888992363, -0....</td>\n",
       "      <td>[0, 1, 0]</td>\n",
       "    </tr>\n",
       "    <tr>\n",
       "      <th>997</th>\n",
       "      <td>997</td>\n",
       "      <td>YYYGIYYFDYW</td>\n",
       "      <td>[5T5F_A]</td>\n",
       "      <td>0</td>\n",
       "      <td>[0.0, 0.0, 0.0, 0.0, 0.0, 0.0, 0.0, 0.0, 0.0, ...</td>\n",
       "      <td>[-0.3281130256522331, -0.4738563888992363, -0....</td>\n",
       "      <td>[0, 0, 1]</td>\n",
       "    </tr>\n",
       "  </tbody>\n",
       "</table>\n",
       "<p>998 rows × 7 columns</p>\n",
       "</div>"
      ],
      "text/plain": [
       "     index        Slide   Antigen  Slide_farmhash_mod_10  \\\n",
       "0        0  AAFITTVVRYF  [1YJD_C]                      1   \n",
       "1        1  AALLYDGYYPF  [4K24_A]                      7   \n",
       "2        2  AEFITTVAYYF  [1YJD_C]                      6   \n",
       "3        3  AGGLLDYPAWF  [1YJD_C]                      6   \n",
       "4        4  AGLITTVVGYF  [1YJD_C]                      6   \n",
       "..     ...          ...       ...                    ...   \n",
       "993    993  YYGYFAWFAYW  [5T5F_A]                      1   \n",
       "994    994  YYGYVLYAMDY  [4K24_A]                      1   \n",
       "995    995  YYSNFLWYCDV  [4K24_A]                      1   \n",
       "996    996  YYSNVWWYFDV  [4K24_A]                      4   \n",
       "997    997  YYYGIYYFDYW  [5T5F_A]                      0   \n",
       "\n",
       "                                          Slide_onehot  \\\n",
       "0    [1.0, 0.0, 0.0, 0.0, 0.0, 0.0, 0.0, 0.0, 0.0, ...   \n",
       "1    [1.0, 0.0, 0.0, 0.0, 0.0, 0.0, 0.0, 0.0, 0.0, ...   \n",
       "2    [1.0, 0.0, 0.0, 0.0, 0.0, 0.0, 0.0, 0.0, 0.0, ...   \n",
       "3    [1.0, 0.0, 0.0, 0.0, 0.0, 0.0, 0.0, 0.0, 0.0, ...   \n",
       "4    [1.0, 0.0, 0.0, 0.0, 0.0, 0.0, 0.0, 0.0, 0.0, ...   \n",
       "..                                                 ...   \n",
       "993  [0.0, 0.0, 0.0, 0.0, 0.0, 0.0, 0.0, 0.0, 0.0, ...   \n",
       "994  [0.0, 0.0, 0.0, 0.0, 0.0, 0.0, 0.0, 0.0, 0.0, ...   \n",
       "995  [0.0, 0.0, 0.0, 0.0, 0.0, 0.0, 0.0, 0.0, 0.0, ...   \n",
       "996  [0.0, 0.0, 0.0, 0.0, 0.0, 0.0, 0.0, 0.0, 0.0, ...   \n",
       "997  [0.0, 0.0, 0.0, 0.0, 0.0, 0.0, 0.0, 0.0, 0.0, ...   \n",
       "\n",
       "                                                     X          y  \n",
       "0    [3.047730269202701, -0.4738563888992363, -0.11...  [1, 0, 0]  \n",
       "1    [3.047730269202701, -0.4738563888992363, -0.11...  [0, 1, 0]  \n",
       "2    [3.047730269202701, -0.4738563888992363, -0.11...  [1, 0, 0]  \n",
       "3    [3.047730269202701, -0.4738563888992363, -0.11...  [1, 0, 0]  \n",
       "4    [3.047730269202701, -0.4738563888992363, -0.11...  [1, 0, 0]  \n",
       "..                                                 ...        ...  \n",
       "993  [-0.3281130256522331, -0.4738563888992363, -0....  [0, 0, 1]  \n",
       "994  [-0.3281130256522331, -0.4738563888992363, -0....  [0, 1, 0]  \n",
       "995  [-0.3281130256522331, -0.4738563888992363, -0....  [0, 1, 0]  \n",
       "996  [-0.3281130256522331, -0.4738563888992363, -0....  [0, 1, 0]  \n",
       "997  [-0.3281130256522331, -0.4738563888992363, -0....  [0, 0, 1]  \n",
       "\n",
       "[998 rows x 7 columns]"
      ]
     },
     "execution_count": 13,
     "metadata": {},
     "output_type": "execute_result"
    }
   ],
   "source": [
    "df"
   ]
  },
  {
   "cell_type": "code",
   "execution_count": 14,
   "metadata": {},
   "outputs": [
    {
     "data": {
      "text/plain": [
       "(tensor([[ 3.0477, -0.4739, -0.1103, -0.1430, -0.1820, -0.2297, -0.1193, -0.2551,\n",
       "          -0.1235, -0.3110, -0.1149, -0.0954, -0.1466, -0.0840, -0.5147, -0.2173,\n",
       "          -0.1570, -0.2223, -0.1536, -0.1699, -0.4402, -0.0954, -0.1466, -0.1603,\n",
       "          -0.2173,  3.1381, -0.1103, -0.2704, -0.0840, -0.4499, -0.0899, -0.1006,\n",
       "          -0.1878, -0.1056, -0.2871, -0.1934, -0.2368, -0.2272, -0.2017, -0.2809,\n",
       "          -0.1668, -0.0448, -0.1962, -0.1276, -0.1878,  2.7178, -0.0634, -0.2551,\n",
       "          -0.1316, -0.4849, -0.0899, -0.1316, -0.1730, -0.1235, -0.4402, -0.2507,\n",
       "          -0.2484, -0.1235, -0.1820, -0.3262, -0.1235, -0.0448, -0.2043, -0.1316,\n",
       "          -0.2043, -0.2932, -0.1103, -0.2851, -0.1056,  1.6296, -0.0710, -0.1570,\n",
       "          -0.1668, -0.1193, -0.2096, -0.2122, -0.2173, -0.2198, -0.2122, -0.4123,\n",
       "          -0.1193, -0.0448, -0.2017, -0.1149, -0.2596, -0.3032, -0.0710, -0.2096,\n",
       "          -0.0448,  1.4390, -0.0549, -0.0840, -0.1636, -0.1006, -0.2272, -0.1878,\n",
       "          -0.2871, -0.2438, -0.1962, -0.3538, -0.2017,  0.0000,  3.5862, -0.1603,\n",
       "          -0.1820, -0.3627, -0.0778, -0.0840, -0.0840, -0.4370, -0.0317, -0.1760,\n",
       "          -0.2851, -0.1316, -0.3714, -0.2438, -0.2992, -0.1699, -0.1103, -0.3555,\n",
       "          -0.2017, -0.0710, -0.2096, -0.0954, -0.2248, -0.2484, -0.1235, -0.1235,\n",
       "          -0.0634, -0.4515, -0.0634, -0.1149, -0.1603, -0.0634, -0.1760, -0.2122,\n",
       "          -0.1730, -0.2746, -0.3538,  1.6631, -0.2704, -0.0549, -0.1668, -0.0899,\n",
       "          -0.5689, -0.2148, -0.0954, -0.1006,  0.0000, -0.3318, -0.1730, -0.0710,\n",
       "           5.0262, -0.0634, -0.1820, -0.1668, -0.1056, -0.2704, -0.2529, -0.5193,\n",
       "           2.3232, -0.0317, -0.5147, -0.0710, -0.4928, -0.2321, -0.0840, -0.0710,\n",
       "          -0.0317, -0.2043, -0.2392, -0.1056, -0.1603, -0.0317, -0.1501, -0.1393,\n",
       "          -0.1056, -0.0899, -0.2345, -0.3784, -0.2529, -0.0448, -0.5426, -0.0448,\n",
       "          -0.3644, -0.0778, -0.0778, -0.0317,  0.0000, -0.1699, -0.2223,  0.0000,\n",
       "          -0.0710,  0.0000, -0.0634, -0.0778, -0.0634, -0.2392,  4.3543, -0.7825,\n",
       "          -0.1820,  0.0000, -0.3972,  0.0000,  1.9430, -0.0634,  0.0000, -0.0317,\n",
       "           0.0000, -0.1149, -0.1316, -0.0317,  0.0000, -0.0317, -0.0634,  0.0000,\n",
       "          -0.0317, -0.2851, -0.6214, -0.5411]]),\n",
       " tensor([[1, 0, 0]]))"
      ]
     },
     "execution_count": 14,
     "metadata": {},
     "output_type": "execute_result"
    }
   ],
   "source": [
    "ds = datasets.MultilabelDataset(df)\n",
    "ds[3]"
   ]
  },
  {
   "cell_type": "code",
   "execution_count": 15,
   "metadata": {},
   "outputs": [
    {
     "data": {
      "text/plain": [
       "tensor(0.6956, grad_fn=<BinaryCrossEntropyBackward0>)"
      ]
     },
     "execution_count": 15,
     "metadata": {},
     "output_type": "execute_result"
    }
   ],
   "source": [
    "ml.compute_loss(model, nn.BCELoss(), ds[3][0], ds[3][1])"
   ]
  },
  {
   "cell_type": "code",
   "execution_count": null,
   "metadata": {},
   "outputs": [],
   "source": []
  }
 ],
 "metadata": {
  "kernelspec": {
   "display_name": "Python 3.8.13 ('nco')",
   "language": "python",
   "name": "python3"
  },
  "language_info": {
   "codemirror_mode": {
    "name": "ipython",
    "version": 3
   },
   "file_extension": ".py",
   "mimetype": "text/x-python",
   "name": "python",
   "nbconvert_exporter": "python",
   "pygments_lexer": "ipython3",
   "version": "3.8.13"
  },
  "orig_nbformat": 4,
  "vscode": {
   "interpreter": {
    "hash": "3ec5334dbdc4a6f7f47854c251e8d2556e95e85daa09db51a6f2bda295b96836"
   }
  }
 },
 "nbformat": 4,
 "nbformat_minor": 2
}
