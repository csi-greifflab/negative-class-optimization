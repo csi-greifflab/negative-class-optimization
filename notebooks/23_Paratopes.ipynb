{
 "cells": [
  {
   "attachments": {},
   "cell_type": "markdown",
   "metadata": {},
   "source": [
    "# Paratopes in Absolut\n",
    "\n",
    "We explore the paratope data in Absolut."
   ]
  },
  {
   "cell_type": "code",
   "execution_count": 1,
   "metadata": {},
   "outputs": [
    {
     "name": "stderr",
     "output_type": "stream",
     "text": [
      "/home/eugen/miniconda3/envs/nco/lib/python3.8/site-packages/tqdm/auto.py:22: TqdmWarning: IProgress not found. Please update jupyter and ipywidgets. See https://ipywidgets.readthedocs.io/en/stable/user_install.html\n",
      "  from .autonotebook import tqdm as notebook_tqdm\n",
      "/home/eugen/miniconda3/envs/nco/lib/python3.8/site-packages/sklearn/preprocessing/_encoders.py:808: FutureWarning: `sparse` was renamed to `sparse_output` in version 1.2 and will be removed in 1.4. `sparse_output` is ignored unless you leave `sparse` to its default value.\n",
      "  warnings.warn(\n",
      "/home/eugen/miniconda3/envs/nco/lib/python3.8/site-packages/sklearn/preprocessing/_encoders.py:808: FutureWarning: `sparse` was renamed to `sparse_output` in version 1.2 and will be removed in 1.4. `sparse_output` is ignored unless you leave `sparse` to its default value.\n",
      "  warnings.warn(\n"
     ]
    }
   ],
   "source": [
    "from pathlib import Path\n",
    "import numpy as np\n",
    "import pandas as pd\n",
    "import matplotlib.pyplot as plt\n",
    "import seaborn as sns\n",
    "import math\n",
    "\n",
    "from NegativeClassOptimization import utils, preprocessing"
   ]
  },
  {
   "attachments": {},
   "cell_type": "markdown",
   "metadata": {},
   "source": [
    "## Dataset 4 data organization\n",
    "\n",
    "Looks like `Task4_Merged_Slice_ParaEpi.zip` could be the only file with everything we would currently need."
   ]
  },
  {
   "cell_type": "code",
   "execution_count": 2,
   "metadata": {},
   "outputs": [
    {
     "data": {
      "text/html": [
       "<div>\n",
       "<style scoped>\n",
       "    .dataframe tbody tr th:only-of-type {\n",
       "        vertical-align: middle;\n",
       "    }\n",
       "\n",
       "    .dataframe tbody tr th {\n",
       "        vertical-align: top;\n",
       "    }\n",
       "\n",
       "    .dataframe thead th {\n",
       "        text-align: right;\n",
       "    }\n",
       "</style>\n",
       "<table border=\"1\" class=\"dataframe\">\n",
       "  <thead>\n",
       "    <tr style=\"text-align: right;\">\n",
       "      <th></th>\n",
       "      <th>Slide</th>\n",
       "      <th>Label</th>\n",
       "      <th>hotspot_ID</th>\n",
       "      <th>seqAGEpitope</th>\n",
       "      <th>motifAGEpitope</th>\n",
       "      <th>agregatesAGEpitope</th>\n",
       "      <th>chemicalAGEpitope</th>\n",
       "      <th>seqABParatope</th>\n",
       "      <th>motifABParatope</th>\n",
       "      <th>agregatesABParatope</th>\n",
       "      <th>chemicalABParatope</th>\n",
       "      <th>AAcompoFullSlice</th>\n",
       "      <th>sizeCDR3</th>\n",
       "    </tr>\n",
       "  </thead>\n",
       "  <tbody>\n",
       "    <tr>\n",
       "      <th>0</th>\n",
       "      <td>LLGLYWYFDVW</td>\n",
       "      <td>1ADQ_A</td>\n",
       "      <td>1ADQ_A_H1</td>\n",
       "      <td>S1W1V1D1V2Q1V3N1A1K1T2V1L2H1N1Y1</td>\n",
       "      <td>X1--X1--X1X1--X2X1X3--X1X1X1--X2X1X2X1--X1--X1</td>\n",
       "      <td>S1--W1--V1D1--V2Q1V3--N1A1K1--T2V1L2H1--N1--Y1</td>\n",
       "      <td>p1--r1--n1c1--n2p1n3--p1n1c1--p2n1n2c1--p1--r1</td>\n",
       "      <td>L3L4G3L1Y2Y2F2V2W2*</td>\n",
       "      <td>X3X4X3X1X2--X2X2--X2X2*</td>\n",
       "      <td>L3L4G3L1Y2--Y2F2--V2W2*</td>\n",
       "      <td>n3n4n3n1r2--r2r2--n2r2*</td>\n",
       "      <td>0_0_0.0909091_0_0.0909091_0.0909091_0_0_0_0.27...</td>\n",
       "      <td>15</td>\n",
       "    </tr>\n",
       "    <tr>\n",
       "      <th>1</th>\n",
       "      <td>YYSNYWYFDVW</td>\n",
       "      <td>1ADQ_A</td>\n",
       "      <td>1ADQ_A_H2</td>\n",
       "      <td>P1V1F1V3D3V1S1Q2Q1V1T1K1P1E1Y1R2V1V1</td>\n",
       "      <td>X1--X1X1--X3--X3X1X1X2--X1X1--X1X1X1--X1--X1X2...</td>\n",
       "      <td>P1--V1F1--V3--D3V1S1Q2--Q1V1--T1K1P1--E1--Y1R2...</td>\n",
       "      <td>n1--n1r1--n3--c3n1p1p2--p1n1--p1c1n1--c1--r1c2...</td>\n",
       "      <td>Y2Y3N2Y1W3Y1F4D1V4W3*</td>\n",
       "      <td>X2X3--X2X1X3X1X4X1X4X3*</td>\n",
       "      <td>Y2Y3--N2Y1W3Y1F4D1V4W3*</td>\n",
       "      <td>r2r3--p2r1r3r1r4c1n4r3*</td>\n",
       "      <td>0_0_0.0909091_0_0.0909091_0_0_0_0_0_0_0.090909...</td>\n",
       "      <td>14</td>\n",
       "    </tr>\n",
       "  </tbody>\n",
       "</table>\n",
       "</div>"
      ],
      "text/plain": [
       "         Slide   Label hotspot_ID                          seqAGEpitope  \\\n",
       "0  LLGLYWYFDVW  1ADQ_A  1ADQ_A_H1      S1W1V1D1V2Q1V3N1A1K1T2V1L2H1N1Y1   \n",
       "1  YYSNYWYFDVW  1ADQ_A  1ADQ_A_H2  P1V1F1V3D3V1S1Q2Q1V1T1K1P1E1Y1R2V1V1   \n",
       "\n",
       "                                      motifAGEpitope  \\\n",
       "0     X1--X1--X1X1--X2X1X3--X1X1X1--X2X1X2X1--X1--X1   \n",
       "1  X1--X1X1--X3--X3X1X1X2--X1X1--X1X1X1--X1--X1X2...   \n",
       "\n",
       "                                  agregatesAGEpitope  \\\n",
       "0     S1--W1--V1D1--V2Q1V3--N1A1K1--T2V1L2H1--N1--Y1   \n",
       "1  P1--V1F1--V3--D3V1S1Q2--Q1V1--T1K1P1--E1--Y1R2...   \n",
       "\n",
       "                                   chemicalAGEpitope          seqABParatope  \\\n",
       "0     p1--r1--n1c1--n2p1n3--p1n1c1--p2n1n2c1--p1--r1    L3L4G3L1Y2Y2F2V2W2*   \n",
       "1  n1--n1r1--n3--c3n1p1p2--p1n1--p1c1n1--c1--r1c2...  Y2Y3N2Y1W3Y1F4D1V4W3*   \n",
       "\n",
       "           motifABParatope      agregatesABParatope       chemicalABParatope  \\\n",
       "0  X3X4X3X1X2--X2X2--X2X2*  L3L4G3L1Y2--Y2F2--V2W2*  n3n4n3n1r2--r2r2--n2r2*   \n",
       "1  X2X3--X2X1X3X1X4X1X4X3*  Y2Y3--N2Y1W3Y1F4D1V4W3*  r2r3--p2r1r3r1r4c1n4r3*   \n",
       "\n",
       "                                    AAcompoFullSlice  sizeCDR3  \n",
       "0  0_0_0.0909091_0_0.0909091_0.0909091_0_0_0_0.27...        15  \n",
       "1  0_0_0.0909091_0_0.0909091_0_0_0_0_0_0_0.090909...        14  "
      ]
     },
     "execution_count": 2,
     "metadata": {},
     "output_type": "execute_result"
    }
   ],
   "source": [
    "df = pd.read_csv(\"../data/Absolut/processed/paratope_epitope/Task4_Merged_Slice_ParaEpi.txt\", sep=\"\\t\")\n",
    "df.head(2)"
   ]
  },
  {
   "cell_type": "code",
   "execution_count": 3,
   "metadata": {},
   "outputs": [
    {
     "data": {
      "text/plain": [
       "Label\n",
       "1ADQ_A    4\n",
       "1FBI_X    2\n",
       "1FNS_A    1\n",
       "1FSK_A    5\n",
       "1H0D_C    3\n",
       "         ..\n",
       "5MES_A    1\n",
       "5T5F_A    3\n",
       "5TH9_A    1\n",
       "5TLJ_X    2\n",
       "5TZ2_C    1\n",
       "Name: hotspot_ID, Length: 159, dtype: int64"
      ]
     },
     "execution_count": 3,
     "metadata": {},
     "output_type": "execute_result"
    }
   ],
   "source": [
    "df.groupby(\"Label\")[\"hotspot_ID\"].apply(lambda x: len(x.unique()))"
   ]
  },
  {
   "cell_type": "code",
   "execution_count": 4,
   "metadata": {},
   "outputs": [
    {
     "data": {
      "text/plain": [
       "hotspot_ID\n",
       "1ADQ_A_H1              23\n",
       "1ADQ_A_H2              12\n",
       "1ADQ_A_H3               3\n",
       "1ADQ_A_H4               2\n",
       "1FBI_X_H1               6\n",
       "                     ... \n",
       "5T5F_A_H15T5F_A_H2      7\n",
       "5T5F_A_H2               1\n",
       "5TH9_A_H1               5\n",
       "5TLJ_X_H1              13\n",
       "Unknown               520\n",
       "Name: seqAGEpitope, Length: 263, dtype: int64"
      ]
     },
     "execution_count": 4,
     "metadata": {},
     "output_type": "execute_result"
    }
   ],
   "source": [
    "df.groupby(\"hotspot_ID\")[\"seqAGEpitope\"].apply(lambda x: len(x.unique()))"
   ]
  },
  {
   "cell_type": "code",
   "execution_count": 5,
   "metadata": {},
   "outputs": [
    {
     "data": {
      "text/plain": [
       "hotspot_ID  seqAGEpitope                            \n",
       "1ADQ_A_H1   D1I1S1T1W1V1D1V1Q1V1A1K1T2V1L2H1Q1N1Y1          1\n",
       "            D1I1S1T1W1V1D1V2Q1V2A1K1T2V1L2N1Y1              7\n",
       "            K1D1I1S1T1W1V1D1V1Q1V1A1K1V1T3V1L2N1Y1        468\n",
       "            K1D1I1S1T1W1V1D1V2Q1V2A1K1T2V1L2N1Y1E1         62\n",
       "            K1D1I2S1T1W1V1D1V1Q1V1A1K1T2V1L2N1Y1E1H1       14\n",
       "                                                        ...  \n",
       "Unknown     Y1S1L1K1F2L1G1I2I1F1I1T1L2N1L1L1                3\n",
       "            Y1S1L1K1F2L1G1I2I1F1I1T1L2N1S1L1E1L1           36\n",
       "            Y1S1L1K1F2L1G1I2I1F1I1T2L2N1S1L1E1L1          592\n",
       "            Y1S1L1K1F2L1G1I3I1F1I1L2K1Y1N2L1L1          10749\n",
       "            Y1S2L1K1F2L1G1I3F1I1F1I1L1K1Y2                  1\n",
       "Name: seqABParatope, Length: 3150, dtype: int64"
      ]
     },
     "execution_count": 5,
     "metadata": {},
     "output_type": "execute_result"
    }
   ],
   "source": [
    "df.groupby([\"hotspot_ID\", \"seqAGEpitope\"])[\"seqABParatope\"].apply(lambda x: len(x.unique()))"
   ]
  },
  {
   "cell_type": "code",
   "execution_count": 6,
   "metadata": {},
   "outputs": [
    {
     "data": {
      "text/plain": [
       "7484259"
      ]
     },
     "execution_count": 6,
     "metadata": {},
     "output_type": "execute_result"
    }
   ],
   "source": [
    "df.groupby([\"hotspot_ID\", \"seqAGEpitope\"])[\"seqABParatope\"].apply(lambda x: len(x.unique())).sum()"
   ]
  },
  {
   "attachments": {},
   "cell_type": "markdown",
   "metadata": {},
   "source": [
    "## Paratope representations\n",
    "Need a good, convenient way to represent paratope, such that later we can easily derive a matrix and compare with xAI results."
   ]
  },
  {
   "cell_type": "code",
   "execution_count": 7,
   "metadata": {},
   "outputs": [
    {
     "data": {
      "text/plain": [
       "('LLGLYWYFDVW', 'L3L4G3L1Y2Y2F2V2W2*', 'X3X4X3X1X2--X2X2--X2X2*')"
      ]
     },
     "execution_count": 7,
     "metadata": {},
     "output_type": "execute_result"
    }
   ],
   "source": [
    "# Slide\tseqABParatope\tmotifABParatope\n",
    "s = df.iloc[0]\n",
    "s[\"Slide\"], s[\"seqABParatope\"], s[\"motifABParatope\"]"
   ]
  },
  {
   "cell_type": "code",
   "execution_count": 8,
   "metadata": {},
   "outputs": [
    {
     "data": {
      "text/plain": [
       "(19, 23)"
      ]
     },
     "execution_count": 8,
     "metadata": {},
     "output_type": "execute_result"
    }
   ],
   "source": [
    "len(s[\"seqABParatope\"]), len(s[\"motifABParatope\"])"
   ]
  },
  {
   "cell_type": "code",
   "execution_count": 9,
   "metadata": {},
   "outputs": [
    {
     "name": "stdout",
     "output_type": "stream",
     "text": [
      "LLGLY-YF-VW\n",
      "[[0. 0. 0. 0. 0. 0. 0. 0. 0. 1. 0. 0. 0. 0. 0. 0. 0. 0. 0. 0. 0. 0. 0. 0.\n",
      "  0. 0. 0. 0. 0. 1. 0. 0. 0. 0. 0. 0. 0. 0. 0. 0. 0. 0. 0. 0. 0. 1. 0. 0.\n",
      "  0. 0. 0. 0. 0. 0. 0. 0. 0. 0. 0. 0. 0. 0. 0. 0. 0. 0. 0. 0. 0. 1. 0. 0.\n",
      "  0. 0. 0. 0. 0. 0. 0. 0. 0. 0. 0. 0. 0. 0. 0. 0. 0. 0. 0. 0. 0. 0. 0. 0.\n",
      "  0. 0. 0. 1. 0. 0. 0. 0. 0. 0. 0. 0. 0. 0. 0. 0. 0. 0. 0. 0. 0. 0. 0. 0.\n",
      "  0. 0. 0. 0. 0. 0. 0. 0. 0. 0. 0. 0. 0. 0. 0. 0. 0. 0. 0. 1. 0. 0. 0. 0.\n",
      "  1. 0. 0. 0. 0. 0. 0. 0. 0. 0. 0. 0. 0. 0. 0. 0. 0. 0. 0. 0. 0. 0. 0. 0.\n",
      "  0. 0. 0. 0. 0. 0. 0. 0. 0. 0. 0. 0. 0. 0. 0. 0. 0. 0. 0. 0. 0. 0. 0. 0.\n",
      "  0. 0. 0. 0. 0. 1. 0. 0. 0. 0. 0. 0. 0. 0. 0. 0. 0. 0. 0. 0. 0. 0. 0. 0.\n",
      "  0. 0. 1. 0.]]\n"
     ]
    }
   ],
   "source": [
    "paratope = preprocessing.get_no_degree_paratope(s[\"seqABParatope\"], s[\"motifABParatope\"])\n",
    "print(paratope)\n",
    "\n",
    "enc = preprocessing.onehot_encode_paratope(paratope)\n",
    "print(enc)"
   ]
  },
  {
   "attachments": {},
   "cell_type": "markdown",
   "metadata": {},
   "source": [
    "## Add paratope data to slide sequences\n",
    "\n",
    "Previously we haven't been using paratope data. Now we fetch this data from Dataset4 and append it. We also provide here an exploratory analysis of paratopes in mini-Absolut. "
   ]
  },
  {
   "cell_type": "code",
   "execution_count": 35,
   "metadata": {},
   "outputs": [
    {
     "name": "stdout",
     "output_type": "stream",
     "text": [
      "(20000, 8)\n",
      "(21495, 12)\n"
     ]
    },
    {
     "data": {
      "text/html": [
       "<div>\n",
       "<style scoped>\n",
       "    .dataframe tbody tr th:only-of-type {\n",
       "        vertical-align: middle;\n",
       "    }\n",
       "\n",
       "    .dataframe tbody tr th {\n",
       "        vertical-align: top;\n",
       "    }\n",
       "\n",
       "    .dataframe thead th {\n",
       "        text-align: right;\n",
       "    }\n",
       "</style>\n",
       "<table border=\"1\" class=\"dataframe\">\n",
       "  <thead>\n",
       "    <tr style=\"text-align: right;\">\n",
       "      <th></th>\n",
       "      <th>ID_slide_Variant</th>\n",
       "      <th>CDR3</th>\n",
       "      <th>Best</th>\n",
       "      <th>Slide</th>\n",
       "      <th>Energy</th>\n",
       "      <th>Structure</th>\n",
       "      <th>UID</th>\n",
       "      <th>Antigen</th>\n",
       "      <th>Label</th>\n",
       "      <th>hotspot_ID</th>\n",
       "      <th>agregatesAGEpitope</th>\n",
       "      <th>agregatesABParatope</th>\n",
       "    </tr>\n",
       "  </thead>\n",
       "  <tbody>\n",
       "    <tr>\n",
       "      <th>0</th>\n",
       "      <td>6981712_03a</td>\n",
       "      <td>CARTLLFPHWYFDVW</td>\n",
       "      <td>True</td>\n",
       "      <td>TLLFPHWYFDV</td>\n",
       "      <td>-99.34</td>\n",
       "      <td>128868-LSRRLLSUSU</td>\n",
       "      <td>1ADQ_6981712_03a</td>\n",
       "      <td>1ADQ</td>\n",
       "      <td>1ADQ_A</td>\n",
       "      <td>1ADQ_A_H1</td>\n",
       "      <td>L1--R1--P1--W1--V1D2--V1Q1V1--A1K1--T1V1L1H1Q3...</td>\n",
       "      <td>T2L3L4F3P1H1W1Y1F2D1V4*</td>\n",
       "    </tr>\n",
       "    <tr>\n",
       "      <th>1</th>\n",
       "      <td>4817889_07a</td>\n",
       "      <td>CAREWGAPLLWLRWAMDYW</td>\n",
       "      <td>True</td>\n",
       "      <td>PLLWLRWAMDY</td>\n",
       "      <td>-95.26</td>\n",
       "      <td>128868-LSRRLLSUSU</td>\n",
       "      <td>1ADQ_4817889_07a</td>\n",
       "      <td>1ADQ</td>\n",
       "      <td>1ADQ_A</td>\n",
       "      <td>1ADQ_A_H1</td>\n",
       "      <td>L1--R1--P1--W1--V1D2--V1Q1V1--A1K1--T1V1L1H1Q3...</td>\n",
       "      <td>P2L3L4W3L1R1W1A1M2D1Y4*</td>\n",
       "    </tr>\n",
       "  </tbody>\n",
       "</table>\n",
       "</div>"
      ],
      "text/plain": [
       "  ID_slide_Variant                 CDR3  Best        Slide  Energy  \\\n",
       "0      6981712_03a      CARTLLFPHWYFDVW  True  TLLFPHWYFDV  -99.34   \n",
       "1      4817889_07a  CAREWGAPLLWLRWAMDYW  True  PLLWLRWAMDY  -95.26   \n",
       "\n",
       "           Structure               UID Antigen   Label hotspot_ID  \\\n",
       "0  128868-LSRRLLSUSU  1ADQ_6981712_03a    1ADQ  1ADQ_A  1ADQ_A_H1   \n",
       "1  128868-LSRRLLSUSU  1ADQ_4817889_07a    1ADQ  1ADQ_A  1ADQ_A_H1   \n",
       "\n",
       "                                  agregatesAGEpitope      agregatesABParatope  \n",
       "0  L1--R1--P1--W1--V1D2--V1Q1V1--A1K1--T1V1L1H1Q3...  T2L3L4F3P1H1W1Y1F2D1V4*  \n",
       "1  L1--R1--P1--W1--V1D2--V1Q1V1--A1K1--T1V1L1H1Q3...  P2L3L4W3L1R1W1A1M2D1Y4*  "
      ]
     },
     "execution_count": 35,
     "metadata": {},
     "output_type": "execute_result"
    }
   ],
   "source": [
    "df = utils.load_1v1_binary_dataset(\n",
    "    ag_pos=\"1ADQ\",\n",
    "    ag_neg=\"3VRL\",\n",
    "    num_samples=20000,\n",
    ")\n",
    "print(df.shape)\n",
    "\n",
    "df_para = pd.read_csv(\"../data/Absolut/processed/paratope_epitope/Task4_Merged_Slice_ParaEpi.txt\", sep=\"\\t\")\n",
    "df_para = df_para[[\n",
    "    \"Slide\",\n",
    "    \"Label\",\n",
    "    \"hotspot_ID\",\n",
    "    \"agregatesAGEpitope\", \n",
    "    \"agregatesABParatope\",\n",
    "    ]].copy()\n",
    "\n",
    "df_para = df_para.loc[\n",
    "    df_para[\"Label\"].str.split(\"_\").str[0].isin([\"1ADQ\", \"3VRL\"])\n",
    "    ].copy()\n",
    "\n",
    "\n",
    "df = pd.merge(df, df_para, on=\"Slide\", how=\"left\")\n",
    "print(df.shape)\n",
    "df.head(2)"
   ]
  },
  {
   "cell_type": "code",
   "execution_count": 36,
   "metadata": {},
   "outputs": [
    {
     "data": {
      "text/plain": [
       "Index(['ID_slide_Variant', 'CDR3', 'Best', 'Slide', 'Energy', 'Structure',\n",
       "       'UID', 'Antigen', 'Label', 'hotspot_ID', 'agregatesAGEpitope',\n",
       "       'agregatesABParatope'],\n",
       "      dtype='object')"
      ]
     },
     "execution_count": 36,
     "metadata": {},
     "output_type": "execute_result"
    }
   ],
   "source": [
    "df.columns"
   ]
  },
  {
   "attachments": {},
   "cell_type": "markdown",
   "metadata": {},
   "source": [
    "The table below shows that even though we removed duplicated entries corresponding to `ag_neg` in df, we still have this info in the `df_para`, leading to duplications. We can however asses fast whether in the cross-binding setting the paratope is the same!"
   ]
  },
  {
   "cell_type": "code",
   "execution_count": 37,
   "metadata": {},
   "outputs": [
    {
     "data": {
      "text/html": [
       "<div>\n",
       "<style scoped>\n",
       "    .dataframe tbody tr th:only-of-type {\n",
       "        vertical-align: middle;\n",
       "    }\n",
       "\n",
       "    .dataframe tbody tr th {\n",
       "        vertical-align: top;\n",
       "    }\n",
       "\n",
       "    .dataframe thead th {\n",
       "        text-align: right;\n",
       "    }\n",
       "</style>\n",
       "<table border=\"1\" class=\"dataframe\">\n",
       "  <thead>\n",
       "    <tr style=\"text-align: right;\">\n",
       "      <th></th>\n",
       "      <th>ID_slide_Variant</th>\n",
       "      <th>CDR3</th>\n",
       "      <th>Best</th>\n",
       "      <th>Slide</th>\n",
       "      <th>Energy</th>\n",
       "      <th>Structure</th>\n",
       "      <th>UID</th>\n",
       "      <th>Antigen</th>\n",
       "      <th>Label</th>\n",
       "      <th>hotspot_ID</th>\n",
       "      <th>agregatesAGEpitope</th>\n",
       "      <th>agregatesABParatope</th>\n",
       "    </tr>\n",
       "  </thead>\n",
       "  <tbody>\n",
       "    <tr>\n",
       "      <th>15188</th>\n",
       "      <td>5856736_01a</td>\n",
       "      <td>CAFDLLWYYWYFDVW</td>\n",
       "      <td>True</td>\n",
       "      <td>AFDLLWYYWYF</td>\n",
       "      <td>-99.70</td>\n",
       "      <td>137570-BSDLRDDSLU</td>\n",
       "      <td>3VRL_5856736_01a</td>\n",
       "      <td>3VRL</td>\n",
       "      <td>1ADQ_A</td>\n",
       "      <td>1ADQ_A_H1</td>\n",
       "      <td>S1--W1--V1D1--V2Q1V3--N1A1K1--T2V1L2H1--N1--Y1</td>\n",
       "      <td>A2F2--L2L3W4Y3Y1W2--F2*</td>\n",
       "    </tr>\n",
       "    <tr>\n",
       "      <th>15189</th>\n",
       "      <td>5856736_01a</td>\n",
       "      <td>CAFDLLWYYWYFDVW</td>\n",
       "      <td>True</td>\n",
       "      <td>AFDLLWYYWYF</td>\n",
       "      <td>-99.70</td>\n",
       "      <td>137570-BSDLRDDSLU</td>\n",
       "      <td>3VRL_5856736_01a</td>\n",
       "      <td>3VRL</td>\n",
       "      <td>3VRL_C</td>\n",
       "      <td>3VRL_C_H1</td>\n",
       "      <td>D1T1L2--V1Q1--A1--P1--C3K1--L1--A1L3G1P2--A1T1</td>\n",
       "      <td>A2F1--L2L1W3Y3Y3W1Y2F4*</td>\n",
       "    </tr>\n",
       "    <tr>\n",
       "      <th>2165</th>\n",
       "      <td>3895421_05a</td>\n",
       "      <td>CARCGAFGLHWYFDVW</td>\n",
       "      <td>True</td>\n",
       "      <td>AFGLHWYFDVW</td>\n",
       "      <td>-99.18</td>\n",
       "      <td>137248-RRDLDUDRDR</td>\n",
       "      <td>1ADQ_3895421_05a</td>\n",
       "      <td>1ADQ</td>\n",
       "      <td>1ADQ_A</td>\n",
       "      <td>1ADQ_A_H2</td>\n",
       "      <td>P1--V1F1--V3--D3V1S1Q2--Q1V1--T1K1P1--E1--Y1R2...</td>\n",
       "      <td>A2F3--L2H1W3Y1F4D1V4W3*</td>\n",
       "    </tr>\n",
       "    <tr>\n",
       "      <th>2166</th>\n",
       "      <td>3895421_05a</td>\n",
       "      <td>CARCGAFGLHWYFDVW</td>\n",
       "      <td>True</td>\n",
       "      <td>AFGLHWYFDVW</td>\n",
       "      <td>-99.18</td>\n",
       "      <td>137248-RRDLDUDRDR</td>\n",
       "      <td>1ADQ_3895421_05a</td>\n",
       "      <td>1ADQ</td>\n",
       "      <td>3VRL_C</td>\n",
       "      <td>3VRL_C_H1</td>\n",
       "      <td>D1T1L2--V1Q1--A1--P1--C3K1--L1--A1L3G1P2--A1T1</td>\n",
       "      <td>A2F1--L2H1W3Y3F3D1V2W4*</td>\n",
       "    </tr>\n",
       "    <tr>\n",
       "      <th>4151</th>\n",
       "      <td>3932039_01a</td>\n",
       "      <td>CAFPLRWYFDVW</td>\n",
       "      <td>True</td>\n",
       "      <td>AFPLRWYFDVW</td>\n",
       "      <td>-99.00</td>\n",
       "      <td>137248-RRDLDUDRDR</td>\n",
       "      <td>1ADQ_3932039_01a</td>\n",
       "      <td>1ADQ</td>\n",
       "      <td>3VRL_C</td>\n",
       "      <td>3VRL_C_H1</td>\n",
       "      <td>D1T1L2--V1Q1--A1--P1--C3K1--L1--A1L3G1P2--A1T1</td>\n",
       "      <td>A2F1--L2R1W3Y3F3D1V2W4*</td>\n",
       "    </tr>\n",
       "    <tr>\n",
       "      <th>...</th>\n",
       "      <td>...</td>\n",
       "      <td>...</td>\n",
       "      <td>...</td>\n",
       "      <td>...</td>\n",
       "      <td>...</td>\n",
       "      <td>...</td>\n",
       "      <td>...</td>\n",
       "      <td>...</td>\n",
       "      <td>...</td>\n",
       "      <td>...</td>\n",
       "      <td>...</td>\n",
       "      <td>...</td>\n",
       "    </tr>\n",
       "    <tr>\n",
       "      <th>21323</th>\n",
       "      <td>5912492_05a</td>\n",
       "      <td>CARLGYYTLGWYFDVW</td>\n",
       "      <td>True</td>\n",
       "      <td>YYTLGWYFDVW</td>\n",
       "      <td>-97.46</td>\n",
       "      <td>137248-RRDLDUDRDR</td>\n",
       "      <td>1ADQ_5912492_05a</td>\n",
       "      <td>1ADQ</td>\n",
       "      <td>1ADQ_A</td>\n",
       "      <td>1ADQ_A_H2</td>\n",
       "      <td>P1--V1F1--V3--D3V1S1Q2--Q1V1--T1K1P1--E1--Y1R2...</td>\n",
       "      <td>Y2Y3--L2G1W3Y1F4D1V4W3*</td>\n",
       "    </tr>\n",
       "    <tr>\n",
       "      <th>20642</th>\n",
       "      <td>4214718_03a</td>\n",
       "      <td>CTRYYYGFLFFAYW</td>\n",
       "      <td>True</td>\n",
       "      <td>YYYGFLFFAYW</td>\n",
       "      <td>-94.77</td>\n",
       "      <td>132966-BDURSRRDUR</td>\n",
       "      <td>1ADQ_4214718_03a</td>\n",
       "      <td>1ADQ</td>\n",
       "      <td>3VRL_C</td>\n",
       "      <td>3VRL_C_H1</td>\n",
       "      <td>W1M1--D1T2L2--V2Q1--A1--P1--C2K1--L1--L1G1P1--...</td>\n",
       "      <td>Y1Y2Y1--F1L3F3F3A1Y2W4*</td>\n",
       "    </tr>\n",
       "    <tr>\n",
       "      <th>20641</th>\n",
       "      <td>4214718_03a</td>\n",
       "      <td>CTRYYYGFLFFAYW</td>\n",
       "      <td>True</td>\n",
       "      <td>YYYGFLFFAYW</td>\n",
       "      <td>-94.77</td>\n",
       "      <td>132966-BDURSRRDUR</td>\n",
       "      <td>1ADQ_4214718_03a</td>\n",
       "      <td>1ADQ</td>\n",
       "      <td>1ADQ_A</td>\n",
       "      <td>1ADQ_A_H1</td>\n",
       "      <td>S1--W1--V1D1--V2Q1V3--N1A1K1--T2V1L2H1--N1--Y1</td>\n",
       "      <td>Y2Y2--G2F3L4F3F1A2--W2*</td>\n",
       "    </tr>\n",
       "    <tr>\n",
       "      <th>8725</th>\n",
       "      <td>648337_05a</td>\n",
       "      <td>CARSDYYYGSILFYYFDYW</td>\n",
       "      <td>True</td>\n",
       "      <td>YYYGSILFYYF</td>\n",
       "      <td>-97.87</td>\n",
       "      <td>137375-SLSDSRRSDL</td>\n",
       "      <td>3VRL_648337_05a</td>\n",
       "      <td>3VRL</td>\n",
       "      <td>1ADQ_A</td>\n",
       "      <td>1ADQ_A_H1</td>\n",
       "      <td>S1--W1--V1D1--V2Q1V3--N1A1K1--T2V1L2H1--N1--Y1</td>\n",
       "      <td>Y2Y2--S2I2L3F4Y3Y1F2*</td>\n",
       "    </tr>\n",
       "    <tr>\n",
       "      <th>8726</th>\n",
       "      <td>648337_05a</td>\n",
       "      <td>CARSDYYYGSILFYYFDYW</td>\n",
       "      <td>True</td>\n",
       "      <td>YYYGSILFYYF</td>\n",
       "      <td>-97.87</td>\n",
       "      <td>137375-SLSDSRRSDL</td>\n",
       "      <td>3VRL_648337_05a</td>\n",
       "      <td>3VRL</td>\n",
       "      <td>3VRL_C</td>\n",
       "      <td>3VRL_C_H1</td>\n",
       "      <td>W1M1--D1T2L2--V2Q1--A1--P1--C2K1--L1--L1G1P1--...</td>\n",
       "      <td>Y1Y2Y1--S1I3L3F3Y1Y2F4*</td>\n",
       "    </tr>\n",
       "  </tbody>\n",
       "</table>\n",
       "<p>2990 rows × 12 columns</p>\n",
       "</div>"
      ],
      "text/plain": [
       "      ID_slide_Variant                 CDR3  Best        Slide  Energy  \\\n",
       "15188      5856736_01a      CAFDLLWYYWYFDVW  True  AFDLLWYYWYF  -99.70   \n",
       "15189      5856736_01a      CAFDLLWYYWYFDVW  True  AFDLLWYYWYF  -99.70   \n",
       "2165       3895421_05a     CARCGAFGLHWYFDVW  True  AFGLHWYFDVW  -99.18   \n",
       "2166       3895421_05a     CARCGAFGLHWYFDVW  True  AFGLHWYFDVW  -99.18   \n",
       "4151       3932039_01a         CAFPLRWYFDVW  True  AFPLRWYFDVW  -99.00   \n",
       "...                ...                  ...   ...          ...     ...   \n",
       "21323      5912492_05a     CARLGYYTLGWYFDVW  True  YYTLGWYFDVW  -97.46   \n",
       "20642      4214718_03a       CTRYYYGFLFFAYW  True  YYYGFLFFAYW  -94.77   \n",
       "20641      4214718_03a       CTRYYYGFLFFAYW  True  YYYGFLFFAYW  -94.77   \n",
       "8725        648337_05a  CARSDYYYGSILFYYFDYW  True  YYYGSILFYYF  -97.87   \n",
       "8726        648337_05a  CARSDYYYGSILFYYFDYW  True  YYYGSILFYYF  -97.87   \n",
       "\n",
       "               Structure               UID Antigen   Label hotspot_ID  \\\n",
       "15188  137570-BSDLRDDSLU  3VRL_5856736_01a    3VRL  1ADQ_A  1ADQ_A_H1   \n",
       "15189  137570-BSDLRDDSLU  3VRL_5856736_01a    3VRL  3VRL_C  3VRL_C_H1   \n",
       "2165   137248-RRDLDUDRDR  1ADQ_3895421_05a    1ADQ  1ADQ_A  1ADQ_A_H2   \n",
       "2166   137248-RRDLDUDRDR  1ADQ_3895421_05a    1ADQ  3VRL_C  3VRL_C_H1   \n",
       "4151   137248-RRDLDUDRDR  1ADQ_3932039_01a    1ADQ  3VRL_C  3VRL_C_H1   \n",
       "...                  ...               ...     ...     ...        ...   \n",
       "21323  137248-RRDLDUDRDR  1ADQ_5912492_05a    1ADQ  1ADQ_A  1ADQ_A_H2   \n",
       "20642  132966-BDURSRRDUR  1ADQ_4214718_03a    1ADQ  3VRL_C  3VRL_C_H1   \n",
       "20641  132966-BDURSRRDUR  1ADQ_4214718_03a    1ADQ  1ADQ_A  1ADQ_A_H1   \n",
       "8725   137375-SLSDSRRSDL   3VRL_648337_05a    3VRL  1ADQ_A  1ADQ_A_H1   \n",
       "8726   137375-SLSDSRRSDL   3VRL_648337_05a    3VRL  3VRL_C  3VRL_C_H1   \n",
       "\n",
       "                                      agregatesAGEpitope  \\\n",
       "15188     S1--W1--V1D1--V2Q1V3--N1A1K1--T2V1L2H1--N1--Y1   \n",
       "15189     D1T1L2--V1Q1--A1--P1--C3K1--L1--A1L3G1P2--A1T1   \n",
       "2165   P1--V1F1--V3--D3V1S1Q2--Q1V1--T1K1P1--E1--Y1R2...   \n",
       "2166      D1T1L2--V1Q1--A1--P1--C3K1--L1--A1L3G1P2--A1T1   \n",
       "4151      D1T1L2--V1Q1--A1--P1--C3K1--L1--A1L3G1P2--A1T1   \n",
       "...                                                  ...   \n",
       "21323  P1--V1F1--V3--D3V1S1Q2--Q1V1--T1K1P1--E1--Y1R2...   \n",
       "20642  W1M1--D1T2L2--V2Q1--A1--P1--C2K1--L1--L1G1P1--...   \n",
       "20641     S1--W1--V1D1--V2Q1V3--N1A1K1--T2V1L2H1--N1--Y1   \n",
       "8725      S1--W1--V1D1--V2Q1V3--N1A1K1--T2V1L2H1--N1--Y1   \n",
       "8726   W1M1--D1T2L2--V2Q1--A1--P1--C2K1--L1--L1G1P1--...   \n",
       "\n",
       "           agregatesABParatope  \n",
       "15188  A2F2--L2L3W4Y3Y1W2--F2*  \n",
       "15189  A2F1--L2L1W3Y3Y3W1Y2F4*  \n",
       "2165   A2F3--L2H1W3Y1F4D1V4W3*  \n",
       "2166   A2F1--L2H1W3Y3F3D1V2W4*  \n",
       "4151   A2F1--L2R1W3Y3F3D1V2W4*  \n",
       "...                        ...  \n",
       "21323  Y2Y3--L2G1W3Y1F4D1V4W3*  \n",
       "20642  Y1Y2Y1--F1L3F3F3A1Y2W4*  \n",
       "20641  Y2Y2--G2F3L4F3F1A2--W2*  \n",
       "8725     Y2Y2--S2I2L3F4Y3Y1F2*  \n",
       "8726   Y1Y2Y1--S1I3L3F3Y1Y2F4*  \n",
       "\n",
       "[2990 rows x 12 columns]"
      ]
     },
     "execution_count": 37,
     "metadata": {},
     "output_type": "execute_result"
    }
   ],
   "source": [
    "df.loc[df[\"Slide\"].duplicated(keep=False)].sort_values(\"Slide\")"
   ]
  },
  {
   "attachments": {},
   "cell_type": "markdown",
   "metadata": {},
   "source": [
    "! Track duplicates and double-check on why we are getting them here. In Task4, where are the binding energies? Are they also high-binders? Make sure it makes sense."
   ]
  },
  {
   "cell_type": "code",
   "execution_count": null,
   "metadata": {},
   "outputs": [],
   "source": []
  }
 ],
 "metadata": {
  "kernelspec": {
   "display_name": "nco",
   "language": "python",
   "name": "python3"
  },
  "language_info": {
   "codemirror_mode": {
    "name": "ipython",
    "version": 3
   },
   "file_extension": ".py",
   "mimetype": "text/x-python",
   "name": "python",
   "nbconvert_exporter": "python",
   "pygments_lexer": "ipython3",
   "version": "3.8.16"
  },
  "orig_nbformat": 4,
  "vscode": {
   "interpreter": {
    "hash": "3ec5334dbdc4a6f7f47854c251e8d2556e95e85daa09db51a6f2bda295b96836"
   }
  }
 },
 "nbformat": 4,
 "nbformat_minor": 2
}
