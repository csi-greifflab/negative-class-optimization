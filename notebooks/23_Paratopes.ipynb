{
 "cells": [
  {
   "attachments": {},
   "cell_type": "markdown",
   "metadata": {},
   "source": [
    "# Paratopes in Absolut\n",
    "\n",
    "We explore the paratope data in Absolut."
   ]
  },
  {
   "cell_type": "code",
   "execution_count": 1,
   "metadata": {},
   "outputs": [
    {
     "name": "stderr",
     "output_type": "stream",
     "text": [
      "/home/eugen/miniconda3/envs/nco/lib/python3.8/site-packages/tqdm/auto.py:22: TqdmWarning: IProgress not found. Please update jupyter and ipywidgets. See https://ipywidgets.readthedocs.io/en/stable/user_install.html\n",
      "  from .autonotebook import tqdm as notebook_tqdm\n"
     ]
    }
   ],
   "source": [
    "from pathlib import Path\n",
    "import numpy as np\n",
    "import pandas as pd\n",
    "import matplotlib.pyplot as plt\n",
    "import seaborn as sns\n",
    "import math\n",
    "\n",
    "from NegativeClassOptimization import utils"
   ]
  },
  {
   "attachments": {},
   "cell_type": "markdown",
   "metadata": {},
   "source": [
    "## Dataset 4 data organization\n",
    "\n",
    "Looks like `Task4_Merged_Slice_ParaEpi.zip` could be the only file with everything we would currently need."
   ]
  },
  {
   "cell_type": "code",
   "execution_count": 2,
   "metadata": {},
   "outputs": [
    {
     "data": {
      "text/html": [
       "<div>\n",
       "<style scoped>\n",
       "    .dataframe tbody tr th:only-of-type {\n",
       "        vertical-align: middle;\n",
       "    }\n",
       "\n",
       "    .dataframe tbody tr th {\n",
       "        vertical-align: top;\n",
       "    }\n",
       "\n",
       "    .dataframe thead th {\n",
       "        text-align: right;\n",
       "    }\n",
       "</style>\n",
       "<table border=\"1\" class=\"dataframe\">\n",
       "  <thead>\n",
       "    <tr style=\"text-align: right;\">\n",
       "      <th></th>\n",
       "      <th>Slide</th>\n",
       "      <th>Label</th>\n",
       "      <th>hotspot_ID</th>\n",
       "      <th>seqAGEpitope</th>\n",
       "      <th>motifAGEpitope</th>\n",
       "      <th>agregatesAGEpitope</th>\n",
       "      <th>chemicalAGEpitope</th>\n",
       "      <th>seqABParatope</th>\n",
       "      <th>motifABParatope</th>\n",
       "      <th>agregatesABParatope</th>\n",
       "      <th>chemicalABParatope</th>\n",
       "      <th>AAcompoFullSlice</th>\n",
       "      <th>sizeCDR3</th>\n",
       "    </tr>\n",
       "  </thead>\n",
       "  <tbody>\n",
       "    <tr>\n",
       "      <th>0</th>\n",
       "      <td>LLGLYWYFDVW</td>\n",
       "      <td>1ADQ_A</td>\n",
       "      <td>1ADQ_A_H1</td>\n",
       "      <td>S1W1V1D1V2Q1V3N1A1K1T2V1L2H1N1Y1</td>\n",
       "      <td>X1--X1--X1X1--X2X1X3--X1X1X1--X2X1X2X1--X1--X1</td>\n",
       "      <td>S1--W1--V1D1--V2Q1V3--N1A1K1--T2V1L2H1--N1--Y1</td>\n",
       "      <td>p1--r1--n1c1--n2p1n3--p1n1c1--p2n1n2c1--p1--r1</td>\n",
       "      <td>L3L4G3L1Y2Y2F2V2W2*</td>\n",
       "      <td>X3X4X3X1X2--X2X2--X2X2*</td>\n",
       "      <td>L3L4G3L1Y2--Y2F2--V2W2*</td>\n",
       "      <td>n3n4n3n1r2--r2r2--n2r2*</td>\n",
       "      <td>0_0_0.0909091_0_0.0909091_0.0909091_0_0_0_0.27...</td>\n",
       "      <td>15</td>\n",
       "    </tr>\n",
       "    <tr>\n",
       "      <th>1</th>\n",
       "      <td>YYSNYWYFDVW</td>\n",
       "      <td>1ADQ_A</td>\n",
       "      <td>1ADQ_A_H2</td>\n",
       "      <td>P1V1F1V3D3V1S1Q2Q1V1T1K1P1E1Y1R2V1V1</td>\n",
       "      <td>X1--X1X1--X3--X3X1X1X2--X1X1--X1X1X1--X1--X1X2...</td>\n",
       "      <td>P1--V1F1--V3--D3V1S1Q2--Q1V1--T1K1P1--E1--Y1R2...</td>\n",
       "      <td>n1--n1r1--n3--c3n1p1p2--p1n1--p1c1n1--c1--r1c2...</td>\n",
       "      <td>Y2Y3N2Y1W3Y1F4D1V4W3*</td>\n",
       "      <td>X2X3--X2X1X3X1X4X1X4X3*</td>\n",
       "      <td>Y2Y3--N2Y1W3Y1F4D1V4W3*</td>\n",
       "      <td>r2r3--p2r1r3r1r4c1n4r3*</td>\n",
       "      <td>0_0_0.0909091_0_0.0909091_0_0_0_0_0_0_0.090909...</td>\n",
       "      <td>14</td>\n",
       "    </tr>\n",
       "  </tbody>\n",
       "</table>\n",
       "</div>"
      ],
      "text/plain": [
       "         Slide   Label hotspot_ID                          seqAGEpitope  \\\n",
       "0  LLGLYWYFDVW  1ADQ_A  1ADQ_A_H1      S1W1V1D1V2Q1V3N1A1K1T2V1L2H1N1Y1   \n",
       "1  YYSNYWYFDVW  1ADQ_A  1ADQ_A_H2  P1V1F1V3D3V1S1Q2Q1V1T1K1P1E1Y1R2V1V1   \n",
       "\n",
       "                                      motifAGEpitope  \\\n",
       "0     X1--X1--X1X1--X2X1X3--X1X1X1--X2X1X2X1--X1--X1   \n",
       "1  X1--X1X1--X3--X3X1X1X2--X1X1--X1X1X1--X1--X1X2...   \n",
       "\n",
       "                                  agregatesAGEpitope  \\\n",
       "0     S1--W1--V1D1--V2Q1V3--N1A1K1--T2V1L2H1--N1--Y1   \n",
       "1  P1--V1F1--V3--D3V1S1Q2--Q1V1--T1K1P1--E1--Y1R2...   \n",
       "\n",
       "                                   chemicalAGEpitope          seqABParatope  \\\n",
       "0     p1--r1--n1c1--n2p1n3--p1n1c1--p2n1n2c1--p1--r1    L3L4G3L1Y2Y2F2V2W2*   \n",
       "1  n1--n1r1--n3--c3n1p1p2--p1n1--p1c1n1--c1--r1c2...  Y2Y3N2Y1W3Y1F4D1V4W3*   \n",
       "\n",
       "           motifABParatope      agregatesABParatope       chemicalABParatope  \\\n",
       "0  X3X4X3X1X2--X2X2--X2X2*  L3L4G3L1Y2--Y2F2--V2W2*  n3n4n3n1r2--r2r2--n2r2*   \n",
       "1  X2X3--X2X1X3X1X4X1X4X3*  Y2Y3--N2Y1W3Y1F4D1V4W3*  r2r3--p2r1r3r1r4c1n4r3*   \n",
       "\n",
       "                                    AAcompoFullSlice  sizeCDR3  \n",
       "0  0_0_0.0909091_0_0.0909091_0.0909091_0_0_0_0.27...        15  \n",
       "1  0_0_0.0909091_0_0.0909091_0_0_0_0_0_0_0.090909...        14  "
      ]
     },
     "execution_count": 2,
     "metadata": {},
     "output_type": "execute_result"
    }
   ],
   "source": [
    "df = pd.read_csv(\"../data/Absolut/processed/paratope_epitope/Task4_Merged_Slice_ParaEpi.txt\", sep=\"\\t\")\n",
    "df.head(2)"
   ]
  },
  {
   "cell_type": "code",
   "execution_count": 3,
   "metadata": {},
   "outputs": [
    {
     "data": {
      "text/plain": [
       "Label\n",
       "1ADQ_A    4\n",
       "1FBI_X    2\n",
       "1FNS_A    1\n",
       "1FSK_A    5\n",
       "1H0D_C    3\n",
       "         ..\n",
       "5MES_A    1\n",
       "5T5F_A    3\n",
       "5TH9_A    1\n",
       "5TLJ_X    2\n",
       "5TZ2_C    1\n",
       "Name: hotspot_ID, Length: 159, dtype: int64"
      ]
     },
     "execution_count": 3,
     "metadata": {},
     "output_type": "execute_result"
    }
   ],
   "source": [
    "df.groupby(\"Label\")[\"hotspot_ID\"].apply(lambda x: len(x.unique()))"
   ]
  },
  {
   "cell_type": "code",
   "execution_count": 4,
   "metadata": {},
   "outputs": [
    {
     "data": {
      "text/plain": [
       "hotspot_ID\n",
       "1ADQ_A_H1              23\n",
       "1ADQ_A_H2              12\n",
       "1ADQ_A_H3               3\n",
       "1ADQ_A_H4               2\n",
       "1FBI_X_H1               6\n",
       "                     ... \n",
       "5T5F_A_H15T5F_A_H2      7\n",
       "5T5F_A_H2               1\n",
       "5TH9_A_H1               5\n",
       "5TLJ_X_H1              13\n",
       "Unknown               520\n",
       "Name: seqAGEpitope, Length: 263, dtype: int64"
      ]
     },
     "execution_count": 4,
     "metadata": {},
     "output_type": "execute_result"
    }
   ],
   "source": [
    "df.groupby(\"hotspot_ID\")[\"seqAGEpitope\"].apply(lambda x: len(x.unique()))"
   ]
  },
  {
   "cell_type": "code",
   "execution_count": 5,
   "metadata": {},
   "outputs": [
    {
     "data": {
      "text/plain": [
       "hotspot_ID  seqAGEpitope                            \n",
       "1ADQ_A_H1   D1I1S1T1W1V1D1V1Q1V1A1K1T2V1L2H1Q1N1Y1          1\n",
       "            D1I1S1T1W1V1D1V2Q1V2A1K1T2V1L2N1Y1              7\n",
       "            K1D1I1S1T1W1V1D1V1Q1V1A1K1V1T3V1L2N1Y1        468\n",
       "            K1D1I1S1T1W1V1D1V2Q1V2A1K1T2V1L2N1Y1E1         62\n",
       "            K1D1I2S1T1W1V1D1V1Q1V1A1K1T2V1L2N1Y1E1H1       14\n",
       "                                                        ...  \n",
       "Unknown     Y1S1L1K1F2L1G1I2I1F1I1T1L2N1L1L1                3\n",
       "            Y1S1L1K1F2L1G1I2I1F1I1T1L2N1S1L1E1L1           36\n",
       "            Y1S1L1K1F2L1G1I2I1F1I1T2L2N1S1L1E1L1          592\n",
       "            Y1S1L1K1F2L1G1I3I1F1I1L2K1Y1N2L1L1          10749\n",
       "            Y1S2L1K1F2L1G1I3F1I1F1I1L1K1Y2                  1\n",
       "Name: seqABParatope, Length: 3150, dtype: int64"
      ]
     },
     "execution_count": 5,
     "metadata": {},
     "output_type": "execute_result"
    }
   ],
   "source": [
    "df.groupby([\"hotspot_ID\", \"seqAGEpitope\"])[\"seqABParatope\"].apply(lambda x: len(x.unique()))"
   ]
  },
  {
   "cell_type": "code",
   "execution_count": 6,
   "metadata": {},
   "outputs": [
    {
     "data": {
      "text/plain": [
       "7484259"
      ]
     },
     "execution_count": 6,
     "metadata": {},
     "output_type": "execute_result"
    }
   ],
   "source": [
    "df.groupby([\"hotspot_ID\", \"seqAGEpitope\"])[\"seqABParatope\"].apply(lambda x: len(x.unique())).sum()"
   ]
  },
  {
   "attachments": {},
   "cell_type": "markdown",
   "metadata": {},
   "source": [
    "Need a good, convenient way to represent paratope, such that later we can easily derive a matrix and compare with xAI results."
   ]
  },
  {
   "cell_type": "code",
   "execution_count": 9,
   "metadata": {},
   "outputs": [
    {
     "data": {
      "text/plain": [
       "('LLGLYWYFDVW', 'L3L4G3L1Y2Y2F2V2W2*', 'X3X4X3X1X2--X2X2--X2X2*')"
      ]
     },
     "execution_count": 9,
     "metadata": {},
     "output_type": "execute_result"
    }
   ],
   "source": [
    "# Slide\tseqABParatope\tmotifABParatope\n",
    "s = df.iloc[0]\n",
    "s[\"Slide\"], s[\"seqABParatope\"], s[\"motifABParatope\"]"
   ]
  },
  {
   "cell_type": "code",
   "execution_count": 18,
   "metadata": {},
   "outputs": [
    {
     "data": {
      "text/plain": [
       "(19, 23)"
      ]
     },
     "execution_count": 18,
     "metadata": {},
     "output_type": "execute_result"
    }
   ],
   "source": [
    "len(s[\"seqABParatope\"]), len(s[\"motifABParatope\"])"
   ]
  },
  {
   "cell_type": "code",
   "execution_count": 26,
   "metadata": {},
   "outputs": [
    {
     "data": {
      "text/plain": [
       "'LLGLY-YF-VW'"
      ]
     },
     "execution_count": 26,
     "metadata": {},
     "output_type": "execute_result"
    }
   ],
   "source": [
    "def get_no_degree_paratope(seqAB: str, motifAB: str) -> str:    \n",
    "    simple_paratope = motifAB\n",
    "    prev_char = None\n",
    "    for i, char in enumerate(seqAB):\n",
    "        if not char.isdigit():\n",
    "            simple_paratope = simple_paratope.replace(\"X\", char, 1)\n",
    "\n",
    "    simple_paratope = simple_paratope.replace(\"*\", \"\")\n",
    "    simple_paratope = simple_paratope.replace(\"--\", \"-\")\n",
    "\n",
    "    simple_paratope_no_deg = \"\"\n",
    "    for char in simple_paratope:\n",
    "        if char.isdigit():\n",
    "            pass\n",
    "        else:\n",
    "            simple_paratope_no_deg += char\n",
    "\n",
    "    return simple_paratope_no_deg\n",
    "\n",
    "get_no_degree_paratope(s[\"seqABParatope\"], s[\"motifABParatope\"])"
   ]
  },
  {
   "cell_type": "code",
   "execution_count": 27,
   "metadata": {},
   "outputs": [
    {
     "ename": "SyntaxError",
     "evalue": "invalid syntax (441527.py, line 1)",
     "output_type": "error",
     "traceback": [
      "\u001b[0;36m  Cell \u001b[0;32mIn[27], line 1\u001b[0;36m\u001b[0m\n\u001b[0;31m    ~One hot encode the paratope\u001b[0m\n\u001b[0m         ^\u001b[0m\n\u001b[0;31mSyntaxError\u001b[0m\u001b[0;31m:\u001b[0m invalid syntax\n"
     ]
    }
   ],
   "source": [
    "# ~One hot encode the paratope"
   ]
  }
 ],
 "metadata": {
  "kernelspec": {
   "display_name": "nco",
   "language": "python",
   "name": "python3"
  },
  "language_info": {
   "codemirror_mode": {
    "name": "ipython",
    "version": 3
   },
   "file_extension": ".py",
   "mimetype": "text/x-python",
   "name": "python",
   "nbconvert_exporter": "python",
   "pygments_lexer": "ipython3",
   "version": "3.8.16 (default, Jan 17 2023, 23:13:24) \n[GCC 11.2.0]"
  },
  "orig_nbformat": 4,
  "vscode": {
   "interpreter": {
    "hash": "3ec5334dbdc4a6f7f47854c251e8d2556e95e85daa09db51a6f2bda295b96836"
   }
  }
 },
 "nbformat": 4,
 "nbformat_minor": 2
}
