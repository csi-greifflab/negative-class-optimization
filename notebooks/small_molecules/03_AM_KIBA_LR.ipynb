{
 "cells": [
  {
   "cell_type": "code",
   "execution_count": 10,
   "metadata": {},
   "outputs": [],
   "source": [
    "import os\n",
    "import pandas as pd\n",
    "import numpy as np\n",
    "import matplotlib.pyplot as plt\n",
    "import seaborn as sns\n",
    "from sklearn.linear_model import LogisticRegression\n",
    "from sklearn.metrics import accuracy_score\n",
    "import joblib as jb\n",
    "import pickle\n"
   ]
  },
  {
   "cell_type": "code",
   "execution_count": 11,
   "metadata": {},
   "outputs": [],
   "source": [
    "targets_balanced_list = ['Q96GD4', 'P49841', 'Q13627', 'P06239', 'Q13464', 'P11309']"
   ]
  },
  {
   "cell_type": "code",
   "execution_count": 12,
   "metadata": {},
   "outputs": [],
   "source": [
    "#I want to train a simple logistic regression model on the data and save the model and the results on test data\n",
    "def train_log_reg(df_train, df_test, target, path, random_state=42):\n",
    "    X_train = np.array(df_train['X'].tolist())\n",
    "    y_train = df_train['Y_binary']\n",
    "    \n",
    "    X_test = np.array(df_test['X'].tolist())\n",
    "    y_test = df_test['Y_binary']\n",
    "    \n",
    "    model = LogisticRegression(random_state=random_state)\n",
    "    model.fit(X_train, y_train)\n",
    "    \n",
    "    y_pred = model.predict(X_test)\n",
    "    acc = accuracy_score(y_test, y_pred)\n",
    "    \n",
    "    model_path = os.path.join(path, f'{target}_log_reg_{random_state}.joblib')\n",
    "    jb.dump(model, model_path)\n",
    "    \n",
    "    return acc"
   ]
  },
  {
   "cell_type": "code",
   "execution_count": 19,
   "metadata": {},
   "outputs": [
    {
     "data": {
      "text/html": [
       "<div>\n",
       "<style scoped>\n",
       "    .dataframe tbody tr th:only-of-type {\n",
       "        vertical-align: middle;\n",
       "    }\n",
       "\n",
       "    .dataframe tbody tr th {\n",
       "        vertical-align: top;\n",
       "    }\n",
       "\n",
       "    .dataframe thead th {\n",
       "        text-align: right;\n",
       "    }\n",
       "</style>\n",
       "<table border=\"1\" class=\"dataframe\">\n",
       "  <thead>\n",
       "    <tr style=\"text-align: right;\">\n",
       "      <th></th>\n",
       "      <th>Target</th>\n",
       "      <th>Accuracy</th>\n",
       "    </tr>\n",
       "  </thead>\n",
       "  <tbody>\n",
       "    <tr>\n",
       "      <th>0</th>\n",
       "      <td>Q96GD4</td>\n",
       "      <td>0.503817</td>\n",
       "    </tr>\n",
       "    <tr>\n",
       "      <th>1</th>\n",
       "      <td>P49841</td>\n",
       "      <td>0.486667</td>\n",
       "    </tr>\n",
       "    <tr>\n",
       "      <th>2</th>\n",
       "      <td>Q13627</td>\n",
       "      <td>0.608000</td>\n",
       "    </tr>\n",
       "    <tr>\n",
       "      <th>3</th>\n",
       "      <td>P06239</td>\n",
       "      <td>0.625000</td>\n",
       "    </tr>\n",
       "    <tr>\n",
       "      <th>4</th>\n",
       "      <td>Q13464</td>\n",
       "      <td>0.575000</td>\n",
       "    </tr>\n",
       "    <tr>\n",
       "      <th>5</th>\n",
       "      <td>P11309</td>\n",
       "      <td>0.552239</td>\n",
       "    </tr>\n",
       "  </tbody>\n",
       "</table>\n",
       "</div>"
      ],
      "text/plain": [
       "   Target  Accuracy\n",
       "0  Q96GD4  0.503817\n",
       "1  P49841  0.486667\n",
       "2  Q13627  0.608000\n",
       "3  P06239  0.625000\n",
       "4  Q13464  0.575000\n",
       "5  P11309  0.552239"
      ]
     },
     "execution_count": 19,
     "metadata": {},
     "output_type": "execute_result"
    }
   ],
   "source": [
    "split =42\n",
    "random_state=42\n",
    "accs = []\n",
    "task = 'vs_Weak'\n",
    "for target in targets_balanced_list:\n",
    "    path_to_target = os.path.join('./data/processed', target)\n",
    "    path_vs_task = os.path.join(path_to_target, task)\n",
    "    \n",
    "    df_train = pd.read_pickle(f'./data/processed/{target}/{task}/split_{split}/train.pkl')\n",
    "    df_test = pd.read_pickle(f'./data/processed/{target}/{task}/split_{split}/test.pkl')\n",
    "    acc = train_log_reg(df_train, df_test, target, path_vs_task, random_state=random_state)\n",
    "    accs.append(acc)\n",
    "vs_weak_acc = pd.DataFrame(zip(targets_balanced_list, accs), columns=['Target', 'Accuracy'])\n",
    "vs_weak_acc"
   ]
  },
  {
   "cell_type": "code",
   "execution_count": 20,
   "metadata": {},
   "outputs": [
    {
     "data": {
      "text/html": [
       "<div>\n",
       "<style scoped>\n",
       "    .dataframe tbody tr th:only-of-type {\n",
       "        vertical-align: middle;\n",
       "    }\n",
       "\n",
       "    .dataframe tbody tr th {\n",
       "        vertical-align: top;\n",
       "    }\n",
       "\n",
       "    .dataframe thead th {\n",
       "        text-align: right;\n",
       "    }\n",
       "</style>\n",
       "<table border=\"1\" class=\"dataframe\">\n",
       "  <thead>\n",
       "    <tr style=\"text-align: right;\">\n",
       "      <th></th>\n",
       "      <th>Target</th>\n",
       "      <th>Accuracy</th>\n",
       "    </tr>\n",
       "  </thead>\n",
       "  <tbody>\n",
       "    <tr>\n",
       "      <th>0</th>\n",
       "      <td>Q96GD4</td>\n",
       "      <td>0.572519</td>\n",
       "    </tr>\n",
       "    <tr>\n",
       "      <th>1</th>\n",
       "      <td>P49841</td>\n",
       "      <td>0.633333</td>\n",
       "    </tr>\n",
       "    <tr>\n",
       "      <th>2</th>\n",
       "      <td>Q13627</td>\n",
       "      <td>0.592000</td>\n",
       "    </tr>\n",
       "    <tr>\n",
       "      <th>3</th>\n",
       "      <td>P06239</td>\n",
       "      <td>0.698529</td>\n",
       "    </tr>\n",
       "    <tr>\n",
       "      <th>4</th>\n",
       "      <td>Q13464</td>\n",
       "      <td>0.641667</td>\n",
       "    </tr>\n",
       "    <tr>\n",
       "      <th>5</th>\n",
       "      <td>P11309</td>\n",
       "      <td>0.664179</td>\n",
       "    </tr>\n",
       "  </tbody>\n",
       "</table>\n",
       "</div>"
      ],
      "text/plain": [
       "   Target  Accuracy\n",
       "0  Q96GD4  0.572519\n",
       "1  P49841  0.633333\n",
       "2  Q13627  0.592000\n",
       "3  P06239  0.698529\n",
       "4  Q13464  0.641667\n",
       "5  P11309  0.664179"
      ]
     },
     "execution_count": 20,
     "metadata": {},
     "output_type": "execute_result"
    }
   ],
   "source": [
    "task = 'vs_Non-binder'\n",
    "accs = []\n",
    "for target in targets_balanced_list:\n",
    "    path_to_target = os.path.join('./data/processed', target)\n",
    "    path_vs_task = os.path.join(path_to_target, task)\n",
    "    \n",
    "    df_train = pd.read_pickle(f'./data/processed/{target}/{task}/split_{split}/train.pkl')\n",
    "    df_test = pd.read_pickle(f'./data/processed/{target}/{task}/split_{split}/test.pkl')\n",
    "    acc = train_log_reg(df_train, df_test, target, path_vs_task, random_state=random_state)\n",
    "    accs.append(acc)\n",
    "vs_non_binder_acc = pd.DataFrame(zip(targets_balanced_list, accs), columns=['Target', 'Accuracy'])\n",
    "vs_non_binder_acc"
   ]
  }
 ],
 "metadata": {
  "kernelspec": {
   "display_name": "nco",
   "language": "python",
   "name": "python3"
  },
  "language_info": {
   "codemirror_mode": {
    "name": "ipython",
    "version": 3
   },
   "file_extension": ".py",
   "mimetype": "text/x-python",
   "name": "python",
   "nbconvert_exporter": "python",
   "pygments_lexer": "ipython3",
   "version": "undefined.undefined.undefined"
  }
 },
 "nbformat": 4,
 "nbformat_minor": 2
}
