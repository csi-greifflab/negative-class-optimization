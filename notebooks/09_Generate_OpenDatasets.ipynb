{
 "cells": [
  {
   "cell_type": "markdown",
   "metadata": {},
   "source": [
    "# Generating Open Datasets.\n",
    "\n",
    "In this notebook we explore the generation of open datasets."
   ]
  },
  {
   "cell_type": "code",
   "execution_count": 1,
   "metadata": {},
   "outputs": [
    {
     "name": "stderr",
     "output_type": "stream",
     "text": [
      "/home/eugen/miniconda3/envs/ab-negative-training/lib/python3.8/site-packages/tqdm/auto.py:22: TqdmWarning: IProgress not found. Please update jupyter and ipywidgets. See https://ipywidgets.readthedocs.io/en/stable/user_install.html\n",
      "  from .autonotebook import tqdm as notebook_tqdm\n"
     ]
    }
   ],
   "source": [
    "from itertools import combinations\n",
    "from pathlib import Path\n",
    "import json\n",
    "import numpy as np\n",
    "import pandas as pd\n",
    "import matplotlib.pyplot as plt\n",
    "import seaborn as sns\n",
    "\n",
    "from sklearn import preprocessing\n",
    "\n",
    "import NegativeClassOptimization.utils as utils\n",
    "import NegativeClassOptimization.config as config\n",
    "import NegativeClassOptimization.ml as ml\n",
    "import NegativeClassOptimization.preprocessing as nco_preprocessing"
   ]
  },
  {
   "cell_type": "code",
   "execution_count": 2,
   "metadata": {},
   "outputs": [
    {
     "data": {
      "text/html": [
       "<div>\n",
       "<style scoped>\n",
       "    .dataframe tbody tr th:only-of-type {\n",
       "        vertical-align: middle;\n",
       "    }\n",
       "\n",
       "    .dataframe tbody tr th {\n",
       "        vertical-align: top;\n",
       "    }\n",
       "\n",
       "    .dataframe thead th {\n",
       "        text-align: right;\n",
       "    }\n",
       "</style>\n",
       "<table border=\"1\" class=\"dataframe\">\n",
       "  <thead>\n",
       "    <tr style=\"text-align: right;\">\n",
       "      <th></th>\n",
       "      <th>ID_slide_Variant</th>\n",
       "      <th>CDR3</th>\n",
       "      <th>Best</th>\n",
       "      <th>Slide</th>\n",
       "      <th>Energy</th>\n",
       "      <th>Structure</th>\n",
       "      <th>UID</th>\n",
       "      <th>Antigen</th>\n",
       "    </tr>\n",
       "  </thead>\n",
       "  <tbody>\n",
       "    <tr>\n",
       "      <th>426075</th>\n",
       "      <td>4349486_03a</td>\n",
       "      <td>CARLRWLLLYYAMDYW</td>\n",
       "      <td>True</td>\n",
       "      <td>LRWLLLYYAMD</td>\n",
       "      <td>-98.80</td>\n",
       "      <td>124837-RRURSUUSLD</td>\n",
       "      <td>1ADQ_4349486_03a</td>\n",
       "      <td>1ADQ</td>\n",
       "    </tr>\n",
       "    <tr>\n",
       "      <th>450257</th>\n",
       "      <td>5108550_01a</td>\n",
       "      <td>CARALLLWFAYW</td>\n",
       "      <td>True</td>\n",
       "      <td>ARALLLWFAYW</td>\n",
       "      <td>-95.89</td>\n",
       "      <td>124837-RRURSUUSLD</td>\n",
       "      <td>1ADQ_5108550_01a</td>\n",
       "      <td>1ADQ</td>\n",
       "    </tr>\n",
       "    <tr>\n",
       "      <th>485497</th>\n",
       "      <td>6181962_02a</td>\n",
       "      <td>CASLLWLRREYYYAMDYW</td>\n",
       "      <td>True</td>\n",
       "      <td>SLLWLRREYYY</td>\n",
       "      <td>-94.36</td>\n",
       "      <td>128868-LSRRLLSUSU</td>\n",
       "      <td>1ADQ_6181962_02a</td>\n",
       "      <td>1ADQ</td>\n",
       "    </tr>\n",
       "  </tbody>\n",
       "</table>\n",
       "</div>"
      ],
      "text/plain": [
       "       ID_slide_Variant                CDR3  Best        Slide  Energy  \\\n",
       "426075      4349486_03a    CARLRWLLLYYAMDYW  True  LRWLLLYYAMD  -98.80   \n",
       "450257      5108550_01a        CARALLLWFAYW  True  ARALLLWFAYW  -95.89   \n",
       "485497      6181962_02a  CASLLWLRREYYYAMDYW  True  SLLWLRREYYY  -94.36   \n",
       "\n",
       "                Structure               UID Antigen  \n",
       "426075  124837-RRURSUUSLD  1ADQ_4349486_03a    1ADQ  \n",
       "450257  124837-RRURSUUSLD  1ADQ_5108550_01a    1ADQ  \n",
       "485497  128868-LSRRLLSUSU  1ADQ_6181962_02a    1ADQ  "
      ]
     },
     "execution_count": 2,
     "metadata": {},
     "output_type": "execute_result"
    }
   ],
   "source": [
    "df = pd.read_csv(config.DATA_SLACK_1_GLOBAL, sep='\\t')\n",
    "df = df.groupby(\"Antigen\").sample(10)\n",
    "df.head(3)"
   ]
  },
  {
   "cell_type": "markdown",
   "metadata": {},
   "source": [
    "NDB1"
   ]
  },
  {
   "cell_type": "code",
   "execution_count": 3,
   "metadata": {},
   "outputs": [
    {
     "name": "stdout",
     "output_type": "stream",
     "text": [
      "NDB1_1FBI-vs-1NSN\n"
     ]
    }
   ],
   "source": [
    "df_ndb1_open = df.loc[df[\"Antigen\"].isin(config.ANTIGENS_OPENSET)].copy()\n",
    "\n",
    "for (ag_pos, ag_neg) in combinations(config.ANTIGENS_CLOSEDSET, 2):\n",
    "    dataset_id = f\"NDB1_{ag_pos}-vs-{ag_neg}\"\n",
    "    print(dataset_id)\n",
    "    df_ndb1_i = df.loc[df[\"Antigen\"].isin([ag_pos, ag_neg])].copy()\n",
    "    df_ndb1_open_i = df_ndb1_open.loc[~df_ndb1_open[\"Slide\"].isin(df_ndb1_i[\"Slide\"])].copy()\n",
    "\n",
    "    assert sum(df_ndb1_open_i[\"Slide\"].isin(df_ndb1_i[\"Slide\"])) == 0, (\n",
    "        \"Open set contains `Slide` sequences from the closed set.\"\n",
    "    )\n",
    "    \n",
    "    data_for_pytorch = ml.preprocess_data_for_pytorch_binary(df_ndb1_i, ag_pos=[ag_pos], scale_onehot=True)\n",
    "    break"
   ]
  },
  {
   "cell_type": "markdown",
   "metadata": {},
   "source": [
    "NDBK"
   ]
  },
  {
   "cell_type": "code",
   "execution_count": 4,
   "metadata": {},
   "outputs": [
    {
     "name": "stdout",
     "output_type": "stream",
     "text": [
      "NDBK_1FBI-vs-rest\n"
     ]
    }
   ],
   "source": [
    "df_ndbk_open = df.loc[df[\"Antigen\"].isin(config.ANTIGENS_OPENSET)].copy()\n",
    "\n",
    "for ag_pos in config.ANTIGENS_CLOSEDSET:\n",
    "    dataset_id = f\"NDBK_{ag_pos}-vs-rest\"\n",
    "    print(dataset_id)\n",
    "    df_ndbk_i = df.loc[df[\"Antigen\"].isin(config.ANTIGENS_CLOSEDSET)].copy()\n",
    "    df_ndbk_open_i = df_ndb1_open.loc[~df_ndb1_open[\"Slide\"].isin(df_ndbk_i[\"Slide\"])].copy()\n",
    "\n",
    "    assert sum(df_ndbk_open_i[\"Slide\"].isin(df_ndbk_i[\"Slide\"])) == 0, (\n",
    "        \"Open set contains `Slide` sequences from the closed set.\"\n",
    "    )\n",
    "\n",
    "    data_for_pytorch = ml.preprocess_data_for_pytorch_binary(df_ndbk_i, ag_pos=[ag_pos], scale_onehot=True)\n",
    "    break"
   ]
  },
  {
   "cell_type": "markdown",
   "metadata": {},
   "source": [
    "OSK"
   ]
  },
  {
   "cell_type": "code",
   "execution_count": 12,
   "metadata": {},
   "outputs": [
    {
     "name": "stdout",
     "output_type": "stream",
     "text": [
      "OSK\n"
     ]
    }
   ],
   "source": [
    "df_osk_open = df.loc[df[\"Antigen\"].isin(config.ANTIGENS_OPENSET)].copy()\n",
    "\n",
    "dataset_id = f\"OSK\"\n",
    "print(dataset_id)\n",
    "\n",
    "df_osk = df.loc[df[\"Antigen\"].isin(config.ANTIGENS_CLOSEDSET)].copy()\n",
    "df_osk_open = df_osk_open.loc[~df_osk_open[\"Slide\"].isin(df_osk[\"Slide\"])].copy()\n",
    "\n",
    "assert sum(df_osk_open[\"Slide\"].isin(df_osk[\"Slide\"])) == 0, (\n",
    "    \"Open set contains `Slide` sequences from the closed set.\"\n",
    ")\n",
    "\n",
    "data_for_pytorch = ml.preprocess_data_for_pytorch_multiclass(df_osk, scale_onehot=True)"
   ]
  },
  {
   "cell_type": "markdown",
   "metadata": {},
   "source": [
    "NDM1"
   ]
  },
  {
   "cell_type": "code",
   "execution_count": 6,
   "metadata": {},
   "outputs": [
    {
     "name": "stdout",
     "output_type": "stream",
     "text": [
      "NDM1_rest-vs-1FBI\n"
     ]
    }
   ],
   "source": [
    "df_ndm1_open = df.loc[df[\"Antigen\"].isin(config.ANTIGENS_OPENSET)].copy()\n",
    "\n",
    "for ag_neg in config.ANTIGENS_CLOSEDSET:\n",
    "    dataset_id = f\"NDM1_rest-vs-{ag_neg}\"\n",
    "    print(dataset_id)\n",
    "    df_ndm1_i = df.loc[df[\"Antigen\"].isin(config.ANTIGENS_CLOSEDSET)].copy()\n",
    "    df_ndm1_open_i = df_ndm1_open.loc[~df_ndm1_open[\"Slide\"].isin(df_ndm1_i[\"Slide\"])].copy()\n",
    "\n",
    "    assert sum(df_ndm1_open_i[\"Slide\"].isin(df_ndm1_i[\"Slide\"])) == 0, (\n",
    "        \"Open set contains `Slide` sequences from the closed set.\"\n",
    "    )\n",
    "\n",
    "    ag_pos = list(set(config.ANTIGENS_CLOSEDSET) - set([ag_neg]))\n",
    "    data_for_pytorch = ml.preprocess_data_for_pytorch_binary(df_ndm1_i, ag_pos=ag_pos, scale_onehot=True)\n",
    "    break"
   ]
  },
  {
   "cell_type": "markdown",
   "metadata": {},
   "source": [
    "NDMK"
   ]
  },
  {
   "cell_type": "code",
   "execution_count": 7,
   "metadata": {},
   "outputs": [
    {
     "name": "stdout",
     "output_type": "stream",
     "text": [
      "NDM1_1FBI-1NSN-1OB1-vs-rest\n"
     ]
    }
   ],
   "source": [
    "df_ndmk_open = df.loc[df[\"Antigen\"].isin(config.ANTIGENS_OPENSET)].copy()\n",
    "\n",
    "for ag_pos_set in combinations(config.ANTIGENS_CLOSEDSET, 3):\n",
    "    string_repr = \"-\".join(sorted(ag_pos_set))\n",
    "    dataset_id = f\"NDM1_{string_repr}-vs-rest\"\n",
    "    print(dataset_id)\n",
    "    df_ndmk_i = df.loc[df[\"Antigen\"].isin(config.ANTIGENS_CLOSEDSET)].copy()\n",
    "    df_ndmk_open_i = df_ndmk_open.loc[~df_ndmk_open[\"Slide\"].isin(df_ndmk_i[\"Slide\"])].copy()\n",
    "\n",
    "    assert sum(df_ndmk_open_i[\"Slide\"].isin(df_ndmk_i[\"Slide\"])) == 0, (\n",
    "        \"Open set contains `Slide` sequences from the closed set.\"\n",
    "    )\n",
    "\n",
    "    ag_pos = list(set(config.ANTIGENS_CLOSEDSET) - set([ag_neg]))\n",
    "    data_for_pytorch = ml.preprocess_data_for_pytorch_binary(df_ndmk_i, ag_pos=ag_pos, scale_onehot=True)\n",
    "    break"
   ]
  }
 ],
 "metadata": {
  "kernelspec": {
   "display_name": "Python 3.8.13 ('ab-negative-training')",
   "language": "python",
   "name": "python3"
  },
  "language_info": {
   "codemirror_mode": {
    "name": "ipython",
    "version": 3
   },
   "file_extension": ".py",
   "mimetype": "text/x-python",
   "name": "python",
   "nbconvert_exporter": "python",
   "pygments_lexer": "ipython3",
   "version": "3.8.13"
  },
  "orig_nbformat": 4,
  "vscode": {
   "interpreter": {
    "hash": "a66fbe740016efe90d6139b67c84a560168f2532ea3e3d46e49051f459208991"
   }
  }
 },
 "nbformat": 4,
 "nbformat_minor": 2
}
