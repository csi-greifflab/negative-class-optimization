{
 "cells": [
  {
   "cell_type": "markdown",
   "metadata": {},
   "source": [
    "# Explore Absolut Data\n",
    "\n",
    "We obtain the complete Absolut data. In this notebook, we explore it.\n",
    "\n",
    "Of interest, based on the Readme:\n",
    "- `RawBindingsMurine/`: the main database\n",
    "    - `UniqueCDR3s.txt`: murine CDRH3 sequences that have been used (reference to paper), **not found**.\n",
    "    - `XXXX_X.zip`: optimal binding of each 11-mer from each CDRH3 to this antigen\n",
    "- `RawBindingsPerClassMurine/`: filtered w/ affinity\n",
    "    - `XXXX_XAnalyses/`: filtered sequences to antigen XXXX_X\n",
    "        - CDRH3-based top sequences\n",
    "        - **11-mer based top sequences**: th defined using CDRH3, but contains multiple 11-mers from the same CDRH3 if they satisfy the threshold\n",
    "\n",
    "Then there are processed datasets (had been used in Robert 2021 biorxiv):\n",
    "- `Datasets1/`: binary classification per antigen\n",
    "- `Datasets2/`: as above, but harder.\n",
    "- `Datasets3/`: multi-class classification for subsets of N antigens\n",
    "    - `nonRedundant_11mer-based/`: 142 non-redundant antigens. Includes:\n",
    "        - binding profile: each bottom 1% CDRH3 to each antigen\n",
    "- `Datasets4_Paratope_Epitope/`: includes encodings, such as degree-explicit/free, motiv, aggregate, chemical,\n",
    "- `DatasetsAdditional/`: includes variations of others.\n",
    "\n",
    "Q&A:\n",
    "1. Why 11-mer?\n",
    "2. What are the source unique CDR3s?\n",
    "    - CDRH3 sequences of murine naive B cells.\n",
    "3. What have been we using until now in terms of data?\n",
    "    - top **70k best binders** for 10 different antigens.\n",
    "        - best binders is probably meant by energy\n",
    "        - not clear how much this covers in terms of %, since the distribution might be different across antigens.\n",
    "    - the associated FeaturesFile includes paratope/epitope info.\n",
    "    - Mat also send the 7M dataset, that included many more Slides, and `Best` col indicates which Slide yielded best binding from all Slides from a CDRH3 source.\n",
    "4. What has been done on sequence encoding: degree-explicit/free; motif/aggregate/chemical encodings; gapped-motifs encodings;"
   ]
  },
  {
   "cell_type": "code",
   "execution_count": 41,
   "metadata": {},
   "outputs": [],
   "source": [
    "from pathlib import Path\n",
    "from itertools import combinations\n",
    "import json\n",
    "import numpy as np\n",
    "import pandas as pd\n",
    "import matplotlib.pyplot as plt\n",
    "import seaborn as sns\n",
    "\n",
    "from typing import List\n",
    "\n",
    "from NegativeClassOptimization import config\n",
    "from NegativeClassOptimization import utils\n",
    "from NegativeClassOptimization import preprocessing\n",
    "from NegativeClassOptimization import datasets"
   ]
  },
  {
   "cell_type": "markdown",
   "metadata": {},
   "source": [
    "## Building multiclass datasets for many antigens\n",
    "\n",
    "We leverage `Datasets3/` for building multiclass datasets. From Readme:\n",
    "- `Treated142.txt` => Binding profile of each bottom 1% CDRH3 to each antigen (column) => 142 columns\n",
    "- `ListAntigens142.txt` => name/meaning of columns of Treated142.txt in this order\n",
    "- Task2Annotated_142_nonredundant.zip => annotation of each sequence with the status \"non-binder (top 99%)\" or which antigens it bind if binder (bottom 1%). This was used to generate Treated142.txt, provided for information."
   ]
  },
  {
   "cell_type": "code",
   "execution_count": 2,
   "metadata": {},
   "outputs": [
    {
     "name": "stdout",
     "output_type": "stream",
     "text": [
      "antigens[:5]=['1ADQ_A', '1FBI_X', '1FNS_A', '1FSK_A', '1H0D_C']\n"
     ]
    },
    {
     "data": {
      "text/html": [
       "<div>\n",
       "<style scoped>\n",
       "    .dataframe tbody tr th:only-of-type {\n",
       "        vertical-align: middle;\n",
       "    }\n",
       "\n",
       "    .dataframe tbody tr th {\n",
       "        vertical-align: top;\n",
       "    }\n",
       "\n",
       "    .dataframe thead th {\n",
       "        text-align: right;\n",
       "    }\n",
       "</style>\n",
       "<table border=\"1\" class=\"dataframe\">\n",
       "  <thead>\n",
       "    <tr style=\"text-align: right;\">\n",
       "      <th></th>\n",
       "      <th>Slide</th>\n",
       "      <th>num_binding_ags</th>\n",
       "      <th>binding_profile</th>\n",
       "    </tr>\n",
       "  </thead>\n",
       "  <tbody>\n",
       "    <tr>\n",
       "      <th>0</th>\n",
       "      <td>AAAFITTVVPF</td>\n",
       "      <td>1</td>\n",
       "      <td>0000000000000000000000000000000000000010000000...</td>\n",
       "    </tr>\n",
       "    <tr>\n",
       "      <th>1</th>\n",
       "      <td>AAAGWLLLFDY</td>\n",
       "      <td>2</td>\n",
       "      <td>0000000000000100000000000000000000000000000000...</td>\n",
       "    </tr>\n",
       "    <tr>\n",
       "      <th>2</th>\n",
       "      <td>AAAIYWYFDVW</td>\n",
       "      <td>3</td>\n",
       "      <td>0000000000000010000010000000000000000010000000...</td>\n",
       "    </tr>\n",
       "    <tr>\n",
       "      <th>3</th>\n",
       "      <td>AAALLRSWFAY</td>\n",
       "      <td>1</td>\n",
       "      <td>0000000000000000000000000000000000000010000000...</td>\n",
       "    </tr>\n",
       "    <tr>\n",
       "      <th>4</th>\n",
       "      <td>AAALLRYPFAY</td>\n",
       "      <td>3</td>\n",
       "      <td>0001000000000000000000000000000000000010000000...</td>\n",
       "    </tr>\n",
       "  </tbody>\n",
       "</table>\n",
       "</div>"
      ],
      "text/plain": [
       "         Slide  num_binding_ags  \\\n",
       "0  AAAFITTVVPF                1   \n",
       "1  AAAGWLLLFDY                2   \n",
       "2  AAAIYWYFDVW                3   \n",
       "3  AAALLRSWFAY                1   \n",
       "4  AAALLRYPFAY                3   \n",
       "\n",
       "                                     binding_profile  \n",
       "0  0000000000000000000000000000000000000010000000...  \n",
       "1  0000000000000100000000000000000000000000000000...  \n",
       "2  0000000000000010000010000000000000000010000000...  \n",
       "3  0000000000000000000000000000000000000010000000...  \n",
       "4  0001000000000000000000000000000000000010000000...  "
      ]
     },
     "execution_count": 2,
     "metadata": {},
     "output_type": "execute_result"
    }
   ],
   "source": [
    "antigens = datasets.AbsolutDataset3.get_antigens()\n",
    "print(f\"{antigens[:5]=}\")\n",
    "\n",
    "df = datasets.AbsolutDataset3.get_binding_matrix()\n",
    "df.head()"
   ]
  },
  {
   "cell_type": "markdown",
   "metadata": {},
   "source": [
    "How many antigens binds a Slide on average?"
   ]
  },
  {
   "cell_type": "code",
   "execution_count": 3,
   "metadata": {},
   "outputs": [
    {
     "name": "stdout",
     "output_type": "stream",
     "text": [
      "df[\"num_binding_ags\"].describe()=count    1.286631e+06\n",
      "mean     5.902470e+00\n",
      "std      9.812375e+00\n",
      "min      1.000000e+00\n",
      "25%      1.000000e+00\n",
      "50%      2.000000e+00\n",
      "75%      6.000000e+00\n",
      "max      1.110000e+02\n",
      "Name: num_binding_ags, dtype: float64\n",
      "df[\"num_binding_ags\"].value_counts(normalize=True).head(10)=1     0.432816\n",
      "2     0.142812\n",
      "3     0.077307\n",
      "4     0.051771\n",
      "5     0.037965\n",
      "6     0.029740\n",
      "7     0.023767\n",
      "8     0.019575\n",
      "9     0.016290\n",
      "10    0.014086\n",
      "Name: num_binding_ags, dtype: float64\n"
     ]
    },
    {
     "data": {
      "text/plain": [
       "<AxesSubplot:>"
      ]
     },
     "execution_count": 3,
     "metadata": {},
     "output_type": "execute_result"
    },
    {
     "data": {
      "image/png": "[encoded data removed]",
      "text/plain": [
       "<Figure size 640x480 with 1 Axes>"
      ]
     },
     "metadata": {},
     "output_type": "display_data"
    }
   ],
   "source": [
    "print(f'{df[\"num_binding_ags\"].describe()=}')\n",
    "print(f'{df[\"num_binding_ags\"].value_counts(normalize=True).head(10)=}')\n",
    "df[\"num_binding_ags\"].hist(bins=40)"
   ]
  },
  {
   "cell_type": "markdown",
   "metadata": {},
   "source": [
    "### Process"
   ]
  },
  {
   "cell_type": "code",
   "execution_count": 4,
   "metadata": {},
   "outputs": [
    {
     "data": {
      "text/html": [
       "<div>\n",
       "<style scoped>\n",
       "    .dataframe tbody tr th:only-of-type {\n",
       "        vertical-align: middle;\n",
       "    }\n",
       "\n",
       "    .dataframe tbody tr th {\n",
       "        vertical-align: top;\n",
       "    }\n",
       "\n",
       "    .dataframe thead th {\n",
       "        text-align: right;\n",
       "    }\n",
       "</style>\n",
       "<table border=\"1\" class=\"dataframe\">\n",
       "  <thead>\n",
       "    <tr style=\"text-align: right;\">\n",
       "      <th></th>\n",
       "      <th>1ADQ_A</th>\n",
       "      <th>1FBI_X</th>\n",
       "      <th>1FNS_A</th>\n",
       "      <th>1FSK_A</th>\n",
       "      <th>1H0D_C</th>\n",
       "      <th>1JPS_T</th>\n",
       "      <th>1KB5_AB</th>\n",
       "      <th>1NCB_N</th>\n",
       "      <th>1NSN_S</th>\n",
       "      <th>1OAZ_A</th>\n",
       "      <th>...</th>\n",
       "      <th>5JZ7_A</th>\n",
       "      <th>5KN5_C</th>\n",
       "      <th>5KTE_A</th>\n",
       "      <th>5L0Q_A</th>\n",
       "      <th>5LQB_A</th>\n",
       "      <th>5MES_A</th>\n",
       "      <th>5T5F_A</th>\n",
       "      <th>5TH9_A</th>\n",
       "      <th>5TLJ_X</th>\n",
       "      <th>5TZ2_C</th>\n",
       "    </tr>\n",
       "    <tr>\n",
       "      <th>Slide</th>\n",
       "      <th></th>\n",
       "      <th></th>\n",
       "      <th></th>\n",
       "      <th></th>\n",
       "      <th></th>\n",
       "      <th></th>\n",
       "      <th></th>\n",
       "      <th></th>\n",
       "      <th></th>\n",
       "      <th></th>\n",
       "      <th></th>\n",
       "      <th></th>\n",
       "      <th></th>\n",
       "      <th></th>\n",
       "      <th></th>\n",
       "      <th></th>\n",
       "      <th></th>\n",
       "      <th></th>\n",
       "      <th></th>\n",
       "      <th></th>\n",
       "      <th></th>\n",
       "    </tr>\n",
       "  </thead>\n",
       "  <tbody>\n",
       "    <tr>\n",
       "      <th>AAAFITTVVPF</th>\n",
       "      <td>0</td>\n",
       "      <td>0</td>\n",
       "      <td>0</td>\n",
       "      <td>0</td>\n",
       "      <td>0</td>\n",
       "      <td>0</td>\n",
       "      <td>0</td>\n",
       "      <td>0</td>\n",
       "      <td>0</td>\n",
       "      <td>0</td>\n",
       "      <td>...</td>\n",
       "      <td>0</td>\n",
       "      <td>0</td>\n",
       "      <td>0</td>\n",
       "      <td>0</td>\n",
       "      <td>0</td>\n",
       "      <td>0</td>\n",
       "      <td>0</td>\n",
       "      <td>0</td>\n",
       "      <td>0</td>\n",
       "      <td>0</td>\n",
       "    </tr>\n",
       "    <tr>\n",
       "      <th>AAAGWLLLFDY</th>\n",
       "      <td>0</td>\n",
       "      <td>0</td>\n",
       "      <td>0</td>\n",
       "      <td>0</td>\n",
       "      <td>0</td>\n",
       "      <td>0</td>\n",
       "      <td>0</td>\n",
       "      <td>0</td>\n",
       "      <td>0</td>\n",
       "      <td>0</td>\n",
       "      <td>...</td>\n",
       "      <td>0</td>\n",
       "      <td>0</td>\n",
       "      <td>0</td>\n",
       "      <td>0</td>\n",
       "      <td>0</td>\n",
       "      <td>0</td>\n",
       "      <td>0</td>\n",
       "      <td>0</td>\n",
       "      <td>0</td>\n",
       "      <td>0</td>\n",
       "    </tr>\n",
       "    <tr>\n",
       "      <th>AAAIYWYFDVW</th>\n",
       "      <td>0</td>\n",
       "      <td>0</td>\n",
       "      <td>0</td>\n",
       "      <td>0</td>\n",
       "      <td>0</td>\n",
       "      <td>0</td>\n",
       "      <td>0</td>\n",
       "      <td>0</td>\n",
       "      <td>0</td>\n",
       "      <td>0</td>\n",
       "      <td>...</td>\n",
       "      <td>0</td>\n",
       "      <td>0</td>\n",
       "      <td>0</td>\n",
       "      <td>0</td>\n",
       "      <td>0</td>\n",
       "      <td>0</td>\n",
       "      <td>0</td>\n",
       "      <td>0</td>\n",
       "      <td>0</td>\n",
       "      <td>0</td>\n",
       "    </tr>\n",
       "    <tr>\n",
       "      <th>AAALLRSWFAY</th>\n",
       "      <td>0</td>\n",
       "      <td>0</td>\n",
       "      <td>0</td>\n",
       "      <td>0</td>\n",
       "      <td>0</td>\n",
       "      <td>0</td>\n",
       "      <td>0</td>\n",
       "      <td>0</td>\n",
       "      <td>0</td>\n",
       "      <td>0</td>\n",
       "      <td>...</td>\n",
       "      <td>0</td>\n",
       "      <td>0</td>\n",
       "      <td>0</td>\n",
       "      <td>0</td>\n",
       "      <td>0</td>\n",
       "      <td>0</td>\n",
       "      <td>0</td>\n",
       "      <td>0</td>\n",
       "      <td>0</td>\n",
       "      <td>0</td>\n",
       "    </tr>\n",
       "    <tr>\n",
       "      <th>AAALLRYPFAY</th>\n",
       "      <td>0</td>\n",
       "      <td>0</td>\n",
       "      <td>0</td>\n",
       "      <td>1</td>\n",
       "      <td>0</td>\n",
       "      <td>0</td>\n",
       "      <td>0</td>\n",
       "      <td>0</td>\n",
       "      <td>0</td>\n",
       "      <td>0</td>\n",
       "      <td>...</td>\n",
       "      <td>0</td>\n",
       "      <td>0</td>\n",
       "      <td>0</td>\n",
       "      <td>0</td>\n",
       "      <td>0</td>\n",
       "      <td>0</td>\n",
       "      <td>0</td>\n",
       "      <td>0</td>\n",
       "      <td>0</td>\n",
       "      <td>0</td>\n",
       "    </tr>\n",
       "  </tbody>\n",
       "</table>\n",
       "<p>5 rows × 142 columns</p>\n",
       "</div>"
      ],
      "text/plain": [
       "             1ADQ_A  1FBI_X  1FNS_A  1FSK_A  1H0D_C  1JPS_T  1KB5_AB  1NCB_N  \\\n",
       "Slide                                                                          \n",
       "AAAFITTVVPF       0       0       0       0       0       0        0       0   \n",
       "AAAGWLLLFDY       0       0       0       0       0       0        0       0   \n",
       "AAAIYWYFDVW       0       0       0       0       0       0        0       0   \n",
       "AAALLRSWFAY       0       0       0       0       0       0        0       0   \n",
       "AAALLRYPFAY       0       0       0       1       0       0        0       0   \n",
       "\n",
       "             1NSN_S  1OAZ_A  ...  5JZ7_A  5KN5_C  5KTE_A  5L0Q_A  5LQB_A  \\\n",
       "Slide                        ...                                           \n",
       "AAAFITTVVPF       0       0  ...       0       0       0       0       0   \n",
       "AAAGWLLLFDY       0       0  ...       0       0       0       0       0   \n",
       "AAAIYWYFDVW       0       0  ...       0       0       0       0       0   \n",
       "AAALLRSWFAY       0       0  ...       0       0       0       0       0   \n",
       "AAALLRYPFAY       0       0  ...       0       0       0       0       0   \n",
       "\n",
       "             5MES_A  5T5F_A  5TH9_A  5TLJ_X  5TZ2_C  \n",
       "Slide                                                \n",
       "AAAFITTVVPF       0       0       0       0       0  \n",
       "AAAGWLLLFDY       0       0       0       0       0  \n",
       "AAAIYWYFDVW       0       0       0       0       0  \n",
       "AAALLRSWFAY       0       0       0       0       0  \n",
       "AAALLRYPFAY       0       0       0       0       0  \n",
       "\n",
       "[5 rows x 142 columns]"
      ]
     },
     "execution_count": 4,
     "metadata": {},
     "output_type": "execute_result"
    }
   ],
   "source": [
    "df_wide = datasets.AbsolutDataset3.convert_to_wide_format(df, antigens)\n",
    "df_wide.head()"
   ]
  },
  {
   "cell_type": "code",
   "execution_count": 5,
   "metadata": {},
   "outputs": [],
   "source": [
    "ag_c, ag_o = antigens[:80], antigens[80:]"
   ]
  },
  {
   "cell_type": "code",
   "execution_count": 6,
   "metadata": {},
   "outputs": [
    {
     "name": "stdout",
     "output_type": "stream",
     "text": [
      "mask_c.sum()=446791 | mask_o.sum()=245900\n"
     ]
    }
   ],
   "source": [
    "mask_c = (df_wide[ag_c].sum(axis=1) >= 1) & (df_wide[ag_o].sum(axis=1) == 0)\n",
    "mask_o = (df_wide[ag_c].sum(axis=1) == 0) & (df_wide[ag_o].sum(axis=1) >= 1)\n",
    "\n",
    "print(f'{mask_c.sum()=} | {mask_o.sum()=}')"
   ]
  },
  {
   "cell_type": "code",
   "execution_count": 7,
   "metadata": {},
   "outputs": [
    {
     "name": "stdout",
     "output_type": "stream",
     "text": [
      "mask_unimodal.sum()=556875\n",
      "(mask_unimodal & mask_c).sum()=347644 | (mask_unimodal & mask_o).sum()=209231\n"
     ]
    }
   ],
   "source": [
    "mask_unimodal = df_wide.sum(axis=1) == 1\n",
    "print(f'{mask_unimodal.sum()=}')\n",
    "print(f'{(mask_unimodal & mask_c).sum()=} | {(mask_unimodal & mask_o).sum()=}')"
   ]
  },
  {
   "cell_type": "markdown",
   "metadata": {},
   "source": [
    "### Adaptor to internal multiclass classification\n",
    "\n",
    "We need to adapt the new data to the format currently used for multiclass classification (`script/script_08*.py`). For that, we need to generate a `dfs` dictionary.\n",
    "\n",
    "We generate these and save under `Absolut/processed/multiclass`."
   ]
  },
  {
   "cell_type": "code",
   "execution_count": 8,
   "metadata": {},
   "outputs": [
    {
     "name": "stdout",
     "output_type": "stream",
     "text": [
      "(7594301, 3)\n"
     ]
    },
    {
     "data": {
      "text/html": [
       "<div>\n",
       "<style scoped>\n",
       "    .dataframe tbody tr th:only-of-type {\n",
       "        vertical-align: middle;\n",
       "    }\n",
       "\n",
       "    .dataframe tbody tr th {\n",
       "        vertical-align: top;\n",
       "    }\n",
       "\n",
       "    .dataframe thead th {\n",
       "        text-align: right;\n",
       "    }\n",
       "</style>\n",
       "<table border=\"1\" class=\"dataframe\">\n",
       "  <thead>\n",
       "    <tr style=\"text-align: right;\">\n",
       "      <th></th>\n",
       "      <th>Slide</th>\n",
       "      <th>Antigen</th>\n",
       "      <th>Slide_farmhash_mod_10</th>\n",
       "    </tr>\n",
       "  </thead>\n",
       "  <tbody>\n",
       "    <tr>\n",
       "      <th>66</th>\n",
       "      <td>AAFITTVGWYF</td>\n",
       "      <td>1ADQ_A</td>\n",
       "      <td>5</td>\n",
       "    </tr>\n",
       "    <tr>\n",
       "      <th>116</th>\n",
       "      <td>AAFYGRWYFDV</td>\n",
       "      <td>1ADQ_A</td>\n",
       "      <td>9</td>\n",
       "    </tr>\n",
       "    <tr>\n",
       "      <th>124</th>\n",
       "      <td>AAFYYGNLAWF</td>\n",
       "      <td>1ADQ_A</td>\n",
       "      <td>2</td>\n",
       "    </tr>\n",
       "    <tr>\n",
       "      <th>204</th>\n",
       "      <td>AAGWLLLFAYW</td>\n",
       "      <td>1ADQ_A</td>\n",
       "      <td>3</td>\n",
       "    </tr>\n",
       "    <tr>\n",
       "      <th>205</th>\n",
       "      <td>AAGWLLLFDYW</td>\n",
       "      <td>1ADQ_A</td>\n",
       "      <td>9</td>\n",
       "    </tr>\n",
       "  </tbody>\n",
       "</table>\n",
       "</div>"
      ],
      "text/plain": [
       "           Slide Antigen  Slide_farmhash_mod_10\n",
       "66   AAFITTVGWYF  1ADQ_A                      5\n",
       "116  AAFYGRWYFDV  1ADQ_A                      9\n",
       "124  AAFYYGNLAWF  1ADQ_A                      2\n",
       "204  AAGWLLLFAYW  1ADQ_A                      3\n",
       "205  AAGWLLLFDYW  1ADQ_A                      9"
      ]
     },
     "execution_count": 8,
     "metadata": {},
     "output_type": "execute_result"
    }
   ],
   "source": [
    "df_global = preprocessing.convert_wide_to_global(df_wide)\n",
    "print(df_global.shape)\n",
    "df_global.head()"
   ]
  },
  {
   "cell_type": "code",
   "execution_count": 9,
   "metadata": {},
   "outputs": [],
   "source": [
    "num_closed_ags = config.NUM_CLOSED_ANTIGENS_ABSOLUT_DATASET3\n",
    "ags_shuffled = utils.shuffle_antigens(antigens)\n",
    "ags_closed = ags_shuffled[:num_closed_ags]\n",
    "ags_open = ags_shuffled[num_closed_ags:]\n",
    "\n",
    "dfs_tuple = preprocessing.openset_datasplit_from_global_stable(\n",
    "    df_global=df_global,\n",
    "    openset_antigens=ags_open,\n",
    ")\n",
    "\n",
    "dfs = {\n",
    "    \"df_train_val\": dfs_tuple[0],\n",
    "    \"df_test_closed_exclusive\": dfs_tuple[1],\n",
    "    \"df_test_open_exclusive\": dfs_tuple[2],\n",
    "}\n",
    "\n",
    "metadata = {\n",
    "    \"df_train_val__shape\": dfs_tuple[0].shape,\n",
    "    \"df_test_closed_exclusive__shape\": dfs_tuple[1].shape,\n",
    "    \"df_test_open_exclusive__shape\": dfs_tuple[2].shape,\n",
    "}"
   ]
  },
  {
   "cell_type": "markdown",
   "metadata": {},
   "source": [
    "### Adaptor to internal multilabel classification\n",
    "\n",
    "We generate processed dataset from Absolut for multilabel problems.\n",
    "\n",
    "We basically need to generate dataframes for train, test, open, with some requirements:\n",
    "- No `Slide` in open should be in closed (train / test)\n",
    "- No `Slide` in test should be in training\n",
    "- `Slide` should be one-hot encoded and farmhash % 10 column added\n",
    "\n",
    "Developed further in notebook 17."
   ]
  },
  {
   "cell_type": "markdown",
   "metadata": {},
   "source": [
    "## Build ag sets\n",
    "\n",
    "For evaluating open set performance for multiclass classifiers, we construct sets of antigens in a systematic way."
   ]
  },
  {
   "cell_type": "code",
   "execution_count": 11,
   "metadata": {},
   "outputs": [],
   "source": [
    "ds3 = datasets.AbsolutDataset3()\n",
    "antigens = ds3.antigens[:]"
   ]
  },
  {
   "cell_type": "code",
   "execution_count": 12,
   "metadata": {},
   "outputs": [],
   "source": [
    "ag_set_sizes = [5, 10, 20, 40, 80, 100]\n",
    "ban_list = []\n",
    "ag_sets_chain_1 = utils.generate_ag_set_chain(antigens, ag_set_sizes)\n",
    "ban_list.append(ag_sets_chain_1[0])\n",
    "ag_sets_chain_2 = utils.generate_ag_set_chain(antigens, ag_set_sizes, seed_ban_list=ban_list)\n",
    "ban_list.append(ag_sets_chain_2[0])\n",
    "# ag_sets_chain_1, ag_sets_chain_2"
   ]
  },
  {
   "cell_type": "code",
   "execution_count": 13,
   "metadata": {},
   "outputs": [
    {
     "name": "stdout",
     "output_type": "stream",
     "text": [
      "df_train.shape=(351035, 4) | df_test.shape=(39016, 4)\n"
     ]
    }
   ],
   "source": [
    "from NegativeClassOptimization import pipelines\n",
    "\n",
    "\n",
    "dfs = pipelines.MulticlassPipeline.load_processed_dataframes(\n",
    "    dir_path = config.DATA_ABSOLUT_PROCESSED_MULTICLASS_DIR,\n",
    ")\n",
    "\n",
    "df_train = dfs[\"train_val\"]\n",
    "df_test = dfs[\"test_closed_exclusive\"]\n",
    "print(f\"{df_train.shape=} | {df_test.shape=}\")"
   ]
  },
  {
   "cell_type": "code",
   "execution_count": 14,
   "metadata": {},
   "outputs": [
    {
     "name": "stdout",
     "output_type": "stream",
     "text": [
      "(df_train[\"Antigen\"].value_counts() > 1000).sum()=57\n"
     ]
    },
    {
     "data": {
      "text/plain": [
       "count       57.000000\n",
       "mean      6158.508772\n",
       "std       5679.702476\n",
       "min       1013.000000\n",
       "25%       2217.000000\n",
       "50%       4223.000000\n",
       "75%       7436.000000\n",
       "max      24145.000000\n",
       "Name: Antigen, dtype: float64"
      ]
     },
     "execution_count": 14,
     "metadata": {},
     "output_type": "execute_result"
    },
    {
     "data": {
      "image/png": "[encoded data removed]",
      "text/plain": [
       "<Figure size 640x480 with 1 Axes>"
      ]
     },
     "metadata": {},
     "output_type": "display_data"
    }
   ],
   "source": [
    "df_train[\"Antigen\"].value_counts().reset_index().plot(ylim=(0, 5000))\n",
    "print(f'{(df_train[\"Antigen\"].value_counts() > 1000).sum()=}')\n",
    "df_train[\"Antigen\"].value_counts().describe()"
   ]
  },
  {
   "cell_type": "code",
   "execution_count": 15,
   "metadata": {},
   "outputs": [
    {
     "name": "stdout",
     "output_type": "stream",
     "text": [
      "(df_test[\"Antigen\"].value_counts() > 100).sum()=57\n"
     ]
    },
    {
     "data": {
      "text/plain": [
       "count      57.000000\n",
       "mean      684.491228\n",
       "std       635.793265\n",
       "min       107.000000\n",
       "25%       239.000000\n",
       "50%       487.000000\n",
       "75%       818.000000\n",
       "max      2647.000000\n",
       "Name: Antigen, dtype: float64"
      ]
     },
     "execution_count": 15,
     "metadata": {},
     "output_type": "execute_result"
    },
    {
     "data": {
      "image/png": "[encoded data removed]",
      "text/plain": [
       "<Figure size 640x480 with 1 Axes>"
      ]
     },
     "metadata": {},
     "output_type": "display_data"
    }
   ],
   "source": [
    "df_test[\"Antigen\"].value_counts().reset_index().plot(ylim=(0, 500))\n",
    "print(f'{(df_test[\"Antigen\"].value_counts() > 100).sum()=}')\n",
    "df_test[\"Antigen\"].value_counts().describe()"
   ]
  },
  {
   "cell_type": "markdown",
   "metadata": {},
   "source": [
    "## Binding matrix structure\n",
    "\n",
    "We need to understand the structure of the binding matrix for evaluating impact on the open set setting."
   ]
  },
  {
   "cell_type": "code",
   "execution_count": 16,
   "metadata": {},
   "outputs": [
    {
     "data": {
      "text/html": [
       "<div>\n",
       "<style scoped>\n",
       "    .dataframe tbody tr th:only-of-type {\n",
       "        vertical-align: middle;\n",
       "    }\n",
       "\n",
       "    .dataframe tbody tr th {\n",
       "        vertical-align: top;\n",
       "    }\n",
       "\n",
       "    .dataframe thead th {\n",
       "        text-align: right;\n",
       "    }\n",
       "</style>\n",
       "<table border=\"1\" class=\"dataframe\">\n",
       "  <thead>\n",
       "    <tr style=\"text-align: right;\">\n",
       "      <th></th>\n",
       "      <th>1QFW_AB</th>\n",
       "      <th>5HI4_B</th>\n",
       "      <th>2WUC_I</th>\n",
       "      <th>5J13_A</th>\n",
       "      <th>2FD6_AU</th>\n",
       "      <th>3GI9_C</th>\n",
       "      <th>4OKV_E</th>\n",
       "      <th>4U6V_A</th>\n",
       "      <th>4DKE_A</th>\n",
       "      <th>1JPS_T</th>\n",
       "      <th>...</th>\n",
       "      <th>3SQO_A</th>\n",
       "      <th>5JZ7_A</th>\n",
       "      <th>2R56_A</th>\n",
       "      <th>4CAD_C</th>\n",
       "      <th>2UZI_R</th>\n",
       "      <th>5HDQ_A</th>\n",
       "      <th>2VXT_I</th>\n",
       "      <th>3JBQ_B</th>\n",
       "      <th>1NCB_N</th>\n",
       "      <th>1RJL_C</th>\n",
       "    </tr>\n",
       "    <tr>\n",
       "      <th>Slide</th>\n",
       "      <th></th>\n",
       "      <th></th>\n",
       "      <th></th>\n",
       "      <th></th>\n",
       "      <th></th>\n",
       "      <th></th>\n",
       "      <th></th>\n",
       "      <th></th>\n",
       "      <th></th>\n",
       "      <th></th>\n",
       "      <th></th>\n",
       "      <th></th>\n",
       "      <th></th>\n",
       "      <th></th>\n",
       "      <th></th>\n",
       "      <th></th>\n",
       "      <th></th>\n",
       "      <th></th>\n",
       "      <th></th>\n",
       "      <th></th>\n",
       "      <th></th>\n",
       "    </tr>\n",
       "  </thead>\n",
       "  <tbody>\n",
       "    <tr>\n",
       "      <th>LLVLLLLRWVF</th>\n",
       "      <td>1</td>\n",
       "      <td>1</td>\n",
       "      <td>0</td>\n",
       "      <td>0</td>\n",
       "      <td>1</td>\n",
       "      <td>1</td>\n",
       "      <td>1</td>\n",
       "      <td>1</td>\n",
       "      <td>0</td>\n",
       "      <td>1</td>\n",
       "      <td>...</td>\n",
       "      <td>1</td>\n",
       "      <td>0</td>\n",
       "      <td>1</td>\n",
       "      <td>1</td>\n",
       "      <td>0</td>\n",
       "      <td>1</td>\n",
       "      <td>1</td>\n",
       "      <td>1</td>\n",
       "      <td>1</td>\n",
       "      <td>1</td>\n",
       "    </tr>\n",
       "    <tr>\n",
       "      <th>PLLLLLLYWYF</th>\n",
       "      <td>1</td>\n",
       "      <td>1</td>\n",
       "      <td>1</td>\n",
       "      <td>1</td>\n",
       "      <td>1</td>\n",
       "      <td>1</td>\n",
       "      <td>1</td>\n",
       "      <td>1</td>\n",
       "      <td>1</td>\n",
       "      <td>1</td>\n",
       "      <td>...</td>\n",
       "      <td>1</td>\n",
       "      <td>0</td>\n",
       "      <td>1</td>\n",
       "      <td>1</td>\n",
       "      <td>0</td>\n",
       "      <td>1</td>\n",
       "      <td>0</td>\n",
       "      <td>1</td>\n",
       "      <td>1</td>\n",
       "      <td>1</td>\n",
       "    </tr>\n",
       "  </tbody>\n",
       "</table>\n",
       "<p>2 rows × 142 columns</p>\n",
       "</div>"
      ],
      "text/plain": [
       "             1QFW_AB  5HI4_B  2WUC_I  5J13_A  2FD6_AU  3GI9_C  4OKV_E  4U6V_A  \\\n",
       "Slide                                                                           \n",
       "LLVLLLLRWVF        1       1       0       0        1       1       1       1   \n",
       "PLLLLLLYWYF        1       1       1       1        1       1       1       1   \n",
       "\n",
       "             4DKE_A  1JPS_T  ...  3SQO_A  5JZ7_A  2R56_A  4CAD_C  2UZI_R  \\\n",
       "Slide                        ...                                           \n",
       "LLVLLLLRWVF       0       1  ...       1       0       1       1       0   \n",
       "PLLLLLLYWYF       1       1  ...       1       0       1       1       0   \n",
       "\n",
       "             5HDQ_A  2VXT_I  3JBQ_B  1NCB_N  1RJL_C  \n",
       "Slide                                                \n",
       "LLVLLLLRWVF       1       1       1       1       1  \n",
       "PLLLLLLYWYF       1       0       1       1       1  \n",
       "\n",
       "[2 rows x 142 columns]"
      ]
     },
     "execution_count": 16,
     "metadata": {},
     "output_type": "execute_result"
    }
   ],
   "source": [
    "df = ds3.df_wide\n",
    "\n",
    "slide_order = ds3.df.sort_values(by=\"binding_profile\", key=lambda x: x.str.count(\"1\"), ascending=False)[\"Slide\"]\n",
    "df = df.loc[slide_order]\n",
    "df = df.reindex(sorted(df.columns, key=lambda col: -df[col].sum()), axis=1)\n",
    "\n",
    "df.head(2)"
   ]
  },
  {
   "cell_type": "code",
   "execution_count": 17,
   "metadata": {},
   "outputs": [],
   "source": [
    "# sns.heatmap(df, cmap=\"Greys\", cbar=False)"
   ]
  },
  {
   "cell_type": "markdown",
   "metadata": {},
   "source": [
    "## NDB1 Asymmetry from Absolut\n",
    "\n",
    "We generate datasets for binary classification for evaluating the impact of switching + and - Ag on closed/open set performance.\n",
    "\n",
    "Setup: 10k vs 10k → evaluate closed and open set performance\n",
    "- 10 random pairs\n",
    "- 5 train/test splits\n",
    "- 5 replicates per split\n",
    "- 2 runs (switch Ag+ with Ag-)\n",
    "- => 500 runs\n",
    "\n",
    "We save the farmhash split such that we can later use it to deterministically split."
   ]
  },
  {
   "cell_type": "code",
   "execution_count": 68,
   "metadata": {},
   "outputs": [],
   "source": [
    "ags_closed = ds3.df_wide.columns.to_list()\n",
    "builder = pipelines.NDB1_Assymetry_from_Absolut_Builder(ags_closed, ds3)\n",
    "builder.step_01_select_random_pairs()\n",
    "builder.step_02_convert_to_global_format()"
   ]
  },
  {
   "cell_type": "code",
   "execution_count": null,
   "metadata": {},
   "outputs": [],
   "source": []
  }
 ],
 "metadata": {
  "kernelspec": {
   "display_name": "Python 3.8.13 ('nco')",
   "language": "python",
   "name": "python3"
  },
  "language_info": {
   "codemirror_mode": {
    "name": "ipython",
    "version": 3
   },
   "file_extension": ".py",
   "mimetype": "text/x-python",
   "name": "python",
   "nbconvert_exporter": "python",
   "pygments_lexer": "ipython3",
   "version": "3.8.13"
  },
  "orig_nbformat": 4,
  "vscode": {
   "interpreter": {
    "hash": "3ec5334dbdc4a6f7f47854c251e8d2556e95e85daa09db51a6f2bda295b96836"
   }
  }
 },
 "nbformat": 4,
 "nbformat_minor": 2
}
