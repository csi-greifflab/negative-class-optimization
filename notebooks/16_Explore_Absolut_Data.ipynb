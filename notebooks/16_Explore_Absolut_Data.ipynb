{
 "cells": [
  {
   "cell_type": "markdown",
   "metadata": {},
   "source": [
    "# Explore Absolut Data\n",
    "\n",
    "We obtain the complete Absolut data. In this notebook, we explore it.\n",
    "\n",
    "Of interest, based on the Readme:\n",
    "- `RawBindingsMurine/`: the main database\n",
    "    - `UniqueCDR3s.txt`: murine CDRH3 sequences that have been used (reference to paper), **not found**.\n",
    "    - `XXXX_X.zip`: optimal binding of each 11-mer from each CDRH3 to this antigen\n",
    "- `RawBindingsPerClassMurine/`: filtered w/ affinity\n",
    "    - `XXXX_XAnalyses/`: filtered sequences to antigen XXXX_X\n",
    "        - CDRH3-based top sequences\n",
    "        - **11-mer based top sequences**: th defined using CDRH3, but contains multiple 11-mers from the same CDRH3 if they satisfy the threshold\n",
    "\n",
    "Then there are processed datasets (had been used in Robert 2021 biorxiv):\n",
    "- `Datasets1/`: binary classification per antigen\n",
    "- `Datasets2/`: as above, but harder.\n",
    "- `Datasets3/`: multi-class classification for subsets of N antigens\n",
    "    - `nonRedundant_11mer-based/`: 142 non-redundant antigens. Includes:\n",
    "        - binding profile: each bottom 1% CDRH3 to each antigen\n",
    "- `Datasets4_Paratope_Epitope/`: includes encodings, such as degree-explicit/free, motiv, aggregate, chemical,\n",
    "- `DatasetsAdditional/`: includes variations of others.\n",
    "\n",
    "Q&A:\n",
    "1. Why 11-mer?\n",
    "2. What are the source unique CDR3s?\n",
    "    - CDRH3 sequences of murine naive B cells.\n",
    "3. What have been we using until now in terms of data?\n",
    "    - top **70k best binders** for 10 different antigens.\n",
    "        - best binders is probably meant by energy\n",
    "        - not clear how much this covers in terms of %, since the distribution might be different across antigens.\n",
    "    - the associated FeaturesFile includes paratope/epitope info.\n",
    "    - Mat also send the 7M dataset, that included many more Slides, and `Best` col indicates which Slide yielded best binding from all Slides from a CDRH3 source.\n",
    "4. What has been done on sequence encoding: degree-explicit/free; motif/aggregate/chemical encodings; gapped-motifs encodings;"
   ]
  },
  {
   "cell_type": "code",
   "execution_count": 2,
   "metadata": {},
   "outputs": [],
   "source": [
    "from pathlib import Path\n",
    "import json\n",
    "import numpy as np\n",
    "import pandas as pd\n",
    "import matplotlib.pyplot as plt\n",
    "import seaborn as sns"
   ]
  },
  {
   "cell_type": "markdown",
   "metadata": {},
   "source": [
    "## Building multiclass datasets for many antigens\n",
    "\n",
    "We leverage `Datasets3/` for building multiclass datasets. From Readme:\n",
    "- `Treated142.txt` => Binding profile of each bottom 1% CDRH3 to each antigen (column) => 142 columns\n",
    "- `ListAntigens142.txt` => name/meaning of columns of Treated142.txt in this order\n",
    "- Task2Annotated_142_nonredundant.zip => annotation of each sequence with the status \"non-binder (top 99%)\" or which antigens it bind if binder (bottom 1%). This was used to generate Treated142.txt, provided for information."
   ]
  },
  {
   "cell_type": "code",
   "execution_count": 56,
   "metadata": {},
   "outputs": [
    {
     "name": "stdout",
     "output_type": "stream",
     "text": [
      "antigens[:5]=['1ADQ_A', '1FBI_X', '1FNS_A', '1FSK_A', '1H0D_C']\n"
     ]
    },
    {
     "data": {
      "text/html": [
       "<div>\n",
       "<style scoped>\n",
       "    .dataframe tbody tr th:only-of-type {\n",
       "        vertical-align: middle;\n",
       "    }\n",
       "\n",
       "    .dataframe tbody tr th {\n",
       "        vertical-align: top;\n",
       "    }\n",
       "\n",
       "    .dataframe thead th {\n",
       "        text-align: right;\n",
       "    }\n",
       "</style>\n",
       "<table border=\"1\" class=\"dataframe\">\n",
       "  <thead>\n",
       "    <tr style=\"text-align: right;\">\n",
       "      <th></th>\n",
       "      <th>Slide</th>\n",
       "      <th>num_binding_ags</th>\n",
       "      <th>binding_profile</th>\n",
       "    </tr>\n",
       "  </thead>\n",
       "  <tbody>\n",
       "    <tr>\n",
       "      <th>0</th>\n",
       "      <td>AAAFITTVVPF</td>\n",
       "      <td>1</td>\n",
       "      <td>0000000000000000000000000000000000000010000000...</td>\n",
       "    </tr>\n",
       "    <tr>\n",
       "      <th>1</th>\n",
       "      <td>AAAGWLLLFDY</td>\n",
       "      <td>2</td>\n",
       "      <td>0000000000000100000000000000000000000000000000...</td>\n",
       "    </tr>\n",
       "    <tr>\n",
       "      <th>2</th>\n",
       "      <td>AAAIYWYFDVW</td>\n",
       "      <td>3</td>\n",
       "      <td>0000000000000010000010000000000000000010000000...</td>\n",
       "    </tr>\n",
       "    <tr>\n",
       "      <th>3</th>\n",
       "      <td>AAALLRSWFAY</td>\n",
       "      <td>1</td>\n",
       "      <td>0000000000000000000000000000000000000010000000...</td>\n",
       "    </tr>\n",
       "    <tr>\n",
       "      <th>4</th>\n",
       "      <td>AAALLRYPFAY</td>\n",
       "      <td>3</td>\n",
       "      <td>0001000000000000000000000000000000000010000000...</td>\n",
       "    </tr>\n",
       "  </tbody>\n",
       "</table>\n",
       "</div>"
      ],
      "text/plain": [
       "         Slide  num_binding_ags  \\\n",
       "0  AAAFITTVVPF                1   \n",
       "1  AAAGWLLLFDY                2   \n",
       "2  AAAIYWYFDVW                3   \n",
       "3  AAALLRSWFAY                1   \n",
       "4  AAALLRYPFAY                3   \n",
       "\n",
       "                                     binding_profile  \n",
       "0  0000000000000000000000000000000000000010000000...  \n",
       "1  0000000000000100000000000000000000000000000000...  \n",
       "2  0000000000000010000010000000000000000010000000...  \n",
       "3  0000000000000000000000000000000000000010000000...  \n",
       "4  0001000000000000000000000000000000000010000000...  "
      ]
     },
     "execution_count": 56,
     "metadata": {},
     "output_type": "execute_result"
    }
   ],
   "source": [
    "with open(\"../data/Absolut/data/Datasets3/nonRedundant_11mer-based/ListAntigens142.txt\", \"r\") as f:\n",
    "    antigens = f.read().splitlines()\n",
    "print(f\"{antigens[:5]=}\")\n",
    "\n",
    "df = pd.read_csv(Path('../data/Absolut/data/Datasets3/nonRedundant_11mer-based/Treated142.txt'), sep='\\t', header=None)\n",
    "df.columns = [\"Slide\", \"num_binding_ags\", \"binding_profile\"]\n",
    "df.head()"
   ]
  },
  {
   "cell_type": "markdown",
   "metadata": {},
   "source": [
    "How many antigens binds a Slide on average?"
   ]
  },
  {
   "cell_type": "code",
   "execution_count": 57,
   "metadata": {},
   "outputs": [
    {
     "name": "stdout",
     "output_type": "stream",
     "text": [
      "df[\"num_binding_ags\"].describe()=count    1.286631e+06\n",
      "mean     5.902470e+00\n",
      "std      9.812375e+00\n",
      "min      1.000000e+00\n",
      "25%      1.000000e+00\n",
      "50%      2.000000e+00\n",
      "75%      6.000000e+00\n",
      "max      1.110000e+02\n",
      "Name: num_binding_ags, dtype: float64\n",
      "df[\"num_binding_ags\"].value_counts(normalize=True).head(10)=1     0.432816\n",
      "2     0.142812\n",
      "3     0.077307\n",
      "4     0.051771\n",
      "5     0.037965\n",
      "6     0.029740\n",
      "7     0.023767\n",
      "8     0.019575\n",
      "9     0.016290\n",
      "10    0.014086\n",
      "Name: num_binding_ags, dtype: float64\n"
     ]
    },
    {
     "data": {
      "text/plain": [
       "<AxesSubplot:>"
      ]
     },
     "execution_count": 57,
     "metadata": {},
     "output_type": "execute_result"
    },
    {
     "data": {
      "image/png": "[encoded data removed]",
      "text/plain": [
       "<Figure size 640x480 with 1 Axes>"
      ]
     },
     "metadata": {},
     "output_type": "display_data"
    }
   ],
   "source": [
    "print(f'{df[\"num_binding_ags\"].describe()=}')\n",
    "print(f'{df[\"num_binding_ags\"].value_counts(normalize=True).head(10)=}')\n",
    "df[\"num_binding_ags\"].hist(bins=40)"
   ]
  },
  {
   "cell_type": "markdown",
   "metadata": {},
   "source": [
    "### Processing the dataset"
   ]
  },
  {
   "cell_type": "code",
   "execution_count": 59,
   "metadata": {},
   "outputs": [
    {
     "data": {
      "text/html": [
       "<div>\n",
       "<style scoped>\n",
       "    .dataframe tbody tr th:only-of-type {\n",
       "        vertical-align: middle;\n",
       "    }\n",
       "\n",
       "    .dataframe tbody tr th {\n",
       "        vertical-align: top;\n",
       "    }\n",
       "\n",
       "    .dataframe thead th {\n",
       "        text-align: right;\n",
       "    }\n",
       "</style>\n",
       "<table border=\"1\" class=\"dataframe\">\n",
       "  <thead>\n",
       "    <tr style=\"text-align: right;\">\n",
       "      <th></th>\n",
       "      <th>1ADQ_A</th>\n",
       "      <th>1FBI_X</th>\n",
       "      <th>1FNS_A</th>\n",
       "      <th>1FSK_A</th>\n",
       "      <th>1H0D_C</th>\n",
       "      <th>1JPS_T</th>\n",
       "      <th>1KB5_AB</th>\n",
       "      <th>1NCB_N</th>\n",
       "      <th>1NSN_S</th>\n",
       "      <th>1OAZ_A</th>\n",
       "      <th>...</th>\n",
       "      <th>5JZ7_A</th>\n",
       "      <th>5KN5_C</th>\n",
       "      <th>5KTE_A</th>\n",
       "      <th>5L0Q_A</th>\n",
       "      <th>5LQB_A</th>\n",
       "      <th>5MES_A</th>\n",
       "      <th>5T5F_A</th>\n",
       "      <th>5TH9_A</th>\n",
       "      <th>5TLJ_X</th>\n",
       "      <th>5TZ2_C</th>\n",
       "    </tr>\n",
       "    <tr>\n",
       "      <th>Slide</th>\n",
       "      <th></th>\n",
       "      <th></th>\n",
       "      <th></th>\n",
       "      <th></th>\n",
       "      <th></th>\n",
       "      <th></th>\n",
       "      <th></th>\n",
       "      <th></th>\n",
       "      <th></th>\n",
       "      <th></th>\n",
       "      <th></th>\n",
       "      <th></th>\n",
       "      <th></th>\n",
       "      <th></th>\n",
       "      <th></th>\n",
       "      <th></th>\n",
       "      <th></th>\n",
       "      <th></th>\n",
       "      <th></th>\n",
       "      <th></th>\n",
       "      <th></th>\n",
       "    </tr>\n",
       "  </thead>\n",
       "  <tbody>\n",
       "    <tr>\n",
       "      <th>AAAFITTVVPF</th>\n",
       "      <td>0</td>\n",
       "      <td>0</td>\n",
       "      <td>0</td>\n",
       "      <td>0</td>\n",
       "      <td>0</td>\n",
       "      <td>0</td>\n",
       "      <td>0</td>\n",
       "      <td>0</td>\n",
       "      <td>0</td>\n",
       "      <td>0</td>\n",
       "      <td>...</td>\n",
       "      <td>0</td>\n",
       "      <td>0</td>\n",
       "      <td>0</td>\n",
       "      <td>0</td>\n",
       "      <td>0</td>\n",
       "      <td>0</td>\n",
       "      <td>0</td>\n",
       "      <td>0</td>\n",
       "      <td>0</td>\n",
       "      <td>0</td>\n",
       "    </tr>\n",
       "    <tr>\n",
       "      <th>AAAGWLLLFDY</th>\n",
       "      <td>0</td>\n",
       "      <td>0</td>\n",
       "      <td>0</td>\n",
       "      <td>0</td>\n",
       "      <td>0</td>\n",
       "      <td>0</td>\n",
       "      <td>0</td>\n",
       "      <td>0</td>\n",
       "      <td>0</td>\n",
       "      <td>0</td>\n",
       "      <td>...</td>\n",
       "      <td>0</td>\n",
       "      <td>0</td>\n",
       "      <td>0</td>\n",
       "      <td>0</td>\n",
       "      <td>0</td>\n",
       "      <td>0</td>\n",
       "      <td>0</td>\n",
       "      <td>0</td>\n",
       "      <td>0</td>\n",
       "      <td>0</td>\n",
       "    </tr>\n",
       "    <tr>\n",
       "      <th>AAAIYWYFDVW</th>\n",
       "      <td>0</td>\n",
       "      <td>0</td>\n",
       "      <td>0</td>\n",
       "      <td>0</td>\n",
       "      <td>0</td>\n",
       "      <td>0</td>\n",
       "      <td>0</td>\n",
       "      <td>0</td>\n",
       "      <td>0</td>\n",
       "      <td>0</td>\n",
       "      <td>...</td>\n",
       "      <td>0</td>\n",
       "      <td>0</td>\n",
       "      <td>0</td>\n",
       "      <td>0</td>\n",
       "      <td>0</td>\n",
       "      <td>0</td>\n",
       "      <td>0</td>\n",
       "      <td>0</td>\n",
       "      <td>0</td>\n",
       "      <td>0</td>\n",
       "    </tr>\n",
       "    <tr>\n",
       "      <th>AAALLRSWFAY</th>\n",
       "      <td>0</td>\n",
       "      <td>0</td>\n",
       "      <td>0</td>\n",
       "      <td>0</td>\n",
       "      <td>0</td>\n",
       "      <td>0</td>\n",
       "      <td>0</td>\n",
       "      <td>0</td>\n",
       "      <td>0</td>\n",
       "      <td>0</td>\n",
       "      <td>...</td>\n",
       "      <td>0</td>\n",
       "      <td>0</td>\n",
       "      <td>0</td>\n",
       "      <td>0</td>\n",
       "      <td>0</td>\n",
       "      <td>0</td>\n",
       "      <td>0</td>\n",
       "      <td>0</td>\n",
       "      <td>0</td>\n",
       "      <td>0</td>\n",
       "    </tr>\n",
       "    <tr>\n",
       "      <th>AAALLRYPFAY</th>\n",
       "      <td>0</td>\n",
       "      <td>0</td>\n",
       "      <td>0</td>\n",
       "      <td>1</td>\n",
       "      <td>0</td>\n",
       "      <td>0</td>\n",
       "      <td>0</td>\n",
       "      <td>0</td>\n",
       "      <td>0</td>\n",
       "      <td>0</td>\n",
       "      <td>...</td>\n",
       "      <td>0</td>\n",
       "      <td>0</td>\n",
       "      <td>0</td>\n",
       "      <td>0</td>\n",
       "      <td>0</td>\n",
       "      <td>0</td>\n",
       "      <td>0</td>\n",
       "      <td>0</td>\n",
       "      <td>0</td>\n",
       "      <td>0</td>\n",
       "    </tr>\n",
       "  </tbody>\n",
       "</table>\n",
       "<p>5 rows × 142 columns</p>\n",
       "</div>"
      ],
      "text/plain": [
       "             1ADQ_A  1FBI_X  1FNS_A  1FSK_A  1H0D_C  1JPS_T  1KB5_AB  1NCB_N  \\\n",
       "Slide                                                                          \n",
       "AAAFITTVVPF       0       0       0       0       0       0        0       0   \n",
       "AAAGWLLLFDY       0       0       0       0       0       0        0       0   \n",
       "AAAIYWYFDVW       0       0       0       0       0       0        0       0   \n",
       "AAALLRSWFAY       0       0       0       0       0       0        0       0   \n",
       "AAALLRYPFAY       0       0       0       1       0       0        0       0   \n",
       "\n",
       "             1NSN_S  1OAZ_A  ...  5JZ7_A  5KN5_C  5KTE_A  5L0Q_A  5LQB_A  \\\n",
       "Slide                        ...                                           \n",
       "AAAFITTVVPF       0       0  ...       0       0       0       0       0   \n",
       "AAAGWLLLFDY       0       0  ...       0       0       0       0       0   \n",
       "AAAIYWYFDVW       0       0  ...       0       0       0       0       0   \n",
       "AAALLRSWFAY       0       0  ...       0       0       0       0       0   \n",
       "AAALLRYPFAY       0       0  ...       0       0       0       0       0   \n",
       "\n",
       "             5MES_A  5T5F_A  5TH9_A  5TLJ_X  5TZ2_C  \n",
       "Slide                                                \n",
       "AAAFITTVVPF       0       0       0       0       0  \n",
       "AAAGWLLLFDY       0       0       0       0       0  \n",
       "AAAIYWYFDVW       0       0       0       0       0  \n",
       "AAALLRSWFAY       0       0       0       0       0  \n",
       "AAALLRYPFAY       0       0       0       0       0  \n",
       "\n",
       "[5 rows x 142 columns]"
      ]
     },
     "execution_count": 59,
     "metadata": {},
     "output_type": "execute_result"
    }
   ],
   "source": [
    "df_wide = pd.DataFrame.from_records(\n",
    "    data=df[\"binding_profile\"].apply(lambda x: {antigens[i]: int(x[i]) for i in range(len(antigens))}).to_list(),\n",
    ")\n",
    "assert all(df_wide.sum(axis=1) == df[\"num_binding_ags\"])\n",
    "\n",
    "df_wide.index = df[\"Slide\"]\n",
    "df_wide.head()"
   ]
  },
  {
   "cell_type": "code",
   "execution_count": 80,
   "metadata": {},
   "outputs": [],
   "source": [
    "ag_c, ag_o = antigens[:20], antigens[80:]"
   ]
  },
  {
   "cell_type": "code",
   "execution_count": 81,
   "metadata": {},
   "outputs": [
    {
     "name": "stdout",
     "output_type": "stream",
     "text": [
      "mask_c.sum()=150159 | mask_o.sum()=460635\n"
     ]
    }
   ],
   "source": [
    "mask_c = (df_wide[ag_c].sum(axis=1) >= 1) & (df_wide[ag_o].sum(axis=1) == 0)\n",
    "mask_o = (df_wide[ag_c].sum(axis=1) == 0) & (df_wide[ag_o].sum(axis=1) >= 1)\n",
    "\n",
    "print(f'{mask_c.sum()=} | {mask_o.sum()=}')"
   ]
  },
  {
   "cell_type": "code",
   "execution_count": 82,
   "metadata": {},
   "outputs": [
    {
     "name": "stdout",
     "output_type": "stream",
     "text": [
      "mask_unimodal.sum()=556875\n",
      "(mask_unimodal & mask_c).sum()=94273 | (mask_unimodal & mask_o).sum()=209231\n"
     ]
    }
   ],
   "source": [
    "mask_unimodal = df_wide.sum(axis=1) == 1\n",
    "print(f'{mask_unimodal.sum()=}')\n",
    "print(f'{(mask_unimodal & mask_c).sum()=} | {(mask_unimodal & mask_o).sum()=}')"
   ]
  },
  {
   "cell_type": "code",
   "execution_count": null,
   "metadata": {},
   "outputs": [],
   "source": []
  }
 ],
 "metadata": {
  "kernelspec": {
   "display_name": "Python 3.8.13 ('nco')",
   "language": "python",
   "name": "python3"
  },
  "language_info": {
   "codemirror_mode": {
    "name": "ipython",
    "version": 3
   },
   "file_extension": ".py",
   "mimetype": "text/x-python",
   "name": "python",
   "nbconvert_exporter": "python",
   "pygments_lexer": "ipython3",
   "version": "3.8.13"
  },
  "orig_nbformat": 4,
  "vscode": {
   "interpreter": {
    "hash": "3ec5334dbdc4a6f7f47854c251e8d2556e95e85daa09db51a6f2bda295b96836"
   }
  }
 },
 "nbformat": 4,
 "nbformat_minor": 2
}
