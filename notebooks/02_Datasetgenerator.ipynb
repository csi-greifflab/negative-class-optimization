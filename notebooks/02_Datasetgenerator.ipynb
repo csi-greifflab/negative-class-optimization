{
 "cells": [
  {
   "cell_type": "markdown",
   "metadata": {},
   "source": [
    "# Dataset generators\n",
    "\n",
    "| ! This notebook is deprecated, this API is not used throughout this repository. Will be removed. |\n",
    "|-----------------------------------------|\n",
    "\n",
    "______\n",
    "\n",
    "In this notebook we show and develop generators for various datasets for testing."
   ]
  },
  {
   "cell_type": "code",
   "execution_count": 1,
   "metadata": {},
   "outputs": [],
   "source": [
    "from pathlib import Path\n",
    "import numpy as np\n",
    "import pandas as pd\n",
    "\n",
    "import NegativeClassOptimization.config as config\n",
    "import NegativeClassOptimization.datasets as datasets\n",
    "import NegativeClassOptimization.utils as utils"
   ]
  },
  {
   "cell_type": "code",
   "execution_count": 2,
   "metadata": {},
   "outputs": [],
   "source": [
    "df_global = pd.read_csv(config.DATA_SLACK_1_GLOBAL, sep='\\t').iloc[:, 1:]"
   ]
  },
  {
   "cell_type": "code",
   "execution_count": 3,
   "metadata": {},
   "outputs": [
    {
     "data": {
      "text/html": [
       "<div>\n",
       "<style scoped>\n",
       "    .dataframe tbody tr th:only-of-type {\n",
       "        vertical-align: middle;\n",
       "    }\n",
       "\n",
       "    .dataframe tbody tr th {\n",
       "        vertical-align: top;\n",
       "    }\n",
       "\n",
       "    .dataframe thead th {\n",
       "        text-align: right;\n",
       "    }\n",
       "</style>\n",
       "<table border=\"1\" class=\"dataframe\">\n",
       "  <thead>\n",
       "    <tr style=\"text-align: right;\">\n",
       "      <th></th>\n",
       "      <th>CDR3</th>\n",
       "      <th>Best</th>\n",
       "      <th>Slide</th>\n",
       "      <th>Energy</th>\n",
       "      <th>Structure</th>\n",
       "      <th>UID</th>\n",
       "      <th>Antigen</th>\n",
       "    </tr>\n",
       "  </thead>\n",
       "  <tbody>\n",
       "    <tr>\n",
       "      <th>0</th>\n",
       "      <td>CARPENLLLLLWYFDVW</td>\n",
       "      <td>True</td>\n",
       "      <td>LLLLLWYFDVW</td>\n",
       "      <td>-112.82</td>\n",
       "      <td>137442-BRDSLLUDLS</td>\n",
       "      <td>3VRL_1873658_06a</td>\n",
       "      <td>3VRL</td>\n",
       "    </tr>\n",
       "    <tr>\n",
       "      <th>1</th>\n",
       "      <td>CARGLLLLLWYFDVW</td>\n",
       "      <td>True</td>\n",
       "      <td>LLLLLWYFDVW</td>\n",
       "      <td>-112.82</td>\n",
       "      <td>137442-BRDSLLUDLS</td>\n",
       "      <td>3VRL_7116990_04a</td>\n",
       "      <td>3VRL</td>\n",
       "    </tr>\n",
       "    <tr>\n",
       "      <th>2</th>\n",
       "      <td>CARGGLLLLLWYFDVW</td>\n",
       "      <td>True</td>\n",
       "      <td>LLLLLWYFDVW</td>\n",
       "      <td>-112.82</td>\n",
       "      <td>137442-BRDSLLUDLS</td>\n",
       "      <td>3VRL_7147788_05a</td>\n",
       "      <td>3VRL</td>\n",
       "    </tr>\n",
       "  </tbody>\n",
       "</table>\n",
       "</div>"
      ],
      "text/plain": [
       "                CDR3  Best        Slide  Energy          Structure  \\\n",
       "0  CARPENLLLLLWYFDVW  True  LLLLLWYFDVW -112.82  137442-BRDSLLUDLS   \n",
       "1    CARGLLLLLWYFDVW  True  LLLLLWYFDVW -112.82  137442-BRDSLLUDLS   \n",
       "2   CARGGLLLLLWYFDVW  True  LLLLLWYFDVW -112.82  137442-BRDSLLUDLS   \n",
       "\n",
       "                UID Antigen  \n",
       "0  3VRL_1873658_06a    3VRL  \n",
       "1  3VRL_7116990_04a    3VRL  \n",
       "2  3VRL_7147788_05a    3VRL  "
      ]
     },
     "execution_count": 3,
     "metadata": {},
     "output_type": "execute_result"
    }
   ],
   "source": [
    "df_global.head(3)"
   ]
  },
  {
   "cell_type": "code",
   "execution_count": 4,
   "metadata": {},
   "outputs": [
    {
     "data": {
      "text/plain": [
       "array(['3VRL', '1NSN', '3RAJ', '5E94', '1H0D', '1WEJ', '1ADQ', '1FBI',\n",
       "       '2YPV', '1OB1'], dtype=object)"
      ]
     },
     "execution_count": 4,
     "metadata": {},
     "output_type": "execute_result"
    }
   ],
   "source": [
    "df_global[\"Antigen\"].unique()"
   ]
  },
  {
   "cell_type": "markdown",
   "metadata": {},
   "source": [
    "## Random dataset"
   ]
  },
  {
   "cell_type": "code",
   "execution_count": 7,
   "metadata": {},
   "outputs": [
    {
     "data": {
      "text/html": [
       "<div>\n",
       "<style scoped>\n",
       "    .dataframe tbody tr th:only-of-type {\n",
       "        vertical-align: middle;\n",
       "    }\n",
       "\n",
       "    .dataframe tbody tr th {\n",
       "        vertical-align: top;\n",
       "    }\n",
       "\n",
       "    .dataframe thead th {\n",
       "        text-align: right;\n",
       "    }\n",
       "</style>\n",
       "<table border=\"1\" class=\"dataframe\">\n",
       "  <thead>\n",
       "    <tr style=\"text-align: right;\">\n",
       "      <th></th>\n",
       "      <th>CDR3</th>\n",
       "      <th>UID</th>\n",
       "      <th>Antigen</th>\n",
       "      <th>Dataset</th>\n",
       "    </tr>\n",
       "  </thead>\n",
       "  <tbody>\n",
       "    <tr>\n",
       "      <th>0</th>\n",
       "      <td>RMIHWMMEIDCNGCAN</td>\n",
       "      <td>random_ebafcba8</td>\n",
       "      <td>random</td>\n",
       "      <td>random</td>\n",
       "    </tr>\n",
       "    <tr>\n",
       "      <th>1</th>\n",
       "      <td>NTLSRRWNYDFWHKHVE</td>\n",
       "      <td>random_00a021a2</td>\n",
       "      <td>random</td>\n",
       "      <td>random</td>\n",
       "    </tr>\n",
       "    <tr>\n",
       "      <th>2</th>\n",
       "      <td>QVKCYRHNIRD</td>\n",
       "      <td>random_01a6e919</td>\n",
       "      <td>random</td>\n",
       "      <td>random</td>\n",
       "    </tr>\n",
       "  </tbody>\n",
       "</table>\n",
       "</div>"
      ],
      "text/plain": [
       "                CDR3              UID Antigen Dataset\n",
       "0   RMIHWMMEIDCNGCAN  random_ebafcba8  random  random\n",
       "1  NTLSRRWNYDFWHKHVE  random_00a021a2  random  random\n",
       "2        QVKCYRHNIRD  random_01a6e919  random  random"
      ]
     },
     "execution_count": 7,
     "metadata": {},
     "output_type": "execute_result"
    }
   ],
   "source": [
    "ds_random = datasets.RandomBindingDataset(\"random\", 10000)\n",
    "ds_random.df.head(3)"
   ]
  },
  {
   "cell_type": "markdown",
   "metadata": {},
   "source": [
    "## Positive dataset"
   ]
  },
  {
   "cell_type": "code",
   "execution_count": 8,
   "metadata": {},
   "outputs": [
    {
     "data": {
      "text/html": [
       "<div>\n",
       "<style scoped>\n",
       "    .dataframe tbody tr th:only-of-type {\n",
       "        vertical-align: middle;\n",
       "    }\n",
       "\n",
       "    .dataframe tbody tr th {\n",
       "        vertical-align: top;\n",
       "    }\n",
       "\n",
       "    .dataframe thead th {\n",
       "        text-align: right;\n",
       "    }\n",
       "</style>\n",
       "<table border=\"1\" class=\"dataframe\">\n",
       "  <thead>\n",
       "    <tr style=\"text-align: right;\">\n",
       "      <th></th>\n",
       "      <th>ID_slide_Variant</th>\n",
       "      <th>CDR3</th>\n",
       "      <th>Best</th>\n",
       "      <th>Slide</th>\n",
       "      <th>Energy</th>\n",
       "      <th>Structure</th>\n",
       "      <th>UID</th>\n",
       "      <th>Antigen</th>\n",
       "      <th>Dataset</th>\n",
       "    </tr>\n",
       "  </thead>\n",
       "  <tbody>\n",
       "    <tr>\n",
       "      <th>0</th>\n",
       "      <td>1873658_06a</td>\n",
       "      <td>CARPENLLLLLWYFDVW</td>\n",
       "      <td>True</td>\n",
       "      <td>LLLLLWYFDVW</td>\n",
       "      <td>-112.82</td>\n",
       "      <td>137442-BRDSLLUDLS</td>\n",
       "      <td>3VRL_1873658_06a</td>\n",
       "      <td>3VRL</td>\n",
       "      <td>positive_3VRL</td>\n",
       "    </tr>\n",
       "    <tr>\n",
       "      <th>1</th>\n",
       "      <td>7116990_04a</td>\n",
       "      <td>CARGLLLLLWYFDVW</td>\n",
       "      <td>True</td>\n",
       "      <td>LLLLLWYFDVW</td>\n",
       "      <td>-112.82</td>\n",
       "      <td>137442-BRDSLLUDLS</td>\n",
       "      <td>3VRL_7116990_04a</td>\n",
       "      <td>3VRL</td>\n",
       "      <td>positive_3VRL</td>\n",
       "    </tr>\n",
       "    <tr>\n",
       "      <th>2</th>\n",
       "      <td>7147788_05a</td>\n",
       "      <td>CARGGLLLLLWYFDVW</td>\n",
       "      <td>True</td>\n",
       "      <td>LLLLLWYFDVW</td>\n",
       "      <td>-112.82</td>\n",
       "      <td>137442-BRDSLLUDLS</td>\n",
       "      <td>3VRL_7147788_05a</td>\n",
       "      <td>3VRL</td>\n",
       "      <td>positive_3VRL</td>\n",
       "    </tr>\n",
       "  </tbody>\n",
       "</table>\n",
       "</div>"
      ],
      "text/plain": [
       "  ID_slide_Variant               CDR3  Best        Slide  Energy  \\\n",
       "0      1873658_06a  CARPENLLLLLWYFDVW  True  LLLLLWYFDVW -112.82   \n",
       "1      7116990_04a    CARGLLLLLWYFDVW  True  LLLLLWYFDVW -112.82   \n",
       "2      7147788_05a   CARGGLLLLLWYFDVW  True  LLLLLWYFDVW -112.82   \n",
       "\n",
       "           Structure               UID Antigen        Dataset  \n",
       "0  137442-BRDSLLUDLS  3VRL_1873658_06a    3VRL  positive_3VRL  \n",
       "1  137442-BRDSLLUDLS  3VRL_7116990_04a    3VRL  positive_3VRL  \n",
       "2  137442-BRDSLLUDLS  3VRL_7147788_05a    3VRL  positive_3VRL  "
      ]
     },
     "execution_count": 8,
     "metadata": {},
     "output_type": "execute_result"
    }
   ],
   "source": [
    "antigen = \"3VRL\"\n",
    "df_ag = df_global.loc[df_global[\"Antigen\"] == antigen]\n",
    "ds_pos = datasets.PositiveBindingDataset(f\"positive_{antigen}\", df=df_ag, antigen=antigen)\n",
    "ds_pos.df.head(3)"
   ]
  },
  {
   "cell_type": "markdown",
   "metadata": {},
   "source": [
    "## Negative dataset"
   ]
  },
  {
   "cell_type": "code",
   "execution_count": 9,
   "metadata": {},
   "outputs": [],
   "source": [
    "antigens_neg = ['1NSN', '3RAJ', '5E94']\n",
    "positive_datasets_for_neg = []\n",
    "for antigen in antigens_neg:\n",
    "    df_ag = df_global.loc[df_global[\"Antigen\"] == antigen]\n",
    "    ds_pos = datasets.PositiveBindingDataset(f\"positive_{antigen}\", df=df_ag, antigen=antigen)\n",
    "    positive_datasets_for_neg.append(ds_pos)\n",
    "\n",
    "ds_neg = datasets.NegativeBindingDataset(\n",
    "    name=\"negative\",\n",
    "    positive_datasets=positive_datasets_for_neg,\n",
    "    random_datasets=[ds_random]\n",
    ")"
   ]
  },
  {
   "cell_type": "code",
   "execution_count": 10,
   "metadata": {},
   "outputs": [
    {
     "data": {
      "text/html": [
       "<div>\n",
       "<style scoped>\n",
       "    .dataframe tbody tr th:only-of-type {\n",
       "        vertical-align: middle;\n",
       "    }\n",
       "\n",
       "    .dataframe tbody tr th {\n",
       "        vertical-align: top;\n",
       "    }\n",
       "\n",
       "    .dataframe thead th {\n",
       "        text-align: right;\n",
       "    }\n",
       "</style>\n",
       "<table border=\"1\" class=\"dataframe\">\n",
       "  <thead>\n",
       "    <tr style=\"text-align: right;\">\n",
       "      <th></th>\n",
       "      <th>CDR3</th>\n",
       "      <th>UID</th>\n",
       "      <th>Antigen</th>\n",
       "      <th>Dataset</th>\n",
       "    </tr>\n",
       "  </thead>\n",
       "  <tbody>\n",
       "    <tr>\n",
       "      <th>70000</th>\n",
       "      <td>CVLQLRLPFAWFAYW</td>\n",
       "      <td>1NSN_5278578_01a</td>\n",
       "      <td>1NSN</td>\n",
       "      <td>positive_1NSN</td>\n",
       "    </tr>\n",
       "    <tr>\n",
       "      <th>70001</th>\n",
       "      <td>CELLLWLREDYFDYW</td>\n",
       "      <td>1NSN_711507_01a</td>\n",
       "      <td>1NSN</td>\n",
       "      <td>positive_1NSN</td>\n",
       "    </tr>\n",
       "    <tr>\n",
       "      <th>70002</th>\n",
       "      <td>CARSDILLWLPEEIFFAYW</td>\n",
       "      <td>1NSN_7211476_04a</td>\n",
       "      <td>1NSN</td>\n",
       "      <td>positive_1NSN</td>\n",
       "    </tr>\n",
       "  </tbody>\n",
       "</table>\n",
       "</div>"
      ],
      "text/plain": [
       "                      CDR3               UID Antigen        Dataset\n",
       "70000      CVLQLRLPFAWFAYW  1NSN_5278578_01a    1NSN  positive_1NSN\n",
       "70001      CELLLWLREDYFDYW   1NSN_711507_01a    1NSN  positive_1NSN\n",
       "70002  CARSDILLWLPEEIFFAYW  1NSN_7211476_04a    1NSN  positive_1NSN"
      ]
     },
     "execution_count": 10,
     "metadata": {},
     "output_type": "execute_result"
    }
   ],
   "source": [
    "ds_neg.df.head(3)"
   ]
  },
  {
   "cell_type": "markdown",
   "metadata": {},
   "source": [
    "## CompleteDataset"
   ]
  },
  {
   "cell_type": "code",
   "execution_count": 11,
   "metadata": {},
   "outputs": [],
   "source": [
    "ds = datasets.CompleteBindingDataset(\n",
    "    \"complete\",\n",
    "    positive_dataset=ds_pos,\n",
    "    negative_dataset=ds_neg,\n",
    ")"
   ]
  },
  {
   "cell_type": "code",
   "execution_count": 12,
   "metadata": {},
   "outputs": [
    {
     "data": {
      "text/html": [
       "<div>\n",
       "<style scoped>\n",
       "    .dataframe tbody tr th:only-of-type {\n",
       "        vertical-align: middle;\n",
       "    }\n",
       "\n",
       "    .dataframe tbody tr th {\n",
       "        vertical-align: top;\n",
       "    }\n",
       "\n",
       "    .dataframe thead th {\n",
       "        text-align: right;\n",
       "    }\n",
       "</style>\n",
       "<table border=\"1\" class=\"dataframe\">\n",
       "  <thead>\n",
       "    <tr style=\"text-align: right;\">\n",
       "      <th></th>\n",
       "      <th>ID_slide_Variant</th>\n",
       "      <th>CDR3</th>\n",
       "      <th>Best</th>\n",
       "      <th>Slide</th>\n",
       "      <th>Energy</th>\n",
       "      <th>Structure</th>\n",
       "      <th>UID</th>\n",
       "      <th>Antigen</th>\n",
       "      <th>Dataset</th>\n",
       "      <th>binder</th>\n",
       "    </tr>\n",
       "  </thead>\n",
       "  <tbody>\n",
       "    <tr>\n",
       "      <th>210000</th>\n",
       "      <td>825477_03a</td>\n",
       "      <td>CARIFLLLRYLWYFDVW</td>\n",
       "      <td>True</td>\n",
       "      <td>IFLLLRYLWYF</td>\n",
       "      <td>-110.91</td>\n",
       "      <td>149279-SUDDULSUSL</td>\n",
       "      <td>5E94_825477_03a</td>\n",
       "      <td>5E94</td>\n",
       "      <td>positive_5E94</td>\n",
       "      <td>True</td>\n",
       "    </tr>\n",
       "    <tr>\n",
       "      <th>210001</th>\n",
       "      <td>1565352_06a</td>\n",
       "      <td>CARQGVFFLLLRFWFAYW</td>\n",
       "      <td>True</td>\n",
       "      <td>FFLLLRFWFAY</td>\n",
       "      <td>-110.75</td>\n",
       "      <td>149279-SUDDULSUSL</td>\n",
       "      <td>5E94_1565352_06a</td>\n",
       "      <td>5E94</td>\n",
       "      <td>positive_5E94</td>\n",
       "      <td>True</td>\n",
       "    </tr>\n",
       "    <tr>\n",
       "      <th>210002</th>\n",
       "      <td>4081140_01a</td>\n",
       "      <td>CFYLLLRLYWYFDVW</td>\n",
       "      <td>True</td>\n",
       "      <td>FYLLLRLYWYF</td>\n",
       "      <td>-109.99</td>\n",
       "      <td>149279-SUDDULSUSL</td>\n",
       "      <td>5E94_4081140_01a</td>\n",
       "      <td>5E94</td>\n",
       "      <td>positive_5E94</td>\n",
       "      <td>True</td>\n",
       "    </tr>\n",
       "  </tbody>\n",
       "</table>\n",
       "</div>"
      ],
      "text/plain": [
       "       ID_slide_Variant                CDR3  Best        Slide  Energy  \\\n",
       "210000       825477_03a   CARIFLLLRYLWYFDVW  True  IFLLLRYLWYF -110.91   \n",
       "210001      1565352_06a  CARQGVFFLLLRFWFAYW  True  FFLLLRFWFAY -110.75   \n",
       "210002      4081140_01a     CFYLLLRLYWYFDVW  True  FYLLLRLYWYF -109.99   \n",
       "\n",
       "                Structure               UID Antigen        Dataset  binder  \n",
       "210000  149279-SUDDULSUSL   5E94_825477_03a    5E94  positive_5E94    True  \n",
       "210001  149279-SUDDULSUSL  5E94_1565352_06a    5E94  positive_5E94    True  \n",
       "210002  149279-SUDDULSUSL  5E94_4081140_01a    5E94  positive_5E94    True  "
      ]
     },
     "execution_count": 12,
     "metadata": {},
     "output_type": "execute_result"
    }
   ],
   "source": [
    "ds.df.head(3)"
   ]
  },
  {
   "cell_type": "markdown",
   "metadata": {},
   "source": [
    "## Building a `CompleteDataset` conveniently"
   ]
  },
  {
   "cell_type": "code",
   "execution_count": 14,
   "metadata": {},
   "outputs": [],
   "source": [
    "data_source_global = config.DATA_SLACK_1_GLOBAL\n",
    "\n",
    "antigen_pos = \"3VRL\"\n",
    "subsample_pos_size = None\n",
    "\n",
    "antigens_neg = ['1NSN', '3RAJ', '5E94']\n",
    "subsample_neg_size_per_ag = None\n",
    "\n",
    "num_random = 70000"
   ]
  },
  {
   "cell_type": "code",
   "execution_count": null,
   "metadata": {},
   "outputs": [],
   "source": [
    "df_global = pd.read_csv(data_source_global, sep='\\t')\n",
    "\n",
    "## Pos\n",
    "df_ag = df_global.loc[df_global[\"Antigen\"] == antigen_pos]\n",
    "ds_pos = datasets.PositiveBindingDataset(f\"positive_{antigen_pos}\", df=df_ag, antigen=antigen_pos)\n",
    "\n",
    "## Neg\n",
    "ds_random = datasets.RandomBindingDataset(\"random\", num_random)\n",
    "\n",
    "positive_datasets_for_neg = []\n",
    "for antigen_neg in antigens_neg:\n",
    "    df_ag = df_global.loc[df_global[\"Antigen\"] == antigen_neg]\n",
    "    ds_pos = datasets.PositiveBindingDataset(f\"positive_{antigen_neg}\", df=df_ag, antigen=antigen_neg)\n",
    "    positive_datasets_for_neg.append(ds_pos)\n",
    "\n",
    "ds_neg = datasets.NegativeBindingDataset(\n",
    "    name=\"negative\",\n",
    "    positive_datasets=positive_datasets_for_neg,\n",
    "    random_datasets=[ds_random]\n",
    ")\n",
    "\n",
    "## Complete\n",
    "ds = datasets.CompleteBindingDataset(\n",
    "    \"complete\",\n",
    "    positive_dataset=ds_pos,\n",
    "    negative_dataset=ds_neg,\n",
    ")"
   ]
  },
  {
   "cell_type": "code",
   "execution_count": null,
   "metadata": {},
   "outputs": [],
   "source": [
    "metadata = {\n",
    "    \"\"\n",
    "}\n",
    "# ds.record_dataset(fp, metadata)"
   ]
  }
 ],
 "metadata": {
  "interpreter": {
   "hash": "a66fbe740016efe90d6139b67c84a560168f2532ea3e3d46e49051f459208991"
  },
  "kernelspec": {
   "display_name": "Python 3 (ipykernel)",
   "language": "python",
   "name": "python3"
  },
  "language_info": {
   "codemirror_mode": {
    "name": "ipython",
    "version": 3
   },
   "file_extension": ".py",
   "mimetype": "text/x-python",
   "name": "python",
   "nbconvert_exporter": "python",
   "pygments_lexer": "ipython3",
   "version": "3.8.13"
  }
 },
 "nbformat": 4,
 "nbformat_minor": 4
}
