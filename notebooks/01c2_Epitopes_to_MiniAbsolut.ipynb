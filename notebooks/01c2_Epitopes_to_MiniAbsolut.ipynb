{
 "cells": [
  {
   "cell_type": "markdown",
   "metadata": {},
   "source": [
    "# 01c2 Epitopes into MiniAbsolut\n",
    "\n",
    "We generate \"new\" antigens in MiniAbsolut and MiniAbsolut splits, which are actually nothing else than epitopes from the antigens. We follow the same code pattern used in 01b, in which we integrated experimental data into MiniAbsolut.\n",
    "\n",
    "Plan: for each Miniabsolut antigen and for each sequence type (high, weak, nonb), we combine train_15 + rest, we select 15k according to epitope/hotspot, we evaluate that it makes sense to have extra splits (if enough data), and we generate a new set train_15* and rest* accordingly. Test set remains constant. Later subsets based on the epitope of the test set can be analysed."
   ]
  },
  {
   "cell_type": "code",
   "execution_count": 4,
   "metadata": {},
   "outputs": [
    {
     "name": "stderr",
     "output_type": "stream",
     "text": [
      "/home/eugen/miniconda3/envs/nco/lib/python3.8/site-packages/sklearn/preprocessing/_encoders.py:972: FutureWarning: `sparse` was renamed to `sparse_output` in version 1.2 and will be removed in 1.4. `sparse_output` is ignored unless you leave `sparse` to its default value.\n",
      "  warnings.warn(\n",
      "/home/eugen/miniconda3/envs/nco/lib/python3.8/site-packages/sklearn/preprocessing/_encoders.py:972: FutureWarning: `sparse` was renamed to `sparse_output` in version 1.2 and will be removed in 1.4. `sparse_output` is ignored unless you leave `sparse` to its default value.\n",
      "  warnings.warn(\n"
     ]
    }
   ],
   "source": [
    "from pathlib import Path\n",
    "import numpy as np\n",
    "import pandas as pd\n",
    "import matplotlib.pyplot as plt\n",
    "import seaborn as sns\n",
    "import math\n",
    "\n",
    "import shutil\n",
    "\n",
    "from NegativeClassOptimization import ml\n",
    "from NegativeClassOptimization import utils, config\n",
    "from NegativeClassOptimization import preprocessing"
   ]
  },
  {
   "cell_type": "code",
   "execution_count": 5,
   "metadata": {},
   "outputs": [],
   "source": [
    "epitope_based_ags_map = {\n",
    "    \"1WEJ\": (\"1WEJE1\", \"F1G2K2K1N1G3I1T2W1K2T1Y1A1T1N1\"),\n",
    "    \"1H0D\": (\"1H0DE1\", \"P1Q1G1R1I2S1S2S1F1Q2V1G1F1V1H1L1F1\"),\n",
    "    \"1OB1\": (\"1OB1E1\", \"S1N1S1G1L3V1N2K1I2C2C1P1F2D2\"),\n",
    "}"
   ]
  },
  {
   "cell_type": "code",
   "execution_count": 6,
   "metadata": {},
   "outputs": [
    {
     "name": "stdout",
     "output_type": "stream",
     "text": [
      "1WEJ\n",
      "1H0D\n",
      "1OB1\n"
     ]
    }
   ],
   "source": [
    "for key, value in epitope_based_ags_map.items():\n",
    "\n",
    "    print(key)\n",
    "\n",
    "    ag = key\n",
    "    ag_new, seqAGEpitope = value\n",
    "\n",
    "    base_path = config.DATA_MINIABSOLUT / f\"{ag}/energy_contributions\"\n",
    "\n",
    "    df_high_train = pd.read_csv(base_path / \"high_train_15000_absolut_energy_contributions.tsv\", sep='\\t', header=1)\n",
    "    df_high_rest = pd.read_csv(base_path / \"high_rest_absolut_energy_contributions.tsv\", sep='\\t', header=1)\n",
    "\n",
    "    df_weak_train = pd.read_csv(base_path / \"looserX_train_15000_absolut_energy_contributions.tsv\", sep='\\t', header=1)\n",
    "    df_weak_rest = pd.read_csv(base_path / \"looserX_rest_absolut_energy_contributions.tsv\", sep='\\t', header=1)\n",
    "\n",
    "    df_nonb_train = pd.read_csv(base_path / \"95low_train_15000_absolut_energy_contributions.tsv\", sep='\\t', header=1)\n",
    "    df_nonb_rest = pd.read_csv(base_path / \"95low_rest_absolut_energy_contributions.tsv\", sep='\\t', header=1)\n",
    "\n",
    "    df_high_train[\"binder_type\"] = f\"{ag}_high\"\n",
    "    df_high_rest[\"binder_type\"] = f\"{ag}_high\"\n",
    "\n",
    "    df_weak_train[\"binder_type\"] = f\"{ag}_looserX\"\n",
    "    df_weak_rest[\"binder_type\"] = f\"{ag}_looserX\"\n",
    "\n",
    "    df_nonb_train[\"binder_type\"] = f\"{ag}_95low\"\n",
    "    df_nonb_rest[\"binder_type\"] = f\"{ag}_95low\"\n",
    "\n",
    "    # Concatenate all\n",
    "    df = pd.concat(\n",
    "        [\n",
    "            df_high_train,\n",
    "            df_high_rest,\n",
    "            df_weak_train,\n",
    "            df_weak_rest,\n",
    "            df_nonb_train,\n",
    "            df_nonb_rest,\n",
    "        ]\n",
    "    )\n",
    "\n",
    "    # df.query(\"seqAGEpitope == @seqAGEpitope\").groupby(\"binder_type\").size()\n",
    "    df = df.query(\"seqAGEpitope == @seqAGEpitope\")\n",
    "    df[\"Antigen\"] = ag_new\n",
    "    # df.head()\n",
    "\n",
    "    assert all(df.groupby(\"binder_type\").size() > 15000)\n",
    "\n",
    "    # Rebuild the dataframes\n",
    "    df_high_train = df.loc[df[\"binder_type\"] == f\"{ag}_high\"].sample(15000)\n",
    "    df_high_rest = df.loc[(df[\"binder_type\"] == f\"{ag}_high\") & (~df.index.isin(df_high_train.index))]\n",
    "    df_weak_train = df.loc[df[\"binder_type\"] == f\"{ag}_looserX\"].sample(15000)\n",
    "    df_weak_rest = df.loc[(df[\"binder_type\"] == f\"{ag}_looserX\") & (~df.index.isin(df_weak_train.index))]\n",
    "    df_nonb_train = df.loc[df[\"binder_type\"] == f\"{ag}_95low\"].sample(15000)\n",
    "    df_nonb_rest = df.loc[(df[\"binder_type\"] == f\"{ag}_95low\") & (~df.index.isin(df_nonb_train.index))]\n",
    "\n",
    "    # Make the new directory in MiniAbsolut\n",
    "    new_ag_dir = config.DATA_MINIABSOLUT / f\"{ag_new}\"\n",
    "    new_ag_dir.mkdir(exist_ok=True)\n",
    "\n",
    "    # Copy the test files from the original antigen\n",
    "    for file in (config.DATA_MINIABSOLUT / f\"{ag}\").glob(\"*test*.tsv\"):\n",
    "        # Copy file to new antigen directory\n",
    "        # using shutil.copyfile(src, dst)\n",
    "        new_file = new_ag_dir / file.name\n",
    "        shutil.copyfile(file, new_file)\n",
    "\n",
    "    ## Save the new files in the main folder\n",
    "    ## Columns for normal tsvs in MiniAbsolut\n",
    "    cols_sel = [\"ID_slide_Variant\", \"CDR3\", \"Best\", \"Slide\", \"Energy\", \"Structure\", \"Antigen\"]\n",
    "    df_high_train[cols_sel].to_csv(new_ag_dir / f\"high_train_15000.tsv\", sep='\\t', index=False)\n",
    "    df_high_rest[cols_sel].to_csv(new_ag_dir / f\"high_rest.tsv\", sep='\\t', index=False)\n",
    "    df_weak_train[cols_sel].to_csv(new_ag_dir / f\"looserX_train_15000.tsv\", sep='\\t', index=False)\n",
    "    df_weak_rest[cols_sel].to_csv(new_ag_dir / f\"looserX_rest.tsv\", sep='\\t', index=False)\n",
    "    df_nonb_train[cols_sel].to_csv(new_ag_dir / f\"95low_train_15000.tsv\", sep='\\t', index=False)\n",
    "    df_nonb_rest[cols_sel].to_csv(new_ag_dir / f\"95low_rest.tsv\", sep='\\t', index=False)\n",
    "\n",
    "    ###\n",
    "    # Save the new files in the \"*_energy_contributions\" folder,\n",
    "    # where other modules expect Absolut data regarding binding\n",
    "    # energy.\n",
    "    new_ag_energy_dir = new_ag_dir / \"energy_contributions\"\n",
    "    new_ag_energy_dir.mkdir(exist_ok=True)\n",
    "\n",
    "    # Copy the test files from the original antigen\n",
    "    for file in (config.DATA_MINIABSOLUT / f\"{ag}/energy_contributions\").glob(\"*test*energy_contributions.tsv\"):\n",
    "        # Copy file to new antigen directory\n",
    "        # using shutil.copyfile(src, dst)\n",
    "        new_file = new_ag_energy_dir / file.name\n",
    "        shutil.copyfile(file, new_file)\n",
    "\n",
    "    df_high_train.to_csv(new_ag_energy_dir / f\"high_train_15000_absolut_energy_contributions.tsv\", sep='\\t', index=False)\n",
    "    df_high_rest.to_csv(new_ag_energy_dir / f\"high_rest_absolut_energy_contributions.tsv\", sep='\\t', index=False)\n",
    "    df_weak_train.to_csv(new_ag_energy_dir / f\"looserX_train_15000_absolut_energy_contributions.tsv\", sep='\\t', index=False)\n",
    "    df_weak_rest.to_csv(new_ag_energy_dir / f\"looserX_rest_absolut_energy_contributions.tsv\", sep='\\t', index=False)\n",
    "    df_nonb_train.to_csv(new_ag_energy_dir / f\"95low_train_15000_absolut_energy_contributions.tsv\", sep='\\t', index=False) \n",
    "    df_nonb_rest.to_csv(new_ag_energy_dir / f\"95low_rest_absolut_energy_contributions.tsv\", sep='\\t', index=False)\n"
   ]
  },
  {
   "cell_type": "code",
   "execution_count": null,
   "metadata": {},
   "outputs": [],
   "source": []
  }
 ],
 "metadata": {
  "kernelspec": {
   "display_name": "nco",
   "language": "python",
   "name": "python3"
  },
  "language_info": {
   "codemirror_mode": {
    "name": "ipython",
    "version": 3
   },
   "file_extension": ".py",
   "mimetype": "text/x-python",
   "name": "python",
   "nbconvert_exporter": "python",
   "pygments_lexer": "ipython3",
   "version": "3.8.18"
  }
 },
 "nbformat": 4,
 "nbformat_minor": 2
}
