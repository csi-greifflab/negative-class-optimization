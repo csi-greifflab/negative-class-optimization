{
 "cells": [
  {
   "cell_type": "markdown",
   "metadata": {},
   "source": [
    "# Explore data `slack_1`"
   ]
  },
  {
   "cell_type": "code",
   "execution_count": 1,
   "metadata": {},
   "outputs": [
    {
     "name": "stderr",
     "output_type": "stream",
     "text": [
      "/home/eugen/miniconda3/envs/nco/lib/python3.8/site-packages/tqdm/auto.py:22: TqdmWarning: IProgress not found. Please update jupyter and ipywidgets. See https://ipywidgets.readthedocs.io/en/stable/user_install.html\n",
      "  from .autonotebook import tqdm as notebook_tqdm\n"
     ]
    }
   ],
   "source": [
    "from pathlib import Path\n",
    "import pandas as pd\n",
    "from typing import List\n",
    "\n",
    "import farmhash\n",
    "\n",
    "import NegativeClassOptimization.utils as utils\n",
    "import NegativeClassOptimization.config as config"
   ]
  },
  {
   "cell_type": "code",
   "execution_count": 4,
   "metadata": {},
   "outputs": [
    {
     "ename": "KeyError",
     "evalue": "'filetype'",
     "output_type": "error",
     "traceback": [
      "\u001b[0;31m---------------------------------------------------------------------------\u001b[0m",
      "\u001b[0;31mKeyError\u001b[0m                                  Traceback (most recent call last)",
      "Cell \u001b[0;32mIn[4], line 1\u001b[0m\n\u001b[0;32m----> 1\u001b[0m df_files \u001b[39m=\u001b[39m utils\u001b[39m.\u001b[39;49msummarize_data_files(config\u001b[39m.\u001b[39;49mDATA_SLACK_1_RAW_DIR)\u001b[39m.\u001b[39;49msort_values([\u001b[39m\"\u001b[39;49m\u001b[39mfiletype\u001b[39;49m\u001b[39m\"\u001b[39;49m, \u001b[39m\"\u001b[39;49m\u001b[39mantigen\u001b[39;49m\u001b[39m\"\u001b[39;49m])\n\u001b[1;32m      2\u001b[0m df_files\n",
      "File \u001b[0;32m~/miniconda3/envs/nco/lib/python3.8/site-packages/pandas/util/_decorators.py:331\u001b[0m, in \u001b[0;36mdeprecate_nonkeyword_arguments.<locals>.decorate.<locals>.wrapper\u001b[0;34m(*args, **kwargs)\u001b[0m\n\u001b[1;32m    325\u001b[0m \u001b[39mif\u001b[39;00m \u001b[39mlen\u001b[39m(args) \u001b[39m>\u001b[39m num_allow_args:\n\u001b[1;32m    326\u001b[0m     warnings\u001b[39m.\u001b[39mwarn(\n\u001b[1;32m    327\u001b[0m         msg\u001b[39m.\u001b[39mformat(arguments\u001b[39m=\u001b[39m_format_argument_list(allow_args)),\n\u001b[1;32m    328\u001b[0m         \u001b[39mFutureWarning\u001b[39;00m,\n\u001b[1;32m    329\u001b[0m         stacklevel\u001b[39m=\u001b[39mfind_stack_level(),\n\u001b[1;32m    330\u001b[0m     )\n\u001b[0;32m--> 331\u001b[0m \u001b[39mreturn\u001b[39;00m func(\u001b[39m*\u001b[39;49margs, \u001b[39m*\u001b[39;49m\u001b[39m*\u001b[39;49mkwargs)\n",
      "File \u001b[0;32m~/miniconda3/envs/nco/lib/python3.8/site-packages/pandas/core/frame.py:6891\u001b[0m, in \u001b[0;36mDataFrame.sort_values\u001b[0;34m(self, by, axis, ascending, inplace, kind, na_position, ignore_index, key)\u001b[0m\n\u001b[1;32m   6885\u001b[0m     \u001b[39mraise\u001b[39;00m \u001b[39mValueError\u001b[39;00m(\n\u001b[1;32m   6886\u001b[0m         \u001b[39mf\u001b[39m\u001b[39m\"\u001b[39m\u001b[39mLength of ascending (\u001b[39m\u001b[39m{\u001b[39;00m\u001b[39mlen\u001b[39m(ascending)\u001b[39m}\u001b[39;00m\u001b[39m)\u001b[39m\u001b[39m\"\u001b[39m  \u001b[39m# type: ignore[arg-type]\u001b[39;00m\n\u001b[1;32m   6887\u001b[0m         \u001b[39mf\u001b[39m\u001b[39m\"\u001b[39m\u001b[39m != length of by (\u001b[39m\u001b[39m{\u001b[39;00m\u001b[39mlen\u001b[39m(by)\u001b[39m}\u001b[39;00m\u001b[39m)\u001b[39m\u001b[39m\"\u001b[39m\n\u001b[1;32m   6888\u001b[0m     )\n\u001b[1;32m   6889\u001b[0m \u001b[39mif\u001b[39;00m \u001b[39mlen\u001b[39m(by) \u001b[39m>\u001b[39m \u001b[39m1\u001b[39m:\n\u001b[0;32m-> 6891\u001b[0m     keys \u001b[39m=\u001b[39m [\u001b[39mself\u001b[39m\u001b[39m.\u001b[39m_get_label_or_level_values(x, axis\u001b[39m=\u001b[39maxis) \u001b[39mfor\u001b[39;00m x \u001b[39min\u001b[39;00m by]\n\u001b[1;32m   6893\u001b[0m     \u001b[39m# need to rewrap columns in Series to apply key function\u001b[39;00m\n\u001b[1;32m   6894\u001b[0m     \u001b[39mif\u001b[39;00m key \u001b[39mis\u001b[39;00m \u001b[39mnot\u001b[39;00m \u001b[39mNone\u001b[39;00m:\n\u001b[1;32m   6895\u001b[0m         \u001b[39m# error: List comprehension has incompatible type List[Series];\u001b[39;00m\n\u001b[1;32m   6896\u001b[0m         \u001b[39m# expected List[ndarray]\u001b[39;00m\n",
      "File \u001b[0;32m~/miniconda3/envs/nco/lib/python3.8/site-packages/pandas/core/frame.py:6891\u001b[0m, in \u001b[0;36m<listcomp>\u001b[0;34m(.0)\u001b[0m\n\u001b[1;32m   6885\u001b[0m     \u001b[39mraise\u001b[39;00m \u001b[39mValueError\u001b[39;00m(\n\u001b[1;32m   6886\u001b[0m         \u001b[39mf\u001b[39m\u001b[39m\"\u001b[39m\u001b[39mLength of ascending (\u001b[39m\u001b[39m{\u001b[39;00m\u001b[39mlen\u001b[39m(ascending)\u001b[39m}\u001b[39;00m\u001b[39m)\u001b[39m\u001b[39m\"\u001b[39m  \u001b[39m# type: ignore[arg-type]\u001b[39;00m\n\u001b[1;32m   6887\u001b[0m         \u001b[39mf\u001b[39m\u001b[39m\"\u001b[39m\u001b[39m != length of by (\u001b[39m\u001b[39m{\u001b[39;00m\u001b[39mlen\u001b[39m(by)\u001b[39m}\u001b[39;00m\u001b[39m)\u001b[39m\u001b[39m\"\u001b[39m\n\u001b[1;32m   6888\u001b[0m     )\n\u001b[1;32m   6889\u001b[0m \u001b[39mif\u001b[39;00m \u001b[39mlen\u001b[39m(by) \u001b[39m>\u001b[39m \u001b[39m1\u001b[39m:\n\u001b[0;32m-> 6891\u001b[0m     keys \u001b[39m=\u001b[39m [\u001b[39mself\u001b[39;49m\u001b[39m.\u001b[39;49m_get_label_or_level_values(x, axis\u001b[39m=\u001b[39;49maxis) \u001b[39mfor\u001b[39;00m x \u001b[39min\u001b[39;00m by]\n\u001b[1;32m   6893\u001b[0m     \u001b[39m# need to rewrap columns in Series to apply key function\u001b[39;00m\n\u001b[1;32m   6894\u001b[0m     \u001b[39mif\u001b[39;00m key \u001b[39mis\u001b[39;00m \u001b[39mnot\u001b[39;00m \u001b[39mNone\u001b[39;00m:\n\u001b[1;32m   6895\u001b[0m         \u001b[39m# error: List comprehension has incompatible type List[Series];\u001b[39;00m\n\u001b[1;32m   6896\u001b[0m         \u001b[39m# expected List[ndarray]\u001b[39;00m\n",
      "File \u001b[0;32m~/miniconda3/envs/nco/lib/python3.8/site-packages/pandas/core/generic.py:1850\u001b[0m, in \u001b[0;36mNDFrame._get_label_or_level_values\u001b[0;34m(self, key, axis)\u001b[0m\n\u001b[1;32m   1844\u001b[0m     values \u001b[39m=\u001b[39m (\n\u001b[1;32m   1845\u001b[0m         \u001b[39mself\u001b[39m\u001b[39m.\u001b[39maxes[axis]\n\u001b[1;32m   1846\u001b[0m         \u001b[39m.\u001b[39mget_level_values(key)  \u001b[39m# type: ignore[assignment]\u001b[39;00m\n\u001b[1;32m   1847\u001b[0m         \u001b[39m.\u001b[39m_values\n\u001b[1;32m   1848\u001b[0m     )\n\u001b[1;32m   1849\u001b[0m \u001b[39melse\u001b[39;00m:\n\u001b[0;32m-> 1850\u001b[0m     \u001b[39mraise\u001b[39;00m \u001b[39mKeyError\u001b[39;00m(key)\n\u001b[1;32m   1852\u001b[0m \u001b[39m# Check for duplicates\u001b[39;00m\n\u001b[1;32m   1853\u001b[0m \u001b[39mif\u001b[39;00m values\u001b[39m.\u001b[39mndim \u001b[39m>\u001b[39m \u001b[39m1\u001b[39m:\n",
      "\u001b[0;31mKeyError\u001b[0m: 'filetype'"
     ]
    }
   ],
   "source": [
    "df_files = utils.summarize_data_files(config.DATA_SLACK_1_RAW_DIR).sort_values([\"filetype\", \"antigen\"])\n",
    "df_files"
   ]
  },
  {
   "cell_type": "markdown",
   "metadata": {},
   "source": [
    "## File format\n",
    "\n",
    "It looks like `features` files have more annotations for the data in `corpus` files."
   ]
  },
  {
   "cell_type": "code",
   "execution_count": null,
   "metadata": {},
   "outputs": [
    {
     "data": {
      "text/html": [
       "<div>\n",
       "<style scoped>\n",
       "    .dataframe tbody tr th:only-of-type {\n",
       "        vertical-align: middle;\n",
       "    }\n",
       "\n",
       "    .dataframe tbody tr th {\n",
       "        vertical-align: top;\n",
       "    }\n",
       "\n",
       "    .dataframe thead th {\n",
       "        text-align: right;\n",
       "    }\n",
       "</style>\n",
       "<table border=\"1\" class=\"dataframe\">\n",
       "  <thead>\n",
       "    <tr style=\"text-align: right;\">\n",
       "      <th></th>\n",
       "      <th>ID_slide_Variant</th>\n",
       "      <th>CDR3</th>\n",
       "      <th>Best</th>\n",
       "      <th>Slide</th>\n",
       "      <th>Energy</th>\n",
       "      <th>Structure</th>\n",
       "      <th>UID</th>\n",
       "    </tr>\n",
       "  </thead>\n",
       "  <tbody>\n",
       "    <tr>\n",
       "      <th>0</th>\n",
       "      <td>1873658_06a</td>\n",
       "      <td>CARPENLLLLLWYFDVW</td>\n",
       "      <td>True</td>\n",
       "      <td>LLLLLWYFDVW</td>\n",
       "      <td>-112.82</td>\n",
       "      <td>137442-BRDSLLUDLS</td>\n",
       "      <td>3VRL_1873658_06a</td>\n",
       "    </tr>\n",
       "    <tr>\n",
       "      <th>1</th>\n",
       "      <td>7116990_04a</td>\n",
       "      <td>CARGLLLLLWYFDVW</td>\n",
       "      <td>True</td>\n",
       "      <td>LLLLLWYFDVW</td>\n",
       "      <td>-112.82</td>\n",
       "      <td>137442-BRDSLLUDLS</td>\n",
       "      <td>3VRL_7116990_04a</td>\n",
       "    </tr>\n",
       "  </tbody>\n",
       "</table>\n",
       "</div>"
      ],
      "text/plain": [
       "  ID_slide_Variant               CDR3  Best        Slide  Energy  \\\n",
       "0      1873658_06a  CARPENLLLLLWYFDVW  True  LLLLLWYFDVW -112.82   \n",
       "1      7116990_04a    CARGLLLLLWYFDVW  True  LLLLLWYFDVW -112.82   \n",
       "\n",
       "           Structure               UID  \n",
       "0  137442-BRDSLLUDLS  3VRL_1873658_06a  \n",
       "1  137442-BRDSLLUDLS  3VRL_7116990_04a  "
      ]
     },
     "execution_count": 3,
     "metadata": {},
     "output_type": "execute_result"
    }
   ],
   "source": [
    "ag_data = utils.AntigenData(\"3VRL\", config.DATA_SLACK_1_RAW_DIR)\n",
    "ag_data.df_c.head(2)"
   ]
  },
  {
   "cell_type": "markdown",
   "metadata": {},
   "source": [
    "## Fetch global dataset from all antigens"
   ]
  },
  {
   "cell_type": "code",
   "execution_count": null,
   "metadata": {},
   "outputs": [
    {
     "data": {
      "text/html": [
       "<div>\n",
       "<style scoped>\n",
       "    .dataframe tbody tr th:only-of-type {\n",
       "        vertical-align: middle;\n",
       "    }\n",
       "\n",
       "    .dataframe tbody tr th {\n",
       "        vertical-align: top;\n",
       "    }\n",
       "\n",
       "    .dataframe thead th {\n",
       "        text-align: right;\n",
       "    }\n",
       "</style>\n",
       "<table border=\"1\" class=\"dataframe\">\n",
       "  <thead>\n",
       "    <tr style=\"text-align: right;\">\n",
       "      <th></th>\n",
       "      <th>ID_slide_Variant</th>\n",
       "      <th>CDR3</th>\n",
       "      <th>Best</th>\n",
       "      <th>Slide</th>\n",
       "      <th>Energy</th>\n",
       "      <th>Structure</th>\n",
       "      <th>UID</th>\n",
       "      <th>Antigen</th>\n",
       "    </tr>\n",
       "  </thead>\n",
       "  <tbody>\n",
       "    <tr>\n",
       "      <th>0</th>\n",
       "      <td>5319791_04a</td>\n",
       "      <td>CARSAAFITTVGWYFDVW</td>\n",
       "      <td>True</td>\n",
       "      <td>AAFITTVGWYF</td>\n",
       "      <td>-94.70</td>\n",
       "      <td>128933-BRRSLUDUUS</td>\n",
       "      <td>1ADQ_5319791_04a</td>\n",
       "      <td>1ADQ</td>\n",
       "    </tr>\n",
       "    <tr>\n",
       "      <th>1</th>\n",
       "      <td>3796836_02a</td>\n",
       "      <td>CAAAFYGRWYFDVW</td>\n",
       "      <td>True</td>\n",
       "      <td>AAFYGRWYFDV</td>\n",
       "      <td>-94.57</td>\n",
       "      <td>128933-BRRSLUSURD</td>\n",
       "      <td>1ADQ_3796836_02a</td>\n",
       "      <td>1ADQ</td>\n",
       "    </tr>\n",
       "    <tr>\n",
       "      <th>2</th>\n",
       "      <td>5098589_01a</td>\n",
       "      <td>CAAFYYGNLAWFAYW</td>\n",
       "      <td>True</td>\n",
       "      <td>AAFYYGNLAWF</td>\n",
       "      <td>-97.63</td>\n",
       "      <td>141287-DDLUSURLRR</td>\n",
       "      <td>1ADQ_5098589_01a</td>\n",
       "      <td>1ADQ</td>\n",
       "    </tr>\n",
       "    <tr>\n",
       "      <th>3</th>\n",
       "      <td>5151925_01a</td>\n",
       "      <td>CAAGWLLLFAYW</td>\n",
       "      <td>True</td>\n",
       "      <td>AAGWLLLFAYW</td>\n",
       "      <td>-95.45</td>\n",
       "      <td>124837-RRURSUUSLD</td>\n",
       "      <td>1ADQ_5151925_01a</td>\n",
       "      <td>1ADQ</td>\n",
       "    </tr>\n",
       "    <tr>\n",
       "      <th>4</th>\n",
       "      <td>879141_05a</td>\n",
       "      <td>CARYAAAGWLLLFDYW</td>\n",
       "      <td>True</td>\n",
       "      <td>AAGWLLLFDYW</td>\n",
       "      <td>-95.45</td>\n",
       "      <td>124837-RRURSUUSLD</td>\n",
       "      <td>1ADQ_879141_05a</td>\n",
       "      <td>1ADQ</td>\n",
       "    </tr>\n",
       "    <tr>\n",
       "      <th>...</th>\n",
       "      <td>...</td>\n",
       "      <td>...</td>\n",
       "      <td>...</td>\n",
       "      <td>...</td>\n",
       "      <td>...</td>\n",
       "      <td>...</td>\n",
       "      <td>...</td>\n",
       "      <td>...</td>\n",
       "    </tr>\n",
       "    <tr>\n",
       "      <th>460478</th>\n",
       "      <td>6936432_06a</td>\n",
       "      <td>CTTEGSYYYFFGVFAYW</td>\n",
       "      <td>True</td>\n",
       "      <td>YYYFFGVFAYW</td>\n",
       "      <td>-99.77</td>\n",
       "      <td>157601-SDSRSDRLLR</td>\n",
       "      <td>5E94_6936432_06a</td>\n",
       "      <td>5E94</td>\n",
       "    </tr>\n",
       "    <tr>\n",
       "      <th>460479</th>\n",
       "      <td>2128564_06a</td>\n",
       "      <td>CARAPYYYYVSSYLFVW</td>\n",
       "      <td>True</td>\n",
       "      <td>YYYVSSYLFVW</td>\n",
       "      <td>-98.25</td>\n",
       "      <td>157601-SDSRSDRLLR</td>\n",
       "      <td>5E94_2128564_06a</td>\n",
       "      <td>5E94</td>\n",
       "    </tr>\n",
       "    <tr>\n",
       "      <th>460480</th>\n",
       "      <td>2106520_04a</td>\n",
       "      <td>CARSYYYYGSILFAYW</td>\n",
       "      <td>True</td>\n",
       "      <td>YYYYGSILFAY</td>\n",
       "      <td>-97.16</td>\n",
       "      <td>157601-SDSRSDRLLR</td>\n",
       "      <td>5E94_2106520_04a</td>\n",
       "      <td>5E94</td>\n",
       "    </tr>\n",
       "    <tr>\n",
       "      <th>460481</th>\n",
       "      <td>3264501_03a</td>\n",
       "      <td>CARYYYYGSSFFYFDYW</td>\n",
       "      <td>True</td>\n",
       "      <td>YYYYGSSFFYF</td>\n",
       "      <td>-97.65</td>\n",
       "      <td>157601-SDSRSDRLLR</td>\n",
       "      <td>5E94_3264501_03a</td>\n",
       "      <td>5E94</td>\n",
       "    </tr>\n",
       "    <tr>\n",
       "      <th>460482</th>\n",
       "      <td>708516_04a</td>\n",
       "      <td>CARDYYYYGSSLLVLAYW</td>\n",
       "      <td>True</td>\n",
       "      <td>YYYYGSSLLVL</td>\n",
       "      <td>-98.28</td>\n",
       "      <td>157601-SDSRSDRLLR</td>\n",
       "      <td>5E94_708516_04a</td>\n",
       "      <td>5E94</td>\n",
       "    </tr>\n",
       "  </tbody>\n",
       "</table>\n",
       "<p>460483 rows × 8 columns</p>\n",
       "</div>"
      ],
      "text/plain": [
       "       ID_slide_Variant                CDR3  Best        Slide  Energy  \\\n",
       "0           5319791_04a  CARSAAFITTVGWYFDVW  True  AAFITTVGWYF  -94.70   \n",
       "1           3796836_02a      CAAAFYGRWYFDVW  True  AAFYGRWYFDV  -94.57   \n",
       "2           5098589_01a     CAAFYYGNLAWFAYW  True  AAFYYGNLAWF  -97.63   \n",
       "3           5151925_01a        CAAGWLLLFAYW  True  AAGWLLLFAYW  -95.45   \n",
       "4            879141_05a    CARYAAAGWLLLFDYW  True  AAGWLLLFDYW  -95.45   \n",
       "...                 ...                 ...   ...          ...     ...   \n",
       "460478      6936432_06a   CTTEGSYYYFFGVFAYW  True  YYYFFGVFAYW  -99.77   \n",
       "460479      2128564_06a   CARAPYYYYVSSYLFVW  True  YYYVSSYLFVW  -98.25   \n",
       "460480      2106520_04a    CARSYYYYGSILFAYW  True  YYYYGSILFAY  -97.16   \n",
       "460481      3264501_03a   CARYYYYGSSFFYFDYW  True  YYYYGSSFFYF  -97.65   \n",
       "460482       708516_04a  CARDYYYYGSSLLVLAYW  True  YYYYGSSLLVL  -98.28   \n",
       "\n",
       "                Structure               UID Antigen  \n",
       "0       128933-BRRSLUDUUS  1ADQ_5319791_04a    1ADQ  \n",
       "1       128933-BRRSLUSURD  1ADQ_3796836_02a    1ADQ  \n",
       "2       141287-DDLUSURLRR  1ADQ_5098589_01a    1ADQ  \n",
       "3       124837-RRURSUUSLD  1ADQ_5151925_01a    1ADQ  \n",
       "4       124837-RRURSUUSLD   1ADQ_879141_05a    1ADQ  \n",
       "...                   ...               ...     ...  \n",
       "460478  157601-SDSRSDRLLR  5E94_6936432_06a    5E94  \n",
       "460479  157601-SDSRSDRLLR  5E94_2128564_06a    5E94  \n",
       "460480  157601-SDSRSDRLLR  5E94_2106520_04a    5E94  \n",
       "460481  157601-SDSRSDRLLR  5E94_3264501_03a    5E94  \n",
       "460482  157601-SDSRSDRLLR   5E94_708516_04a    5E94  \n",
       "\n",
       "[460483 rows x 8 columns]"
      ]
     },
     "execution_count": 4,
     "metadata": {},
     "output_type": "execute_result"
    }
   ],
   "source": [
    "df_global = utils.load_global_dataframe()\n",
    "df_global"
   ]
  },
  {
   "cell_type": "code",
   "execution_count": null,
   "metadata": {},
   "outputs": [
    {
     "data": {
      "text/plain": [
       "14    0.219142\n",
       "15    0.175116\n",
       "16    0.145462\n",
       "17    0.102312\n",
       "13    0.093335\n",
       "12    0.074691\n",
       "11    0.067979\n",
       "18    0.063043\n",
       "19    0.033152\n",
       "20    0.014654\n",
       "21    0.006319\n",
       "22    0.002706\n",
       "23    0.001138\n",
       "24    0.000441\n",
       "25    0.000159\n",
       "26    0.000104\n",
       "28    0.000076\n",
       "27    0.000067\n",
       "31    0.000026\n",
       "36    0.000017\n",
       "30    0.000015\n",
       "40    0.000011\n",
       "29    0.000007\n",
       "39    0.000007\n",
       "33    0.000004\n",
       "43    0.000004\n",
       "35    0.000004\n",
       "37    0.000004\n",
       "34    0.000002\n",
       "32    0.000002\n",
       "Name: CDR3, dtype: float64"
      ]
     },
     "execution_count": 5,
     "metadata": {},
     "output_type": "execute_result"
    }
   ],
   "source": [
    "cdr3_lengths = df_global[\"CDR3\"].str.len().value_counts()\n",
    "cdr3_lengths = cdr3_lengths / cdr3_lengths.sum()\n",
    "# cdr3_lengths.to_dict()  # record to config\n",
    "cdr3_lengths"
   ]
  },
  {
   "cell_type": "markdown",
   "metadata": {},
   "source": [
    "How unique are the CDR3s in the dataset?\n",
    "\n",
    "- it looks like a lot of redundant CDR3, mainly **between**, not within, different antibodies."
   ]
  },
  {
   "cell_type": "code",
   "execution_count": null,
   "metadata": {},
   "outputs": [
    {
     "name": "stdout",
     "output_type": "stream",
     "text": [
      "CDR3 unique shape: (290050,)\n",
      "Value counts:\n"
     ]
    },
    {
     "data": {
      "text/plain": [
       "CAGDNLLPYLIVTLPFAYW    10\n",
       "CARGFLRLLLRWYFDVW      10\n",
       "CAREGQLWLYLAWFAYW      10\n",
       "CTVLLLWLRLFDYW         10\n",
       "CARSFLLRYPLLYFDVW      10\n",
       "                       ..\n",
       "CARYGFAWFAYW            1\n",
       "CARYGGSLGWFAYW          1\n",
       "CARYGHQLRVFDYW          1\n",
       "CARYGIGWFAYW            1\n",
       "CARYYYYGSSFFYFDYW       1\n",
       "Name: CDR3, Length: 290050, dtype: int64"
      ]
     },
     "execution_count": 6,
     "metadata": {},
     "output_type": "execute_result"
    }
   ],
   "source": [
    "cdr3_uniq = df_global[\"CDR3\"].unique()\n",
    "print(f\"CDR3 unique shape: {cdr3_uniq.shape}\\nValue counts:\")\n",
    "df_global[\"CDR3\"].value_counts()"
   ]
  },
  {
   "cell_type": "markdown",
   "metadata": {},
   "source": [
    "## Duplicated `Slide` sequences\n",
    "\n",
    "We want to have a better way to handle duplicated `Slide` sequnces. For that, we generate a processed version of the global dataset where we aggregate by Slide and keep track of duplication explicitely."
   ]
  },
  {
   "cell_type": "code",
   "execution_count": null,
   "metadata": {},
   "outputs": [
    {
     "data": {
      "text/html": [
       "<div>\n",
       "<style scoped>\n",
       "    .dataframe tbody tr th:only-of-type {\n",
       "        vertical-align: middle;\n",
       "    }\n",
       "\n",
       "    .dataframe tbody tr th {\n",
       "        vertical-align: top;\n",
       "    }\n",
       "\n",
       "    .dataframe thead th {\n",
       "        text-align: right;\n",
       "    }\n",
       "</style>\n",
       "<table border=\"1\" class=\"dataframe\">\n",
       "  <thead>\n",
       "    <tr style=\"text-align: right;\">\n",
       "      <th></th>\n",
       "      <th>ID_slide_Variant</th>\n",
       "      <th>CDR3</th>\n",
       "      <th>Best</th>\n",
       "      <th>Slide</th>\n",
       "      <th>Energy</th>\n",
       "      <th>Structure</th>\n",
       "      <th>UID</th>\n",
       "      <th>Antigen</th>\n",
       "    </tr>\n",
       "  </thead>\n",
       "  <tbody>\n",
       "    <tr>\n",
       "      <th>0</th>\n",
       "      <td>5319791_04a</td>\n",
       "      <td>CARSAAFITTVGWYFDVW</td>\n",
       "      <td>True</td>\n",
       "      <td>AAFITTVGWYF</td>\n",
       "      <td>-94.70</td>\n",
       "      <td>128933-BRRSLUDUUS</td>\n",
       "      <td>1ADQ_5319791_04a</td>\n",
       "      <td>1ADQ</td>\n",
       "    </tr>\n",
       "    <tr>\n",
       "      <th>1</th>\n",
       "      <td>3796836_02a</td>\n",
       "      <td>CAAAFYGRWYFDVW</td>\n",
       "      <td>True</td>\n",
       "      <td>AAFYGRWYFDV</td>\n",
       "      <td>-94.57</td>\n",
       "      <td>128933-BRRSLUSURD</td>\n",
       "      <td>1ADQ_3796836_02a</td>\n",
       "      <td>1ADQ</td>\n",
       "    </tr>\n",
       "    <tr>\n",
       "      <th>2</th>\n",
       "      <td>5098589_01a</td>\n",
       "      <td>CAAFYYGNLAWFAYW</td>\n",
       "      <td>True</td>\n",
       "      <td>AAFYYGNLAWF</td>\n",
       "      <td>-97.63</td>\n",
       "      <td>141287-DDLUSURLRR</td>\n",
       "      <td>1ADQ_5098589_01a</td>\n",
       "      <td>1ADQ</td>\n",
       "    </tr>\n",
       "    <tr>\n",
       "      <th>3</th>\n",
       "      <td>5151925_01a</td>\n",
       "      <td>CAAGWLLLFAYW</td>\n",
       "      <td>True</td>\n",
       "      <td>AAGWLLLFAYW</td>\n",
       "      <td>-95.45</td>\n",
       "      <td>124837-RRURSUUSLD</td>\n",
       "      <td>1ADQ_5151925_01a</td>\n",
       "      <td>1ADQ</td>\n",
       "    </tr>\n",
       "    <tr>\n",
       "      <th>4</th>\n",
       "      <td>879141_05a</td>\n",
       "      <td>CARYAAAGWLLLFDYW</td>\n",
       "      <td>True</td>\n",
       "      <td>AAGWLLLFDYW</td>\n",
       "      <td>-95.45</td>\n",
       "      <td>124837-RRURSUUSLD</td>\n",
       "      <td>1ADQ_879141_05a</td>\n",
       "      <td>1ADQ</td>\n",
       "    </tr>\n",
       "    <tr>\n",
       "      <th>...</th>\n",
       "      <td>...</td>\n",
       "      <td>...</td>\n",
       "      <td>...</td>\n",
       "      <td>...</td>\n",
       "      <td>...</td>\n",
       "      <td>...</td>\n",
       "      <td>...</td>\n",
       "      <td>...</td>\n",
       "    </tr>\n",
       "    <tr>\n",
       "      <th>460478</th>\n",
       "      <td>6936432_06a</td>\n",
       "      <td>CTTEGSYYYFFGVFAYW</td>\n",
       "      <td>True</td>\n",
       "      <td>YYYFFGVFAYW</td>\n",
       "      <td>-99.77</td>\n",
       "      <td>157601-SDSRSDRLLR</td>\n",
       "      <td>5E94_6936432_06a</td>\n",
       "      <td>5E94</td>\n",
       "    </tr>\n",
       "    <tr>\n",
       "      <th>460479</th>\n",
       "      <td>2128564_06a</td>\n",
       "      <td>CARAPYYYYVSSYLFVW</td>\n",
       "      <td>True</td>\n",
       "      <td>YYYVSSYLFVW</td>\n",
       "      <td>-98.25</td>\n",
       "      <td>157601-SDSRSDRLLR</td>\n",
       "      <td>5E94_2128564_06a</td>\n",
       "      <td>5E94</td>\n",
       "    </tr>\n",
       "    <tr>\n",
       "      <th>460480</th>\n",
       "      <td>2106520_04a</td>\n",
       "      <td>CARSYYYYGSILFAYW</td>\n",
       "      <td>True</td>\n",
       "      <td>YYYYGSILFAY</td>\n",
       "      <td>-97.16</td>\n",
       "      <td>157601-SDSRSDRLLR</td>\n",
       "      <td>5E94_2106520_04a</td>\n",
       "      <td>5E94</td>\n",
       "    </tr>\n",
       "    <tr>\n",
       "      <th>460481</th>\n",
       "      <td>3264501_03a</td>\n",
       "      <td>CARYYYYGSSFFYFDYW</td>\n",
       "      <td>True</td>\n",
       "      <td>YYYYGSSFFYF</td>\n",
       "      <td>-97.65</td>\n",
       "      <td>157601-SDSRSDRLLR</td>\n",
       "      <td>5E94_3264501_03a</td>\n",
       "      <td>5E94</td>\n",
       "    </tr>\n",
       "    <tr>\n",
       "      <th>460482</th>\n",
       "      <td>708516_04a</td>\n",
       "      <td>CARDYYYYGSSLLVLAYW</td>\n",
       "      <td>True</td>\n",
       "      <td>YYYYGSSLLVL</td>\n",
       "      <td>-98.28</td>\n",
       "      <td>157601-SDSRSDRLLR</td>\n",
       "      <td>5E94_708516_04a</td>\n",
       "      <td>5E94</td>\n",
       "    </tr>\n",
       "  </tbody>\n",
       "</table>\n",
       "<p>460483 rows × 8 columns</p>\n",
       "</div>"
      ],
      "text/plain": [
       "       ID_slide_Variant                CDR3  Best        Slide  Energy  \\\n",
       "0           5319791_04a  CARSAAFITTVGWYFDVW  True  AAFITTVGWYF  -94.70   \n",
       "1           3796836_02a      CAAAFYGRWYFDVW  True  AAFYGRWYFDV  -94.57   \n",
       "2           5098589_01a     CAAFYYGNLAWFAYW  True  AAFYYGNLAWF  -97.63   \n",
       "3           5151925_01a        CAAGWLLLFAYW  True  AAGWLLLFAYW  -95.45   \n",
       "4            879141_05a    CARYAAAGWLLLFDYW  True  AAGWLLLFDYW  -95.45   \n",
       "...                 ...                 ...   ...          ...     ...   \n",
       "460478      6936432_06a   CTTEGSYYYFFGVFAYW  True  YYYFFGVFAYW  -99.77   \n",
       "460479      2128564_06a   CARAPYYYYVSSYLFVW  True  YYYVSSYLFVW  -98.25   \n",
       "460480      2106520_04a    CARSYYYYGSILFAYW  True  YYYYGSILFAY  -97.16   \n",
       "460481      3264501_03a   CARYYYYGSSFFYFDYW  True  YYYYGSSFFYF  -97.65   \n",
       "460482       708516_04a  CARDYYYYGSSLLVLAYW  True  YYYYGSSLLVL  -98.28   \n",
       "\n",
       "                Structure               UID Antigen  \n",
       "0       128933-BRRSLUDUUS  1ADQ_5319791_04a    1ADQ  \n",
       "1       128933-BRRSLUSURD  1ADQ_3796836_02a    1ADQ  \n",
       "2       141287-DDLUSURLRR  1ADQ_5098589_01a    1ADQ  \n",
       "3       124837-RRURSUUSLD  1ADQ_5151925_01a    1ADQ  \n",
       "4       124837-RRURSUUSLD   1ADQ_879141_05a    1ADQ  \n",
       "...                   ...               ...     ...  \n",
       "460478  157601-SDSRSDRLLR  5E94_6936432_06a    5E94  \n",
       "460479  157601-SDSRSDRLLR  5E94_2128564_06a    5E94  \n",
       "460480  157601-SDSRSDRLLR  5E94_2106520_04a    5E94  \n",
       "460481  157601-SDSRSDRLLR  5E94_3264501_03a    5E94  \n",
       "460482  157601-SDSRSDRLLR   5E94_708516_04a    5E94  \n",
       "\n",
       "[460483 rows x 8 columns]"
      ]
     },
     "execution_count": 7,
     "metadata": {},
     "output_type": "execute_result"
    }
   ],
   "source": [
    "# 1. Remove duplicated Slide that bind the same Antigen\n",
    "df_global = df_global.groupby(\"Antigen\").apply(\n",
    "    lambda df_: df_\n",
    "    .sort_values([\"Slide\", \"Energy\"], ascending=True)\n",
    "    .drop_duplicates(\"Slide\", keep=\"first\")\n",
    "    ).reset_index(drop=True)\n",
    "df_global"
   ]
  },
  {
   "cell_type": "code",
   "execution_count": null,
   "metadata": {},
   "outputs": [
    {
     "data": {
      "text/html": [
       "<div>\n",
       "<style scoped>\n",
       "    .dataframe tbody tr th:only-of-type {\n",
       "        vertical-align: middle;\n",
       "    }\n",
       "\n",
       "    .dataframe tbody tr th {\n",
       "        vertical-align: top;\n",
       "    }\n",
       "\n",
       "    .dataframe thead th {\n",
       "        text-align: right;\n",
       "    }\n",
       "</style>\n",
       "<table border=\"1\" class=\"dataframe\">\n",
       "  <thead>\n",
       "    <tr style=\"text-align: right;\">\n",
       "      <th></th>\n",
       "      <th>Slide</th>\n",
       "      <th>antigens</th>\n",
       "      <th>num_antigens</th>\n",
       "    </tr>\n",
       "  </thead>\n",
       "  <tbody>\n",
       "    <tr>\n",
       "      <th>0</th>\n",
       "      <td>FLLLLRFNWYF</td>\n",
       "      <td>1FBI_1NSN_1OB1_1WEJ_2YPV_3RAJ_3VRL_5E94</td>\n",
       "      <td>8</td>\n",
       "    </tr>\n",
       "    <tr>\n",
       "      <th>1</th>\n",
       "      <td>GLLLLPLVFVW</td>\n",
       "      <td>1ADQ_1NSN_1OB1_1WEJ_2YPV_3RAJ_3VRL_5E94</td>\n",
       "      <td>8</td>\n",
       "    </tr>\n",
       "    <tr>\n",
       "      <th>2</th>\n",
       "      <td>FLLLLGYFDVW</td>\n",
       "      <td>1ADQ_1FBI_1NSN_1WEJ_2YPV_3RAJ_3VRL_5E94</td>\n",
       "      <td>8</td>\n",
       "    </tr>\n",
       "    <tr>\n",
       "      <th>3</th>\n",
       "      <td>LLVLLLLRWVF</td>\n",
       "      <td>1ADQ_1FBI_1H0D_1OB1_1WEJ_2YPV_3RAJ_3VRL</td>\n",
       "      <td>8</td>\n",
       "    </tr>\n",
       "    <tr>\n",
       "      <th>4</th>\n",
       "      <td>ILALLRYGWYF</td>\n",
       "      <td>1FBI_1NSN_1WEJ_2YPV_3RAJ_3VRL_5E94</td>\n",
       "      <td>7</td>\n",
       "    </tr>\n",
       "    <tr>\n",
       "      <th>...</th>\n",
       "      <td>...</td>\n",
       "      <td>...</td>\n",
       "      <td>...</td>\n",
       "    </tr>\n",
       "    <tr>\n",
       "      <th>369382</th>\n",
       "      <td>DIGNFYYFDYW</td>\n",
       "      <td>1WEJ</td>\n",
       "      <td>1</td>\n",
       "    </tr>\n",
       "    <tr>\n",
       "      <th>369383</th>\n",
       "      <td>DIGLYYYDWYF</td>\n",
       "      <td>2YPV</td>\n",
       "      <td>1</td>\n",
       "    </tr>\n",
       "    <tr>\n",
       "      <th>369384</th>\n",
       "      <td>DIGLYDYFDYW</td>\n",
       "      <td>2YPV</td>\n",
       "      <td>1</td>\n",
       "    </tr>\n",
       "    <tr>\n",
       "      <th>369385</th>\n",
       "      <td>DIGLRILFDYW</td>\n",
       "      <td>3VRL</td>\n",
       "      <td>1</td>\n",
       "    </tr>\n",
       "    <tr>\n",
       "      <th>369386</th>\n",
       "      <td>YYYYYDYFDYW</td>\n",
       "      <td>1H0D</td>\n",
       "      <td>1</td>\n",
       "    </tr>\n",
       "  </tbody>\n",
       "</table>\n",
       "<p>369387 rows × 3 columns</p>\n",
       "</div>"
      ],
      "text/plain": [
       "              Slide                                 antigens  num_antigens\n",
       "0       FLLLLRFNWYF  1FBI_1NSN_1OB1_1WEJ_2YPV_3RAJ_3VRL_5E94             8\n",
       "1       GLLLLPLVFVW  1ADQ_1NSN_1OB1_1WEJ_2YPV_3RAJ_3VRL_5E94             8\n",
       "2       FLLLLGYFDVW  1ADQ_1FBI_1NSN_1WEJ_2YPV_3RAJ_3VRL_5E94             8\n",
       "3       LLVLLLLRWVF  1ADQ_1FBI_1H0D_1OB1_1WEJ_2YPV_3RAJ_3VRL             8\n",
       "4       ILALLRYGWYF       1FBI_1NSN_1WEJ_2YPV_3RAJ_3VRL_5E94             7\n",
       "...             ...                                      ...           ...\n",
       "369382  DIGNFYYFDYW                                     1WEJ             1\n",
       "369383  DIGLYYYDWYF                                     2YPV             1\n",
       "369384  DIGLYDYFDYW                                     2YPV             1\n",
       "369385  DIGLRILFDYW                                     3VRL             1\n",
       "369386  YYYYYDYFDYW                                     1H0D             1\n",
       "\n",
       "[369387 rows x 3 columns]"
      ]
     },
     "execution_count": 8,
     "metadata": {},
     "output_type": "execute_result"
    }
   ],
   "source": [
    "df_global_slide_agg = pd.DataFrame(\n",
    "    df_global.groupby(\"Slide\")[\"Antigen\"]\n",
    "    .agg(\n",
    "        antigens=lambda s: \"_\".join(sorted(s.values.tolist())),\n",
    "        num_antigens=lambda s: len(s.values.tolist()),\n",
    "    )\n",
    "    ).sort_values(\"num_antigens\", ascending=False).reset_index()\n",
    "df_global_slide_agg"
   ]
  },
  {
   "cell_type": "code",
   "execution_count": null,
   "metadata": {},
   "outputs": [
    {
     "data": {
      "text/plain": [
       "<AxesSubplot:>"
      ]
     },
     "execution_count": 9,
     "metadata": {},
     "output_type": "execute_result"
    },
    {
     "data": {
      "image/png": "[encoded data removed]",
      "text/plain": [
       "<Figure size 720x720 with 1 Axes>"
      ]
     },
     "metadata": {
      "needs_background": "light"
     },
     "output_type": "display_data"
    }
   ],
   "source": [
    "import matplotlib.pyplot as plt\n",
    "\n",
    "fig, ax = plt.subplots(figsize=(10, 10))\n",
    "df_global_slide_agg[\"num_antigens\"].plot(ax=ax)\n",
    "# ax.set_xlim((0, 10000))"
   ]
  },
  {
   "cell_type": "markdown",
   "metadata": {},
   "source": [
    "## Data splits for open set experiments.\n",
    "\n",
    "In this section we evaluate splitting strategies for data splitting reproducibility.\n",
    "\n",
    "We need an open exclusive set, i.e. an open set which doesn't share `Slide` with any potential closed set. We can reliably build such a set with losing about 25% of `Slide` sequences. Building this during the runtime of each open set problem is possible, might have lower losses of data (not immediately clear how large), but increases data management and reproducibility complexity significantly, an unjustifiable cost at this point."
   ]
  },
  {
   "cell_type": "code",
   "execution_count": null,
   "metadata": {},
   "outputs": [
    {
     "name": "stdout",
     "output_type": "stream",
     "text": [
      "\n",
      "    closed: \n",
      "count          272307\n",
      "unique         238104\n",
      "top       FLPLLLLRFYY\n",
      "freq                6\n",
      "Name: Slide, dtype: object\n",
      "    \n",
      "    open: \n",
      "count          188176\n",
      "unique         172319\n",
      "top       IVPLYDYPFAM\n",
      "freq                4\n",
      "Name: Slide, dtype: object\n",
      "    \n",
      "    open_exclusive: \n",
      "count          140979\n",
      "unique         131283\n",
      "top       ELWLLRYYYAM\n",
      "freq                4\n",
      "Name: Slide, dtype: object\n",
      "\n"
     ]
    }
   ],
   "source": [
    "df = df_global\n",
    "\n",
    "mask_ = df[\"Antigen\"].isin(config.ANTIGENS_OPENSET)\n",
    "df_closed = df.loc[~mask_].copy()\n",
    "df_open = df.loc[mask_].copy()\n",
    "df_open_exclusive = df_open.loc[~df_open[\"Slide\"].isin(df_closed[\"Slide\"])].copy()\n",
    "\n",
    "print(f\"\"\"\n",
    "    closed: \n",
    "{df_closed[\"Slide\"].describe()}\n",
    "    \n",
    "    open: \n",
    "{df_open[\"Slide\"].describe()}\n",
    "    \n",
    "    open_exclusive: \n",
    "{df_open_exclusive[\"Slide\"].describe()}\n",
    "\"\"\")"
   ]
  },
  {
   "cell_type": "code",
   "execution_count": null,
   "metadata": {},
   "outputs": [],
   "source": [
    "df_closed[\"Slide_farmhash_mod_10\"] = list(map(\n",
    "    lambda x: farmhash.hash64(x) % 10,\n",
    "    df_closed[\"Slide\"]\n",
    "))"
   ]
  },
  {
   "cell_type": "code",
   "execution_count": null,
   "metadata": {},
   "outputs": [
    {
     "data": {
      "text/plain": [
       "Text(0.5, 1.0, 'Distribution of Slide Ag counts per split')"
      ]
     },
     "execution_count": 41,
     "metadata": {},
     "output_type": "execute_result"
    },
    {
     "data": {
      "image/png": "[encoded data removed]",
      "text/plain": [
       "<Figure size 1440x720 with 1 Axes>"
      ]
     },
     "metadata": {
      "needs_background": "light"
     },
     "output_type": "display_data"
    }
   ],
   "source": [
    "fig, ax = plt.subplots(figsize=(20, 10))\n",
    "df_closed.groupby(\"Slide_farmhash_mod_10\")[\"Antigen\"].value_counts().plot.bar(ax=ax)\n",
    "ax.set_title(\"Distribution of Slide Ag counts per split\")"
   ]
  },
  {
   "cell_type": "code",
   "execution_count": null,
   "metadata": {},
   "outputs": [],
   "source": []
  }
 ],
 "metadata": {
  "kernelspec": {
   "display_name": "nco",
   "language": "python",
   "name": "python3"
  },
  "language_info": {
   "codemirror_mode": {
    "name": "ipython",
    "version": 3
   },
   "file_extension": ".py",
   "mimetype": "text/x-python",
   "name": "python",
   "nbconvert_exporter": "python",
   "pygments_lexer": "ipython3",
   "version": "3.8.16"
  },
  "vscode": {
   "interpreter": {
    "hash": "3ec5334dbdc4a6f7f47854c251e8d2556e95e85daa09db51a6f2bda295b96836"
   }
  }
 },
 "nbformat": 4,
 "nbformat_minor": 4
}
