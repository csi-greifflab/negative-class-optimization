{
 "cells": [
  {
   "cell_type": "markdown",
   "metadata": {},
   "source": [
    "# Binding binary classifiers from pairwise datasets\n",
    "\n",
    "We begin to explore the impact of negative examples on the training of binary binding classifiers by evaluating the classifiers' performances when using negative training examples from a single antigen, i.e. distinguish antigen_1 from antigen_2."
   ]
  },
  {
   "cell_type": "code",
   "execution_count": 1,
   "metadata": {},
   "outputs": [],
   "source": [
    "from pathlib import Path\n",
    "from itertools import combinations\n",
    "import re\n",
    "import numpy as np\n",
    "import pandas as pd\n",
    "import matplotlib.pyplot as plt"
   ]
  },
  {
   "cell_type": "code",
   "execution_count": 2,
   "metadata": {},
   "outputs": [
    {
     "data": {
      "text/html": [
       "<div>\n",
       "<style scoped>\n",
       "    .dataframe tbody tr th:only-of-type {\n",
       "        vertical-align: middle;\n",
       "    }\n",
       "\n",
       "    .dataframe tbody tr th {\n",
       "        vertical-align: top;\n",
       "    }\n",
       "\n",
       "    .dataframe thead th {\n",
       "        text-align: right;\n",
       "    }\n",
       "</style>\n",
       "<table border=\"1\" class=\"dataframe\">\n",
       "  <thead>\n",
       "    <tr style=\"text-align: right;\">\n",
       "      <th></th>\n",
       "      <th>hp_setting</th>\n",
       "      <th>split</th>\n",
       "      <th>optimal</th>\n",
       "      <th>log_loss</th>\n",
       "      <th>f1_weighted</th>\n",
       "      <th>confusion_matrix</th>\n",
       "      <th>recall</th>\n",
       "      <th>f1_macro</th>\n",
       "      <th>auc</th>\n",
       "      <th>accuracy</th>\n",
       "      <th>balanced_accuracy</th>\n",
       "      <th>precision</th>\n",
       "      <th>f1_micro</th>\n",
       "      <th>Ag1</th>\n",
       "      <th>Ag2</th>\n",
       "    </tr>\n",
       "  </thead>\n",
       "  <tbody>\n",
       "    <tr>\n",
       "      <th>0</th>\n",
       "      <td>kmerfreq_encoding_randomforest_default_model</td>\n",
       "      <td>1</td>\n",
       "      <td>False</td>\n",
       "      <td>3.041885</td>\n",
       "      <td>0.831382</td>\n",
       "      <td>[[17242  3761]\\n [ 3318 17666]]</td>\n",
       "      <td>0.841880</td>\n",
       "      <td>0.831383</td>\n",
       "      <td>0.095032</td>\n",
       "      <td>0.83140</td>\n",
       "      <td>0.831405</td>\n",
       "      <td>0.824474</td>\n",
       "      <td>0.83140</td>\n",
       "      <td>1H0D</td>\n",
       "      <td>3VRL</td>\n",
       "    </tr>\n",
       "    <tr>\n",
       "      <th>0</th>\n",
       "      <td>kmerfreq_encoding_randomforest_default_model</td>\n",
       "      <td>1</td>\n",
       "      <td>False</td>\n",
       "      <td>2.542403</td>\n",
       "      <td>0.742430</td>\n",
       "      <td>[[15568  5455]\\n [ 5357 15597]]</td>\n",
       "      <td>0.744345</td>\n",
       "      <td>0.742430</td>\n",
       "      <td>0.189646</td>\n",
       "      <td>0.74243</td>\n",
       "      <td>0.742434</td>\n",
       "      <td>0.740880</td>\n",
       "      <td>0.74243</td>\n",
       "      <td>1ADQ</td>\n",
       "      <td>3VRL</td>\n",
       "    </tr>\n",
       "  </tbody>\n",
       "</table>\n",
       "</div>"
      ],
      "text/plain": [
       "                                     hp_setting  split  optimal  log_loss  \\\n",
       "0  kmerfreq_encoding_randomforest_default_model      1    False  3.041885   \n",
       "0  kmerfreq_encoding_randomforest_default_model      1    False  2.542403   \n",
       "\n",
       "   f1_weighted                 confusion_matrix    recall  f1_macro       auc  \\\n",
       "0     0.831382  [[17242  3761]\\n [ 3318 17666]]  0.841880  0.831383  0.095032   \n",
       "0     0.742430  [[15568  5455]\\n [ 5357 15597]]  0.744345  0.742430  0.189646   \n",
       "\n",
       "   accuracy  balanced_accuracy  precision  f1_micro   Ag1   Ag2  \n",
       "0   0.83140           0.831405   0.824474   0.83140  1H0D  3VRL  \n",
       "0   0.74243           0.742434   0.740880   0.74243  1ADQ  3VRL  "
      ]
     },
     "execution_count": 2,
     "metadata": {},
     "output_type": "execute_result"
    }
   ],
   "source": [
    "def antigens_from_dir_name(dir_name: str) -> tuple:\n",
    "    m = re.search(r\"fit_pairwise_dataset_(.*)_(.*)_instruction\", dir_name)\n",
    "    if m:\n",
    "        return m.groups()\n",
    "    else:\n",
    "        return None\n",
    "\n",
    "\n",
    "BASE_PATH = Path(\"immuneML/pairwise_analysis_1_out\")\n",
    "pairwise_res = list(Path(BASE_PATH).glob(\"fit_pairwise_dataset_*_instruction\"))\n",
    "\n",
    "dfs = []\n",
    "for res in pairwise_res:\n",
    "    df_i = pd.read_csv(res / \"binder_all_assessment_performances.csv\")\n",
    "    assert df_i.shape[0] == 1\n",
    "    ag1, ag2 = antigens_from_dir_name(res.name)\n",
    "    df_i[\"Ag1\"] = ag1\n",
    "    df_i[\"Ag2\"] = ag2\n",
    "    dfs.append(df_i)\n",
    "\n",
    "df = pd.concat(dfs, axis=0)\n",
    "assert df.shape[0] == 45\n",
    "df.head(2)\n"
   ]
  },
  {
   "cell_type": "markdown",
   "metadata": {},
   "source": [
    "The dataset is balanced, hence `accuracy` is a good performance metric. Distribution of `accuracy` over the 45 pairwise datasets (10 choose 2 antigen pairs = 90/2) has a range of 69-88% with 2 local maxima around 77% and 83%, with an average of 79% and sd of 4.6%."
   ]
  },
  {
   "cell_type": "code",
   "execution_count": 4,
   "metadata": {},
   "outputs": [
    {
     "data": {
      "text/plain": [
       "count    45.000000\n",
       "mean      0.789380\n",
       "std       0.045934\n",
       "min       0.695675\n",
       "25%       0.764536\n",
       "50%       0.776219\n",
       "75%       0.826985\n",
       "max       0.877399\n",
       "Name: accuracy, dtype: float64"
      ]
     },
     "execution_count": 4,
     "metadata": {},
     "output_type": "execute_result"
    }
   ],
   "source": [
    "df[\"accuracy\"].describe()"
   ]
  },
  {
   "cell_type": "code",
   "execution_count": 5,
   "metadata": {},
   "outputs": [
    {
     "data": {
      "text/plain": [
       "<AxesSubplot:ylabel='Frequency'>"
      ]
     },
     "execution_count": 5,
     "metadata": {},
     "output_type": "execute_result"
    },
    {
     "data": {
      "image/png": "[encoded data removed]",
      "text/plain": [
       "<Figure size 432x288 with 1 Axes>"
      ]
     },
     "metadata": {
      "needs_background": "light"
     },
     "output_type": "display_data"
    }
   ],
   "source": [
    "df[\"accuracy\"].plot.hist()"
   ]
  },
  {
   "cell_type": "markdown",
   "metadata": {},
   "source": [
    "In what follows, we check whether there are associations in terms of the ability of the binary classifier to distinguish an antigen from other. First, we generate the accuracy matrix, which describes the attained accuracy in distinguishing between a pair of antigens, e.g. row \"1FBI\" and column \"1ADQ\" describes the accuracy in distinguishing between 1FBI and 1ADQ."
   ]
  },
  {
   "cell_type": "code",
   "execution_count": 6,
   "metadata": {},
   "outputs": [
    {
     "data": {
      "text/html": [
       "<div>\n",
       "<style scoped>\n",
       "    .dataframe tbody tr th:only-of-type {\n",
       "        vertical-align: middle;\n",
       "    }\n",
       "\n",
       "    .dataframe tbody tr th {\n",
       "        vertical-align: top;\n",
       "    }\n",
       "\n",
       "    .dataframe thead th {\n",
       "        text-align: right;\n",
       "    }\n",
       "</style>\n",
       "<table border=\"1\" class=\"dataframe\">\n",
       "  <thead>\n",
       "    <tr style=\"text-align: right;\">\n",
       "      <th></th>\n",
       "      <th>1ADQ</th>\n",
       "      <th>1FBI</th>\n",
       "      <th>1H0D</th>\n",
       "      <th>1NSN</th>\n",
       "      <th>1OB1</th>\n",
       "      <th>1WEJ</th>\n",
       "      <th>2YPV</th>\n",
       "      <th>3RAJ</th>\n",
       "      <th>3VRL</th>\n",
       "      <th>5E94</th>\n",
       "    </tr>\n",
       "  </thead>\n",
       "  <tbody>\n",
       "    <tr>\n",
       "      <th>1ADQ</th>\n",
       "      <td>0.000000</td>\n",
       "      <td>0.759825</td>\n",
       "      <td>0.864820</td>\n",
       "      <td>0.826985</td>\n",
       "      <td>0.776219</td>\n",
       "      <td>0.828017</td>\n",
       "      <td>0.835716</td>\n",
       "      <td>0.755275</td>\n",
       "      <td>0.742430</td>\n",
       "      <td>0.827803</td>\n",
       "    </tr>\n",
       "    <tr>\n",
       "      <th>1FBI</th>\n",
       "      <td>0.759825</td>\n",
       "      <td>0.000000</td>\n",
       "      <td>0.826180</td>\n",
       "      <td>0.776105</td>\n",
       "      <td>0.766841</td>\n",
       "      <td>0.816285</td>\n",
       "      <td>0.764536</td>\n",
       "      <td>0.700324</td>\n",
       "      <td>0.801896</td>\n",
       "      <td>0.796136</td>\n",
       "    </tr>\n",
       "    <tr>\n",
       "      <th>1H0D</th>\n",
       "      <td>0.864820</td>\n",
       "      <td>0.826180</td>\n",
       "      <td>0.000000</td>\n",
       "      <td>0.877399</td>\n",
       "      <td>0.771776</td>\n",
       "      <td>0.841371</td>\n",
       "      <td>0.759753</td>\n",
       "      <td>0.769674</td>\n",
       "      <td>0.831400</td>\n",
       "      <td>0.767901</td>\n",
       "    </tr>\n",
       "    <tr>\n",
       "      <th>1NSN</th>\n",
       "      <td>0.826985</td>\n",
       "      <td>0.776105</td>\n",
       "      <td>0.877399</td>\n",
       "      <td>0.000000</td>\n",
       "      <td>0.803325</td>\n",
       "      <td>0.866798</td>\n",
       "      <td>0.776105</td>\n",
       "      <td>0.819399</td>\n",
       "      <td>0.854662</td>\n",
       "      <td>0.827636</td>\n",
       "    </tr>\n",
       "    <tr>\n",
       "      <th>1OB1</th>\n",
       "      <td>0.776219</td>\n",
       "      <td>0.766841</td>\n",
       "      <td>0.771776</td>\n",
       "      <td>0.803325</td>\n",
       "      <td>0.000000</td>\n",
       "      <td>0.774652</td>\n",
       "      <td>0.827366</td>\n",
       "      <td>0.732142</td>\n",
       "      <td>0.784588</td>\n",
       "      <td>0.727318</td>\n",
       "    </tr>\n",
       "    <tr>\n",
       "      <th>1WEJ</th>\n",
       "      <td>0.828017</td>\n",
       "      <td>0.816285</td>\n",
       "      <td>0.841371</td>\n",
       "      <td>0.866798</td>\n",
       "      <td>0.774652</td>\n",
       "      <td>0.000000</td>\n",
       "      <td>0.826013</td>\n",
       "      <td>0.700100</td>\n",
       "      <td>0.774359</td>\n",
       "      <td>0.818351</td>\n",
       "    </tr>\n",
       "    <tr>\n",
       "      <th>2YPV</th>\n",
       "      <td>0.835716</td>\n",
       "      <td>0.764536</td>\n",
       "      <td>0.759753</td>\n",
       "      <td>0.776105</td>\n",
       "      <td>0.827366</td>\n",
       "      <td>0.826013</td>\n",
       "      <td>0.000000</td>\n",
       "      <td>0.722884</td>\n",
       "      <td>0.733219</td>\n",
       "      <td>0.776092</td>\n",
       "    </tr>\n",
       "    <tr>\n",
       "      <th>3RAJ</th>\n",
       "      <td>0.755275</td>\n",
       "      <td>0.700324</td>\n",
       "      <td>0.769674</td>\n",
       "      <td>0.819399</td>\n",
       "      <td>0.732142</td>\n",
       "      <td>0.700100</td>\n",
       "      <td>0.722884</td>\n",
       "      <td>0.000000</td>\n",
       "      <td>0.695675</td>\n",
       "      <td>0.770442</td>\n",
       "    </tr>\n",
       "    <tr>\n",
       "      <th>3VRL</th>\n",
       "      <td>0.742430</td>\n",
       "      <td>0.801896</td>\n",
       "      <td>0.831400</td>\n",
       "      <td>0.854662</td>\n",
       "      <td>0.784588</td>\n",
       "      <td>0.774359</td>\n",
       "      <td>0.733219</td>\n",
       "      <td>0.695675</td>\n",
       "      <td>0.000000</td>\n",
       "      <td>0.826323</td>\n",
       "    </tr>\n",
       "    <tr>\n",
       "      <th>5E94</th>\n",
       "      <td>0.827803</td>\n",
       "      <td>0.796136</td>\n",
       "      <td>0.767901</td>\n",
       "      <td>0.827636</td>\n",
       "      <td>0.727318</td>\n",
       "      <td>0.818351</td>\n",
       "      <td>0.776092</td>\n",
       "      <td>0.770442</td>\n",
       "      <td>0.826323</td>\n",
       "      <td>0.000000</td>\n",
       "    </tr>\n",
       "  </tbody>\n",
       "</table>\n",
       "</div>"
      ],
      "text/plain": [
       "          1ADQ      1FBI      1H0D      1NSN      1OB1      1WEJ      2YPV  \\\n",
       "1ADQ  0.000000  0.759825  0.864820  0.826985  0.776219  0.828017  0.835716   \n",
       "1FBI  0.759825  0.000000  0.826180  0.776105  0.766841  0.816285  0.764536   \n",
       "1H0D  0.864820  0.826180  0.000000  0.877399  0.771776  0.841371  0.759753   \n",
       "1NSN  0.826985  0.776105  0.877399  0.000000  0.803325  0.866798  0.776105   \n",
       "1OB1  0.776219  0.766841  0.771776  0.803325  0.000000  0.774652  0.827366   \n",
       "1WEJ  0.828017  0.816285  0.841371  0.866798  0.774652  0.000000  0.826013   \n",
       "2YPV  0.835716  0.764536  0.759753  0.776105  0.827366  0.826013  0.000000   \n",
       "3RAJ  0.755275  0.700324  0.769674  0.819399  0.732142  0.700100  0.722884   \n",
       "3VRL  0.742430  0.801896  0.831400  0.854662  0.784588  0.774359  0.733219   \n",
       "5E94  0.827803  0.796136  0.767901  0.827636  0.727318  0.818351  0.776092   \n",
       "\n",
       "          3RAJ      3VRL      5E94  \n",
       "1ADQ  0.755275  0.742430  0.827803  \n",
       "1FBI  0.700324  0.801896  0.796136  \n",
       "1H0D  0.769674  0.831400  0.767901  \n",
       "1NSN  0.819399  0.854662  0.827636  \n",
       "1OB1  0.732142  0.784588  0.727318  \n",
       "1WEJ  0.700100  0.774359  0.818351  \n",
       "2YPV  0.722884  0.733219  0.776092  \n",
       "3RAJ  0.000000  0.695675  0.770442  \n",
       "3VRL  0.695675  0.000000  0.826323  \n",
       "5E94  0.770442  0.826323  0.000000  "
      ]
     },
     "execution_count": 6,
     "metadata": {},
     "output_type": "execute_result"
    }
   ],
   "source": [
    "antigens = sorted(set(df[\"Ag1\"]).union(set(df[\"Ag2\"])))\n",
    "df_m = pd.DataFrame(np.zeros((10, 10)), columns = antigens, index = antigens)\n",
    "\n",
    "for ag1, ag2 in combinations(antigens, 2):\n",
    "    acc = df.loc[\n",
    "        (df[\"Ag1\"] == ag1) \n",
    "        & (df[\"Ag2\"] == ag2)\n",
    "        ][\"accuracy\"].values[0]\n",
    "    df_m.loc[ag1, ag2] = acc\n",
    "    df_m.loc[ag2, ag1] = acc\n",
    "\n",
    "df_m"
   ]
  },
  {
   "cell_type": "markdown",
   "metadata": {},
   "source": [
    "Next, we check the accuracy distribution for each antigen. We observe below that:\n",
    "\n",
    "1. The maximal accuracy varies among the antigens, e.g. max for `1H0D` 87.7% vs max for `3RAJ` 82% (delta ~5%).\n",
    "2. The minimal accuracy varies among the antigens, e.g. min for `1NSN` 77.6% vs min for `3VRL` of 69.5% (delta ~8%). "
   ]
  },
  {
   "cell_type": "code",
   "execution_count": 7,
   "metadata": {},
   "outputs": [
    {
     "data": {
      "image/png": "[encoded data removed]",
      "text/plain": [
       "<Figure size 720x2520 with 10 Axes>"
      ]
     },
     "metadata": {
      "needs_background": "light"
     },
     "output_type": "display_data"
    }
   ],
   "source": [
    "fig, axs = plt.subplots(\n",
    "    nrows=10, \n",
    "    sharex=False,\n",
    "    figsize=(10, 35)\n",
    ")\n",
    "\n",
    "for i, ag in enumerate(sorted(antigens, key=lambda ag: -df_m.apply(max).to_dict().get(ag))):\n",
    "    acc_s = df_m[ag]\n",
    "    acc_s = acc_s[acc_s != 0.0]\n",
    "    axs[i].hist(acc_s)\n",
    "    axs[i].set_xlim((0.68, 0.9))\n",
    "    axs[i].set_title(f\"Distribution of accuracies: {ag}\")"
   ]
  },
  {
   "cell_type": "markdown",
   "metadata": {},
   "source": [
    "# Follow-up\n",
    "\n",
    "Similar basic analysis on `1_vs_all` datasets, i.e. datasets in which, for each antigen, we include all the 9 other antigens in the negative dataset. The objective is to check if antigens for which the binary classifier performs well in the pairwise datasets attain higher performance in `1_vs_all` datasets."
   ]
  }
 ],
 "metadata": {
  "interpreter": {
   "hash": "a66fbe740016efe90d6139b67c84a560168f2532ea3e3d46e49051f459208991"
  },
  "kernelspec": {
   "display_name": "Python 3.8.13 ('ab-negative-training')",
   "language": "python",
   "name": "python3"
  },
  "language_info": {
   "codemirror_mode": {
    "name": "ipython",
    "version": 3
   },
   "file_extension": ".py",
   "mimetype": "text/x-python",
   "name": "python",
   "nbconvert_exporter": "python",
   "pygments_lexer": "ipython3",
   "version": "3.8.13"
  },
  "orig_nbformat": 4
 },
 "nbformat": 4,
 "nbformat_minor": 2
}
