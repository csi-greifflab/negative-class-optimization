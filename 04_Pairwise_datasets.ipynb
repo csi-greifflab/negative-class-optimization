{
 "cells": [
  {
   "cell_type": "markdown",
   "metadata": {},
   "source": [
    "# Binding binary classifiers from pairwise datasets\n",
    "\n",
    "We begin to explore the impact of negative examples on the training of binary binding classifiers by evaluating the classifiers' performances when using negative training examples from a single antigen, i.e. distinguish antigen_1 from antigen_2."
   ]
  },
  {
   "cell_type": "code",
   "execution_count": 31,
   "metadata": {},
   "outputs": [],
   "source": [
    "from pathlib import Path\n",
    "from itertools import combinations\n",
    "import re\n",
    "import numpy as np\n",
    "import pandas as pd\n",
    "from scipy import stats\n",
    "import matplotlib.pyplot as plt\n",
    "import seaborn as sns"
   ]
  },
  {
   "cell_type": "code",
   "execution_count": 3,
   "metadata": {},
   "outputs": [
    {
     "data": {
      "text/html": [
       "<div>\n",
       "<style scoped>\n",
       "    .dataframe tbody tr th:only-of-type {\n",
       "        vertical-align: middle;\n",
       "    }\n",
       "\n",
       "    .dataframe tbody tr th {\n",
       "        vertical-align: top;\n",
       "    }\n",
       "\n",
       "    .dataframe thead th {\n",
       "        text-align: right;\n",
       "    }\n",
       "</style>\n",
       "<table border=\"1\" class=\"dataframe\">\n",
       "  <thead>\n",
       "    <tr style=\"text-align: right;\">\n",
       "      <th></th>\n",
       "      <th>hp_setting</th>\n",
       "      <th>split</th>\n",
       "      <th>optimal</th>\n",
       "      <th>accuracy</th>\n",
       "      <th>f1_weighted</th>\n",
       "      <th>log_loss</th>\n",
       "      <th>confusion_matrix</th>\n",
       "      <th>recall</th>\n",
       "      <th>f1_micro</th>\n",
       "      <th>f1_macro</th>\n",
       "      <th>balanced_accuracy</th>\n",
       "      <th>precision</th>\n",
       "      <th>auc</th>\n",
       "      <th>Ag1</th>\n",
       "      <th>Ag2</th>\n",
       "    </tr>\n",
       "  </thead>\n",
       "  <tbody>\n",
       "    <tr>\n",
       "      <th>0</th>\n",
       "      <td>kmerfreq_encoding_randomforest_default_model</td>\n",
       "      <td>1</td>\n",
       "      <td>False</td>\n",
       "      <td>0.835687</td>\n",
       "      <td>0.835678</td>\n",
       "      <td>0.390871</td>\n",
       "      <td>[[17699  3287]\\n [ 3612 17389]]</td>\n",
       "      <td>0.828008</td>\n",
       "      <td>0.835687</td>\n",
       "      <td>0.835678</td>\n",
       "      <td>0.835690</td>\n",
       "      <td>0.841023</td>\n",
       "      <td>0.906709</td>\n",
       "      <td>1H0D</td>\n",
       "      <td>3VRL</td>\n",
       "    </tr>\n",
       "    <tr>\n",
       "      <th>0</th>\n",
       "      <td>kmerfreq_encoding_randomforest_default_model</td>\n",
       "      <td>1</td>\n",
       "      <td>False</td>\n",
       "      <td>0.741906</td>\n",
       "      <td>0.741905</td>\n",
       "      <td>0.553001</td>\n",
       "      <td>[[15557  5510]\\n [ 5324 15586]]</td>\n",
       "      <td>0.745385</td>\n",
       "      <td>0.741906</td>\n",
       "      <td>0.741906</td>\n",
       "      <td>0.741919</td>\n",
       "      <td>0.738813</td>\n",
       "      <td>0.811371</td>\n",
       "      <td>1ADQ</td>\n",
       "      <td>3VRL</td>\n",
       "    </tr>\n",
       "  </tbody>\n",
       "</table>\n",
       "</div>"
      ],
      "text/plain": [
       "                                     hp_setting  split  optimal  accuracy  \\\n",
       "0  kmerfreq_encoding_randomforest_default_model      1    False  0.835687   \n",
       "0  kmerfreq_encoding_randomforest_default_model      1    False  0.741906   \n",
       "\n",
       "   f1_weighted  log_loss                 confusion_matrix    recall  f1_micro  \\\n",
       "0     0.835678  0.390871  [[17699  3287]\\n [ 3612 17389]]  0.828008  0.835687   \n",
       "0     0.741905  0.553001  [[15557  5510]\\n [ 5324 15586]]  0.745385  0.741906   \n",
       "\n",
       "   f1_macro  balanced_accuracy  precision       auc   Ag1   Ag2  \n",
       "0  0.835678           0.835690   0.841023  0.906709  1H0D  3VRL  \n",
       "0  0.741906           0.741919   0.738813  0.811371  1ADQ  3VRL  "
      ]
     },
     "execution_count": 3,
     "metadata": {},
     "output_type": "execute_result"
    }
   ],
   "source": [
    "def antigens_from_dir_name(dir_name: str) -> tuple:\n",
    "    m = re.search(r\"fit_pairwise_dataset_(.*)_(.*)_instruction\", dir_name)\n",
    "    if m:\n",
    "        return m.groups()\n",
    "    else:\n",
    "        return None\n",
    "\n",
    "\n",
    "BASE_PATH = Path(\"immuneML/pairwise_analysis_1_out\")\n",
    "pairwise_res = list(Path(BASE_PATH).glob(\"fit_pairwise_dataset_*_instruction\"))\n",
    "\n",
    "dfs = []\n",
    "for res in pairwise_res:\n",
    "    df_i = pd.read_csv(res / \"binder_all_assessment_performances.csv\")\n",
    "    assert df_i.shape[0] == 1\n",
    "    ag1, ag2 = antigens_from_dir_name(res.name)\n",
    "    df_i[\"Ag1\"] = ag1\n",
    "    df_i[\"Ag2\"] = ag2\n",
    "    dfs.append(df_i)\n",
    "\n",
    "df = pd.concat(dfs, axis=0)\n",
    "assert df.shape[0] == 45\n",
    "df.head(2)\n"
   ]
  },
  {
   "cell_type": "markdown",
   "metadata": {},
   "source": [
    "The dataset is balanced, hence `accuracy` is a good performance metric. Distribution of `accuracy` over the 45 pairwise datasets (10 choose 2 antigen pairs = 90/2) has a range of 69-88% with 2 local maxima around 77% and 83%, with an average of 79% and sd of 4.6%."
   ]
  },
  {
   "cell_type": "code",
   "execution_count": 4,
   "metadata": {},
   "outputs": [
    {
     "data": {
      "text/plain": [
       "count    45.000000\n",
       "mean      0.788951\n",
       "std       0.046171\n",
       "min       0.694294\n",
       "25%       0.760558\n",
       "50%       0.777092\n",
       "75%       0.826946\n",
       "max       0.880162\n",
       "Name: accuracy, dtype: float64"
      ]
     },
     "execution_count": 4,
     "metadata": {},
     "output_type": "execute_result"
    }
   ],
   "source": [
    "df[\"accuracy\"].describe()"
   ]
  },
  {
   "cell_type": "code",
   "execution_count": 5,
   "metadata": {},
   "outputs": [
    {
     "data": {
      "text/plain": [
       "<AxesSubplot:ylabel='Frequency'>"
      ]
     },
     "execution_count": 5,
     "metadata": {},
     "output_type": "execute_result"
    },
    {
     "data": {
      "image/png": "[encoded data removed]",
      "text/plain": [
       "<Figure size 432x288 with 1 Axes>"
      ]
     },
     "metadata": {
      "needs_background": "light"
     },
     "output_type": "display_data"
    }
   ],
   "source": [
    "df[\"accuracy\"].plot.hist()"
   ]
  },
  {
   "cell_type": "markdown",
   "metadata": {},
   "source": [
    "In what follows, we check whether there are associations in terms of the ability of the binary classifier to distinguish an antigen from other. First, we generate the accuracy matrix, which describes the attained accuracy in distinguishing between a pair of antigens, e.g. row \"1FBI\" and column \"1ADQ\" describes the accuracy in distinguishing between 1FBI and 1ADQ."
   ]
  },
  {
   "cell_type": "code",
   "execution_count": 6,
   "metadata": {},
   "outputs": [
    {
     "data": {
      "text/html": [
       "<div>\n",
       "<style scoped>\n",
       "    .dataframe tbody tr th:only-of-type {\n",
       "        vertical-align: middle;\n",
       "    }\n",
       "\n",
       "    .dataframe tbody tr th {\n",
       "        vertical-align: top;\n",
       "    }\n",
       "\n",
       "    .dataframe thead th {\n",
       "        text-align: right;\n",
       "    }\n",
       "</style>\n",
       "<table border=\"1\" class=\"dataframe\">\n",
       "  <thead>\n",
       "    <tr style=\"text-align: right;\">\n",
       "      <th></th>\n",
       "      <th>1ADQ</th>\n",
       "      <th>1FBI</th>\n",
       "      <th>1H0D</th>\n",
       "      <th>1NSN</th>\n",
       "      <th>1OB1</th>\n",
       "      <th>1WEJ</th>\n",
       "      <th>2YPV</th>\n",
       "      <th>3RAJ</th>\n",
       "      <th>3VRL</th>\n",
       "      <th>5E94</th>\n",
       "    </tr>\n",
       "  </thead>\n",
       "  <tbody>\n",
       "    <tr>\n",
       "      <th>1ADQ</th>\n",
       "      <td>0.000000</td>\n",
       "      <td>0.757824</td>\n",
       "      <td>0.863248</td>\n",
       "      <td>0.829057</td>\n",
       "      <td>0.775361</td>\n",
       "      <td>0.827875</td>\n",
       "      <td>0.836264</td>\n",
       "      <td>0.754203</td>\n",
       "      <td>0.741906</td>\n",
       "      <td>0.826946</td>\n",
       "    </tr>\n",
       "    <tr>\n",
       "      <th>1FBI</th>\n",
       "      <td>0.757824</td>\n",
       "      <td>0.000000</td>\n",
       "      <td>0.825061</td>\n",
       "      <td>0.774295</td>\n",
       "      <td>0.765722</td>\n",
       "      <td>0.815070</td>\n",
       "      <td>0.760558</td>\n",
       "      <td>0.704445</td>\n",
       "      <td>0.799657</td>\n",
       "      <td>0.792182</td>\n",
       "    </tr>\n",
       "    <tr>\n",
       "      <th>1H0D</th>\n",
       "      <td>0.863248</td>\n",
       "      <td>0.825061</td>\n",
       "      <td>0.000000</td>\n",
       "      <td>0.880162</td>\n",
       "      <td>0.770894</td>\n",
       "      <td>0.836132</td>\n",
       "      <td>0.759420</td>\n",
       "      <td>0.768126</td>\n",
       "      <td>0.835687</td>\n",
       "      <td>0.769163</td>\n",
       "    </tr>\n",
       "    <tr>\n",
       "      <th>1NSN</th>\n",
       "      <td>0.829057</td>\n",
       "      <td>0.774295</td>\n",
       "      <td>0.880162</td>\n",
       "      <td>0.000000</td>\n",
       "      <td>0.799871</td>\n",
       "      <td>0.867561</td>\n",
       "      <td>0.773033</td>\n",
       "      <td>0.821447</td>\n",
       "      <td>0.854948</td>\n",
       "      <td>0.827279</td>\n",
       "    </tr>\n",
       "    <tr>\n",
       "      <th>1OB1</th>\n",
       "      <td>0.775361</td>\n",
       "      <td>0.765722</td>\n",
       "      <td>0.770894</td>\n",
       "      <td>0.799871</td>\n",
       "      <td>0.000000</td>\n",
       "      <td>0.773056</td>\n",
       "      <td>0.827866</td>\n",
       "      <td>0.732809</td>\n",
       "      <td>0.786660</td>\n",
       "      <td>0.724984</td>\n",
       "    </tr>\n",
       "    <tr>\n",
       "      <th>1WEJ</th>\n",
       "      <td>0.827875</td>\n",
       "      <td>0.815070</td>\n",
       "      <td>0.836132</td>\n",
       "      <td>0.867561</td>\n",
       "      <td>0.773056</td>\n",
       "      <td>0.000000</td>\n",
       "      <td>0.825894</td>\n",
       "      <td>0.699886</td>\n",
       "      <td>0.772882</td>\n",
       "      <td>0.821805</td>\n",
       "    </tr>\n",
       "    <tr>\n",
       "      <th>2YPV</th>\n",
       "      <td>0.836264</td>\n",
       "      <td>0.760558</td>\n",
       "      <td>0.759420</td>\n",
       "      <td>0.773033</td>\n",
       "      <td>0.827866</td>\n",
       "      <td>0.825894</td>\n",
       "      <td>0.000000</td>\n",
       "      <td>0.717835</td>\n",
       "      <td>0.738721</td>\n",
       "      <td>0.777092</td>\n",
       "    </tr>\n",
       "    <tr>\n",
       "      <th>3RAJ</th>\n",
       "      <td>0.754203</td>\n",
       "      <td>0.704445</td>\n",
       "      <td>0.768126</td>\n",
       "      <td>0.821447</td>\n",
       "      <td>0.732809</td>\n",
       "      <td>0.699886</td>\n",
       "      <td>0.717835</td>\n",
       "      <td>0.000000</td>\n",
       "      <td>0.694294</td>\n",
       "      <td>0.771252</td>\n",
       "    </tr>\n",
       "    <tr>\n",
       "      <th>3VRL</th>\n",
       "      <td>0.741906</td>\n",
       "      <td>0.799657</td>\n",
       "      <td>0.835687</td>\n",
       "      <td>0.854948</td>\n",
       "      <td>0.786660</td>\n",
       "      <td>0.772882</td>\n",
       "      <td>0.738721</td>\n",
       "      <td>0.694294</td>\n",
       "      <td>0.000000</td>\n",
       "      <td>0.824370</td>\n",
       "    </tr>\n",
       "    <tr>\n",
       "      <th>5E94</th>\n",
       "      <td>0.826946</td>\n",
       "      <td>0.792182</td>\n",
       "      <td>0.769163</td>\n",
       "      <td>0.827279</td>\n",
       "      <td>0.724984</td>\n",
       "      <td>0.821805</td>\n",
       "      <td>0.777092</td>\n",
       "      <td>0.771252</td>\n",
       "      <td>0.824370</td>\n",
       "      <td>0.000000</td>\n",
       "    </tr>\n",
       "  </tbody>\n",
       "</table>\n",
       "</div>"
      ],
      "text/plain": [
       "          1ADQ      1FBI      1H0D      1NSN      1OB1      1WEJ      2YPV  \\\n",
       "1ADQ  0.000000  0.757824  0.863248  0.829057  0.775361  0.827875  0.836264   \n",
       "1FBI  0.757824  0.000000  0.825061  0.774295  0.765722  0.815070  0.760558   \n",
       "1H0D  0.863248  0.825061  0.000000  0.880162  0.770894  0.836132  0.759420   \n",
       "1NSN  0.829057  0.774295  0.880162  0.000000  0.799871  0.867561  0.773033   \n",
       "1OB1  0.775361  0.765722  0.770894  0.799871  0.000000  0.773056  0.827866   \n",
       "1WEJ  0.827875  0.815070  0.836132  0.867561  0.773056  0.000000  0.825894   \n",
       "2YPV  0.836264  0.760558  0.759420  0.773033  0.827866  0.825894  0.000000   \n",
       "3RAJ  0.754203  0.704445  0.768126  0.821447  0.732809  0.699886  0.717835   \n",
       "3VRL  0.741906  0.799657  0.835687  0.854948  0.786660  0.772882  0.738721   \n",
       "5E94  0.826946  0.792182  0.769163  0.827279  0.724984  0.821805  0.777092   \n",
       "\n",
       "          3RAJ      3VRL      5E94  \n",
       "1ADQ  0.754203  0.741906  0.826946  \n",
       "1FBI  0.704445  0.799657  0.792182  \n",
       "1H0D  0.768126  0.835687  0.769163  \n",
       "1NSN  0.821447  0.854948  0.827279  \n",
       "1OB1  0.732809  0.786660  0.724984  \n",
       "1WEJ  0.699886  0.772882  0.821805  \n",
       "2YPV  0.717835  0.738721  0.777092  \n",
       "3RAJ  0.000000  0.694294  0.771252  \n",
       "3VRL  0.694294  0.000000  0.824370  \n",
       "5E94  0.771252  0.824370  0.000000  "
      ]
     },
     "execution_count": 6,
     "metadata": {},
     "output_type": "execute_result"
    }
   ],
   "source": [
    "antigens = sorted(set(df[\"Ag1\"]).union(set(df[\"Ag2\"])))\n",
    "df_m = pd.DataFrame(np.zeros((10, 10)), columns = antigens, index = antigens)\n",
    "\n",
    "for ag1, ag2 in combinations(antigens, 2):\n",
    "    acc = df.loc[\n",
    "        (df[\"Ag1\"] == ag1) \n",
    "        & (df[\"Ag2\"] == ag2)\n",
    "        ][\"accuracy\"].values[0]\n",
    "    df_m.loc[ag1, ag2] = acc\n",
    "    df_m.loc[ag2, ag1] = acc\n",
    "\n",
    "df_m"
   ]
  },
  {
   "cell_type": "markdown",
   "metadata": {},
   "source": [
    "Next, we check the accuracy distribution for each antigen. We observe below that:\n",
    "\n",
    "1. The maximal accuracy varies among the antigens, e.g. max for `1H0D` 87.7% vs max for `3RAJ` 82% (delta ~5%).\n",
    "2. The minimal accuracy varies among the antigens, e.g. min for `1NSN` 77.6% vs min for `3VRL` of 69.5% (delta ~8%). "
   ]
  },
  {
   "cell_type": "code",
   "execution_count": 7,
   "metadata": {},
   "outputs": [
    {
     "data": {
      "image/png": "[encoded data removed]",
      "text/plain": [
       "<Figure size 720x2520 with 10 Axes>"
      ]
     },
     "metadata": {
      "needs_background": "light"
     },
     "output_type": "display_data"
    }
   ],
   "source": [
    "fig, axs = plt.subplots(\n",
    "    nrows=10, \n",
    "    sharex=False,\n",
    "    figsize=(10, 35)\n",
    ")\n",
    "\n",
    "for i, ag in enumerate(sorted(antigens, key=lambda ag: -df_m.apply(max).to_dict().get(ag))):\n",
    "    acc_s = df_m[ag]\n",
    "    acc_s = acc_s[acc_s != 0.0]\n",
    "    axs[i].hist(acc_s)\n",
    "    axs[i].set_xlim((0.68, 0.9))\n",
    "    axs[i].set_title(f\"Distribution of accuracies: {ag}\")"
   ]
  },
  {
   "cell_type": "markdown",
   "metadata": {},
   "source": [
    "Let's compare the accuracies for distinguishing binding of 2 targets with antibody heavy chain structural similarity."
   ]
  },
  {
   "cell_type": "code",
   "execution_count": 26,
   "metadata": {},
   "outputs": [
    {
     "name": "stdout",
     "output_type": "stream",
     "text": [
      "Heavy chain RMSDs:\n"
     ]
    },
    {
     "data": {
      "text/html": [
       "<div>\n",
       "<style scoped>\n",
       "    .dataframe tbody tr th:only-of-type {\n",
       "        vertical-align: middle;\n",
       "    }\n",
       "\n",
       "    .dataframe tbody tr th {\n",
       "        vertical-align: top;\n",
       "    }\n",
       "\n",
       "    .dataframe thead th {\n",
       "        text-align: right;\n",
       "    }\n",
       "</style>\n",
       "<table border=\"1\" class=\"dataframe\">\n",
       "  <thead>\n",
       "    <tr style=\"text-align: right;\">\n",
       "      <th></th>\n",
       "      <th>1ADQ</th>\n",
       "      <th>1FBI</th>\n",
       "      <th>1H0D</th>\n",
       "      <th>1NSN</th>\n",
       "      <th>1OB1</th>\n",
       "      <th>1WEJ</th>\n",
       "      <th>2YPV</th>\n",
       "      <th>3RAJ</th>\n",
       "      <th>3VRL</th>\n",
       "      <th>5E94</th>\n",
       "    </tr>\n",
       "  </thead>\n",
       "  <tbody>\n",
       "    <tr>\n",
       "      <th>1ADQ</th>\n",
       "      <td>0.000000</td>\n",
       "      <td>2.825719</td>\n",
       "      <td>2.836272</td>\n",
       "      <td>10.516155</td>\n",
       "      <td>4.058735</td>\n",
       "      <td>6.901963</td>\n",
       "      <td>4.990480</td>\n",
       "      <td>5.630270</td>\n",
       "      <td>1.828644</td>\n",
       "      <td>2.735488</td>\n",
       "    </tr>\n",
       "    <tr>\n",
       "      <th>1FBI</th>\n",
       "      <td>2.825719</td>\n",
       "      <td>0.000000</td>\n",
       "      <td>2.472031</td>\n",
       "      <td>9.761009</td>\n",
       "      <td>2.883387</td>\n",
       "      <td>5.980340</td>\n",
       "      <td>3.856136</td>\n",
       "      <td>4.784676</td>\n",
       "      <td>1.923540</td>\n",
       "      <td>2.913895</td>\n",
       "    </tr>\n",
       "    <tr>\n",
       "      <th>1H0D</th>\n",
       "      <td>2.836272</td>\n",
       "      <td>2.472031</td>\n",
       "      <td>0.000000</td>\n",
       "      <td>9.226916</td>\n",
       "      <td>2.183493</td>\n",
       "      <td>5.150612</td>\n",
       "      <td>3.117919</td>\n",
       "      <td>3.897954</td>\n",
       "      <td>1.876613</td>\n",
       "      <td>3.214049</td>\n",
       "    </tr>\n",
       "    <tr>\n",
       "      <th>1NSN</th>\n",
       "      <td>10.516155</td>\n",
       "      <td>9.761009</td>\n",
       "      <td>9.226916</td>\n",
       "      <td>0.000000</td>\n",
       "      <td>8.142435</td>\n",
       "      <td>5.870526</td>\n",
       "      <td>7.495962</td>\n",
       "      <td>7.735213</td>\n",
       "      <td>9.998324</td>\n",
       "      <td>10.570730</td>\n",
       "    </tr>\n",
       "    <tr>\n",
       "      <th>1OB1</th>\n",
       "      <td>4.058735</td>\n",
       "      <td>2.883387</td>\n",
       "      <td>2.183493</td>\n",
       "      <td>8.142435</td>\n",
       "      <td>0.000000</td>\n",
       "      <td>3.934990</td>\n",
       "      <td>1.977593</td>\n",
       "      <td>3.310788</td>\n",
       "      <td>3.051037</td>\n",
       "      <td>4.317094</td>\n",
       "    </tr>\n",
       "    <tr>\n",
       "      <th>1WEJ</th>\n",
       "      <td>6.901963</td>\n",
       "      <td>5.980340</td>\n",
       "      <td>5.150612</td>\n",
       "      <td>5.870526</td>\n",
       "      <td>3.934990</td>\n",
       "      <td>0.000000</td>\n",
       "      <td>3.141066</td>\n",
       "      <td>4.221000</td>\n",
       "      <td>6.100825</td>\n",
       "      <td>7.028906</td>\n",
       "    </tr>\n",
       "    <tr>\n",
       "      <th>2YPV</th>\n",
       "      <td>4.990480</td>\n",
       "      <td>3.856136</td>\n",
       "      <td>3.117919</td>\n",
       "      <td>7.495962</td>\n",
       "      <td>1.977593</td>\n",
       "      <td>3.141066</td>\n",
       "      <td>0.000000</td>\n",
       "      <td>3.106918</td>\n",
       "      <td>4.068642</td>\n",
       "      <td>5.237804</td>\n",
       "    </tr>\n",
       "    <tr>\n",
       "      <th>3RAJ</th>\n",
       "      <td>5.630270</td>\n",
       "      <td>4.784676</td>\n",
       "      <td>3.897954</td>\n",
       "      <td>7.735213</td>\n",
       "      <td>3.310788</td>\n",
       "      <td>4.221000</td>\n",
       "      <td>3.106918</td>\n",
       "      <td>0.000000</td>\n",
       "      <td>4.871726</td>\n",
       "      <td>5.909105</td>\n",
       "    </tr>\n",
       "    <tr>\n",
       "      <th>3VRL</th>\n",
       "      <td>1.828644</td>\n",
       "      <td>1.923540</td>\n",
       "      <td>1.876613</td>\n",
       "      <td>9.998324</td>\n",
       "      <td>3.051037</td>\n",
       "      <td>6.100825</td>\n",
       "      <td>4.068642</td>\n",
       "      <td>4.871726</td>\n",
       "      <td>0.000000</td>\n",
       "      <td>2.622618</td>\n",
       "    </tr>\n",
       "    <tr>\n",
       "      <th>5E94</th>\n",
       "      <td>2.735488</td>\n",
       "      <td>2.913895</td>\n",
       "      <td>3.214049</td>\n",
       "      <td>10.570730</td>\n",
       "      <td>4.317094</td>\n",
       "      <td>7.028906</td>\n",
       "      <td>5.237804</td>\n",
       "      <td>5.909105</td>\n",
       "      <td>2.622618</td>\n",
       "      <td>0.000000</td>\n",
       "    </tr>\n",
       "  </tbody>\n",
       "</table>\n",
       "</div>"
      ],
      "text/plain": [
       "           1ADQ      1FBI      1H0D       1NSN      1OB1      1WEJ      2YPV  \\\n",
       "1ADQ   0.000000  2.825719  2.836272  10.516155  4.058735  6.901963  4.990480   \n",
       "1FBI   2.825719  0.000000  2.472031   9.761009  2.883387  5.980340  3.856136   \n",
       "1H0D   2.836272  2.472031  0.000000   9.226916  2.183493  5.150612  3.117919   \n",
       "1NSN  10.516155  9.761009  9.226916   0.000000  8.142435  5.870526  7.495962   \n",
       "1OB1   4.058735  2.883387  2.183493   8.142435  0.000000  3.934990  1.977593   \n",
       "1WEJ   6.901963  5.980340  5.150612   5.870526  3.934990  0.000000  3.141066   \n",
       "2YPV   4.990480  3.856136  3.117919   7.495962  1.977593  3.141066  0.000000   \n",
       "3RAJ   5.630270  4.784676  3.897954   7.735213  3.310788  4.221000  3.106918   \n",
       "3VRL   1.828644  1.923540  1.876613   9.998324  3.051037  6.100825  4.068642   \n",
       "5E94   2.735488  2.913895  3.214049  10.570730  4.317094  7.028906  5.237804   \n",
       "\n",
       "          3RAJ      3VRL       5E94  \n",
       "1ADQ  5.630270  1.828644   2.735488  \n",
       "1FBI  4.784676  1.923540   2.913895  \n",
       "1H0D  3.897954  1.876613   3.214049  \n",
       "1NSN  7.735213  9.998324  10.570730  \n",
       "1OB1  3.310788  3.051037   4.317094  \n",
       "1WEJ  4.221000  6.100825   7.028906  \n",
       "2YPV  3.106918  4.068642   5.237804  \n",
       "3RAJ  0.000000  4.871726   5.909105  \n",
       "3VRL  4.871726  0.000000   2.622618  \n",
       "5E94  5.909105  2.622618   0.000000  "
      ]
     },
     "execution_count": 26,
     "metadata": {},
     "output_type": "execute_result"
    }
   ],
   "source": [
    "df_str = pd.read_csv(\"data/pdb/DATA_SLACK_1_Ab_rmsd_h12.tsv\", sep='\\t', index_col=0)\n",
    "df_str.columns = df_str.columns.map(lambda s: s.upper())\n",
    "df_str.index = df_str.index.map(lambda s: s.upper())\n",
    "print(\"Heavy chain RMSDs:\")\n",
    "df_str"
   ]
  },
  {
   "cell_type": "code",
   "execution_count": 29,
   "metadata": {},
   "outputs": [
    {
     "name": "stdout",
     "output_type": "stream",
     "text": [
      "Correlations between accuracy and rmsd:\n"
     ]
    },
    {
     "data": {
      "text/plain": [
       "((0.29188387115690495, 0.051712907273288984),\n",
       " SpearmanrResult(correlation=0.19565217391304346, pvalue=0.19773498219047492))"
      ]
     },
     "execution_count": 29,
     "metadata": {},
     "output_type": "execute_result"
    }
   ],
   "source": [
    "acc_vals = df_m.values[np.triu_indices_from(df_m, k=1)]\n",
    "rmsd_vals = df_str.values[np.triu_indices_from(df_str, k=1)]\n",
    "\n",
    "print(\"Correlations between accuracy and rmsd:\")\n",
    "(\n",
    "    stats.pearsonr(acc_vals, rmsd_vals),\n",
    "    stats.spearmanr(acc_vals, rmsd_vals)\n",
    ")"
   ]
  },
  {
   "cell_type": "code",
   "execution_count": 33,
   "metadata": {},
   "outputs": [
    {
     "data": {
      "text/plain": [
       "<AxesSubplot:>"
      ]
     },
     "execution_count": 33,
     "metadata": {},
     "output_type": "execute_result"
    },
    {
     "data": {
      "image/png": "[encoded data removed]",
      "text/plain": [
       "<Figure size 432x288 with 1 Axes>"
      ]
     },
     "metadata": {
      "needs_background": "light"
     },
     "output_type": "display_data"
    }
   ],
   "source": [
    "sns.regplot(x=rmsd_vals, y=acc_vals)"
   ]
  },
  {
   "cell_type": "markdown",
   "metadata": {},
   "source": [
    "# Follow-up\n",
    "\n",
    "Similar basic analysis on `1_vs_all` datasets, i.e. datasets in which, for each antigen, we include all the 9 other antigens in the negative dataset. The objective is to check if antigens for which the binary classifier performs well in the pairwise datasets attain higher performance in `1_vs_all` datasets."
   ]
  }
 ],
 "metadata": {
  "interpreter": {
   "hash": "a66fbe740016efe90d6139b67c84a560168f2532ea3e3d46e49051f459208991"
  },
  "kernelspec": {
   "display_name": "Python 3.8.13 ('ab-negative-training')",
   "language": "python",
   "name": "python3"
  },
  "language_info": {
   "codemirror_mode": {
    "name": "ipython",
    "version": 3
   },
   "file_extension": ".py",
   "mimetype": "text/x-python",
   "name": "python",
   "nbconvert_exporter": "python",
   "pygments_lexer": "ipython3",
   "version": "3.8.13"
  },
  "orig_nbformat": 4
 },
 "nbformat": 4,
 "nbformat_minor": 2
}
